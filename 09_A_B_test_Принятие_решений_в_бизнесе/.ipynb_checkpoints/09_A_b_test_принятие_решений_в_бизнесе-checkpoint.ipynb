{
 "cells": [
  {
   "cell_type": "markdown",
   "id": "a4322504",
   "metadata": {},
   "source": [
    "# Проект. Принятие решений в бизнесе"
   ]
  },
  {
   "cell_type": "markdown",
   "id": "b0eee473",
   "metadata": {},
   "source": [
    "## Описание проекта\n",
    "\n",
    "Вместе с отделом маркетинга были подготовленны список гипотез для увеличения выручки.\n",
    "Задача приоретизировать гипотезы, запустить A/B-тест и проанализировать результаты. \n",
    "\n",
    "## Часть 1. Приоритизация гипотез.\n",
    "#### В файле /datasets/hypothesis.csv 9 гипотез по увеличению выручки интернет-магазина с указанными параметрами Reach, Impact, Confidence, Effort.\n",
    "\n",
    "#### Задача:\n",
    "- Примените фреймворк ICE для приоритизации гипотез. Отсортируйте их по убыванию приоритета.\n",
    "- Примените фреймворк RICE для приоритизации гипотез. Отсортируйте их по убыванию приоритета.\n",
    "- Укажите, как изменилась приоритизация гипотез при применении RICE вместо ICE. Объясните, почему так произошло.\n",
    "\n",
    "## Часть 2. Анализ A/B-теста\n",
    "Мы провели A/B-тест и получили результаты, которые описаны в файлах /datasets/orders.csv и /datasets/visitors.csv.\n",
    "\n",
    "#### Задача:\n",
    "- Проанализируйте A/B-тест:\n",
    "    - [] Построим график кумулятивной выручки по группам. Сделайте выводы и предположения.\n",
    "    - [] Постройте график кумулятивного среднего чека по группам. Сделайте выводы и предположения.\n",
    "    - [] Постройте график относительного изменения кумулятивного среднего чека группы B к группе A. Сделайте выводы и предположения.\n",
    "    - [] Постройте график кумулятивного среднего количества заказов на посетителя по группам. Сделайте выводы и предположения.\n",
    "    - [] Постройте график относительного изменения кумулятивного среднего количества заказов на посетителя группы B к группе A. Сделайте выводы и предположения.\n",
    "    - [] Постройте точечный график количества заказов по пользователям. Сделайте выводы и предположения.\n",
    "    - [] Посчитайте 95-й и 99-й перцентили количества заказов на пользователя. Выберите границу для определения аномальных пользователей.\n",
    "    - [] Постройте точечный график стоимостей заказов. Сделайте выводы и предположения.\n",
    "    - [] Посчитайте 95-й и 99-й перцентили стоимости заказов. Выберите границу для определения аномальных заказов.\n",
    "    - [] Посчитайте статистическую значимость различий в среднем количестве заказов на посетителя между группами по «сырым» данным. Сделайте выводы и предположения.\n",
    "    - [] Посчитайте статистическую значимость различий в среднем чеке заказа между группами по «сырым» данным. Сделайте выводы и предположения.\n",
    "    - [] Посчитайте статистическую значимость различий в среднем количестве заказов на посетителя между группами по «очищенным» данным. Сделайте выводы и предположения.\n",
    "    - [] Посчитайте статистическую значимость различий в среднем чеке заказа между группами по «очищенным» данным. Сделайте выводы и предположения.\n",
    "    - [] Примите решение по результатам теста и объясните его. Варианты решений:\n",
    "        - [] 1. Остановить тест, зафиксировать победу одной из групп.\n",
    "        - [] 2. Остановить тест, зафиксировать отсутствие различий между группами.\n",
    "        - [] 3. Продолжить тест.\n"
   ]
  },
  {
   "cell_type": "code",
   "execution_count": 1,
   "id": "846a87b7",
   "metadata": {},
   "outputs": [],
   "source": [
    "import pandas as pd\n",
    "import matplotlib.pyplot as plt\n",
    "import numpy as np\n",
    "import datetime as dt\n",
    "import scipy.stats as stats"
   ]
  },
  {
   "cell_type": "code",
   "execution_count": 2,
   "id": "a107cadf",
   "metadata": {},
   "outputs": [],
   "source": [
    "def d(y):\n",
    "    return display(y)"
   ]
  },
  {
   "cell_type": "code",
   "execution_count": 3,
   "id": "636d20b4",
   "metadata": {},
   "outputs": [],
   "source": [
    "try:\n",
    "    hypothesis, orders, visitors = (\n",
    "        pd.read_csv('/Users/macbookair/Yandex.Disk.localized/01_Data_analyst/GitHub/DA_yandex_project_datasets/09_hypothesis.csv'),\n",
    "        pd.read_csv('/Users/macbookair/Yandex.Disk.localized/01_Data_analyst/GitHub/DA_yandex_project_datasets/09_orders.csv'),\n",
    "        pd.read_csv('/Users/macbookair/Yandex.Disk.localized/01_Data_analyst/GitHub/DA_yandex_project_datasets/09_visitors.csv')\n",
    "    )\n",
    "    \n",
    "except:\n",
    "    hypothesis, orders, visitors = (\n",
    "        pd.read_csv('/datasets/hypothesis.csv'),\n",
    "        pd.read_csv('/datasets/orders.csv'),\n",
    "        pd.read_csv('/datasets/visitors.csv') \n",
    "    )"
   ]
  },
  {
   "cell_type": "markdown",
   "id": "f963ab3a",
   "metadata": {},
   "source": [
    "## Приоритизация гипотез."
   ]
  },
  {
   "cell_type": "markdown",
   "id": "e517c97a",
   "metadata": {},
   "source": [
    "1. Применить фреймворк ICE для приоритизации гипотез. Отсортировать их по убыванию приоритета.\n",
    "2. Применить фреймворк RICE для приоритизации гипотез. Отсортировать их по убыванию приоритета.\n",
    "3. Указать, как изменилась приоритизация гипотез при применении RICE вместо ICE. Объясните, почему так произошло."
   ]
  },
  {
   "cell_type": "code",
   "execution_count": 4,
   "id": "8a2d5b6b",
   "metadata": {
    "scrolled": true
   },
   "outputs": [
    {
     "data": {
      "text/html": [
       "<div>\n",
       "<style scoped>\n",
       "    .dataframe tbody tr th:only-of-type {\n",
       "        vertical-align: middle;\n",
       "    }\n",
       "\n",
       "    .dataframe tbody tr th {\n",
       "        vertical-align: top;\n",
       "    }\n",
       "\n",
       "    .dataframe thead th {\n",
       "        text-align: right;\n",
       "    }\n",
       "</style>\n",
       "<table border=\"1\" class=\"dataframe\">\n",
       "  <thead>\n",
       "    <tr style=\"text-align: right;\">\n",
       "      <th></th>\n",
       "      <th>Hypothesis</th>\n",
       "      <th>Reach</th>\n",
       "      <th>Impact</th>\n",
       "      <th>Confidence</th>\n",
       "      <th>Efforts</th>\n",
       "    </tr>\n",
       "  </thead>\n",
       "  <tbody>\n",
       "    <tr>\n",
       "      <th>0</th>\n",
       "      <td>Добавить два новых канала привлечения трафика,...</td>\n",
       "      <td>3</td>\n",
       "      <td>10</td>\n",
       "      <td>8</td>\n",
       "      <td>6</td>\n",
       "    </tr>\n",
       "    <tr>\n",
       "      <th>1</th>\n",
       "      <td>Запустить собственную службу доставки, что сок...</td>\n",
       "      <td>2</td>\n",
       "      <td>5</td>\n",
       "      <td>4</td>\n",
       "      <td>10</td>\n",
       "    </tr>\n",
       "    <tr>\n",
       "      <th>2</th>\n",
       "      <td>Добавить блоки рекомендаций товаров на сайт ин...</td>\n",
       "      <td>8</td>\n",
       "      <td>3</td>\n",
       "      <td>7</td>\n",
       "      <td>3</td>\n",
       "    </tr>\n",
       "    <tr>\n",
       "      <th>3</th>\n",
       "      <td>Изменить структура категорий, что увеличит кон...</td>\n",
       "      <td>8</td>\n",
       "      <td>3</td>\n",
       "      <td>3</td>\n",
       "      <td>8</td>\n",
       "    </tr>\n",
       "    <tr>\n",
       "      <th>4</th>\n",
       "      <td>Изменить цвет фона главной страницы, чтобы уве...</td>\n",
       "      <td>3</td>\n",
       "      <td>1</td>\n",
       "      <td>1</td>\n",
       "      <td>1</td>\n",
       "    </tr>\n",
       "    <tr>\n",
       "      <th>5</th>\n",
       "      <td>Добавить страницу отзывов клиентов о магазине,...</td>\n",
       "      <td>3</td>\n",
       "      <td>2</td>\n",
       "      <td>2</td>\n",
       "      <td>3</td>\n",
       "    </tr>\n",
       "    <tr>\n",
       "      <th>6</th>\n",
       "      <td>Показать на главной странице баннеры с актуаль...</td>\n",
       "      <td>5</td>\n",
       "      <td>3</td>\n",
       "      <td>8</td>\n",
       "      <td>3</td>\n",
       "    </tr>\n",
       "    <tr>\n",
       "      <th>7</th>\n",
       "      <td>Добавить форму подписки на все основные страни...</td>\n",
       "      <td>10</td>\n",
       "      <td>7</td>\n",
       "      <td>8</td>\n",
       "      <td>5</td>\n",
       "    </tr>\n",
       "    <tr>\n",
       "      <th>8</th>\n",
       "      <td>Запустить акцию, дающую скидку на товар в день...</td>\n",
       "      <td>1</td>\n",
       "      <td>9</td>\n",
       "      <td>9</td>\n",
       "      <td>5</td>\n",
       "    </tr>\n",
       "  </tbody>\n",
       "</table>\n",
       "</div>"
      ],
      "text/plain": [
       "                                          Hypothesis  Reach  Impact  \\\n",
       "0  Добавить два новых канала привлечения трафика,...      3      10   \n",
       "1  Запустить собственную службу доставки, что сок...      2       5   \n",
       "2  Добавить блоки рекомендаций товаров на сайт ин...      8       3   \n",
       "3  Изменить структура категорий, что увеличит кон...      8       3   \n",
       "4  Изменить цвет фона главной страницы, чтобы уве...      3       1   \n",
       "5  Добавить страницу отзывов клиентов о магазине,...      3       2   \n",
       "6  Показать на главной странице баннеры с актуаль...      5       3   \n",
       "7  Добавить форму подписки на все основные страни...     10       7   \n",
       "8  Запустить акцию, дающую скидку на товар в день...      1       9   \n",
       "\n",
       "   Confidence  Efforts  \n",
       "0           8        6  \n",
       "1           4       10  \n",
       "2           7        3  \n",
       "3           3        8  \n",
       "4           1        1  \n",
       "5           2        3  \n",
       "6           8        3  \n",
       "7           8        5  \n",
       "8           9        5  "
      ]
     },
     "metadata": {},
     "output_type": "display_data"
    }
   ],
   "source": [
    "d(hypothesis)"
   ]
  },
  {
   "cell_type": "code",
   "execution_count": 5,
   "id": "9b7133b7",
   "metadata": {},
   "outputs": [],
   "source": [
    "# преобразуем для удобства названия колонок\n",
    "hypothesis.columns = hypothesis.columns.str.lower()"
   ]
  },
  {
   "cell_type": "code",
   "execution_count": 6,
   "id": "7ddb798a",
   "metadata": {},
   "outputs": [],
   "source": [
    "# добавим в hypothesis колонки ICE и RICE\n",
    "hypothesis['ICE'] = round(hypothesis['impact'] \n",
    "                          * hypothesis['confidence'] \n",
    "                          / hypothesis['efforts'], 2)\n",
    "hypothesis['RICE'] = round(hypothesis['reach'] \n",
    "                           * hypothesis['impact'] \n",
    "                           * hypothesis['confidence'] \n",
    "                           / hypothesis['efforts'], 2)"
   ]
  },
  {
   "cell_type": "code",
   "execution_count": 7,
   "id": "fabedd90",
   "metadata": {},
   "outputs": [
    {
     "data": {
      "text/html": [
       "<div>\n",
       "<style scoped>\n",
       "    .dataframe tbody tr th:only-of-type {\n",
       "        vertical-align: middle;\n",
       "    }\n",
       "\n",
       "    .dataframe tbody tr th {\n",
       "        vertical-align: top;\n",
       "    }\n",
       "\n",
       "    .dataframe thead th {\n",
       "        text-align: right;\n",
       "    }\n",
       "</style>\n",
       "<table border=\"1\" class=\"dataframe\">\n",
       "  <thead>\n",
       "    <tr style=\"text-align: right;\">\n",
       "      <th></th>\n",
       "      <th>hypothesis</th>\n",
       "      <th>ICE</th>\n",
       "    </tr>\n",
       "  </thead>\n",
       "  <tbody>\n",
       "    <tr>\n",
       "      <th>0</th>\n",
       "      <td>Запустить акцию, дающую скидку на товар в день...</td>\n",
       "      <td>16.20</td>\n",
       "    </tr>\n",
       "    <tr>\n",
       "      <th>1</th>\n",
       "      <td>Добавить два новых канала привлечения трафика,...</td>\n",
       "      <td>13.33</td>\n",
       "    </tr>\n",
       "    <tr>\n",
       "      <th>2</th>\n",
       "      <td>Добавить форму подписки на все основные страни...</td>\n",
       "      <td>11.20</td>\n",
       "    </tr>\n",
       "    <tr>\n",
       "      <th>3</th>\n",
       "      <td>Показать на главной странице баннеры с актуаль...</td>\n",
       "      <td>8.00</td>\n",
       "    </tr>\n",
       "    <tr>\n",
       "      <th>4</th>\n",
       "      <td>Добавить блоки рекомендаций товаров на сайт ин...</td>\n",
       "      <td>7.00</td>\n",
       "    </tr>\n",
       "    <tr>\n",
       "      <th>5</th>\n",
       "      <td>Запустить собственную службу доставки, что сок...</td>\n",
       "      <td>2.00</td>\n",
       "    </tr>\n",
       "    <tr>\n",
       "      <th>6</th>\n",
       "      <td>Добавить страницу отзывов клиентов о магазине,...</td>\n",
       "      <td>1.33</td>\n",
       "    </tr>\n",
       "    <tr>\n",
       "      <th>7</th>\n",
       "      <td>Изменить структура категорий, что увеличит кон...</td>\n",
       "      <td>1.12</td>\n",
       "    </tr>\n",
       "    <tr>\n",
       "      <th>8</th>\n",
       "      <td>Изменить цвет фона главной страницы, чтобы уве...</td>\n",
       "      <td>1.00</td>\n",
       "    </tr>\n",
       "  </tbody>\n",
       "</table>\n",
       "</div>"
      ],
      "text/plain": [
       "                                          hypothesis    ICE\n",
       "0  Запустить акцию, дающую скидку на товар в день...  16.20\n",
       "1  Добавить два новых канала привлечения трафика,...  13.33\n",
       "2  Добавить форму подписки на все основные страни...  11.20\n",
       "3  Показать на главной странице баннеры с актуаль...   8.00\n",
       "4  Добавить блоки рекомендаций товаров на сайт ин...   7.00\n",
       "5  Запустить собственную службу доставки, что сок...   2.00\n",
       "6  Добавить страницу отзывов клиентов о магазине,...   1.33\n",
       "7  Изменить структура категорий, что увеличит кон...   1.12\n",
       "8  Изменить цвет фона главной страницы, чтобы уве...   1.00"
      ]
     },
     "execution_count": 7,
     "metadata": {},
     "output_type": "execute_result"
    }
   ],
   "source": [
    "# ICE по убыванию\n",
    "hypothesis[['hypothesis','ICE']].sort_values(by='ICE', ascending=False).reset_index(drop=True)"
   ]
  },
  {
   "cell_type": "code",
   "execution_count": 8,
   "id": "56b918e4",
   "metadata": {},
   "outputs": [
    {
     "data": {
      "text/html": [
       "<div>\n",
       "<style scoped>\n",
       "    .dataframe tbody tr th:only-of-type {\n",
       "        vertical-align: middle;\n",
       "    }\n",
       "\n",
       "    .dataframe tbody tr th {\n",
       "        vertical-align: top;\n",
       "    }\n",
       "\n",
       "    .dataframe thead th {\n",
       "        text-align: right;\n",
       "    }\n",
       "</style>\n",
       "<table border=\"1\" class=\"dataframe\">\n",
       "  <thead>\n",
       "    <tr style=\"text-align: right;\">\n",
       "      <th></th>\n",
       "      <th>hypothesis</th>\n",
       "      <th>RICE</th>\n",
       "    </tr>\n",
       "  </thead>\n",
       "  <tbody>\n",
       "    <tr>\n",
       "      <th>0</th>\n",
       "      <td>Добавить форму подписки на все основные страни...</td>\n",
       "      <td>112.0</td>\n",
       "    </tr>\n",
       "    <tr>\n",
       "      <th>1</th>\n",
       "      <td>Добавить блоки рекомендаций товаров на сайт ин...</td>\n",
       "      <td>56.0</td>\n",
       "    </tr>\n",
       "    <tr>\n",
       "      <th>2</th>\n",
       "      <td>Добавить два новых канала привлечения трафика,...</td>\n",
       "      <td>40.0</td>\n",
       "    </tr>\n",
       "    <tr>\n",
       "      <th>3</th>\n",
       "      <td>Показать на главной странице баннеры с актуаль...</td>\n",
       "      <td>40.0</td>\n",
       "    </tr>\n",
       "    <tr>\n",
       "      <th>4</th>\n",
       "      <td>Запустить акцию, дающую скидку на товар в день...</td>\n",
       "      <td>16.2</td>\n",
       "    </tr>\n",
       "    <tr>\n",
       "      <th>5</th>\n",
       "      <td>Изменить структура категорий, что увеличит кон...</td>\n",
       "      <td>9.0</td>\n",
       "    </tr>\n",
       "    <tr>\n",
       "      <th>6</th>\n",
       "      <td>Запустить собственную службу доставки, что сок...</td>\n",
       "      <td>4.0</td>\n",
       "    </tr>\n",
       "    <tr>\n",
       "      <th>7</th>\n",
       "      <td>Добавить страницу отзывов клиентов о магазине,...</td>\n",
       "      <td>4.0</td>\n",
       "    </tr>\n",
       "    <tr>\n",
       "      <th>8</th>\n",
       "      <td>Изменить цвет фона главной страницы, чтобы уве...</td>\n",
       "      <td>3.0</td>\n",
       "    </tr>\n",
       "  </tbody>\n",
       "</table>\n",
       "</div>"
      ],
      "text/plain": [
       "                                          hypothesis   RICE\n",
       "0  Добавить форму подписки на все основные страни...  112.0\n",
       "1  Добавить блоки рекомендаций товаров на сайт ин...   56.0\n",
       "2  Добавить два новых канала привлечения трафика,...   40.0\n",
       "3  Показать на главной странице баннеры с актуаль...   40.0\n",
       "4  Запустить акцию, дающую скидку на товар в день...   16.2\n",
       "5  Изменить структура категорий, что увеличит кон...    9.0\n",
       "6  Запустить собственную службу доставки, что сок...    4.0\n",
       "7  Добавить страницу отзывов клиентов о магазине,...    4.0\n",
       "8  Изменить цвет фона главной страницы, чтобы уве...    3.0"
      ]
     },
     "execution_count": 8,
     "metadata": {},
     "output_type": "execute_result"
    }
   ],
   "source": [
    "# RICE по убыванию\n",
    "hypothesis[['hypothesis','RICE']].sort_values(by='RICE', ascending=False).reset_index(drop=True)"
   ]
  },
  {
   "cell_type": "markdown",
   "id": "fdd84f54",
   "metadata": {},
   "source": [
    "Вывод: Методы ICE & RICE служат для приоретизации. Формулы для просчета отличаются тем, что RICE имеет в числителе \"reach\" - охват. У гипотезы `Добавить форму подписки на все основные страни.` балл на охват стоит 10, поэтому в фреймворке RICE эта гипотеза оказалась на 1м месте."
   ]
  },
  {
   "cell_type": "markdown",
   "id": "d9d9b865",
   "metadata": {},
   "source": [
    "## Анализ A/B-теста"
   ]
  },
  {
   "cell_type": "code",
   "execution_count": 9,
   "id": "f9dc070f",
   "metadata": {},
   "outputs": [
    {
     "data": {
      "text/html": [
       "<div>\n",
       "<style scoped>\n",
       "    .dataframe tbody tr th:only-of-type {\n",
       "        vertical-align: middle;\n",
       "    }\n",
       "\n",
       "    .dataframe tbody tr th {\n",
       "        vertical-align: top;\n",
       "    }\n",
       "\n",
       "    .dataframe thead th {\n",
       "        text-align: right;\n",
       "    }\n",
       "</style>\n",
       "<table border=\"1\" class=\"dataframe\">\n",
       "  <thead>\n",
       "    <tr style=\"text-align: right;\">\n",
       "      <th></th>\n",
       "      <th>transactionId</th>\n",
       "      <th>visitorId</th>\n",
       "      <th>date</th>\n",
       "      <th>revenue</th>\n",
       "      <th>group</th>\n",
       "    </tr>\n",
       "  </thead>\n",
       "  <tbody>\n",
       "    <tr>\n",
       "      <th>0</th>\n",
       "      <td>3667963787</td>\n",
       "      <td>3312258926</td>\n",
       "      <td>2019-08-15</td>\n",
       "      <td>1650</td>\n",
       "      <td>B</td>\n",
       "    </tr>\n",
       "    <tr>\n",
       "      <th>1</th>\n",
       "      <td>2804400009</td>\n",
       "      <td>3642806036</td>\n",
       "      <td>2019-08-15</td>\n",
       "      <td>730</td>\n",
       "      <td>B</td>\n",
       "    </tr>\n",
       "    <tr>\n",
       "      <th>2</th>\n",
       "      <td>2961555356</td>\n",
       "      <td>4069496402</td>\n",
       "      <td>2019-08-15</td>\n",
       "      <td>400</td>\n",
       "      <td>A</td>\n",
       "    </tr>\n",
       "    <tr>\n",
       "      <th>3</th>\n",
       "      <td>3797467345</td>\n",
       "      <td>1196621759</td>\n",
       "      <td>2019-08-15</td>\n",
       "      <td>9759</td>\n",
       "      <td>B</td>\n",
       "    </tr>\n",
       "    <tr>\n",
       "      <th>4</th>\n",
       "      <td>2282983706</td>\n",
       "      <td>2322279887</td>\n",
       "      <td>2019-08-15</td>\n",
       "      <td>2308</td>\n",
       "      <td>B</td>\n",
       "    </tr>\n",
       "  </tbody>\n",
       "</table>\n",
       "</div>"
      ],
      "text/plain": [
       "   transactionId   visitorId        date  revenue group\n",
       "0     3667963787  3312258926  2019-08-15     1650     B\n",
       "1     2804400009  3642806036  2019-08-15      730     B\n",
       "2     2961555356  4069496402  2019-08-15      400     A\n",
       "3     3797467345  1196621759  2019-08-15     9759     B\n",
       "4     2282983706  2322279887  2019-08-15     2308     B"
      ]
     },
     "metadata": {},
     "output_type": "display_data"
    },
    {
     "data": {
      "text/html": [
       "<div>\n",
       "<style scoped>\n",
       "    .dataframe tbody tr th:only-of-type {\n",
       "        vertical-align: middle;\n",
       "    }\n",
       "\n",
       "    .dataframe tbody tr th {\n",
       "        vertical-align: top;\n",
       "    }\n",
       "\n",
       "    .dataframe thead th {\n",
       "        text-align: right;\n",
       "    }\n",
       "</style>\n",
       "<table border=\"1\" class=\"dataframe\">\n",
       "  <thead>\n",
       "    <tr style=\"text-align: right;\">\n",
       "      <th></th>\n",
       "      <th>date</th>\n",
       "      <th>group</th>\n",
       "      <th>visitors</th>\n",
       "    </tr>\n",
       "  </thead>\n",
       "  <tbody>\n",
       "    <tr>\n",
       "      <th>0</th>\n",
       "      <td>2019-08-01</td>\n",
       "      <td>A</td>\n",
       "      <td>719</td>\n",
       "    </tr>\n",
       "    <tr>\n",
       "      <th>1</th>\n",
       "      <td>2019-08-02</td>\n",
       "      <td>A</td>\n",
       "      <td>619</td>\n",
       "    </tr>\n",
       "    <tr>\n",
       "      <th>2</th>\n",
       "      <td>2019-08-03</td>\n",
       "      <td>A</td>\n",
       "      <td>507</td>\n",
       "    </tr>\n",
       "    <tr>\n",
       "      <th>3</th>\n",
       "      <td>2019-08-04</td>\n",
       "      <td>A</td>\n",
       "      <td>717</td>\n",
       "    </tr>\n",
       "    <tr>\n",
       "      <th>4</th>\n",
       "      <td>2019-08-05</td>\n",
       "      <td>A</td>\n",
       "      <td>756</td>\n",
       "    </tr>\n",
       "  </tbody>\n",
       "</table>\n",
       "</div>"
      ],
      "text/plain": [
       "         date group  visitors\n",
       "0  2019-08-01     A       719\n",
       "1  2019-08-02     A       619\n",
       "2  2019-08-03     A       507\n",
       "3  2019-08-04     A       717\n",
       "4  2019-08-05     A       756"
      ]
     },
     "metadata": {},
     "output_type": "display_data"
    }
   ],
   "source": [
    "# Для начала сделаем предобработку данных для orders, visitors.\n",
    "d(orders.head(5))\n",
    "d(visitors.head(5))"
   ]
  },
  {
   "cell_type": "code",
   "execution_count": 10,
   "id": "e09ab6e6",
   "metadata": {},
   "outputs": [
    {
     "name": "stdout",
     "output_type": "stream",
     "text": [
      "<class 'pandas.core.frame.DataFrame'>\n",
      "RangeIndex: 1197 entries, 0 to 1196\n",
      "Data columns (total 5 columns):\n",
      " #   Column         Non-Null Count  Dtype \n",
      "---  ------         --------------  ----- \n",
      " 0   transactionId  1197 non-null   int64 \n",
      " 1   visitorId      1197 non-null   int64 \n",
      " 2   date           1197 non-null   object\n",
      " 3   revenue        1197 non-null   int64 \n",
      " 4   group          1197 non-null   object\n",
      "dtypes: int64(3), object(2)\n",
      "memory usage: 46.9+ KB\n"
     ]
    },
    {
     "data": {
      "text/plain": [
       "None"
      ]
     },
     "metadata": {},
     "output_type": "display_data"
    },
    {
     "data": {
      "text/plain": [
       "'---'"
      ]
     },
     "metadata": {},
     "output_type": "display_data"
    },
    {
     "data": {
      "text/plain": [
       "0"
      ]
     },
     "metadata": {},
     "output_type": "display_data"
    },
    {
     "data": {
      "text/plain": [
       "'---'"
      ]
     },
     "metadata": {},
     "output_type": "display_data"
    },
    {
     "data": {
      "text/plain": [
       "transactionId    0\n",
       "visitorId        0\n",
       "date             0\n",
       "revenue          0\n",
       "group            0\n",
       "dtype: int64"
      ]
     },
     "metadata": {},
     "output_type": "display_data"
    }
   ],
   "source": [
    "# проверим пропуски, дубликаты.\n",
    "# df.info()\n",
    "# df.head()\n",
    "# df.isna().sum()\n",
    "# df.duplicated().sum()\n",
    "\n",
    "d(orders.info())\n",
    "d('---')\n",
    "d(orders.duplicated().sum())\n",
    "d('---')\n",
    "d(orders.isna().sum())"
   ]
  },
  {
   "cell_type": "code",
   "execution_count": 11,
   "id": "b0570e80",
   "metadata": {},
   "outputs": [
    {
     "name": "stdout",
     "output_type": "stream",
     "text": [
      "<class 'pandas.core.frame.DataFrame'>\n",
      "RangeIndex: 62 entries, 0 to 61\n",
      "Data columns (total 3 columns):\n",
      " #   Column    Non-Null Count  Dtype \n",
      "---  ------    --------------  ----- \n",
      " 0   date      62 non-null     object\n",
      " 1   group     62 non-null     object\n",
      " 2   visitors  62 non-null     int64 \n",
      "dtypes: int64(1), object(2)\n",
      "memory usage: 1.6+ KB\n"
     ]
    },
    {
     "data": {
      "text/plain": [
       "None"
      ]
     },
     "metadata": {},
     "output_type": "display_data"
    },
    {
     "data": {
      "text/plain": [
       "'---'"
      ]
     },
     "metadata": {},
     "output_type": "display_data"
    },
    {
     "data": {
      "text/plain": [
       "0"
      ]
     },
     "metadata": {},
     "output_type": "display_data"
    },
    {
     "data": {
      "text/plain": [
       "'---'"
      ]
     },
     "metadata": {},
     "output_type": "display_data"
    },
    {
     "data": {
      "text/plain": [
       "date        0\n",
       "group       0\n",
       "visitors    0\n",
       "dtype: int64"
      ]
     },
     "metadata": {},
     "output_type": "display_data"
    }
   ],
   "source": [
    "d(visitors.info())\n",
    "d('---')\n",
    "d(visitors.duplicated().sum())\n",
    "d('---')\n",
    "d(visitors.isna().sum())"
   ]
  },
  {
   "cell_type": "code",
   "execution_count": 12,
   "id": "ab430947",
   "metadata": {},
   "outputs": [],
   "source": [
    "# вцелом все впорядке. Кроме даты. Дату нужно перевести в формат.\n",
    "\n",
    "#orders['date'] = pd.to_datetime(orders['date'])\n",
    "#visitors['date'] = pd.to_datetime(visitors['date'])\n",
    "\n",
    "orders['date'] = orders['date'].map(lambda x: dt.datetime.strptime(x, '%Y-%m-%d'))\n",
    "visitors['date'] = visitors['date'].map(lambda x: dt.datetime.strptime(x, '%Y-%m-%d'))"
   ]
  },
  {
   "cell_type": "markdown",
   "id": "6c8a0435",
   "metadata": {},
   "source": [
    "---"
   ]
  },
  {
   "cell_type": "markdown",
   "id": "51b07fa7",
   "metadata": {},
   "source": [
    "Построим график кумулятивной выручки по группам. Сделайте выводы и предположения."
   ]
  },
  {
   "cell_type": "code",
   "execution_count": 13,
   "id": "caa0d939",
   "metadata": {},
   "outputs": [
    {
     "data": {
      "image/png": "[encoded data removed]",
      "text/plain": [
       "<Figure size 400x300 with 1 Axes>"
      ]
     },
     "metadata": {},
     "output_type": "display_data"
    }
   ],
   "source": [
    "# создаем массив уникальных пар значений дат и групп теста\n",
    "datesGroups = orders[['date','group']].drop_duplicates()\n",
    "\n",
    "# получаем агрегированные кумулятивные по дням данные о заказах \n",
    "ordersAggregated = datesGroups.apply(lambda x: orders[np.logical_and(orders['date'] <= x['date'], orders['group'] == x['group'])]\n",
    "                                     .agg({'date' : 'max', \n",
    "                                           'group' : 'max', \n",
    "                                           'transactionId' : 'nunique', \n",
    "                                           'visitorId' : 'nunique', \n",
    "                                           'revenue' : 'sum'}), axis=1).sort_values(by=['date','group'])\n",
    "\n",
    "# получаем агрегированные кумулятивные по дням данные о посетителях \n",
    "visitorsAggregated = datesGroups.apply(\n",
    "    lambda x: visitors[np.logical_and(visitors['date'] <= x['date'], visitors['group'] == x['group'])]\n",
    "    .agg({'date' : 'max', 'group' : 'max', 'visitors' : 'sum'}), axis=1).sort_values(by=['date','group']\n",
    ")\n",
    "\n",
    "# объединяем кумулятивные данные в одной таблице и присваиваем ее столбцам понятные названия\n",
    "cumulativeData = ordersAggregated.merge(visitorsAggregated, left_on=['date', 'group'], right_on=['date', 'group'])\n",
    "cumulativeData.columns = ['date', 'group', 'orders', 'buyers', 'revenue', 'visitors']\n",
    "\n",
    "# датафрейм с кумулятивным количеством заказов и кумулятивной выручкой по дням в группе А\n",
    "cumulativeRevenueA = cumulativeData[cumulativeData['group']=='A'][['date','revenue', 'orders']]\n",
    "\n",
    "# датафрейм с кумулятивным количеством заказов и кумулятивной выручкой по дням в группе B\n",
    "cumulativeRevenueB = cumulativeData[cumulativeData['group']=='B'][['date','revenue', 'orders']]\n",
    "\n",
    "# Строим график выручки группы А\n",
    "plt.figure(figsize=(4, 3))\n",
    "\n",
    "plt.plot(cumulativeRevenueA['date'], cumulativeRevenueA['revenue'], label='A')\n",
    "\n",
    "# Строим график выручки группы B\n",
    "plt.plot(cumulativeRevenueB['date'], cumulativeRevenueB['revenue'], label='B')\n",
    "plt.xticks(rotation=40)\n",
    "\n",
    "plt.legend();"
   ]
  },
  {
   "cell_type": "markdown",
   "id": "b2a8802f",
   "metadata": {},
   "source": [
    "- Выручка равномерно увеличивается - это хорошо.\n",
    "- У группы `B` 17 августа сильный всплеск выручки. Это говорит о резком росте количества заказов, либо о появлении сильно дорогих заказов как выбросов. На следующих шагах нужно проанализировать выбросы и найти причину всплеска."
   ]
  },
  {
   "cell_type": "markdown",
   "id": "0884d296",
   "metadata": {},
   "source": [
    "---"
   ]
  },
  {
   "cell_type": "markdown",
   "id": "7953b895",
   "metadata": {},
   "source": [
    "Постройте график кумулятивного среднего чека по группам. Сделайте выводы и предположения."
   ]
  },
  {
   "cell_type": "code",
   "execution_count": 14,
   "id": "52495acd",
   "metadata": {},
   "outputs": [
    {
     "data": {
      "image/png": "[encoded data removed]",
      "text/plain": [
       "<Figure size 400x300 with 1 Axes>"
      ]
     },
     "metadata": {},
     "output_type": "display_data"
    }
   ],
   "source": [
    "plt.figure(figsize=(4, 3))\n",
    "plt.plot(cumulativeRevenueA['date'], cumulativeRevenueA['revenue'] / cumulativeRevenueA['orders'], label='A')\n",
    "plt.plot(cumulativeRevenueB['date'], cumulativeRevenueB['revenue'] / cumulativeRevenueB['orders'], label='B')\n",
    "plt.legend()\n",
    "plt.xticks(rotation=40);"
   ]
  },
  {
   "cell_type": "markdown",
   "id": "706bebbd",
   "metadata": {},
   "source": [
    "- средний чек группы `B` резко растет 17-08. Видно что есть аномалия. \n",
    "- Группа `A` примрено становится равномерным на уровне 7000 к реальному среднему."
   ]
  },
  {
   "cell_type": "markdown",
   "id": "59937a1a",
   "metadata": {},
   "source": [
    "---"
   ]
  },
  {
   "cell_type": "markdown",
   "id": "7761e0d9",
   "metadata": {},
   "source": [
    "Построим график относительного изменения кумулятивного среднего чека группы B к группе A. Сделаем выводы и предположения."
   ]
  },
  {
   "cell_type": "code",
   "execution_count": 15,
   "id": "9ba68bc6",
   "metadata": {},
   "outputs": [
    {
     "data": {
      "image/png": "[encoded data removed]",
      "text/plain": [
       "<Figure size 400x300 with 1 Axes>"
      ]
     },
     "metadata": {},
     "output_type": "display_data"
    }
   ],
   "source": [
    "# Добавим горизонтальную ось методом axhline()\n",
    "\n",
    "# собираем данные в одном датафрейме\n",
    "mergedCumulativeRevenue = cumulativeRevenueA.merge(cumulativeRevenueB, \n",
    "                                                   left_on='date', \n",
    "                                                   right_on='date', \n",
    "                                                   how='left', \n",
    "                                                   suffixes=['A', 'B'])\n",
    "\n",
    "# cтроим отношение средних чеков\n",
    "plt.figure(figsize=(4, 3))\n",
    "plt.plot(mergedCumulativeRevenue['date'],\n",
    "         (mergedCumulativeRevenue['revenueB']/mergedCumulativeRevenue['ordersB'])\\\n",
    "        /(mergedCumulativeRevenue['revenueA']/mergedCumulativeRevenue['ordersA'])-1)\n",
    "\n",
    "# добавляем ось X\n",
    "plt.axhline(y=0, color='black', linestyle='--');\n",
    "plt.xticks(rotation=40);"
   ]
  },
  {
   "cell_type": "markdown",
   "id": "fafe093b",
   "metadata": {},
   "source": [
    "Выводы:\n",
    "- график различия между сегментами в некоторых местах резео меняет свое значение. Это означает наличие выбросов"
   ]
  },
  {
   "cell_type": "markdown",
   "id": "55ca9729",
   "metadata": {},
   "source": [
    "---"
   ]
  },
  {
   "cell_type": "markdown",
   "id": "e7f702bc",
   "metadata": {},
   "source": [
    "Построим график кумулятивного среднего количества заказов на посетителя по группам. Сделаем выводы и предположения."
   ]
  },
  {
   "cell_type": "code",
   "execution_count": 16,
   "id": "55e49c69",
   "metadata": {},
   "outputs": [
    {
     "data": {
      "image/png": "[encoded data removed]",
      "text/plain": [
       "<Figure size 700x300 with 1 Axes>"
      ]
     },
     "metadata": {},
     "output_type": "display_data"
    }
   ],
   "source": [
    "# считаем кумулятивную конверсию\n",
    "cumulativeData['conversion'] = cumulativeData['orders']/cumulativeData['visitors']\n",
    "\n",
    "# отделяем данные по группе A\n",
    "cumulativeDataA = cumulativeData[cumulativeData['group']=='A']\n",
    "\n",
    "# отделяем данные по группе B\n",
    "cumulativeDataB = cumulativeData[cumulativeData['group']=='B']\n",
    "\n",
    "# строим графики\n",
    "plt.figure(figsize=(7, 3))\n",
    "plt.plot(cumulativeDataA['date'], cumulativeDataA['conversion'], label='A')\n",
    "plt.plot(cumulativeDataB['date'], cumulativeDataB['conversion'], label='B')\n",
    "plt.legend()\n",
    "plt.xticks(rotation=40);\n",
    "# задаем масштаб осей\n",
    "#plt.axis([\"2019-04-01\", '2019-04-23', 0, 0.015]) "
   ]
  },
  {
   "cell_type": "markdown",
   "id": "cb2b4432",
   "metadata": {},
   "source": [
    "Вывод:\n",
    "- Количество заказов на посетителя, конверсия, у группы `A` сначала падала, потом установилась\n",
    "- Группа `A` имеет резкий всплекс конверсии, далее идет постепенно вниз."
   ]
  },
  {
   "cell_type": "markdown",
   "id": "bf9c3e5f",
   "metadata": {},
   "source": [
    "---"
   ]
  },
  {
   "cell_type": "markdown",
   "id": "fc9111c3",
   "metadata": {},
   "source": [
    "Постройте график относительного изменения кумулятивного среднего количества заказов на посетителя группы B к группе A. Сделайте выводы и предположения."
   ]
  },
  {
   "cell_type": "code",
   "execution_count": 17,
   "id": "4158bd03",
   "metadata": {},
   "outputs": [
    {
     "data": {
      "image/png": "[encoded data removed]",
      "text/plain": [
       "<Figure size 700x300 with 1 Axes>"
      ]
     },
     "metadata": {},
     "output_type": "display_data"
    }
   ],
   "source": [
    "mergedCumulativeConversions = cumulativeDataA[['date','conversion']]\\\n",
    "    .merge(cumulativeDataB[['date','conversion']], \n",
    "           left_on='date', \n",
    "           right_on='date', \n",
    "           how='left', \n",
    "           suffixes=['A', 'B'])\n",
    "\n",
    "plt.figure(figsize=(7, 3))\n",
    "plt.plot(mergedCumulativeConversions['date'], \n",
    "         mergedCumulativeConversions['conversionB']/mergedCumulativeConversions['conversionA']-1, \n",
    "         label=\"Относительный прирост конверсии группы B относительно группы A\")\n",
    "\n",
    "plt.legend()\n",
    "plt.axhline(y=0, color='black', linestyle='--')\n",
    "plt.axhline(y=0.1, color='grey', linestyle='--')\n",
    "plt.xticks(rotation=40);\n",
    "\n",
    "#plt.axis(['2019-08-01', '2019-09-03', -0.6, 0.6]) "
   ]
  },
  {
   "cell_type": "markdown",
   "id": "201d428f",
   "metadata": {},
   "source": [
    "Вывод:\n",
    "- Сначала группа `B` проигрывала `A` Далее был резкий рост доминации группы `B` "
   ]
  },
  {
   "cell_type": "markdown",
   "id": "cf42f45b",
   "metadata": {},
   "source": [
    "---"
   ]
  },
  {
   "cell_type": "markdown",
   "id": "0e4963f2",
   "metadata": {},
   "source": [
    "Построим точечный график количества заказов по пользователям. Сделаем выводы и предположения."
   ]
  },
  {
   "cell_type": "code",
   "execution_count": 18,
   "id": "fc5c5638",
   "metadata": {},
   "outputs": [],
   "source": [
    "ordersByUsers = orders.groupby(by='visitorId').agg({'transactionId':'nunique'}).reset_index(drop=False)\n",
    "ordersByUsers.columns = ['visitorId', 'orders']"
   ]
  },
  {
   "cell_type": "code",
   "execution_count": 19,
   "id": "1045cd66",
   "metadata": {},
   "outputs": [
    {
     "data": {
      "text/plain": [
       "<matplotlib.collections.PathCollection at 0x14857c580>"
      ]
     },
     "execution_count": 19,
     "metadata": {},
     "output_type": "execute_result"
    },
    {
     "data": {
      "image/png": "[encoded data removed]",
      "text/plain": [
       "<Figure size 640x480 with 1 Axes>"
      ]
     },
     "metadata": {},
     "output_type": "display_data"
    }
   ],
   "source": [
    "#Построим точечную диаграмму числа заказов на одного пользователя:\n",
    "\n",
    "x_values = pd.Series(range(0,len(ordersByUsers)))\n",
    "plt.scatter(x_values, ordersByUsers['orders'])"
   ]
  },
  {
   "cell_type": "markdown",
   "id": "a9d6fd40",
   "metadata": {},
   "source": [
    "Вывод:\n",
    "- Есть точно аномальные значения с 8 и более заказов. \n",
    "- Есть много пользователей с 2-5 заказами, но только смотря на график - принять решение по аномалиям нельзя."
   ]
  },
  {
   "cell_type": "markdown",
   "id": "b69fcb1e",
   "metadata": {},
   "source": [
    "---"
   ]
  },
  {
   "cell_type": "markdown",
   "id": "dbc2c838",
   "metadata": {},
   "source": [
    "Посчитаем 95-й и 99-й перцентили количества заказов на пользователя. Выберем границу для определения аномальных пользователей."
   ]
  },
  {
   "cell_type": "code",
   "execution_count": 20,
   "id": "c02984bb",
   "metadata": {},
   "outputs": [
    {
     "data": {
      "text/html": [
       "<div>\n",
       "<style scoped>\n",
       "    .dataframe tbody tr th:only-of-type {\n",
       "        vertical-align: middle;\n",
       "    }\n",
       "\n",
       "    .dataframe tbody tr th {\n",
       "        vertical-align: top;\n",
       "    }\n",
       "\n",
       "    .dataframe thead th {\n",
       "        text-align: right;\n",
       "    }\n",
       "</style>\n",
       "<table border=\"1\" class=\"dataframe\">\n",
       "  <thead>\n",
       "    <tr style=\"text-align: right;\">\n",
       "      <th></th>\n",
       "      <th>кол-во заказов</th>\n",
       "    </tr>\n",
       "  </thead>\n",
       "  <tbody>\n",
       "    <tr>\n",
       "      <th>95_перцентиль</th>\n",
       "      <td>2.0</td>\n",
       "    </tr>\n",
       "    <tr>\n",
       "      <th>99_перцентиль</th>\n",
       "      <td>4.0</td>\n",
       "    </tr>\n",
       "  </tbody>\n",
       "</table>\n",
       "</div>"
      ],
      "text/plain": [
       "               кол-во заказов\n",
       "95_перцентиль             2.0\n",
       "99_перцентиль             4.0"
      ]
     },
     "execution_count": 20,
     "metadata": {},
     "output_type": "execute_result"
    }
   ],
   "source": [
    "pd.DataFrame(index=['95_перцентиль','99_перцентиль'], \n",
    "             data=np.percentile(ordersByUsers['orders'], [95, 99]),\n",
    "             columns=['кол-во заказов'])"
   ]
  },
  {
   "cell_type": "markdown",
   "id": "1586e0dc",
   "metadata": {},
   "source": [
    "Вывод:\n",
    "- Не более 5% пользователей оформили более или равно 3м заказам, Не более 1% пользователей оформили более или равно 5и заказам\n",
    "- Разумно сичтать выбросами пользователей с количеством заказов более или равным 3 заказам."
   ]
  },
  {
   "cell_type": "markdown",
   "id": "bccc4c29",
   "metadata": {},
   "source": [
    "---"
   ]
  },
  {
   "cell_type": "markdown",
   "id": "d537bfee",
   "metadata": {},
   "source": [
    "Постройте точечный график стоимостей заказов. Сделайте выводы и предположения."
   ]
  },
  {
   "cell_type": "code",
   "execution_count": 21,
   "id": "6d6d2a73",
   "metadata": {},
   "outputs": [
    {
     "data": {
      "text/plain": [
       "<matplotlib.collections.PathCollection at 0x1485dac40>"
      ]
     },
     "execution_count": 21,
     "metadata": {},
     "output_type": "execute_result"
    },
    {
     "data": {
      "image/png": "[encoded data removed]",
      "text/plain": [
       "<Figure size 640x480 with 1 Axes>"
      ]
     },
     "metadata": {},
     "output_type": "display_data"
    }
   ],
   "source": [
    "x_values = pd.Series(range(0,len(orders['revenue'])))\n",
    "plt.scatter(x_values, orders['revenue'])"
   ]
  },
  {
   "cell_type": "markdown",
   "id": "739640e3",
   "metadata": {},
   "source": [
    "- Один зкакз на 1,2 млн, Один заказ на 200тр. Это точно выбросы. Посчитаем процентиль 95 и 99, чтобы точно понять."
   ]
  },
  {
   "cell_type": "markdown",
   "id": "92b3bba1",
   "metadata": {},
   "source": [
    "---"
   ]
  },
  {
   "cell_type": "markdown",
   "id": "3b691553",
   "metadata": {},
   "source": [
    "Посчитайте 95-й и 99-й перцентили стоимости заказов. Выберите границу для определения аномальных заказов."
   ]
  },
  {
   "cell_type": "code",
   "execution_count": 22,
   "id": "e6093334",
   "metadata": {},
   "outputs": [
    {
     "data": {
      "text/html": [
       "<div>\n",
       "<style scoped>\n",
       "    .dataframe tbody tr th:only-of-type {\n",
       "        vertical-align: middle;\n",
       "    }\n",
       "\n",
       "    .dataframe tbody tr th {\n",
       "        vertical-align: top;\n",
       "    }\n",
       "\n",
       "    .dataframe thead th {\n",
       "        text-align: right;\n",
       "    }\n",
       "</style>\n",
       "<table border=\"1\" class=\"dataframe\">\n",
       "  <thead>\n",
       "    <tr style=\"text-align: right;\">\n",
       "      <th></th>\n",
       "      <th>стоимость заказа</th>\n",
       "    </tr>\n",
       "  </thead>\n",
       "  <tbody>\n",
       "    <tr>\n",
       "      <th>95_перцентиль</th>\n",
       "      <td>28000.0</td>\n",
       "    </tr>\n",
       "    <tr>\n",
       "      <th>99_перцентиль</th>\n",
       "      <td>58233.2</td>\n",
       "    </tr>\n",
       "  </tbody>\n",
       "</table>\n",
       "</div>"
      ],
      "text/plain": [
       "               стоимость заказа\n",
       "95_перцентиль           28000.0\n",
       "99_перцентиль           58233.2"
      ]
     },
     "execution_count": 22,
     "metadata": {},
     "output_type": "execute_result"
    }
   ],
   "source": [
    "pd.DataFrame(index=['95_перцентиль','99_перцентиль'], \n",
    "             data=np.percentile(orders['revenue'], [95, 99]),\n",
    "             columns=['стоимость заказа'])"
   ]
  },
  {
   "cell_type": "markdown",
   "id": "227fb8cf",
   "metadata": {},
   "source": [
    "- Не более 5% заказов имеют сумму более 28тр., не более 1% имеют сумму заказа более 58,2тр."
   ]
  },
  {
   "cell_type": "markdown",
   "id": "cc58c091",
   "metadata": {},
   "source": [
    "Границу для аномальных заказов выберем по следующим криетриям:\n",
    "- более 2х заказов\n",
    "- более 28000р. стоимость заказа"
   ]
  },
  {
   "cell_type": "markdown",
   "id": "f1077c80",
   "metadata": {},
   "source": [
    "---"
   ]
  },
  {
   "cell_type": "markdown",
   "id": "a514546d",
   "metadata": {},
   "source": [
    "## Сформулируем гипотезы: <a id='1'></a>\n",
    "\n",
    "Для сырых данных и для очищенных данных:\n",
    "- Количество заказов:\n",
    "    - H_0_orders: При проведении А/В теста, опредеденные действия для группы В, изменят количество заказов на пользователя\n",
    "    - H_1_orders: При проведении А/В теста, опредеденные действия для группы В не дадут результата. Количество заказов остенется прежним.\n",
    "    - Дополнительно посчитаем долю перевеса в количестве заказов группы В к А\n",
    "    \n",
    "- Средний чек заказа:\n",
    "    - H_0_revenue: При проведении А/В теста, опредеденные действия для группы В, повлияют на средний чек заказа.\n",
    "    - H_1_revenue: При проведении А/В теста, опредеденные действия для группы В не дадут результата и количество заказов не изменится\n",
    "    - Дополнительно посчитаем долю перевеса в среднем чеке группы В к А\n",
    "    \n",
    "В результате сравним отработку гипотех по сырым и по очищенным данным, после чего можем сделатьвыводы.\n",
    "\n",
    "Статистическую значимость примем `aplha = 0.05`"
   ]
  },
  {
   "cell_type": "code",
   "execution_count": 23,
   "id": "c23a420c",
   "metadata": {},
   "outputs": [],
   "source": [
    "alpha = 0.05"
   ]
  },
  {
   "cell_type": "markdown",
   "id": "cbb886e9",
   "metadata": {},
   "source": [
    "---"
   ]
  },
  {
   "cell_type": "markdown",
   "id": "a3261c30",
   "metadata": {},
   "source": [
    "Посчитаем статистическую значимость различий в среднем количестве заказов на посетителя между группами по «сырым» данным. Сделаем выводы и предположения."
   ]
  },
  {
   "cell_type": "markdown",
   "id": "87811200",
   "metadata": {},
   "source": [
    "Создадим переменный ordersByUsersA, ordersByUsersB"
   ]
  },
  {
   "cell_type": "code",
   "execution_count": 24,
   "id": "7b3451f4",
   "metadata": {},
   "outputs": [],
   "source": [
    "ordersByUsersA = orders[orders['group'] == 'A'] \\\n",
    "    .groupby(by='visitorId', as_index=False).agg({'transactionId':pd.Series.nunique})\n",
    "ordersByUsersA.columns = ['visitorId', 'orders']\n",
    "\n",
    "ordersByUsersB = orders[orders['group'] == 'B'] \\\n",
    "    .groupby(by='visitorId', as_index=False).agg({'transactionId':pd.Series.nunique})\n",
    "ordersByUsersB.columns = ['visitorId', 'orders']"
   ]
  },
  {
   "cell_type": "markdown",
   "id": "88d88d88",
   "metadata": {},
   "source": [
    "Объявим переменные `sampleA` и `sampleB`, в которых пользователям из разных групп будет соответствовать количество заказов. Тем, кто ничего не заказал, будут соответствовать нули. Это нужно, чтобы подготовить выборки к проверке критерием Манна-Уитни.:\n",
    "\n",
    "Перед этим подготовим данные и сведем в одну таблицу все показатели, такие как:\n",
    "- ordersPerDateA — количество заказов в выбранную дату в группе A;\n",
    "- revenuePerDateA — суммарная выручка в выбранную дату в группе A;\n",
    "- ordersPerDateB — количество заказов в выбранную дату в группе B;\n",
    "- revenuePerDateB — суммарная выручка в выбранную дату в группе B;\n",
    "- ordersCummulativeA — суммарное число заказов до выбранной даты включительно в группе A;\n",
    "- revenueCummulativeA — суммарная выручка до выбранной даты включительно в группе A;\n",
    "- ordersCummulativeB — суммарное количество заказов до выбранной даты включительно в группе B;\n",
    "- revenueCummulativeB — суммарная выручка до выбранной даты включительно в группе B;\n",
    "- visitorsPerDateA — количество пользователей в выбранную дату в группе A;\n",
    "- visitorsPerDateB — количество пользователей в выбранную дату в группе B;\n",
    "- visitorsCummulativeA — количество пользователей до выбранной даты включительно в группе A;\n",
    "- visitorsCummulativeB — количество пользователей до выбранной даты включительно в группе B."
   ]
  },
  {
   "cell_type": "code",
   "execution_count": 25,
   "id": "4bd43ad1",
   "metadata": {},
   "outputs": [
    {
     "data": {
      "text/html": [
       "<div>\n",
       "<style scoped>\n",
       "    .dataframe tbody tr th:only-of-type {\n",
       "        vertical-align: middle;\n",
       "    }\n",
       "\n",
       "    .dataframe tbody tr th {\n",
       "        vertical-align: top;\n",
       "    }\n",
       "\n",
       "    .dataframe thead th {\n",
       "        text-align: right;\n",
       "    }\n",
       "</style>\n",
       "<table border=\"1\" class=\"dataframe\">\n",
       "  <thead>\n",
       "    <tr style=\"text-align: right;\">\n",
       "      <th></th>\n",
       "      <th>date</th>\n",
       "      <th>ordersPerDateA</th>\n",
       "      <th>revenuePerDateA</th>\n",
       "      <th>ordersPerDateB</th>\n",
       "      <th>revenuePerDateB</th>\n",
       "      <th>ordersCummulativeA</th>\n",
       "      <th>revenueCummulativeA</th>\n",
       "      <th>ordersCummulativeB</th>\n",
       "      <th>revenueCummulativeB</th>\n",
       "      <th>visitorsPerDateA</th>\n",
       "      <th>visitorsPerDateB</th>\n",
       "      <th>visitorsCummulativeA</th>\n",
       "      <th>visitorsCummulativeB</th>\n",
       "    </tr>\n",
       "  </thead>\n",
       "  <tbody>\n",
       "    <tr>\n",
       "      <th>0</th>\n",
       "      <td>2019-08-01</td>\n",
       "      <td>24</td>\n",
       "      <td>148579</td>\n",
       "      <td>21</td>\n",
       "      <td>101217</td>\n",
       "      <td>24</td>\n",
       "      <td>148579</td>\n",
       "      <td>21</td>\n",
       "      <td>101217</td>\n",
       "      <td>719</td>\n",
       "      <td>713</td>\n",
       "      <td>719</td>\n",
       "      <td>713</td>\n",
       "    </tr>\n",
       "    <tr>\n",
       "      <th>1</th>\n",
       "      <td>2019-08-02</td>\n",
       "      <td>20</td>\n",
       "      <td>93822</td>\n",
       "      <td>24</td>\n",
       "      <td>165531</td>\n",
       "      <td>44</td>\n",
       "      <td>242401</td>\n",
       "      <td>45</td>\n",
       "      <td>266748</td>\n",
       "      <td>619</td>\n",
       "      <td>581</td>\n",
       "      <td>1338</td>\n",
       "      <td>1294</td>\n",
       "    </tr>\n",
       "    <tr>\n",
       "      <th>2</th>\n",
       "      <td>2019-08-03</td>\n",
       "      <td>24</td>\n",
       "      <td>112473</td>\n",
       "      <td>16</td>\n",
       "      <td>114248</td>\n",
       "      <td>68</td>\n",
       "      <td>354874</td>\n",
       "      <td>61</td>\n",
       "      <td>380996</td>\n",
       "      <td>507</td>\n",
       "      <td>509</td>\n",
       "      <td>1845</td>\n",
       "      <td>1803</td>\n",
       "    </tr>\n",
       "    <tr>\n",
       "      <th>3</th>\n",
       "      <td>2019-08-04</td>\n",
       "      <td>16</td>\n",
       "      <td>70825</td>\n",
       "      <td>17</td>\n",
       "      <td>108571</td>\n",
       "      <td>84</td>\n",
       "      <td>425699</td>\n",
       "      <td>78</td>\n",
       "      <td>489567</td>\n",
       "      <td>717</td>\n",
       "      <td>770</td>\n",
       "      <td>2562</td>\n",
       "      <td>2573</td>\n",
       "    </tr>\n",
       "  </tbody>\n",
       "</table>\n",
       "</div>"
      ],
      "text/plain": [
       "        date  ordersPerDateA  revenuePerDateA  ordersPerDateB  \\\n",
       "0 2019-08-01              24           148579              21   \n",
       "1 2019-08-02              20            93822              24   \n",
       "2 2019-08-03              24           112473              16   \n",
       "3 2019-08-04              16            70825              17   \n",
       "\n",
       "   revenuePerDateB  ordersCummulativeA  revenueCummulativeA  \\\n",
       "0           101217                  24               148579   \n",
       "1           165531                  44               242401   \n",
       "2           114248                  68               354874   \n",
       "3           108571                  84               425699   \n",
       "\n",
       "   ordersCummulativeB  revenueCummulativeB  visitorsPerDateA  \\\n",
       "0                  21               101217               719   \n",
       "1                  45               266748               619   \n",
       "2                  61               380996               507   \n",
       "3                  78               489567               717   \n",
       "\n",
       "   visitorsPerDateB  visitorsCummulativeA  visitorsCummulativeB  \n",
       "0               713                   719                   713  \n",
       "1               581                  1338                  1294  \n",
       "2               509                  1845                  1803  \n",
       "3               770                  2562                  2573  "
      ]
     },
     "metadata": {},
     "output_type": "display_data"
    }
   ],
   "source": [
    "visitorsADaily = visitors[visitors['group'] == 'A'][['date', 'visitors']]\n",
    "visitorsADaily.columns = ['date', 'visitorsPerDateA']\n",
    "\n",
    "visitorsACummulative = visitorsADaily.apply(\n",
    "    lambda x: visitorsADaily[visitorsADaily['date'] <= x['date']].agg(\n",
    "        {'date': 'max', 'visitorsPerDateA': 'sum'}\n",
    "    ),\n",
    "    axis=1,\n",
    ")\n",
    "visitorsACummulative.columns = ['date', 'visitorsCummulativeA']\n",
    "\n",
    "visitorsBDaily = visitors[visitors['group'] == 'B'][['date', 'visitors']]\n",
    "visitorsBDaily.columns = ['date', 'visitorsPerDateB']\n",
    "\n",
    "visitorsBCummulative = visitorsBDaily.apply(\n",
    "    lambda x: visitorsBDaily[visitorsBDaily['date'] <= x['date']].agg(\n",
    "        {'date': 'max', 'visitorsPerDateB': 'sum'}\n",
    "    ),\n",
    "    axis=1,\n",
    ")\n",
    "visitorsBCummulative.columns = ['date', 'visitorsCummulativeB']\n",
    "\n",
    "ordersADaily = (\n",
    "    orders[orders['group'] == 'A'][['date', 'transactionId', 'visitorId', 'revenue']]\n",
    "    .groupby('date', as_index=False)\n",
    "    .agg({'transactionId': pd.Series.nunique, 'revenue': 'sum'})\n",
    ")\n",
    "ordersADaily.columns = ['date', 'ordersPerDateA', 'revenuePerDateA']\n",
    "\n",
    "ordersACummulative = ordersADaily.apply(\n",
    "    lambda x: ordersADaily[ordersADaily['date'] <= x['date']].agg(\n",
    "        {'date': 'max', 'ordersPerDateA': 'sum', 'revenuePerDateA': 'sum'}\n",
    "    ),\n",
    "    axis=1,\n",
    ").sort_values(by=['date'])\n",
    "ordersACummulative.columns = [\n",
    "    'date',\n",
    "    'ordersCummulativeA',\n",
    "    'revenueCummulativeA',\n",
    "]\n",
    "\n",
    "ordersBDaily = (\n",
    "    orders[orders['group'] == 'B'][['date', 'transactionId', 'visitorId', 'revenue']]\n",
    "    .groupby('date', as_index=False)\n",
    "    .agg({'transactionId': pd.Series.nunique, 'revenue': 'sum'})\n",
    ")\n",
    "ordersBDaily.columns = ['date', 'ordersPerDateB', 'revenuePerDateB']\n",
    "\n",
    "ordersBCummulative = ordersBDaily.apply(\n",
    "    lambda x: ordersBDaily[ordersBDaily['date'] <= x['date']].agg(\n",
    "        {'date': 'max', 'ordersPerDateB': 'sum', 'revenuePerDateB': 'sum'}\n",
    "    ),\n",
    "    axis=1,\n",
    ").sort_values(by=['date'])\n",
    "ordersBCummulative.columns = [\n",
    "    'date',\n",
    "    'ordersCummulativeB',\n",
    "    'revenueCummulativeB',\n",
    "]\n",
    "\n",
    "data = (\n",
    "    ordersADaily.merge(\n",
    "        ordersBDaily, left_on='date', right_on='date', how='left'\n",
    "    )\n",
    "    .merge(ordersACummulative, left_on='date', right_on='date', how='left')\n",
    "    .merge(ordersBCummulative, left_on='date', right_on='date', how='left')\n",
    "    .merge(visitorsADaily, left_on='date', right_on='date', how='left')\n",
    "    .merge(visitorsBDaily, left_on='date', right_on='date', how='left')\n",
    "    .merge(visitorsACummulative, left_on='date', right_on='date', how='left')\n",
    "    .merge(visitorsBCummulative, left_on='date', right_on='date', how='left')\n",
    ")\n",
    "d(data.head(4))"
   ]
  },
  {
   "cell_type": "code",
   "execution_count": 26,
   "id": "2a167eb4",
   "metadata": {},
   "outputs": [],
   "source": [
    "# Объявим переменные sampleA и sampleB\n",
    "# Методом concat объединяем последовательности \"Список с количеством заказов для каждого из пользователей\" \n",
    "# и Нули для пользователей, которые ничего не заказывали.\n",
    "\n",
    "sampleA = pd.concat([ordersByUsersA['orders'],\n",
    "                     pd.Series(0, \n",
    "                               index=np.arange(data['visitorsPerDateA'].sum() - len(ordersByUsersA['orders'])), \n",
    "                               name='orders'\n",
    "                              )\n",
    "                    ],axis=0\n",
    "                   )\n",
    "\n",
    "sampleB = pd.concat([ordersByUsersB['orders']\n",
    "                     ,pd.Series(0, index=np.arange(data['visitorsPerDateB'].sum() - len(ordersByUsersB['orders'])), \n",
    "                                name='orders'\n",
    "                               )\n",
    "                    ],axis=0\n",
    "                   )"
   ]
  },
  {
   "cell_type": "code",
   "execution_count": 27,
   "id": "265fed7a",
   "metadata": {},
   "outputs": [
    {
     "data": {
      "text/plain": [
       "'p-value = 0.017'"
      ]
     },
     "metadata": {},
     "output_type": "display_data"
    },
    {
     "data": {
      "text/plain": [
       "'Не получилось отвергнуть нулевую гипотезу, в данных есть различие'"
      ]
     },
     "metadata": {},
     "output_type": "display_data"
    },
    {
     "data": {
      "text/plain": [
       "'В преобладает над A: 13.8 %'"
      ]
     },
     "metadata": {},
     "output_type": "display_data"
    }
   ],
   "source": [
    "# Применим критерий Мана-Уитни и отформатируем p-value, округлив его до одного знака после запятой.\n",
    "d(\"p-value = {0:.3f}\".format(stats.mannwhitneyu(sampleA, sampleB)[1]))\n",
    "\n",
    "if stats.mannwhitneyu(sampleA, sampleB)[1] < alpha:\n",
    "    d('Не получилось отвергнуть нулевую гипотезу, в данных есть различие')\n",
    "else:\n",
    "    d('Отвергаем нулевую гипотезу, данные не изменились')\n",
    "\n",
    "if (sampleB.mean() / sampleA.mean() - 1) > 0:\n",
    "    d(\"В преобладает над A: {0:.1f} %\".format(abs(sampleB.mean() / sampleA.mean() - 1)*100))\n",
    "else: \n",
    "    d(\"A преобладает над B: {0:.1f} %\".format(abs(sampleB.mean() / sampleA.mean() - 1)*100))\n"
   ]
  },
  {
   "cell_type": "markdown",
   "id": "9aedc388",
   "metadata": {},
   "source": [
    "Вывод:\n",
    "- По «сырым» данным есть различия в среднем числе заказов групп A и B `p-value = 0.017 меньше 0.05. `"
   ]
  },
  {
   "cell_type": "markdown",
   "id": "142be18f",
   "metadata": {},
   "source": [
    "---"
   ]
  },
  {
   "cell_type": "markdown",
   "id": "65995535",
   "metadata": {},
   "source": [
    "Посчитаем статистическую значимость различий в среднем чеке заказа между группами по «сырым» данным. Сделаем выводы и предположения."
   ]
  },
  {
   "cell_type": "code",
   "execution_count": null,
   "id": "b24165f5",
   "metadata": {},
   "outputs": [],
   "source": [
    "# Чтобы рассчитать статистическую значимость различий в среднем чеке, \n",
    "# передадим критерию mannwhitneyu() данные о выручке с заказов. \n",
    "# А ещё найдём относительные различия в среднем чеке между группами:\n",
    "\n",
    "print('p-value = {0:.3f}'.format(stats.mannwhitneyu(orders[orders['group']=='A']['revenue'], \n",
    "                                          orders[orders['group']=='B']['revenue'])[1]))\n",
    "\n",
    "if (stats.mannwhitneyu(orders[orders['group']=='A']['revenue'], \n",
    "                                          orders[orders['group']=='B']['revenue'])[1]) < alpha:\n",
    "    d('Не получилось отвергнуть нулевую гипотезу, в данных есть различие')\n",
    "else:\n",
    "    d('Отвергаем нулевую гипотезу, данные не изменились')\n",
    "\n",
    "if (orders[orders['group']=='B']['revenue'].mean()/orders[orders['group']=='A']['revenue']\n",
    "                       .mean()-1) > 0:\n",
    "    d(\"В преобладает над A: {0:.1f} %\".format((orders[orders['group']=='B']['revenue'].mean()/orders[orders['group']=='A']['revenue'].mean()-1)*100))\n",
    "else: \n",
    "    d(\"A преобладает над B: {0:.1f} %\".format((orders[orders['group']=='B']['revenue'].mean()/orders[orders['group']=='A']['revenue'].mean()-1)*100))\n",
    "\n",
    "\n",
    "\n",
    "#print('{0:.3f}'.format(orders[orders['group']=='B']['revenue'].mean()/orders[orders['group']=='A']['revenue']\n",
    "                      # .mean()-1))"
   ]
  },
  {
   "cell_type": "markdown",
   "id": "143a4fb9",
   "metadata": {},
   "source": [
    "p-value говорит о том, что различий в группах нет\n",
    "При этом средний чек группы B значительно выше среднего чека группы А"
   ]
  },
  {
   "cell_type": "markdown",
   "id": "63411036",
   "metadata": {},
   "source": [
    "---"
   ]
  },
  {
   "cell_type": "markdown",
   "id": "db6e22c4",
   "metadata": {},
   "source": [
    "Посчитаем статистическую значимость различий в среднем количестве заказов на посетителя между группами по «очищенным» данным. Сделаем выводы и предположения."
   ]
  },
  {
   "cell_type": "markdown",
   "id": "58b675d2",
   "metadata": {},
   "source": [
    "Вычислим отдельно аномальные заказы и аномальных пользователей:\n",
    "- Сделаем срезы пользователей с числом заказов больше 2 — `usersWithManyOrders` и пользователей, совершивших заказы дороже 28 000 `usersWithExpensiveOrders`. \n",
    "- Объединим их в таблице abnormalUsers. "
   ]
  },
  {
   "cell_type": "code",
   "execution_count": null,
   "id": "6ddbd891",
   "metadata": {},
   "outputs": [],
   "source": [
    "usersWithManyOrders = pd.concat(\n",
    "    [\n",
    "        ordersByUsersA[ordersByUsersA['orders'] > 2]['visitorId'],\n",
    "        ordersByUsersB[ordersByUsersB['orders'] > 2]['visitorId'],\n",
    "    ],\n",
    "    axis=0,\n",
    ")\n",
    "usersWithExpensiveOrders = orders[orders['revenue'] > 28000]['visitorId']\n",
    "abnormalUsers = (\n",
    "    pd.concat([usersWithManyOrders, usersWithExpensiveOrders], axis=0)\n",
    "    .drop_duplicates()\n",
    "    .sort_values()\n",
    ")\n",
    "print(abnormalUsers.head(5))\n",
    "print(abnormalUsers.shape[0])"
   ]
  },
  {
   "cell_type": "markdown",
   "id": "67659b63",
   "metadata": {},
   "source": [
    "- всего 74 аномальных пользователей"
   ]
  },
  {
   "cell_type": "markdown",
   "id": "0195ee45",
   "metadata": {},
   "source": [
    "Посчитаем статистическую значимость различий в среднем количестве заказов между группами теста по очищенным данным. используя список аномальынх пользхователей и агрумент `logical_not`"
   ]
  },
  {
   "cell_type": "code",
   "execution_count": null,
   "id": "d4e05943",
   "metadata": {},
   "outputs": [],
   "source": [
    "sampleAFiltered = pd.concat(\n",
    "    [\n",
    "        ordersByUsersA[\n",
    "            np.logical_not(ordersByUsersA['visitorId'].isin(abnormalUsers))\n",
    "        ]['orders'],\n",
    "        pd.Series(\n",
    "            0,\n",
    "            index=np.arange(\n",
    "                data['visitorsPerDateA'].sum() - len(ordersByUsersA['orders'])\n",
    "            ),\n",
    "            name='orders',\n",
    "        ),\n",
    "    ],\n",
    "    axis=0,\n",
    ")\n",
    "\n",
    "sampleBFiltered = pd.concat(\n",
    "    [\n",
    "        ordersByUsersB[\n",
    "            np.logical_not(ordersByUsersB['visitorId'].isin(abnormalUsers))\n",
    "        ]['orders'],\n",
    "        pd.Series(\n",
    "            0,\n",
    "            index=np.arange(\n",
    "                data['visitorsPerDateB'].sum() - len(ordersByUsersB['orders'])\n",
    "            ),\n",
    "            name='orders',\n",
    "        ),\n",
    "    ],\n",
    "    axis=0,\n",
    ")\n",
    "\n",
    "# Применим статистический критерий Манна-Уитни к полученным выборкам:\n",
    "print('p-value = {0:.3f}'.format(stats.mannwhitneyu(sampleAFiltered, sampleBFiltered)[1]))\n",
    "\n",
    "if stats.mannwhitneyu(sampleAFiltered, sampleBFiltered)[1] < alpha:\n",
    "    d('Не получилось отвергнуть нулевую гипотезу, в данных есть различие')\n",
    "else:\n",
    "    d('Отвергаем нулевую гипотезу, данные не изменились')\n",
    "\n",
    "if (sampleBFiltered.mean()/sampleAFiltered.mean() - 1) > 0:\n",
    "    d(\"В преобладает над A: {0:.1f} %\".format(abs(sampleBFiltered.mean()/sampleAFiltered.mean() - 1)*100))\n",
    "else: \n",
    "    d(\"A преобладает над B: {0:.1f} %\".format(abs(sampleBFiltered.mean()/sampleAFiltered.mean() - 1)*100))\n",
    "\n",
    "\n",
    "#print('{0:.3f}'.format(sampleBFiltered.mean()/sampleAFiltered.mean()-1))"
   ]
  },
  {
   "cell_type": "raw",
   "id": "df7c93a3",
   "metadata": {},
   "source": [
    "Вывод:\n",
    "- p-value показывает нам то, что выборки отличаются, причем Группа `B` в среднем на 17% по количеству заказов преобладает на группой `A`\n",
    "- Действительно аномалии сильно повлияли на первоначальное мнение. По сырым данным можно было сделать вывод что группы количество заказов увеличилось на 13% в действительности группа В успешнее - 17%."
   ]
  },
  {
   "cell_type": "markdown",
   "id": "6a804edb",
   "metadata": {},
   "source": [
    "---"
   ]
  },
  {
   "cell_type": "markdown",
   "id": "89487d12",
   "metadata": {},
   "source": [
    "Посчитаем статистическую значимость различий в среднем чеке заказа между группами по «очищенным» данным. Сделаем выводы и предположения."
   ]
  },
  {
   "cell_type": "code",
   "execution_count": null,
   "id": "45778be8",
   "metadata": {},
   "outputs": [],
   "source": [
    "p_value = \\\n",
    "        stats.mannwhitneyu(\n",
    "            orders[\n",
    "                np.logical_and(\n",
    "                    orders['group'] == 'A',\n",
    "                    np.logical_not(orders['visitorId'].isin(abnormalUsers)),\n",
    "                )\n",
    "            ]['revenue'],\n",
    "            orders[\n",
    "                np.logical_and(\n",
    "                    orders['group'] == 'B',\n",
    "                    np.logical_not(orders['visitorId'].isin(abnormalUsers)),\n",
    "                )\n",
    "            ]['revenue'],\n",
    "        )[1]\n",
    "\n",
    "ab = orders[np.logical_and(\n",
    "                orders['group'] == 'B',\n",
    "                np.logical_not(orders['visitorId'].isin(abnormalUsers)),\n",
    "            )\n",
    "        ]['revenue'].mean() / orders[np.logical_and(\n",
    "                orders['group'] == 'A',\n",
    "                np.logical_not(orders['visitorId'].isin(abnormalUsers)),\n",
    "            )\n",
    "        ]['revenue'].mean() - 1\n",
    "print('{0:.3f}'.format(p_value))\n",
    "\n",
    "\n",
    "if (p_value) < alpha:\n",
    "    d('Не получилось отвергнуть нулевую гипотезу, в данных есть различие')\n",
    "else:\n",
    "    d('Отвергаем нулевую гипотезу, данные не изменились')\n",
    "\n",
    "if (ab) > 0:\n",
    "    d(\"В преобладает над A: {0:.1f} %\".format(abs(ab)*100))\n",
    "else: \n",
    "    d(\"A преобладает над B: {0:.1f} %\".format(abs(ab)*100))\n",
    "\n"
   ]
  },
  {
   "cell_type": "markdown",
   "id": "c5afb789",
   "metadata": {},
   "source": [
    "Вывод:\n",
    "- По среднему чеку группы схожи. Действительно из 2х груп заказывают примерно на одну и ту-же сумму\n",
    "- А вот относительно, по очищенным данным картина поменялась(в сравнении с сырыми данными), теперь группа `В` проигрывает в среднем группе `А` на 2%."
   ]
  },
  {
   "cell_type": "markdown",
   "id": "5fc16cf8",
   "metadata": {},
   "source": [
    "[Формулировка гипотез](#1)"
   ]
  },
  {
   "cell_type": "markdown",
   "id": "efd6f3e5",
   "metadata": {},
   "source": [
    "### Общий вывод:\n",
    "Проделали большую работу, изучив визиты и покупки по 2м группам. В результате получили по сырым данным:\n",
    "- Есть статистически значимое различие по количеству заказов между группами как по сырым данным, так и после фильтрации аномалий. \n",
    "        -При этом в группе В в среднем количество заказов на 17% больше(по очизенным данным)\n",
    "- Отсутствует статистически значимое различие по среднему чеку между группами.\n",
    "        - При этом сырые данные показывали преобладания среднего чека на 25% у группы А. Но Очищенные данные показали что на 2% преобладает группа А\n",
    "- В итоговом выводе можно сказать что тест удался. Действительно пользователи группы В делают на 17% больше заказов. Тест можно остановить. Победа у группы B."
   ]
  },
  {
   "attachments": {
    "image.png": {
     "image/png": "[encoded data removed]"
    }
   },
   "cell_type": "markdown",
   "id": "eedfe1f0",
   "metadata": {},
   "source": [
    "- график относительного изменения кумулятивного среднего количества заказов на посетителя группы B к группе A имеет тенденцию к росту и фиксируется на значении 0,1 \n",
    "![image.png](attachment:image.png)"
   ]
  },
  {
   "attachments": {
    "image.png": {
     "image/png": "[encoded data removed]"
    }
   },
   "cell_type": "markdown",
   "id": "790632c3",
   "metadata": {},
   "source": [
    "- график относительного изменения кумулятивного среднего чека группы B к группе A. Колеблется. Он и позволил сделать нам вывод что есть аномалии и перед выводом необходимо очистить данные.\n",
    "![image.png](attachment:image.png)"
   ]
  }
 ],
 "metadata": {
  "ExecuteTimeLog": [
   {
    "duration": 1271,
    "start_time": "2023-01-27T17:19:18.172Z"
   },
   {
    "duration": 3,
    "start_time": "2023-01-27T17:19:19.445Z"
   },
   {
    "duration": 282,
    "start_time": "2023-01-27T17:19:19.449Z"
   },
   {
    "duration": 14,
    "start_time": "2023-01-27T17:19:19.733Z"
   },
   {
    "duration": 16,
    "start_time": "2023-01-27T17:19:19.749Z"
   },
   {
    "duration": 12,
    "start_time": "2023-01-27T17:19:19.767Z"
   },
   {
    "duration": 15,
    "start_time": "2023-01-27T17:19:19.781Z"
   },
   {
    "duration": 16,
    "start_time": "2023-01-27T17:19:19.801Z"
   },
   {
    "duration": 12,
    "start_time": "2023-01-27T17:19:19.819Z"
   },
   {
    "duration": 22,
    "start_time": "2023-01-27T17:19:19.834Z"
   },
   {
    "duration": 49,
    "start_time": "2023-01-27T17:19:19.857Z"
   },
   {
    "duration": 13,
    "start_time": "2023-01-27T17:19:19.908Z"
   },
   {
    "duration": 539,
    "start_time": "2023-01-27T17:19:19.922Z"
   },
   {
    "duration": 180,
    "start_time": "2023-01-27T17:19:20.463Z"
   },
   {
    "duration": 341,
    "start_time": "2023-01-27T17:19:20.645Z"
   },
   {
    "duration": 184,
    "start_time": "2023-01-27T17:19:20.987Z"
   },
   {
    "duration": 341,
    "start_time": "2023-01-27T17:19:21.173Z"
   },
   {
    "duration": 7,
    "start_time": "2023-01-27T17:19:21.516Z"
   },
   {
    "duration": 143,
    "start_time": "2023-01-27T17:19:21.524Z"
   },
   {
    "duration": 10,
    "start_time": "2023-01-27T17:19:21.669Z"
   },
   {
    "duration": 149,
    "start_time": "2023-01-27T17:19:21.681Z"
   },
   {
    "duration": 9,
    "start_time": "2023-01-27T17:19:21.832Z"
   },
   {
    "duration": 160,
    "start_time": "2023-01-27T17:19:21.843Z"
   },
   {
    "duration": 238,
    "start_time": "2023-01-27T17:19:22.004Z"
   },
   {
    "duration": 7,
    "start_time": "2023-01-27T17:19:22.243Z"
   },
   {
    "duration": 26,
    "start_time": "2023-01-27T17:19:22.251Z"
   },
   {
    "duration": 14,
    "start_time": "2023-01-27T17:19:22.291Z"
   },
   {
    "duration": 10,
    "start_time": "2023-01-27T17:19:22.309Z"
   },
   {
    "duration": 28,
    "start_time": "2023-01-27T17:19:22.321Z"
   },
   {
    "duration": 43,
    "start_time": "2023-01-27T17:19:22.351Z"
   },
   {
    "duration": 1310,
    "start_time": "2023-01-28T14:47:15.166Z"
   },
   {
    "duration": 3,
    "start_time": "2023-01-28T14:47:16.478Z"
   },
   {
    "duration": 265,
    "start_time": "2023-01-28T14:47:16.483Z"
   },
   {
    "duration": 22,
    "start_time": "2023-01-28T14:47:16.752Z"
   },
   {
    "duration": 5,
    "start_time": "2023-01-28T14:47:16.777Z"
   },
   {
    "duration": 33,
    "start_time": "2023-01-28T14:47:16.784Z"
   },
   {
    "duration": 13,
    "start_time": "2023-01-28T14:47:16.820Z"
   },
   {
    "duration": 18,
    "start_time": "2023-01-28T14:47:16.835Z"
   },
   {
    "duration": 23,
    "start_time": "2023-01-28T14:47:16.855Z"
   },
   {
    "duration": 23,
    "start_time": "2023-01-28T14:47:16.882Z"
   },
   {
    "duration": 25,
    "start_time": "2023-01-28T14:47:16.908Z"
   },
   {
    "duration": 18,
    "start_time": "2023-01-28T14:47:16.934Z"
   },
   {
    "duration": 581,
    "start_time": "2023-01-28T14:47:16.954Z"
   },
   {
    "duration": 175,
    "start_time": "2023-01-28T14:47:17.537Z"
   },
   {
    "duration": 393,
    "start_time": "2023-01-28T14:47:17.713Z"
   },
   {
    "duration": 190,
    "start_time": "2023-01-28T14:47:18.108Z"
   },
   {
    "duration": 313,
    "start_time": "2023-01-28T14:47:18.300Z"
   },
   {
    "duration": 7,
    "start_time": "2023-01-28T14:47:18.614Z"
   },
   {
    "duration": 138,
    "start_time": "2023-01-28T14:47:18.623Z"
   },
   {
    "duration": 10,
    "start_time": "2023-01-28T14:47:18.762Z"
   },
   {
    "duration": 141,
    "start_time": "2023-01-28T14:47:18.793Z"
   },
   {
    "duration": 8,
    "start_time": "2023-01-28T14:47:18.936Z"
   },
   {
    "duration": 8,
    "start_time": "2023-01-28T14:47:18.946Z"
   },
   {
    "duration": 153,
    "start_time": "2023-01-28T14:47:18.955Z"
   },
   {
    "duration": 250,
    "start_time": "2023-01-28T14:47:19.110Z"
   },
   {
    "duration": 8,
    "start_time": "2023-01-28T14:47:19.362Z"
   },
   {
    "duration": 63,
    "start_time": "2023-01-28T14:47:19.371Z"
   },
   {
    "duration": 21,
    "start_time": "2023-01-28T14:47:19.438Z"
   },
   {
    "duration": 38,
    "start_time": "2023-01-28T14:47:19.461Z"
   },
   {
    "duration": 48,
    "start_time": "2023-01-28T14:47:19.500Z"
   },
   {
    "duration": 16,
    "start_time": "2023-01-28T14:47:19.550Z"
   }
  ],
  "kernelspec": {
   "display_name": "Python 3 (ipykernel)",
   "language": "python",
   "name": "python3"
  },
  "language_info": {
   "codemirror_mode": {
    "name": "ipython",
    "version": 3
   },
   "file_extension": ".py",
   "mimetype": "text/x-python",
   "name": "python",
   "nbconvert_exporter": "python",
   "pygments_lexer": "ipython3",
   "version": "3.9.13"
  },
  "toc": {
   "base_numbering": 1,
   "nav_menu": {},
   "number_sections": true,
   "sideBar": true,
   "skip_h1_title": true,
   "title_cell": "Table of Contents",
   "title_sidebar": "Contents",
   "toc_cell": false,
   "toc_position": {},
   "toc_section_display": true,
   "toc_window_display": false
  }
 },
 "nbformat": 4,
 "nbformat_minor": 5
}
