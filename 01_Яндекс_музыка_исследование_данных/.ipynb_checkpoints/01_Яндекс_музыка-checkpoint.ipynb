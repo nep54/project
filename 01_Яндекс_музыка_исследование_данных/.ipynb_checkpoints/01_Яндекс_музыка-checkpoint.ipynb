{
 "cells": [
  {
   "cell_type": "markdown",
   "metadata": {
    "deletable": false,
    "editable": false,
    "id": "E0vqbgi9ay0H"
   },
   "source": [
    "# Яндекс Музыка"
   ]
  },
  {
   "cell_type": "markdown",
   "metadata": {
    "deletable": false,
    "editable": false,
    "id": "VUC88oWjTJw2"
   },
   "source": [
    "Сравнение Москвы и Петербурга окружено мифами. Например:\n",
    " * Москва — мегаполис, подчинённый жёсткому ритму рабочей недели;\n",
    " * Петербург — культурная столица, со своими вкусами.\n",
    "\n",
    "На данных Яндекс Музыки вы сравните поведение пользователей двух столиц.\n",
    "\n",
    "**Цель исследования** — проверьте три гипотезы:\n",
    "1. Активность пользователей зависит от дня недели. Причём в Москве и Петербурге это проявляется по-разному.\n",
    "2. В понедельник утром в Москве преобладают одни жанры, а в Петербурге — другие. Так же и вечером пятницы преобладают разные жанры — в зависимости от города. \n",
    "3. Москва и Петербург предпочитают разные жанры музыки. В Москве чаще слушают поп-музыку, в Петербурге — русский рэп.\n",
    "\n",
    "**Ход исследования**\n",
    "\n",
    "Данные о поведении пользователей вы получите из файла `yandex_music_project.csv`. О качестве данных ничего не известно. Поэтому перед проверкой гипотез понадобится обзор данных. \n",
    "\n",
    "Вы проверите данные на ошибки и оцените их влияние на исследование. Затем, на этапе предобработки вы поищете возможность исправить самые критичные ошибки данных.\n",
    " \n",
    "Таким образом, исследование пройдёт в три этапа:\n",
    " 1. Обзор данных.\n",
    " 2. Предобработка данных.\n",
    " 3. Проверка гипотез.\n",
    "\n"
   ]
  },
  {
   "cell_type": "markdown",
   "metadata": {
    "deletable": false,
    "editable": false,
    "id": "Ml1hmfXC_Zcs"
   },
   "source": [
    "## Обзор данных\n",
    "\n",
    "Составьте первое представление о данных Яндекс Музыки.\n",
    "\n",
    "\n"
   ]
  },
  {
   "cell_type": "markdown",
   "metadata": {
    "deletable": false,
    "editable": false,
    "id": "57eAOGIz_Zcs",
    "tags": [
     "start_task"
    ]
   },
   "source": [
    "**Задание 1**\n",
    "\n",
    "Основной инструмент аналитика — `pandas`. Импортируйте эту библиотеку."
   ]
  },
  {
   "cell_type": "code",
   "execution_count": 1,
   "metadata": {
    "deletable": false,
    "id": "AXN7PHPN_Zcs"
   },
   "outputs": [],
   "source": [
    "import pandas as pd # импорт библиотеки pandas"
   ]
  },
  {
   "cell_type": "markdown",
   "metadata": {
    "deletable": false,
    "editable": false,
    "id": "SG23P8tt_Zcs",
    "tags": [
     "start_task"
    ]
   },
   "source": [
    "**Задание 2**\n",
    "\n",
    "Прочитайте файл `yandex_music_project.csv` из папки `/datasets` и сохраните его в переменной `df`:"
   ]
  },
  {
   "cell_type": "code",
   "execution_count": 23,
   "metadata": {
    "deletable": false,
    "id": "fFVu7vqh_Zct",
    "scrolled": true
   },
   "outputs": [],
   "source": [
    "df = pd.read_csv(\n",
    "    '/Users/macbookair/Yandex.Disk.localized/01_Data_analyst/GitHub/DA_yandex_project_datasets/01_yandex_music_project.csv'\n",
    ") # чтение файла с данными и сохранение в df"
   ]
  },
  {
   "cell_type": "markdown",
   "metadata": {
    "deletable": false,
    "editable": false,
    "id": "rDoOMd3uTqnZ",
    "tags": [
     "start_task"
    ]
   },
   "source": [
    "**Задание 3**\n",
    "\n",
    "\n",
    "Выведите на экран первые десять строк таблицы:"
   ]
  },
  {
   "cell_type": "code",
   "execution_count": 11,
   "metadata": {
    "deletable": false,
    "id": "oWTVX3gW_Zct",
    "scrolled": true
   },
   "outputs": [
    {
     "data": {
      "text/html": [
       "<div>\n",
       "<style scoped>\n",
       "    .dataframe tbody tr th:only-of-type {\n",
       "        vertical-align: middle;\n",
       "    }\n",
       "\n",
       "    .dataframe tbody tr th {\n",
       "        vertical-align: top;\n",
       "    }\n",
       "\n",
       "    .dataframe thead th {\n",
       "        text-align: right;\n",
       "    }\n",
       "</style>\n",
       "<table border=\"1\" class=\"dataframe\">\n",
       "  <thead>\n",
       "    <tr style=\"text-align: right;\">\n",
       "      <th></th>\n",
       "      <th>Unnamed: 0</th>\n",
       "      <th>userID</th>\n",
       "      <th>Track</th>\n",
       "      <th>artist</th>\n",
       "      <th>genre</th>\n",
       "      <th>City</th>\n",
       "      <th>time</th>\n",
       "      <th>Day</th>\n",
       "    </tr>\n",
       "  </thead>\n",
       "  <tbody>\n",
       "    <tr>\n",
       "      <th>0</th>\n",
       "      <td>0</td>\n",
       "      <td>FFB692EC</td>\n",
       "      <td>Kamigata To Boots</td>\n",
       "      <td>The Mass Missile</td>\n",
       "      <td>rock</td>\n",
       "      <td>Saint-Petersburg</td>\n",
       "      <td>20:28:33</td>\n",
       "      <td>Wednesday</td>\n",
       "    </tr>\n",
       "    <tr>\n",
       "      <th>1</th>\n",
       "      <td>1</td>\n",
       "      <td>55204538</td>\n",
       "      <td>Delayed Because of Accident</td>\n",
       "      <td>Andreas Rönnberg</td>\n",
       "      <td>rock</td>\n",
       "      <td>Moscow</td>\n",
       "      <td>14:07:09</td>\n",
       "      <td>Friday</td>\n",
       "    </tr>\n",
       "    <tr>\n",
       "      <th>2</th>\n",
       "      <td>2</td>\n",
       "      <td>20EC38</td>\n",
       "      <td>Funiculì funiculà</td>\n",
       "      <td>Mario Lanza</td>\n",
       "      <td>pop</td>\n",
       "      <td>Saint-Petersburg</td>\n",
       "      <td>20:58:07</td>\n",
       "      <td>Wednesday</td>\n",
       "    </tr>\n",
       "    <tr>\n",
       "      <th>3</th>\n",
       "      <td>3</td>\n",
       "      <td>A3DD03C9</td>\n",
       "      <td>Dragons in the Sunset</td>\n",
       "      <td>Fire + Ice</td>\n",
       "      <td>folk</td>\n",
       "      <td>Saint-Petersburg</td>\n",
       "      <td>08:37:09</td>\n",
       "      <td>Monday</td>\n",
       "    </tr>\n",
       "    <tr>\n",
       "      <th>4</th>\n",
       "      <td>4</td>\n",
       "      <td>E2DC1FAE</td>\n",
       "      <td>Soul People</td>\n",
       "      <td>Space Echo</td>\n",
       "      <td>dance</td>\n",
       "      <td>Moscow</td>\n",
       "      <td>08:34:34</td>\n",
       "      <td>Monday</td>\n",
       "    </tr>\n",
       "    <tr>\n",
       "      <th>5</th>\n",
       "      <td>5</td>\n",
       "      <td>842029A1</td>\n",
       "      <td>Преданная</td>\n",
       "      <td>IMPERVTOR</td>\n",
       "      <td>rusrap</td>\n",
       "      <td>Saint-Petersburg</td>\n",
       "      <td>13:09:41</td>\n",
       "      <td>Friday</td>\n",
       "    </tr>\n",
       "    <tr>\n",
       "      <th>6</th>\n",
       "      <td>6</td>\n",
       "      <td>4CB90AA5</td>\n",
       "      <td>True</td>\n",
       "      <td>Roman Messer</td>\n",
       "      <td>dance</td>\n",
       "      <td>Moscow</td>\n",
       "      <td>13:00:07</td>\n",
       "      <td>Wednesday</td>\n",
       "    </tr>\n",
       "    <tr>\n",
       "      <th>7</th>\n",
       "      <td>7</td>\n",
       "      <td>F03E1C1F</td>\n",
       "      <td>Feeling This Way</td>\n",
       "      <td>Polina Griffith</td>\n",
       "      <td>dance</td>\n",
       "      <td>Moscow</td>\n",
       "      <td>20:47:49</td>\n",
       "      <td>Wednesday</td>\n",
       "    </tr>\n",
       "    <tr>\n",
       "      <th>8</th>\n",
       "      <td>8</td>\n",
       "      <td>8FA1D3BE</td>\n",
       "      <td>И вновь продолжается бой</td>\n",
       "      <td>NaN</td>\n",
       "      <td>ruspop</td>\n",
       "      <td>Moscow</td>\n",
       "      <td>09:17:40</td>\n",
       "      <td>Friday</td>\n",
       "    </tr>\n",
       "    <tr>\n",
       "      <th>9</th>\n",
       "      <td>9</td>\n",
       "      <td>E772D5C0</td>\n",
       "      <td>Pessimist</td>\n",
       "      <td>NaN</td>\n",
       "      <td>dance</td>\n",
       "      <td>Saint-Petersburg</td>\n",
       "      <td>21:20:49</td>\n",
       "      <td>Wednesday</td>\n",
       "    </tr>\n",
       "  </tbody>\n",
       "</table>\n",
       "</div>"
      ],
      "text/plain": [
       "   Unnamed: 0    userID                        Track            artist  \\\n",
       "0           0  FFB692EC            Kamigata To Boots  The Mass Missile   \n",
       "1           1  55204538  Delayed Because of Accident  Andreas Rönnberg   \n",
       "2           2    20EC38            Funiculì funiculà       Mario Lanza   \n",
       "3           3  A3DD03C9        Dragons in the Sunset        Fire + Ice   \n",
       "4           4  E2DC1FAE                  Soul People        Space Echo   \n",
       "5           5  842029A1                    Преданная         IMPERVTOR   \n",
       "6           6  4CB90AA5                         True      Roman Messer   \n",
       "7           7  F03E1C1F             Feeling This Way   Polina Griffith   \n",
       "8           8  8FA1D3BE     И вновь продолжается бой               NaN   \n",
       "9           9  E772D5C0                    Pessimist               NaN   \n",
       "\n",
       "    genre            City        time        Day  \n",
       "0    rock  Saint-Petersburg  20:28:33  Wednesday  \n",
       "1    rock            Moscow  14:07:09     Friday  \n",
       "2     pop  Saint-Petersburg  20:58:07  Wednesday  \n",
       "3    folk  Saint-Petersburg  08:37:09     Monday  \n",
       "4   dance            Moscow  08:34:34     Monday  \n",
       "5  rusrap  Saint-Petersburg  13:09:41     Friday  \n",
       "6   dance            Moscow  13:00:07  Wednesday  \n",
       "7   dance            Moscow  20:47:49  Wednesday  \n",
       "8  ruspop            Moscow  09:17:40     Friday  \n",
       "9   dance  Saint-Petersburg  21:20:49  Wednesday  "
      ]
     },
     "execution_count": 11,
     "metadata": {},
     "output_type": "execute_result"
    }
   ],
   "source": [
    "df.head(10) # получение первых 10 строк таблицы df"
   ]
  },
  {
   "cell_type": "markdown",
   "metadata": {
    "deletable": false,
    "editable": false,
    "id": "EO73Kwic_Zct",
    "tags": [
     "start_task"
    ]
   },
   "source": [
    "**Задание 4**\n",
    "\n",
    "\n",
    "Одной командой получить общую информацию о таблице c помощью метода `info()`:"
   ]
  },
  {
   "cell_type": "code",
   "execution_count": 15,
   "metadata": {
    "deletable": false,
    "id": "DSf2kIb-_Zct"
   },
   "outputs": [
    {
     "name": "stdout",
     "output_type": "stream",
     "text": [
      "<class 'pandas.core.frame.DataFrame'>\n",
      "RangeIndex: 65079 entries, 0 to 65078\n",
      "Data columns (total 7 columns):\n",
      " #   Column    Non-Null Count  Dtype \n",
      "---  ------    --------------  ----- \n",
      " 0     userID  65079 non-null  object\n",
      " 1   Track     63848 non-null  object\n",
      " 2   artist    57876 non-null  object\n",
      " 3   genre     63881 non-null  object\n",
      " 4     City    65079 non-null  object\n",
      " 5   time      65079 non-null  object\n",
      " 6   Day       65079 non-null  object\n",
      "dtypes: object(7)\n",
      "memory usage: 3.5+ MB\n"
     ]
    }
   ],
   "source": [
    "df.info() # получение общей информации о данных в таблице df"
   ]
  },
  {
   "cell_type": "markdown",
   "metadata": {
    "deletable": false,
    "editable": false,
    "id": "TaQ2Iwbr_Zct"
   },
   "source": [
    "Итак, в таблице семь столбцов. Тип данных во всех столбцах — `object`.\n",
    "\n",
    "Согласно документации к данным:\n",
    "* `userID` — идентификатор пользователя;\n",
    "* `Track` — название трека;  \n",
    "* `artist` — имя исполнителя;\n",
    "* `genre` — название жанра;\n",
    "* `City` — город пользователя;\n",
    "* `time` — время начала прослушивания;\n",
    "* `Day` — день недели.\n",
    "\n",
    "Количество значений в столбцах различается. Значит, в данных есть пропущенные значения."
   ]
  },
  {
   "cell_type": "markdown",
   "metadata": {
    "deletable": false,
    "editable": false,
    "id": "rAfziTBDmf2h",
    "tags": [
     "start_task"
    ]
   },
   "source": [
    "**Задание 5**\n",
    "\n",
    "**Вопрос со свободной формой ответа**\n",
    "\n",
    "В названиях колонок видны нарушения стиля:\n",
    "* Строчные буквы сочетаются с прописными.\n",
    "* Встречаются пробелы.\n",
    "\n",
    "Какое третье нарушение?"
   ]
  },
  {
   "cell_type": "code",
   "execution_count": 16,
   "metadata": {
    "id": "jD8EXEIvmf2h"
   },
   "outputs": [],
   "source": [
    "# Напишите ваш ответ здесь комментарием. Не удаляйте символ #. Не меняйте тип этой ячейки на Markdown.\n",
    "# Ответ. Допущены пробелы в названиях столбцов."
   ]
  },
  {
   "cell_type": "markdown",
   "metadata": {
    "deletable": false,
    "editable": false,
    "id": "MCB6-dXG_Zct"
   },
   "source": [
    "**Выводы**\n",
    "\n",
    "В каждой строке таблицы — данные о прослушанном треке. Часть колонок описывает саму композицию: название, исполнителя и жанр. Остальные данные рассказывают о пользователе: из какого он города, когда он слушал музыку. \n",
    "\n",
    "Предварительно можно утверждать, что данных достаточно для проверки гипотез. Но встречаются пропуски в данных, а в названиях колонок — расхождения с хорошим стилем.\n",
    "\n",
    "Чтобы двигаться дальше, нужно устранить проблемы в данных."
   ]
  },
  {
   "cell_type": "markdown",
   "metadata": {
    "deletable": false,
    "editable": false,
    "id": "SjYF6Ub9_Zct"
   },
   "source": [
    "## Предобработка данных\n",
    "Исправьте стиль в заголовках столбцов, исключите пропуски. Затем проверьте данные на дубликаты."
   ]
  },
  {
   "cell_type": "markdown",
   "metadata": {
    "deletable": false,
    "editable": false,
    "id": "dIaKXr29_Zct",
    "tags": [
     "start_task"
    ]
   },
   "source": [
    "### Стиль заголовков\n",
    "\n",
    "**Задание 6**\n",
    "\n",
    "Выведите на экран названия столбцов:"
   ]
  },
  {
   "cell_type": "code",
   "execution_count": 17,
   "metadata": {
    "deletable": false,
    "id": "oKOTdF_Q_Zct"
   },
   "outputs": [
    {
     "name": "stdout",
     "output_type": "stream",
     "text": [
      "Index(['  userID', 'Track', 'artist', 'genre', '  City  ', 'time', 'Day'], dtype='object')\n"
     ]
    }
   ],
   "source": [
    "print(df.columns) # перечень названий столбцов таблицы df"
   ]
  },
  {
   "cell_type": "markdown",
   "metadata": {
    "deletable": false,
    "editable": false,
    "id": "zj5534cv_Zct",
    "tags": [
     "start_task"
    ]
   },
   "source": [
    "**Задание 7**\n",
    "\n",
    "\n",
    "Приведите названия в соответствие с хорошим стилем:\n",
    "* несколько слов в названии запишите в «змеином_регистре»,\n",
    "* все символы сделайте строчными,\n",
    "* устраните пробелы.\n",
    "\n",
    "Для этого переименуйте колонки так:\n",
    "* `'  userID'` → `'user_id'`;\n",
    "* `'Track'` → `'track'`;\n",
    "* `'  City  '` → `'city'`;\n",
    "* `'Day'` → `'day'`."
   ]
  },
  {
   "cell_type": "code",
   "execution_count": 18,
   "metadata": {
    "deletable": false,
    "id": "ISlFqs5y_Zct"
   },
   "outputs": [],
   "source": [
    "df = df.rename(columns={'  userID' : 'user_id', 'Track' : 'track','  City  ' : 'city',\n",
    "'Day' : 'day'}) # переименование столбцов"
   ]
  },
  {
   "cell_type": "markdown",
   "metadata": {
    "deletable": false,
    "editable": false,
    "id": "1dqbh00J_Zct",
    "tags": [
     "start_task"
    ]
   },
   "source": [
    "**Задание 8**\n",
    "\n",
    "\n",
    "Проверьте результат. Для этого ещё раз выведите на экран названия столбцов:"
   ]
  },
  {
   "cell_type": "code",
   "execution_count": 19,
   "metadata": {
    "deletable": false,
    "id": "d4NOAmTW_Zct"
   },
   "outputs": [
    {
     "name": "stdout",
     "output_type": "stream",
     "text": [
      "Index(['user_id', 'track', 'artist', 'genre', 'city', 'time', 'day'], dtype='object')\n"
     ]
    }
   ],
   "source": [
    "print(df.columns) # проверка результатов - перечень названий столбцов"
   ]
  },
  {
   "cell_type": "markdown",
   "metadata": {
    "deletable": false,
    "editable": false,
    "id": "5ISfbcfY_Zct",
    "tags": [
     "start_task"
    ]
   },
   "source": [
    "### Пропуски значений\n",
    "\n",
    "**Задание 9**\n",
    "\n",
    "Сначала посчитайте, сколько в таблице пропущенных значений. Для этого достаточно двух методов `pandas`:"
   ]
  },
  {
   "cell_type": "code",
   "execution_count": 20,
   "metadata": {
    "deletable": false,
    "id": "RskX29qr_Zct"
   },
   "outputs": [
    {
     "name": "stdout",
     "output_type": "stream",
     "text": [
      "user_id       0\n",
      "track      1231\n",
      "artist     7203\n",
      "genre      1198\n",
      "city          0\n",
      "time          0\n",
      "day           0\n",
      "dtype: int64\n"
     ]
    }
   ],
   "source": [
    "print(df.isna().sum()) # подсчёт пропусков"
   ]
  },
  {
   "cell_type": "markdown",
   "metadata": {
    "deletable": false,
    "editable": false,
    "id": "qubhgnlO_Zct"
   },
   "source": [
    "Не все пропущенные значения влияют на исследование. Так в `track` и `artist` пропуски не важны для вашей работы. Достаточно заменить их явными обозначениями.\n",
    "\n",
    "Но пропуски в `genre` могут помешать сравнению музыкальных вкусов в Москве и Санкт-Петербурге. На практике было бы правильно установить причину пропусков и восстановить данные. Такой возможности нет в учебном проекте. Придётся:\n",
    "* заполнить и эти пропуски явными обозначениями;\n",
    "* оценить, насколько они повредят расчётам. "
   ]
  },
  {
   "cell_type": "markdown",
   "metadata": {
    "deletable": false,
    "editable": false,
    "id": "fSv2laPA_Zct",
    "tags": [
     "start_task"
    ]
   },
   "source": [
    "**Задание 10**\n",
    "\n",
    "Замените пропущенные значения в столбцах `track`, `artist` и `genre` на строку `'unknown'`. Для этого создайте список `columns_to_replace`, переберите его элементы циклом `for` и для каждого столбца выполните замену пропущенных значений:"
   ]
  },
  {
   "cell_type": "code",
   "execution_count": 21,
   "metadata": {
    "deletable": false,
    "id": "KplB5qWs_Zct"
   },
   "outputs": [],
   "source": [
    "columns_to_replace = ['track', 'artist', \"genre\"] # перебор названий столбцов в цикле и замена пропущенных значений на 'unknown'\n",
    "\n",
    "for column in columns_to_replace:\n",
    "    df[column] = df[column].fillna('unknown')\n",
    "        \n",
    "        "
   ]
  },
  {
   "cell_type": "markdown",
   "metadata": {
    "deletable": false,
    "editable": false,
    "id": "Ilsm-MZo_Zct",
    "tags": [
     "start_task"
    ]
   },
   "source": [
    "**Задание 11**\n",
    "\n",
    "Убедитесь, что в таблице не осталось пропусков. Для этого ещё раз посчитайте пропущенные значения."
   ]
  },
  {
   "cell_type": "code",
   "execution_count": 22,
   "metadata": {
    "deletable": false,
    "id": "Tq4nYRX4_Zct"
   },
   "outputs": [
    {
     "name": "stdout",
     "output_type": "stream",
     "text": [
      "user_id    0\n",
      "track      0\n",
      "artist     0\n",
      "genre      0\n",
      "city       0\n",
      "time       0\n",
      "day        0\n",
      "dtype: int64\n"
     ]
    }
   ],
   "source": [
    "print(df.isna().sum()) # подсчёт пропусков"
   ]
  },
  {
   "cell_type": "markdown",
   "metadata": {
    "deletable": false,
    "editable": false,
    "id": "BWKRtBJ3_Zct",
    "tags": [
     "start_task"
    ]
   },
   "source": [
    "### Дубликаты\n",
    "\n",
    "**Задание 12**\n",
    "\n",
    "Посчитайте явные дубликаты в таблице одной командой:"
   ]
  },
  {
   "cell_type": "code",
   "execution_count": 23,
   "metadata": {
    "deletable": false,
    "id": "36eES_S0_Zct",
    "scrolled": true
   },
   "outputs": [
    {
     "data": {
      "text/plain": [
       "3826"
      ]
     },
     "execution_count": 23,
     "metadata": {},
     "output_type": "execute_result"
    }
   ],
   "source": [
    "df.duplicated().sum() # подсчёт явных дубликатов"
   ]
  },
  {
   "cell_type": "markdown",
   "metadata": {
    "deletable": false,
    "editable": false,
    "id": "Ot25h6XR_Zct",
    "tags": [
     "start_task"
    ]
   },
   "source": [
    "**Задание 13**\n",
    "\n",
    "Вызовите специальный метод `pandas`, чтобы удалить явные дубликаты:"
   ]
  },
  {
   "cell_type": "code",
   "execution_count": 24,
   "metadata": {
    "deletable": false,
    "id": "exFHq6tt_Zct"
   },
   "outputs": [],
   "source": [
    "df = df.drop_duplicates() # удаление явных дубликатов"
   ]
  },
  {
   "cell_type": "markdown",
   "metadata": {
    "deletable": false,
    "editable": false,
    "id": "Im2YwBEG_Zct",
    "tags": [
     "start_task"
    ]
   },
   "source": [
    "**Задание 14**\n",
    "\n",
    "Ещё раз посчитайте явные дубликаты в таблице — убедитесь, что полностью от них избавились:"
   ]
  },
  {
   "cell_type": "code",
   "execution_count": 25,
   "metadata": {
    "deletable": false,
    "id": "-8PuNWQ0_Zct"
   },
   "outputs": [
    {
     "data": {
      "text/plain": [
       "0"
      ]
     },
     "execution_count": 25,
     "metadata": {},
     "output_type": "execute_result"
    }
   ],
   "source": [
    "df.duplicated().sum() # проверка на отсутствие дубликатов"
   ]
  },
  {
   "cell_type": "markdown",
   "metadata": {
    "deletable": false,
    "editable": false,
    "id": "QlFBsxAr_Zct"
   },
   "source": [
    "Теперь избавьтесь от неявных дубликатов в колонке `genre`. Например, название одного и того же жанра может быть записано немного по-разному. Такие ошибки тоже повлияют на результат исследования."
   ]
  },
  {
   "cell_type": "markdown",
   "metadata": {
    "deletable": false,
    "editable": false,
    "id": "eSjWwsOh_Zct",
    "tags": [
     "start_task"
    ]
   },
   "source": [
    "**Задание 15**\n",
    "\n",
    "Выведите на экран список уникальных названий жанров, отсортированный в алфавитном порядке. Для этого:\n",
    "1. извлеките нужный столбец датафрейма; \n",
    "2. примените к нему метод сортировки;\n",
    "3. для отсортированного столбца вызовите метод, который вернёт уникальные значения из столбца."
   ]
  },
  {
   "cell_type": "code",
   "execution_count": 26,
   "metadata": {
    "deletable": false,
    "id": "JIUcqzZN_Zct"
   },
   "outputs": [
    {
     "data": {
      "text/plain": [
       "array(['acid', 'acoustic', 'action', 'adult', 'africa', 'afrikaans',\n",
       "       'alternative', 'alternativepunk', 'ambient', 'americana',\n",
       "       'animated', 'anime', 'arabesk', 'arabic', 'arena',\n",
       "       'argentinetango', 'art', 'audiobook', 'author', 'avantgarde',\n",
       "       'axé', 'baile', 'balkan', 'beats', 'bigroom', 'black', 'bluegrass',\n",
       "       'blues', 'bollywood', 'bossa', 'brazilian', 'breakbeat', 'breaks',\n",
       "       'broadway', 'cantautori', 'cantopop', 'canzone', 'caribbean',\n",
       "       'caucasian', 'celtic', 'chamber', 'chanson', 'children', 'chill',\n",
       "       'chinese', 'choral', 'christian', 'christmas', 'classical',\n",
       "       'classicmetal', 'club', 'colombian', 'comedy', 'conjazz',\n",
       "       'contemporary', 'country', 'cuban', 'dance', 'dancehall',\n",
       "       'dancepop', 'dark', 'death', 'deep', 'deutschrock', 'deutschspr',\n",
       "       'dirty', 'disco', 'dnb', 'documentary', 'downbeat', 'downtempo',\n",
       "       'drum', 'dub', 'dubstep', 'eastern', 'easy', 'electronic',\n",
       "       'electropop', 'emo', 'entehno', 'epicmetal', 'estrada', 'ethnic',\n",
       "       'eurofolk', 'european', 'experimental', 'extrememetal', 'fado',\n",
       "       'fairytail', 'film', 'fitness', 'flamenco', 'folk', 'folklore',\n",
       "       'folkmetal', 'folkrock', 'folktronica', 'forró', 'frankreich',\n",
       "       'französisch', 'french', 'funk', 'future', 'gangsta', 'garage',\n",
       "       'german', 'ghazal', 'gitarre', 'glitch', 'gospel', 'gothic',\n",
       "       'grime', 'grunge', 'gypsy', 'handsup', \"hard'n'heavy\", 'hardcore',\n",
       "       'hardstyle', 'hardtechno', 'hip', 'hip-hop', 'hiphop',\n",
       "       'historisch', 'holiday', 'hop', 'horror', 'house', 'hymn', 'idm',\n",
       "       'independent', 'indian', 'indie', 'indipop', 'industrial',\n",
       "       'inspirational', 'instrumental', 'international', 'irish', 'jam',\n",
       "       'japanese', 'jazz', 'jewish', 'jpop', 'jungle', 'k-pop',\n",
       "       'karadeniz', 'karaoke', 'kayokyoku', 'korean', 'laiko', 'latin',\n",
       "       'latino', 'leftfield', 'local', 'lounge', 'loungeelectronic',\n",
       "       'lovers', 'malaysian', 'mandopop', 'marschmusik', 'meditative',\n",
       "       'mediterranean', 'melodic', 'metal', 'metalcore', 'mexican',\n",
       "       'middle', 'minimal', 'miscellaneous', 'modern', 'mood', 'mpb',\n",
       "       'muslim', 'native', 'neoklassik', 'neue', 'new', 'newage',\n",
       "       'newwave', 'nu', 'nujazz', 'numetal', 'oceania', 'old', 'opera',\n",
       "       'orchestral', 'other', 'piano', 'podcasts', 'pop', 'popdance',\n",
       "       'popelectronic', 'popeurodance', 'poprussian', 'post',\n",
       "       'posthardcore', 'postrock', 'power', 'progmetal', 'progressive',\n",
       "       'psychedelic', 'punjabi', 'punk', 'quebecois', 'ragga', 'ram',\n",
       "       'rancheras', 'rap', 'rave', 'reggae', 'reggaeton', 'regional',\n",
       "       'relax', 'religious', 'retro', 'rhythm', 'rnb', 'rnr', 'rock',\n",
       "       'rockabilly', 'rockalternative', 'rockindie', 'rockother',\n",
       "       'romance', 'roots', 'ruspop', 'rusrap', 'rusrock', 'russian',\n",
       "       'salsa', 'samba', 'scenic', 'schlager', 'self', 'sertanejo',\n",
       "       'shanson', 'shoegazing', 'showtunes', 'singer', 'ska', 'skarock',\n",
       "       'slow', 'smooth', 'soft', 'soul', 'soulful', 'sound', 'soundtrack',\n",
       "       'southern', 'specialty', 'speech', 'spiritual', 'sport',\n",
       "       'stonerrock', 'surf', 'swing', 'synthpop', 'synthrock',\n",
       "       'sängerportrait', 'tango', 'tanzorchester', 'taraftar', 'tatar',\n",
       "       'tech', 'techno', 'teen', 'thrash', 'top', 'traditional',\n",
       "       'tradjazz', 'trance', 'tribal', 'trip', 'triphop', 'tropical',\n",
       "       'türk', 'türkçe', 'ukrrock', 'unknown', 'urban', 'uzbek',\n",
       "       'variété', 'vi', 'videogame', 'vocal', 'western', 'world',\n",
       "       'worldbeat', 'ïîï', 'электроника'], dtype=object)"
      ]
     },
     "execution_count": 26,
     "metadata": {},
     "output_type": "execute_result"
    }
   ],
   "source": [
    "df['genre'].sort_values().unique() # Просмотр уникальных названий жанров\n"
   ]
  },
  {
   "cell_type": "markdown",
   "metadata": {
    "deletable": false,
    "editable": false,
    "id": "qej-Qmuo_Zct",
    "tags": [
     "start_task"
    ]
   },
   "source": [
    "**Задание 16**\n",
    "\n",
    "Просмотрите список и найдите неявные дубликаты названия `hiphop`. Это могут быть названия с ошибками или альтернативные названия того же жанра.\n",
    "\n",
    "Вы увидите следующие неявные дубликаты:\n",
    "* *hip*,\n",
    "* *hop*,\n",
    "* *hip-hop*.\n",
    "\n",
    "Чтобы очистить от них таблицу используйте метод `replace()` с двумя аргументами: списком строк-дубликатов (включащий *hip*, *hop* и *hip-hop*) и строкой с правильным значением. Вам нужно исправить колонку `genre` в таблице `df`: заменить каждое значение из списка дубликатов на верное. Вместо `hip`, `hop` и `hip-hop` в таблице должно быть значение `hiphop`:"
   ]
  },
  {
   "cell_type": "code",
   "execution_count": 27,
   "metadata": {
    "deletable": false,
    "id": "ErNDkmns_Zct"
   },
   "outputs": [],
   "source": [
    "# Устранение неявных дубликатов\n",
    "replace_for = ['hip', 'hop', 'hip-hop']\n",
    "\n",
    "df['genre'] = df[\"genre\"].replace(replace_for, 'hiphop')"
   ]
  },
  {
   "cell_type": "markdown",
   "metadata": {
    "deletable": false,
    "editable": false,
    "id": "zQKF16_RG15m",
    "tags": [
     "start_task"
    ]
   },
   "source": [
    "**Задание 17**\n",
    "\n",
    "Проверьте, что заменили неправильные названия:\n",
    "\n",
    "*   hip,\n",
    "*   hop,\n",
    "*   hip-hop.\n",
    "\n",
    "Выведите отсортированный список уникальных значений столбца `genre`:"
   ]
  },
  {
   "cell_type": "code",
   "execution_count": 28,
   "metadata": {
    "deletable": false,
    "id": "wvixALnFG15m"
   },
   "outputs": [
    {
     "data": {
      "text/plain": [
       "array(['acid', 'acoustic', 'action', 'adult', 'africa', 'afrikaans',\n",
       "       'alternative', 'alternativepunk', 'ambient', 'americana',\n",
       "       'animated', 'anime', 'arabesk', 'arabic', 'arena',\n",
       "       'argentinetango', 'art', 'audiobook', 'author', 'avantgarde',\n",
       "       'axé', 'baile', 'balkan', 'beats', 'bigroom', 'black', 'bluegrass',\n",
       "       'blues', 'bollywood', 'bossa', 'brazilian', 'breakbeat', 'breaks',\n",
       "       'broadway', 'cantautori', 'cantopop', 'canzone', 'caribbean',\n",
       "       'caucasian', 'celtic', 'chamber', 'chanson', 'children', 'chill',\n",
       "       'chinese', 'choral', 'christian', 'christmas', 'classical',\n",
       "       'classicmetal', 'club', 'colombian', 'comedy', 'conjazz',\n",
       "       'contemporary', 'country', 'cuban', 'dance', 'dancehall',\n",
       "       'dancepop', 'dark', 'death', 'deep', 'deutschrock', 'deutschspr',\n",
       "       'dirty', 'disco', 'dnb', 'documentary', 'downbeat', 'downtempo',\n",
       "       'drum', 'dub', 'dubstep', 'eastern', 'easy', 'electronic',\n",
       "       'electropop', 'emo', 'entehno', 'epicmetal', 'estrada', 'ethnic',\n",
       "       'eurofolk', 'european', 'experimental', 'extrememetal', 'fado',\n",
       "       'fairytail', 'film', 'fitness', 'flamenco', 'folk', 'folklore',\n",
       "       'folkmetal', 'folkrock', 'folktronica', 'forró', 'frankreich',\n",
       "       'französisch', 'french', 'funk', 'future', 'gangsta', 'garage',\n",
       "       'german', 'ghazal', 'gitarre', 'glitch', 'gospel', 'gothic',\n",
       "       'grime', 'grunge', 'gypsy', 'handsup', \"hard'n'heavy\", 'hardcore',\n",
       "       'hardstyle', 'hardtechno', 'hiphop', 'historisch', 'holiday',\n",
       "       'horror', 'house', 'hymn', 'idm', 'independent', 'indian', 'indie',\n",
       "       'indipop', 'industrial', 'inspirational', 'instrumental',\n",
       "       'international', 'irish', 'jam', 'japanese', 'jazz', 'jewish',\n",
       "       'jpop', 'jungle', 'k-pop', 'karadeniz', 'karaoke', 'kayokyoku',\n",
       "       'korean', 'laiko', 'latin', 'latino', 'leftfield', 'local',\n",
       "       'lounge', 'loungeelectronic', 'lovers', 'malaysian', 'mandopop',\n",
       "       'marschmusik', 'meditative', 'mediterranean', 'melodic', 'metal',\n",
       "       'metalcore', 'mexican', 'middle', 'minimal', 'miscellaneous',\n",
       "       'modern', 'mood', 'mpb', 'muslim', 'native', 'neoklassik', 'neue',\n",
       "       'new', 'newage', 'newwave', 'nu', 'nujazz', 'numetal', 'oceania',\n",
       "       'old', 'opera', 'orchestral', 'other', 'piano', 'podcasts', 'pop',\n",
       "       'popdance', 'popelectronic', 'popeurodance', 'poprussian', 'post',\n",
       "       'posthardcore', 'postrock', 'power', 'progmetal', 'progressive',\n",
       "       'psychedelic', 'punjabi', 'punk', 'quebecois', 'ragga', 'ram',\n",
       "       'rancheras', 'rap', 'rave', 'reggae', 'reggaeton', 'regional',\n",
       "       'relax', 'religious', 'retro', 'rhythm', 'rnb', 'rnr', 'rock',\n",
       "       'rockabilly', 'rockalternative', 'rockindie', 'rockother',\n",
       "       'romance', 'roots', 'ruspop', 'rusrap', 'rusrock', 'russian',\n",
       "       'salsa', 'samba', 'scenic', 'schlager', 'self', 'sertanejo',\n",
       "       'shanson', 'shoegazing', 'showtunes', 'singer', 'ska', 'skarock',\n",
       "       'slow', 'smooth', 'soft', 'soul', 'soulful', 'sound', 'soundtrack',\n",
       "       'southern', 'specialty', 'speech', 'spiritual', 'sport',\n",
       "       'stonerrock', 'surf', 'swing', 'synthpop', 'synthrock',\n",
       "       'sängerportrait', 'tango', 'tanzorchester', 'taraftar', 'tatar',\n",
       "       'tech', 'techno', 'teen', 'thrash', 'top', 'traditional',\n",
       "       'tradjazz', 'trance', 'tribal', 'trip', 'triphop', 'tropical',\n",
       "       'türk', 'türkçe', 'ukrrock', 'unknown', 'urban', 'uzbek',\n",
       "       'variété', 'vi', 'videogame', 'vocal', 'western', 'world',\n",
       "       'worldbeat', 'ïîï', 'электроника'], dtype=object)"
      ]
     },
     "execution_count": 28,
     "metadata": {},
     "output_type": "execute_result"
    }
   ],
   "source": [
    "df['genre'].sort_values().unique() # Проверка на неявные дубликаты"
   ]
  },
  {
   "cell_type": "markdown",
   "metadata": {
    "deletable": false,
    "editable": false,
    "id": "jz6a9-7HQUDd"
   },
   "source": [
    "**Выводы**\n",
    "\n",
    "Предобработка обнаружила три проблемы в данных:\n",
    "\n",
    "- нарушения в стиле заголовков,\n",
    "- пропущенные значения,\n",
    "- дубликаты — явные и неявные.\n",
    "\n",
    "Вы исправили заголовки, чтобы упростить работу с таблицей. Без дубликатов исследование станет более точным.\n",
    "\n",
    "Пропущенные значения вы заменили на `'unknown'`. Ещё предстоит увидеть, не повредят ли исследованию пропуски в колонке `genre`.\n",
    "\n",
    "Теперь можно перейти к проверке гипотез. "
   ]
  },
  {
   "cell_type": "markdown",
   "metadata": {
    "deletable": false,
    "editable": false,
    "id": "WttZHXH0SqKk"
   },
   "source": [
    "## Проверка гипотез"
   ]
  },
  {
   "cell_type": "markdown",
   "metadata": {
    "deletable": false,
    "editable": false,
    "id": "Im936VVi_Zcu"
   },
   "source": [
    "### Сравнение поведения пользователей двух столиц"
   ]
  },
  {
   "cell_type": "markdown",
   "metadata": {
    "deletable": false,
    "editable": false,
    "id": "nwt_MuaL_Zcu"
   },
   "source": [
    "Первая гипотеза утверждает, что пользователи по-разному слушают музыку в Москве и Санкт-Петербурге. Проверьте это предположение по данным о трёх днях недели — понедельнике, среде и пятнице. Для этого:\n",
    "\n",
    "* Разделите пользователей Москвы и Санкт-Петербурга.\n",
    "* Сравните, сколько треков послушала каждая группа пользователей в понедельник, среду и пятницу.\n"
   ]
  },
  {
   "cell_type": "markdown",
   "metadata": {
    "deletable": false,
    "editable": false,
    "id": "8Dw_YMmT_Zcu",
    "tags": [
     "start_task"
    ]
   },
   "source": [
    "**Задание 18**\n",
    "\n",
    "Для тренировки сначала выполните каждый из расчётов по отдельности. \n",
    "\n",
    "Оцените активность пользователей в каждом городе. Сгруппируйте данные по городу и посчитайте прослушивания в каждой группе.\n",
    "\n"
   ]
  },
  {
   "cell_type": "code",
   "execution_count": 29,
   "metadata": {
    "deletable": false,
    "id": "0_Qs96oh_Zcu"
   },
   "outputs": [
    {
     "data": {
      "text/plain": [
       "city\n",
       "Moscow              42741\n",
       "Saint-Petersburg    18512\n",
       "Name: genre, dtype: int64"
      ]
     },
     "execution_count": 29,
     "metadata": {},
     "output_type": "execute_result"
    }
   ],
   "source": [
    "df.groupby('city')['genre'].count() # Подсчёт прослушиваний в каждом городе"
   ]
  },
  {
   "cell_type": "markdown",
   "metadata": {
    "deletable": false,
    "editable": false,
    "id": "dzli3w8o_Zcu",
    "tags": [
     "start_task"
    ]
   },
   "source": [
    "В Москве прослушиваний больше, чем в Петербурге. Из этого не следует, что московские пользователи чаще слушают музыку. Просто самих пользователей в Москве больше.\n",
    "\n",
    "**Задание 19**\n",
    "\n",
    "Теперь сгруппируйте данные по дню недели и посчитайте прослушивания в понедельник, среду и пятницу. Учтите, что в данных есть информация о прослушиваниях только за эти дни.\n"
   ]
  },
  {
   "cell_type": "code",
   "execution_count": 30,
   "metadata": {
    "deletable": false,
    "id": "uZMKjiJz_Zcu"
   },
   "outputs": [
    {
     "data": {
      "text/plain": [
       "day\n",
       "Friday       21840\n",
       "Monday       21354\n",
       "Wednesday    18059\n",
       "Name: genre, dtype: int64"
      ]
     },
     "execution_count": 30,
     "metadata": {},
     "output_type": "execute_result"
    }
   ],
   "source": [
    "df.groupby('day')['genre'].count() # Подсчёт прослушиваний в каждый из трёх дней"
   ]
  },
  {
   "cell_type": "markdown",
   "metadata": {
    "deletable": false,
    "editable": false,
    "id": "cC2tNrlL_Zcu"
   },
   "source": [
    "В среднем пользователи из двух городов менее активны по средам. Но картина может измениться, если рассмотреть каждый город в отдельности."
   ]
  },
  {
   "cell_type": "markdown",
   "metadata": {
    "deletable": false,
    "editable": false,
    "id": "POzs8bGa_Zcu",
    "tags": [
     "start_task"
    ]
   },
   "source": [
    "**Задание 20**\n",
    "\n",
    "\n",
    "Вы видели, как работает группировка по городу и по дням недели. Теперь напишите функцию, которая объединит два эти расчёта.\n",
    "\n",
    "Создайте функцию `number_tracks()`, которая посчитает прослушивания для заданного дня и города. Ей понадобятся два параметра:\n",
    "* день недели,\n",
    "* название города.\n",
    "\n",
    "В функции сохраните в переменную строки исходной таблицы, у которых значение:\n",
    "  * в колонке `day` равно параметру `day`,\n",
    "  * в колонке `city` равно параметру `city`.\n",
    "\n",
    "Для этого примените последовательную фильтрацию с логической индексацией (или сложные логические выражения в одну строку, если вы уже знакомы с ними).\n",
    "\n",
    "Затем посчитайте значения в столбце `user_id` получившейся таблицы. Результат сохраните в новую переменную. Верните эту переменную из функции."
   ]
  },
  {
   "cell_type": "code",
   "execution_count": 31,
   "metadata": {
    "deletable": false,
    "id": "Nz3GdQB1_Zcu"
   },
   "outputs": [],
   "source": [
    " # <создание функции number_tracks()>\n",
    "def number_tracks(day, city): # Объявляется функция с двумя параметрами: day, city.\n",
    "    track_list = df[(df['day'] == day) & (df['city'] == city)] # В переменной track_list сохраняются те строки таблицы df, для которых \n",
    "    # значение в столбце 'day' равно параметру day и одновременно значение\n",
    "    # в столбце 'city' равно параметру city (используйте последовательную фильтрацию\n",
    "    # с помощью логической индексации или сложные логические выражения в одну строку, если вы уже знакомы с ними).\n",
    "    track_list_count = track_list.groupby('user_id')['genre'].count().sum() # В переменной track_list_count сохраняется число значений столбца 'user_id',\n",
    "    # рассчитанное методом count() для таблицы track_list.\n",
    "    return track_list_count # Функция возвращает число - значение track_list_count.\n",
    "\n",
    "\n",
    "#print(\n",
    "\n",
    "# Функция для подсчёта прослушиваний для конкретного города и дня.\n",
    "# С помощью последовательной фильтрации с логической индексацией она \n",
    "# сначала получит из исходной таблицы строки с нужным днём,\n",
    "# затем из результата отфильтрует строки с нужным городом,\n",
    "# методом count() посчитает количество значений в колонке user_id. \n",
    "# Это количество функция вернёт в качестве результата"
   ]
  },
  {
   "cell_type": "markdown",
   "metadata": {
    "deletable": false,
    "editable": false,
    "id": "ytf7xFrFJQ2r",
    "tags": [
     "start_task"
    ]
   },
   "source": [
    "**Задание 21**\n",
    "\n",
    "Вызовите `number_tracks()` шесть раз, меняя значение параметров — так, чтобы получить данные для каждого города в каждый из трёх дней."
   ]
  },
  {
   "cell_type": "code",
   "execution_count": 32,
   "metadata": {
    "deletable": false,
    "id": "rJcRATNQ_Zcu"
   },
   "outputs": [
    {
     "data": {
      "text/plain": [
       "15740"
      ]
     },
     "execution_count": 32,
     "metadata": {},
     "output_type": "execute_result"
    }
   ],
   "source": [
    "number_tracks('Monday', 'Moscow') # количество прослушиваний в Москве по понедельникам\n"
   ]
  },
  {
   "cell_type": "code",
   "execution_count": 33,
   "metadata": {
    "deletable": false,
    "id": "hq_ncZ5T_Zcu"
   },
   "outputs": [
    {
     "data": {
      "text/plain": [
       "5614"
      ]
     },
     "execution_count": 33,
     "metadata": {},
     "output_type": "execute_result"
    }
   ],
   "source": [
    "number_tracks('Monday', 'Saint-Petersburg') # количество прослушиваний в Санкт-Петербурге по понедельникам"
   ]
  },
  {
   "cell_type": "code",
   "execution_count": 34,
   "metadata": {
    "deletable": false,
    "id": "_NTy2VPU_Zcu"
   },
   "outputs": [
    {
     "data": {
      "text/plain": [
       "11056"
      ]
     },
     "execution_count": 34,
     "metadata": {},
     "output_type": "execute_result"
    }
   ],
   "source": [
    "number_tracks('Wednesday', 'Moscow') # количество прослушиваний в Москве по средам"
   ]
  },
  {
   "cell_type": "code",
   "execution_count": 35,
   "metadata": {
    "deletable": false,
    "id": "j2y3TAwo_Zcu"
   },
   "outputs": [
    {
     "data": {
      "text/plain": [
       "7003"
      ]
     },
     "execution_count": 35,
     "metadata": {},
     "output_type": "execute_result"
    }
   ],
   "source": [
    "number_tracks('Wednesday', 'Saint-Petersburg')# количество прослушиваний в Санкт-Петербурге по средам"
   ]
  },
  {
   "cell_type": "code",
   "execution_count": 36,
   "metadata": {
    "deletable": false,
    "id": "vYDw5u_K_Zcu"
   },
   "outputs": [
    {
     "data": {
      "text/plain": [
       "15945"
      ]
     },
     "execution_count": 36,
     "metadata": {},
     "output_type": "execute_result"
    }
   ],
   "source": [
    "number_tracks('Friday', 'Moscow')# количество прослушиваний в Москве по пятницам"
   ]
  },
  {
   "cell_type": "code",
   "execution_count": 37,
   "metadata": {
    "deletable": false,
    "id": "8_yzFtW3_Zcu"
   },
   "outputs": [
    {
     "data": {
      "text/plain": [
       "5895"
      ]
     },
     "execution_count": 37,
     "metadata": {},
     "output_type": "execute_result"
    }
   ],
   "source": [
    "number_tracks('Friday', 'Saint-Petersburg')# количество прослушиваний в Санкт-Петербурге по пятницам"
   ]
  },
  {
   "cell_type": "markdown",
   "metadata": {
    "deletable": false,
    "editable": false,
    "id": "7QXffbO-_Zcu",
    "tags": [
     "start_task"
    ]
   },
   "source": [
    "**Задание 22**\n",
    "\n",
    "Создайте c помощью конструктора `pd.DataFrame` таблицу, где\n",
    "* названия колонок — `['city', 'monday', 'wednesday', 'friday']`;\n",
    "* данные — результаты, которые вы получили с помощью `number_tracks`."
   ]
  },
  {
   "cell_type": "code",
   "execution_count": 38,
   "metadata": {
    "deletable": false,
    "id": "APAcLpOr_Zcu"
   },
   "outputs": [
    {
     "data": {
      "text/html": [
       "<div>\n",
       "<style scoped>\n",
       "    .dataframe tbody tr th:only-of-type {\n",
       "        vertical-align: middle;\n",
       "    }\n",
       "\n",
       "    .dataframe tbody tr th {\n",
       "        vertical-align: top;\n",
       "    }\n",
       "\n",
       "    .dataframe thead th {\n",
       "        text-align: right;\n",
       "    }\n",
       "</style>\n",
       "<table border=\"1\" class=\"dataframe\">\n",
       "  <thead>\n",
       "    <tr style=\"text-align: right;\">\n",
       "      <th></th>\n",
       "      <th>city</th>\n",
       "      <th>monday</th>\n",
       "      <th>wednesday</th>\n",
       "      <th>friday</th>\n",
       "    </tr>\n",
       "  </thead>\n",
       "  <tbody>\n",
       "    <tr>\n",
       "      <th>0</th>\n",
       "      <td>Москва</td>\n",
       "      <td>15740</td>\n",
       "      <td>11056</td>\n",
       "      <td>15945</td>\n",
       "    </tr>\n",
       "    <tr>\n",
       "      <th>1</th>\n",
       "      <td>Санкт-Петербург</td>\n",
       "      <td>5614</td>\n",
       "      <td>7003</td>\n",
       "      <td>5895</td>\n",
       "    </tr>\n",
       "  </tbody>\n",
       "</table>\n",
       "</div>"
      ],
      "text/plain": [
       "              city  monday  wednesday  friday\n",
       "0           Москва   15740      11056   15945\n",
       "1  Санкт-Петербург    5614       7003    5895"
      ]
     },
     "execution_count": 38,
     "metadata": {},
     "output_type": "execute_result"
    }
   ],
   "source": [
    "# Таблица с результатами\n",
    "columns = ['city', 'monday', 'wednesday', 'friday']\n",
    "\n",
    "data = [['Москва',15740,11056,15945],['Санкт-Петербург',5614,7003,5895]]\n",
    "\n",
    "info = pd.DataFrame(data=data, columns=columns)\n",
    "info\n",
    "\n",
    "\n",
    "\n",
    "\n"
   ]
  },
  {
   "cell_type": "markdown",
   "metadata": {
    "deletable": false,
    "editable": false,
    "id": "-EgPIHYu_Zcu"
   },
   "source": [
    "**Выводы**\n",
    "\n",
    "Данные показывают разницу поведения пользователей:\n",
    "\n",
    "- В Москве пик прослушиваний приходится на понедельник и пятницу, а в среду заметен спад.\n",
    "- В Петербурге, наоборот, больше слушают музыку по средам. Активность в понедельник и пятницу здесь почти в равной мере уступает среде.\n",
    "\n",
    "Значит, данные говорят в пользу первой гипотезы."
   ]
  },
  {
   "cell_type": "markdown",
   "metadata": {
    "deletable": false,
    "editable": false,
    "id": "atZAxtq4_Zcu"
   },
   "source": [
    "### Музыка в начале и в конце недели"
   ]
  },
  {
   "cell_type": "markdown",
   "metadata": {
    "deletable": false,
    "editable": false,
    "id": "eXrQqXFH_Zcu"
   },
   "source": [
    "Согласно второй гипотезе, утром в понедельник в Москве преобладают одни жанры, а в Петербурге — другие. Так же и вечером пятницы преобладают разные жанры — в зависимости от города."
   ]
  },
  {
   "cell_type": "markdown",
   "metadata": {
    "deletable": false,
    "editable": false,
    "id": "S8UcW6Hw_Zcu",
    "tags": [
     "start_task"
    ]
   },
   "source": [
    "**Задание 23**\n",
    "\n",
    "Сохраните таблицы с данными в две переменные:\n",
    "* по Москве — в `moscow_general`;\n",
    "* по Санкт-Петербургу — в `spb_general`."
   ]
  },
  {
   "cell_type": "code",
   "execution_count": 39,
   "metadata": {
    "deletable": false,
    "id": "qeaFfM_P_Zcu"
   },
   "outputs": [],
   "source": [
    "moscow_general = df[df['city'] == 'Moscow']\n",
    "# получение таблицы moscow_general из тех строк таблицы df, \n",
    "# для которых значение в столбце 'city' равно 'Moscow'\n"
   ]
  },
  {
   "cell_type": "code",
   "execution_count": 40,
   "metadata": {
    "deletable": false,
    "id": "ORaVRKto_Zcu"
   },
   "outputs": [],
   "source": [
    "spb_general = df[df['city'] == 'Saint-Petersburg']\n",
    "# получение таблицы spb_general из тех строк таблицы df,\n",
    "# для которых значение в столбце 'city' равно 'Saint-Petersburg'\n"
   ]
  },
  {
   "cell_type": "markdown",
   "metadata": {
    "deletable": false,
    "id": "MEJV-CX2_Zcu",
    "tags": [
     "start_task"
    ]
   },
   "source": [
    "**Задание 24**\n",
    "\n",
    "Создайте функцию `genre_weekday()` с четырьмя параметрами:\n",
    "* таблица (датафрейм) с данными,\n",
    "* день недели,\n",
    "* начальная временная метка в формате 'hh:mm', \n",
    "* последняя временная метка в формате 'hh:mm'.\n",
    "\n",
    "Функция должна вернуть информацию о топ-10 жанров тех треков, которые прослушивали в указанный день, в промежутке между двумя отметками времени."
   ]
  },
  {
   "cell_type": "code",
   "execution_count": 41,
   "metadata": {
    "deletable": false,
    "id": "laJT9BYl_Zcu"
   },
   "outputs": [],
   "source": [
    "# Объявление функции genre_weekday() с параметрами table, day, time1, time2,\n",
    "# которая возвращает информацию о самых популярных жанрах в указанный день в\n",
    "# заданное время:\n",
    "# 1) в переменную genre_df сохраняются те строки переданного датафрейма table, для\n",
    "#    которых одновременно:\n",
    "#    - значение в столбце day равно значению аргумента day\n",
    "#    - значение в столбце time больше значения аргумента time1\n",
    "#    - значение в столбце time меньше значения аргумента time2\n",
    "#    Используйте последовательную фильтрацию с помощью логической индексации.\n",
    "# 2) сгруппировать датафрейм genre_df по столбцу genre, взять один из его\n",
    "#    столбцов и посчитать методом count() количество записей для каждого из\n",
    "#    присутствующих жанров, получившийся Series записать в переменную\n",
    "#    genre_df_count\n",
    "# 3) отсортировать genre_df_count по убыванию встречаемости и сохранить\n",
    "#    в переменную genre_df_sorted\n",
    "# 4) вернуть Series из 10 первых значений genre_df_sorted, это будут топ-10\n",
    "#    популярных жанров (в указанный день, в заданное время)\n",
    "\n",
    "def genre_weekday(df, day, time1, time2):\n",
    "    # последовательная фильтрация\n",
    "    # оставляем в genre_df только те строки df, у которых день равен day\n",
    "    genre_df = df[df['day'] == day] # ваш код здесь\n",
    "    # оставляем в genre_df только те строки genre_df, у которых время меньше time2\n",
    "    genre_df = genre_df[genre_df['time'] < time2] # ваш код здесь\n",
    "    # оставляем в genre_df только те строки genre_df, у которых время больше time1\n",
    "    genre_df = genre_df[genre_df['time'] > time1] # ваш код здесь\n",
    "    # сгруппируем отфильтрованный датафрейм по столбцу с названиями жанров, возьмём столбец genre и посчитаем кол-во строк для каждого жанра методом count()\n",
    "    genre_df_grouped = genre_df.groupby('genre')['genre'].count() # ваш код здесь\n",
    "    # отсортируем результат по убыванию (чтобы в начале Series оказались самые популярные жанры)\n",
    "    genre_df_sorted = genre_df_grouped.sort_values(ascending=False) # ваш код здесь\n",
    "    # вернём Series с 10 самыми популярными жанрами в указанный отрезок времени заданного дня\n",
    "    return genre_df_sorted[:10]\n",
    "\n",
    "\n",
    "\n"
   ]
  },
  {
   "cell_type": "markdown",
   "metadata": {
    "deletable": false,
    "editable": false,
    "id": "la2s2_PF_Zcu",
    "tags": [
     "start_task"
    ]
   },
   "source": [
    "**Задание 25**\n",
    "\n",
    "\n",
    "Cравните результаты функции `genre_weekday()` для Москвы и Санкт-Петербурга в понедельник утром (с 7:00 до 11:00) и в пятницу вечером (с 17:00 до 23:00):"
   ]
  },
  {
   "cell_type": "code",
   "execution_count": 42,
   "metadata": {
    "deletable": false,
    "id": "yz7itPUQ_Zcu"
   },
   "outputs": [
    {
     "data": {
      "text/plain": [
       "genre\n",
       "pop            781\n",
       "dance          549\n",
       "electronic     480\n",
       "rock           474\n",
       "hiphop         286\n",
       "ruspop         186\n",
       "world          181\n",
       "rusrap         175\n",
       "alternative    164\n",
       "unknown        161\n",
       "Name: genre, dtype: int64"
      ]
     },
     "execution_count": 42,
     "metadata": {},
     "output_type": "execute_result"
    }
   ],
   "source": [
    "genre_weekday(moscow_general, 'Monday', '07:00', '11:00')\n",
    "# вызов функции для утра понедельника в Москве (вместо df — таблица moscow_general)\n",
    "# объекты, хранящие время, являются строками и сравниваются как строки\n",
    "# пример вызова: genre_weekday(moscow_general, 'Monday', '07:00', '11:00')"
   ]
  },
  {
   "cell_type": "code",
   "execution_count": 43,
   "metadata": {
    "deletable": false,
    "id": "kwUcHPdy_Zcu"
   },
   "outputs": [
    {
     "data": {
      "text/plain": [
       "genre\n",
       "pop            218\n",
       "dance          182\n",
       "rock           162\n",
       "electronic     147\n",
       "hiphop          80\n",
       "ruspop          64\n",
       "alternative     58\n",
       "rusrap          55\n",
       "jazz            44\n",
       "classical       40\n",
       "Name: genre, dtype: int64"
      ]
     },
     "execution_count": 43,
     "metadata": {},
     "output_type": "execute_result"
    }
   ],
   "source": [
    "genre_weekday(spb_general, 'Monday', '07:00', '11:00') \n",
    "# вызов функции для утра понедельника в Петербурге (вместо df — таблица spb_general)"
   ]
  },
  {
   "cell_type": "code",
   "execution_count": 44,
   "metadata": {
    "deletable": false,
    "id": "EzXVRE1o_Zcu"
   },
   "outputs": [
    {
     "data": {
      "text/plain": [
       "genre\n",
       "pop            713\n",
       "rock           517\n",
       "dance          495\n",
       "electronic     482\n",
       "hiphop         273\n",
       "world          208\n",
       "ruspop         170\n",
       "alternative    163\n",
       "classical      163\n",
       "rusrap         142\n",
       "Name: genre, dtype: int64"
      ]
     },
     "execution_count": 44,
     "metadata": {},
     "output_type": "execute_result"
    }
   ],
   "source": [
    "genre_weekday(moscow_general, 'Friday', '17:00', '23:00') \n",
    "# вызов функции для вечера пятницы в Москве"
   ]
  },
  {
   "cell_type": "code",
   "execution_count": 45,
   "metadata": {
    "deletable": false,
    "id": "JZaEKu5v_Zcu"
   },
   "outputs": [
    {
     "data": {
      "text/plain": [
       "genre\n",
       "pop            256\n",
       "electronic     216\n",
       "rock           216\n",
       "dance          210\n",
       "hiphop          97\n",
       "alternative     63\n",
       "jazz            61\n",
       "classical       60\n",
       "rusrap          59\n",
       "world           54\n",
       "Name: genre, dtype: int64"
      ]
     },
     "execution_count": 45,
     "metadata": {},
     "output_type": "execute_result"
    }
   ],
   "source": [
    "genre_weekday(spb_general, 'Friday', '17:00', '23:00')\n",
    "# вызов функции для вечера пятницы в Петербурге"
   ]
  },
  {
   "cell_type": "markdown",
   "metadata": {
    "deletable": false,
    "editable": false,
    "id": "wrCe4MNX_Zcu"
   },
   "source": [
    "**Выводы**\n",
    "\n",
    "Если сравнить топ-10 жанров в понедельник утром, можно сделать такие выводы:\n",
    "\n",
    "1. В Москве и Петербурге слушают похожую музыку. Единственное отличие — в московский рейтинг вошёл жанр “world”, а в петербургский — джаз и классика.\n",
    "\n",
    "2. В Москве пропущенных значений оказалось так много, что значение `'unknown'` заняло десятое место среди самых популярных жанров. Значит, пропущенные значения занимают существенную долю в данных и угрожают достоверности исследования.\n",
    "\n",
    "Вечер пятницы не меняет эту картину. Некоторые жанры поднимаются немного выше, другие спускаются, но в целом топ-10 остаётся тем же самым.\n",
    "\n",
    "Таким образом, вторая гипотеза подтвердилась лишь частично:\n",
    "* Пользователи слушают похожую музыку в начале недели и в конце.\n",
    "* Разница между Москвой и Петербургом не слишком выражена. В Москве чаще слушают русскую популярную музыку, в Петербурге — джаз.\n",
    "\n",
    "Однако пропуски в данных ставят под сомнение этот результат. В Москве их так много, что рейтинг топ-10 мог бы выглядеть иначе, если бы не утерянные  данные о жанрах."
   ]
  },
  {
   "cell_type": "markdown",
   "metadata": {
    "deletable": false,
    "editable": false,
    "id": "JolODAqr_Zcu"
   },
   "source": [
    "### Жанровые предпочтения в Москве и Петербурге\n",
    "\n",
    "Гипотеза: Петербург — столица рэпа, музыку этого жанра там слушают чаще, чем в Москве.  А Москва — город контрастов, в котором, тем не менее, преобладает поп-музыка."
   ]
  },
  {
   "cell_type": "markdown",
   "metadata": {
    "deletable": false,
    "editable": false,
    "id": "DlegSvaT_Zcu",
    "tags": [
     "start_task"
    ]
   },
   "source": [
    "**Задание 26**\n",
    "\n",
    "Сгруппируйте таблицу `moscow_general` по жанру и посчитайте прослушивания треков каждого жанра методом `count()`. Затем отсортируйте результат в порядке убывания и сохраните его в таблице `moscow_genres`."
   ]
  },
  {
   "cell_type": "code",
   "execution_count": 46,
   "metadata": {
    "deletable": false,
    "id": "r19lIPke_Zcu"
   },
   "outputs": [],
   "source": [
    "moscow_genres = moscow_general.groupby('genre')['genre'].count().sort_values(ascending=False)\n",
    "# одной строкой: группировка таблицы moscow_general по столбцу 'genre', \n",
    "# подсчёт числа значений 'genre' в этой группировке методом count(), \n",
    "# сортировка получившегося Series в порядке убывания и сохранение в moscow_genres"
   ]
  },
  {
   "cell_type": "markdown",
   "metadata": {
    "deletable": false,
    "editable": false,
    "id": "6kMuomxTiIr8",
    "tags": [
     "start_task"
    ]
   },
   "source": [
    "**Задание 27**\n",
    "\n",
    "Выведите на экран первые десять строк `moscow_genres`:"
   ]
  },
  {
   "cell_type": "code",
   "execution_count": 47,
   "metadata": {
    "deletable": false,
    "id": "WhCSooF8_Zcv"
   },
   "outputs": [
    {
     "data": {
      "text/plain": [
       "genre\n",
       "pop            5892\n",
       "dance          4435\n",
       "rock           3965\n",
       "electronic     3786\n",
       "hiphop         2096\n",
       "classical      1616\n",
       "world          1432\n",
       "alternative    1379\n",
       "ruspop         1372\n",
       "rusrap         1161\n",
       "Name: genre, dtype: int64"
      ]
     },
     "execution_count": 47,
     "metadata": {},
     "output_type": "execute_result"
    }
   ],
   "source": [
    "moscow_genres.head(10) # просмотр первых 10 строк moscow_genres"
   ]
  },
  {
   "cell_type": "markdown",
   "metadata": {
    "deletable": false,
    "editable": false,
    "id": "cnPG2vnN_Zcv",
    "tags": [
     "start_task"
    ]
   },
   "source": [
    "**Задание 28**\n",
    "\n",
    "\n",
    "Теперь повторите то же и для Петербурга.\n",
    "\n",
    "Сгруппируйте таблицу `spb_general` по жанру. Посчитайте прослушивания треков каждого жанра. Результат отсортируйте в порядке убывания и сохраните в таблице `spb_genres`:\n"
   ]
  },
  {
   "cell_type": "code",
   "execution_count": 48,
   "metadata": {
    "deletable": false,
    "id": "gluLIpE7_Zcv"
   },
   "outputs": [],
   "source": [
    "spb_genres = spb_general.groupby('genre')['genre'].count().sort_values(ascending=False)\n",
    "# одной строкой: группировка таблицы spb_general по столбцу 'genre', \n",
    "# подсчёт числа значений 'genre' в этой группировке методом count(), \n",
    "# сортировка получившегося Series в порядке убывания и сохранение в spb_genres"
   ]
  },
  {
   "cell_type": "markdown",
   "metadata": {
    "deletable": false,
    "editable": false,
    "id": "5Doha_ODgyQ8",
    "tags": [
     "start_task"
    ]
   },
   "source": [
    "**Задание 29**\n",
    "\n",
    "Выведите на экран первые десять строк `spb_genres`:"
   ]
  },
  {
   "cell_type": "code",
   "execution_count": 49,
   "metadata": {
    "deletable": false,
    "id": "uaGJHjVU_Zcv"
   },
   "outputs": [
    {
     "data": {
      "text/plain": [
       "genre\n",
       "pop            2431\n",
       "dance          1932\n",
       "rock           1879\n",
       "electronic     1736\n",
       "hiphop          960\n",
       "alternative     649\n",
       "classical       646\n",
       "rusrap          564\n",
       "ruspop          538\n",
       "world           515\n",
       "Name: genre, dtype: int64"
      ]
     },
     "execution_count": 49,
     "metadata": {},
     "output_type": "execute_result"
    }
   ],
   "source": [
    "spb_genres.head(10) # просмотр первых 10 строк spb_genres"
   ]
  },
  {
   "cell_type": "markdown",
   "metadata": {
    "deletable": false,
    "editable": false,
    "id": "RY51YJYu_Zcv"
   },
   "source": [
    "**Выводы**"
   ]
  },
  {
   "cell_type": "code",
   "execution_count": 50,
   "metadata": {},
   "outputs": [
    {
     "name": "stdout",
     "output_type": "stream",
     "text": [
      "18512\n",
      "42741\n"
     ]
    }
   ],
   "source": [
    "print(spb_general['genre'].count().sum())\n",
    "print(moscow_general['genre'].count().sum())"
   ]
  },
  {
   "cell_type": "markdown",
   "metadata": {
    "deletable": false,
    "editable": false,
    "id": "nVhnJEm__Zcv"
   },
   "source": [
    "Гипотеза частично подтвердилась:\n",
    "* Поп-музыка — самый популярный жанр в Москве, как и предполагала гипотеза. Более того, в топ-10 жанров встречается близкий жанр — русская популярная музыка.\n",
    "* Вопреки ожиданиям, рэп одинаково популярен в Москве и Петербурге. \n"
   ]
  },
  {
   "cell_type": "markdown",
   "metadata": {
    "deletable": false,
    "editable": false,
    "id": "ykKQ0N65_Zcv"
   },
   "source": [
    "## Итоги исследования"
   ]
  },
  {
   "cell_type": "markdown",
   "metadata": {
    "deletable": false,
    "editable": false,
    "id": "tjUwbHb3_Zcv"
   },
   "source": [
    "Вы проверили три гипотезы и установили:\n",
    "\n",
    "1. День недели по-разному влияет на активность пользователей в Москве и Петербурге. \n",
    "\n",
    "Первая гипотеза полностью подтвердилась.\n",
    "\n",
    "2. Музыкальные предпочтения не сильно меняются в течение недели — будь то Москва или Петербург. Небольшие различия заметны в начале недели, по понедельникам:\n",
    "* в Москве слушают музыку жанра “world”,\n",
    "* в Петербурге — джаз и классику.\n",
    "\n",
    "Таким образом, вторая гипотеза подтвердилась лишь отчасти. Этот результат мог оказаться иным, если бы не пропуски в данных.\n",
    "\n",
    "3. Во вкусах пользователей Москвы и Петербурга больше общего чем различий. Вопреки ожиданиям, предпочтения жанров в Петербурге напоминают московские.\n",
    "\n",
    "Третья гипотеза не подтвердилась. Если различия в предпочтениях и существуют, на основной массе пользователей они незаметны.\n",
    "\n",
    "**На практике исследования содержат проверки статистических гипотез.**\n",
    "Из данных одного сервиса не всегда можно сделать вывод о всех жителях города.\n",
    "Проверки статистических гипотез покажут, насколько они достоверны, исходя из имеющихся данных. \n",
    "С методами проверок гипотез вы ещё познакомитесь в следующих темах."
   ]
  }
 ],
 "metadata": {
  "ExecuteTimeLog": [
   {
    "duration": 65,
    "start_time": "2022-06-24T08:28:13.221Z"
   },
   {
    "duration": 393,
    "start_time": "2022-06-24T08:28:43.964Z"
   },
   {
    "duration": 82,
    "start_time": "2022-06-24T08:29:41.685Z"
   },
   {
    "duration": 5,
    "start_time": "2022-06-24T08:30:19.052Z"
   },
   {
    "duration": 16,
    "start_time": "2022-06-24T08:30:20.605Z"
   },
   {
    "duration": 16,
    "start_time": "2022-06-24T08:30:28.061Z"
   },
   {
    "duration": 234,
    "start_time": "2022-06-24T08:30:41.275Z"
   },
   {
    "duration": 3,
    "start_time": "2022-06-24T08:30:43.796Z"
   },
   {
    "duration": 159,
    "start_time": "2022-06-24T08:30:45.146Z"
   },
   {
    "duration": 20,
    "start_time": "2022-06-24T08:31:40.016Z"
   },
   {
    "duration": 187,
    "start_time": "2022-06-24T08:31:51.811Z"
   },
   {
    "duration": 172,
    "start_time": "2022-06-24T08:31:53.824Z"
   },
   {
    "duration": 3,
    "start_time": "2022-06-24T08:32:05.077Z"
   },
   {
    "duration": 3,
    "start_time": "2022-06-24T08:32:29.870Z"
   },
   {
    "duration": 171,
    "start_time": "2022-06-24T08:32:29.876Z"
   },
   {
    "duration": 19,
    "start_time": "2022-06-24T08:32:30.048Z"
   },
   {
    "duration": 13,
    "start_time": "2022-06-24T08:32:30.071Z"
   },
   {
    "duration": 15,
    "start_time": "2022-06-24T08:32:30.086Z"
   },
   {
    "duration": 8,
    "start_time": "2022-06-24T08:32:30.103Z"
   },
   {
    "duration": 9,
    "start_time": "2022-06-24T08:32:30.113Z"
   },
   {
    "duration": 17,
    "start_time": "2022-06-24T08:32:30.124Z"
   },
   {
    "duration": 40,
    "start_time": "2022-06-24T08:32:30.143Z"
   },
   {
    "duration": 13,
    "start_time": "2022-06-24T08:32:30.187Z"
   },
   {
    "duration": 13,
    "start_time": "2022-06-24T08:32:30.202Z"
   },
   {
    "duration": 11,
    "start_time": "2022-06-24T08:32:30.217Z"
   },
   {
    "duration": 17,
    "start_time": "2022-06-24T08:32:30.230Z"
   },
   {
    "duration": 24,
    "start_time": "2022-06-24T08:32:30.249Z"
   },
   {
    "duration": 25,
    "start_time": "2022-06-24T08:32:30.275Z"
   },
   {
    "duration": 18,
    "start_time": "2022-06-24T08:32:30.302Z"
   },
   {
    "duration": 20,
    "start_time": "2022-06-24T08:32:30.322Z"
   },
   {
    "duration": 33,
    "start_time": "2022-06-24T08:32:30.344Z"
   },
   {
    "duration": 11,
    "start_time": "2022-06-24T08:32:30.379Z"
   },
   {
    "duration": 23,
    "start_time": "2022-06-24T08:32:30.392Z"
   },
   {
    "duration": 51,
    "start_time": "2022-06-24T08:32:30.416Z"
   },
   {
    "duration": 22,
    "start_time": "2022-06-24T08:32:30.469Z"
   },
   {
    "duration": 18,
    "start_time": "2022-06-24T08:32:30.493Z"
   },
   {
    "duration": 24,
    "start_time": "2022-06-24T08:32:30.513Z"
   },
   {
    "duration": 52,
    "start_time": "2022-06-24T08:32:30.539Z"
   },
   {
    "duration": 13,
    "start_time": "2022-06-24T08:32:30.593Z"
   },
   {
    "duration": 12,
    "start_time": "2022-06-24T08:32:30.608Z"
   },
   {
    "duration": 13,
    "start_time": "2022-06-24T08:32:30.624Z"
   },
   {
    "duration": 26,
    "start_time": "2022-06-24T08:32:30.639Z"
   },
   {
    "duration": 51,
    "start_time": "2022-06-24T08:32:30.667Z"
   },
   {
    "duration": 0,
    "start_time": "2022-06-24T08:32:30.720Z"
   },
   {
    "duration": 0,
    "start_time": "2022-06-24T08:32:30.721Z"
   },
   {
    "duration": 0,
    "start_time": "2022-06-24T08:32:30.722Z"
   },
   {
    "duration": 0,
    "start_time": "2022-06-24T08:32:30.723Z"
   },
   {
    "duration": 0,
    "start_time": "2022-06-24T08:32:30.725Z"
   },
   {
    "duration": 0,
    "start_time": "2022-06-24T08:32:30.726Z"
   },
   {
    "duration": 0,
    "start_time": "2022-06-24T08:32:30.728Z"
   },
   {
    "duration": 0,
    "start_time": "2022-06-24T08:32:30.729Z"
   },
   {
    "duration": 28,
    "start_time": "2022-06-24T08:33:02.987Z"
   },
   {
    "duration": 3,
    "start_time": "2022-06-24T08:34:28.268Z"
   },
   {
    "duration": 4,
    "start_time": "2022-06-24T08:34:30.746Z"
   },
   {
    "duration": 395,
    "start_time": "2022-06-24T08:35:06.231Z"
   },
   {
    "duration": 175,
    "start_time": "2022-06-24T08:35:06.628Z"
   },
   {
    "duration": 18,
    "start_time": "2022-06-24T08:35:06.805Z"
   },
   {
    "duration": 46,
    "start_time": "2022-06-24T08:35:06.825Z"
   },
   {
    "duration": 3,
    "start_time": "2022-06-24T08:35:06.873Z"
   },
   {
    "duration": 8,
    "start_time": "2022-06-24T08:35:06.879Z"
   },
   {
    "duration": 10,
    "start_time": "2022-06-24T08:35:06.889Z"
   },
   {
    "duration": 11,
    "start_time": "2022-06-24T08:35:06.901Z"
   },
   {
    "duration": 9,
    "start_time": "2022-06-24T08:35:06.913Z"
   },
   {
    "duration": 11,
    "start_time": "2022-06-24T08:35:06.925Z"
   },
   {
    "duration": 6,
    "start_time": "2022-06-24T08:35:06.938Z"
   },
   {
    "duration": 19,
    "start_time": "2022-06-24T08:35:06.945Z"
   },
   {
    "duration": 10,
    "start_time": "2022-06-24T08:35:06.965Z"
   },
   {
    "duration": 6,
    "start_time": "2022-06-24T08:35:06.978Z"
   },
   {
    "duration": 6,
    "start_time": "2022-06-24T08:35:06.986Z"
   },
   {
    "duration": 6,
    "start_time": "2022-06-24T08:35:06.994Z"
   },
   {
    "duration": 7,
    "start_time": "2022-06-24T08:35:07.001Z"
   },
   {
    "duration": 12,
    "start_time": "2022-06-24T08:35:07.009Z"
   },
   {
    "duration": 8,
    "start_time": "2022-06-24T08:35:07.022Z"
   },
   {
    "duration": 6,
    "start_time": "2022-06-24T08:35:07.032Z"
   },
   {
    "duration": 8,
    "start_time": "2022-06-24T08:35:07.040Z"
   },
   {
    "duration": 9,
    "start_time": "2022-06-24T08:35:07.050Z"
   },
   {
    "duration": 13,
    "start_time": "2022-06-24T08:35:07.062Z"
   },
   {
    "duration": 8,
    "start_time": "2022-06-24T08:35:07.078Z"
   },
   {
    "duration": 9,
    "start_time": "2022-06-24T08:35:07.088Z"
   },
   {
    "duration": 7,
    "start_time": "2022-06-24T08:35:07.099Z"
   },
   {
    "duration": 10,
    "start_time": "2022-06-24T08:35:07.107Z"
   },
   {
    "duration": 8,
    "start_time": "2022-06-24T08:35:07.121Z"
   },
   {
    "duration": 20,
    "start_time": "2022-06-24T08:35:07.131Z"
   },
   {
    "duration": 62,
    "start_time": "2022-06-24T08:35:07.153Z"
   },
   {
    "duration": 0,
    "start_time": "2022-06-24T08:35:07.216Z"
   },
   {
    "duration": 0,
    "start_time": "2022-06-24T08:35:07.217Z"
   },
   {
    "duration": 0,
    "start_time": "2022-06-24T08:35:07.218Z"
   },
   {
    "duration": 0,
    "start_time": "2022-06-24T08:35:07.220Z"
   },
   {
    "duration": 0,
    "start_time": "2022-06-24T08:35:07.220Z"
   },
   {
    "duration": 0,
    "start_time": "2022-06-24T08:35:07.222Z"
   },
   {
    "duration": 0,
    "start_time": "2022-06-24T08:35:07.223Z"
   },
   {
    "duration": 0,
    "start_time": "2022-06-24T08:35:07.224Z"
   },
   {
    "duration": 16,
    "start_time": "2022-06-24T08:38:56.967Z"
   },
   {
    "duration": 8,
    "start_time": "2022-06-24T08:41:21.742Z"
   },
   {
    "duration": 94,
    "start_time": "2022-06-24T08:42:07.321Z"
   },
   {
    "duration": 12,
    "start_time": "2022-06-24T08:42:11.721Z"
   },
   {
    "duration": 7,
    "start_time": "2022-06-24T08:42:25.512Z"
   },
   {
    "duration": 4,
    "start_time": "2022-06-24T08:42:34.618Z"
   },
   {
    "duration": 49,
    "start_time": "2022-06-24T08:44:37.776Z"
   },
   {
    "duration": 101,
    "start_time": "2022-06-24T08:44:48.648Z"
   },
   {
    "duration": 95,
    "start_time": "2022-06-24T08:45:01.573Z"
   },
   {
    "duration": 55,
    "start_time": "2022-06-24T08:45:43.066Z"
   },
   {
    "duration": 60,
    "start_time": "2022-06-24T08:45:56.259Z"
   },
   {
    "duration": 128,
    "start_time": "2022-06-24T08:46:06.641Z"
   },
   {
    "duration": 63,
    "start_time": "2022-06-24T08:47:23.018Z"
   },
   {
    "duration": 3,
    "start_time": "2022-06-24T08:48:02.022Z"
   },
   {
    "duration": 226,
    "start_time": "2022-06-24T08:48:02.029Z"
   },
   {
    "duration": 12,
    "start_time": "2022-06-24T08:48:02.257Z"
   },
   {
    "duration": 33,
    "start_time": "2022-06-24T08:48:02.271Z"
   },
   {
    "duration": 8,
    "start_time": "2022-06-24T08:48:02.305Z"
   },
   {
    "duration": 14,
    "start_time": "2022-06-24T08:48:02.315Z"
   },
   {
    "duration": 57,
    "start_time": "2022-06-24T08:48:02.331Z"
   },
   {
    "duration": 0,
    "start_time": "2022-06-24T08:48:02.391Z"
   },
   {
    "duration": 0,
    "start_time": "2022-06-24T08:48:02.392Z"
   },
   {
    "duration": 0,
    "start_time": "2022-06-24T08:48:02.393Z"
   },
   {
    "duration": 0,
    "start_time": "2022-06-24T08:48:02.394Z"
   },
   {
    "duration": 0,
    "start_time": "2022-06-24T08:48:02.395Z"
   },
   {
    "duration": 0,
    "start_time": "2022-06-24T08:48:02.396Z"
   },
   {
    "duration": 0,
    "start_time": "2022-06-24T08:48:02.397Z"
   },
   {
    "duration": 0,
    "start_time": "2022-06-24T08:48:02.398Z"
   },
   {
    "duration": 0,
    "start_time": "2022-06-24T08:48:02.399Z"
   },
   {
    "duration": 0,
    "start_time": "2022-06-24T08:48:02.400Z"
   },
   {
    "duration": 0,
    "start_time": "2022-06-24T08:48:02.401Z"
   },
   {
    "duration": 0,
    "start_time": "2022-06-24T08:48:02.402Z"
   },
   {
    "duration": 0,
    "start_time": "2022-06-24T08:48:02.404Z"
   },
   {
    "duration": 0,
    "start_time": "2022-06-24T08:48:02.405Z"
   },
   {
    "duration": 0,
    "start_time": "2022-06-24T08:48:02.406Z"
   },
   {
    "duration": 0,
    "start_time": "2022-06-24T08:48:02.407Z"
   },
   {
    "duration": 1,
    "start_time": "2022-06-24T08:48:02.408Z"
   },
   {
    "duration": 0,
    "start_time": "2022-06-24T08:48:02.410Z"
   },
   {
    "duration": 1,
    "start_time": "2022-06-24T08:48:02.411Z"
   },
   {
    "duration": 0,
    "start_time": "2022-06-24T08:48:02.413Z"
   },
   {
    "duration": 0,
    "start_time": "2022-06-24T08:48:02.414Z"
   },
   {
    "duration": 0,
    "start_time": "2022-06-24T08:48:02.416Z"
   },
   {
    "duration": 59,
    "start_time": "2022-06-24T08:48:02.454Z"
   },
   {
    "duration": 0,
    "start_time": "2022-06-24T08:48:02.515Z"
   },
   {
    "duration": 0,
    "start_time": "2022-06-24T08:48:02.516Z"
   },
   {
    "duration": 0,
    "start_time": "2022-06-24T08:48:02.517Z"
   },
   {
    "duration": 0,
    "start_time": "2022-06-24T08:48:02.518Z"
   },
   {
    "duration": 0,
    "start_time": "2022-06-24T08:48:02.519Z"
   },
   {
    "duration": 0,
    "start_time": "2022-06-24T08:48:02.521Z"
   },
   {
    "duration": 9,
    "start_time": "2022-06-24T08:48:02.536Z"
   },
   {
    "duration": 48,
    "start_time": "2022-06-24T08:48:02.548Z"
   },
   {
    "duration": 13,
    "start_time": "2022-06-24T08:48:41.311Z"
   },
   {
    "duration": 18,
    "start_time": "2022-06-24T08:48:45.452Z"
   },
   {
    "duration": 4,
    "start_time": "2022-06-24T08:49:10.330Z"
   },
   {
    "duration": 23,
    "start_time": "2022-06-24T08:50:59.388Z"
   },
   {
    "duration": 19,
    "start_time": "2022-06-24T08:54:19.750Z"
   },
   {
    "duration": 18,
    "start_time": "2022-06-24T08:55:04.929Z"
   },
   {
    "duration": 18,
    "start_time": "2022-06-24T08:56:52.537Z"
   },
   {
    "duration": 23,
    "start_time": "2022-06-24T08:57:11.465Z"
   },
   {
    "duration": 9,
    "start_time": "2022-06-24T08:58:21.533Z"
   },
   {
    "duration": 11,
    "start_time": "2022-06-24T08:58:34.008Z"
   },
   {
    "duration": 10,
    "start_time": "2022-06-24T08:58:40.972Z"
   },
   {
    "duration": 10,
    "start_time": "2022-06-24T08:59:09.983Z"
   },
   {
    "duration": 14,
    "start_time": "2022-06-24T08:59:21.853Z"
   },
   {
    "duration": 69,
    "start_time": "2022-06-24T08:59:34.411Z"
   },
   {
    "duration": 64,
    "start_time": "2022-06-24T08:59:40.270Z"
   },
   {
    "duration": 80,
    "start_time": "2022-06-24T08:59:43.254Z"
   },
   {
    "duration": 64,
    "start_time": "2022-06-24T08:59:50.867Z"
   },
   {
    "duration": 79,
    "start_time": "2022-06-24T09:00:04.443Z"
   },
   {
    "duration": 70,
    "start_time": "2022-06-24T09:08:07.464Z"
   },
   {
    "duration": 9,
    "start_time": "2022-06-24T09:10:34.112Z"
   },
   {
    "duration": 75,
    "start_time": "2022-06-24T09:10:41.482Z"
   },
   {
    "duration": 62,
    "start_time": "2022-06-24T09:11:21.172Z"
   },
   {
    "duration": 75,
    "start_time": "2022-06-24T09:12:00.173Z"
   },
   {
    "duration": 69,
    "start_time": "2022-06-24T09:12:06.002Z"
   },
   {
    "duration": 67,
    "start_time": "2022-06-24T09:12:09.649Z"
   },
   {
    "duration": 77,
    "start_time": "2022-06-24T09:12:25.800Z"
   },
   {
    "duration": 86,
    "start_time": "2022-06-24T09:12:27.681Z"
   },
   {
    "duration": 113,
    "start_time": "2022-06-24T09:12:41.000Z"
   },
   {
    "duration": 112,
    "start_time": "2022-06-24T09:12:49.722Z"
   },
   {
    "duration": 93,
    "start_time": "2022-06-24T09:12:51.699Z"
   },
   {
    "duration": 6,
    "start_time": "2022-06-24T09:14:16.108Z"
   },
   {
    "duration": 10,
    "start_time": "2022-06-24T09:15:48.568Z"
   },
   {
    "duration": 9,
    "start_time": "2022-06-24T09:16:48.062Z"
   },
   {
    "duration": 9,
    "start_time": "2022-06-24T09:17:17.300Z"
   },
   {
    "duration": 11,
    "start_time": "2022-06-24T09:17:49.284Z"
   },
   {
    "duration": 5,
    "start_time": "2022-06-24T09:18:11.139Z"
   },
   {
    "duration": 38,
    "start_time": "2022-06-24T09:18:25.938Z"
   },
   {
    "duration": 16,
    "start_time": "2022-06-24T09:18:42.507Z"
   },
   {
    "duration": 119,
    "start_time": "2022-06-24T09:19:04.815Z"
   },
   {
    "duration": 22,
    "start_time": "2022-06-24T09:20:12.477Z"
   },
   {
    "duration": 14,
    "start_time": "2022-06-24T09:20:26.481Z"
   },
   {
    "duration": 16,
    "start_time": "2022-06-24T09:20:39.601Z"
   },
   {
    "duration": 16,
    "start_time": "2022-06-24T09:20:55.209Z"
   },
   {
    "duration": 2,
    "start_time": "2022-06-24T09:22:38.230Z"
   },
   {
    "duration": 3,
    "start_time": "2022-06-24T09:22:48.111Z"
   },
   {
    "duration": 5,
    "start_time": "2022-06-24T09:22:56.635Z"
   },
   {
    "duration": 7,
    "start_time": "2022-06-24T09:23:13.426Z"
   },
   {
    "duration": 5,
    "start_time": "2022-06-24T09:23:22.930Z"
   },
   {
    "duration": 7,
    "start_time": "2022-06-24T09:24:07.290Z"
   },
   {
    "duration": 15,
    "start_time": "2022-06-24T09:24:21.355Z"
   },
   {
    "duration": 33,
    "start_time": "2022-06-24T09:24:49.064Z"
   },
   {
    "duration": 36,
    "start_time": "2022-06-24T09:26:41.981Z"
   },
   {
    "duration": 45,
    "start_time": "2022-06-24T09:26:57.965Z"
   },
   {
    "duration": 63,
    "start_time": "2022-06-24T09:27:09.407Z"
   },
   {
    "duration": 42,
    "start_time": "2022-06-24T09:27:31.949Z"
   },
   {
    "duration": 45,
    "start_time": "2022-06-24T09:27:58.959Z"
   },
   {
    "duration": 36,
    "start_time": "2022-06-24T09:28:21.180Z"
   },
   {
    "duration": 5,
    "start_time": "2022-06-24T09:28:58.269Z"
   },
   {
    "duration": 900,
    "start_time": "2022-06-24T09:29:09.765Z"
   },
   {
    "duration": 6,
    "start_time": "2022-06-24T09:29:20.683Z"
   },
   {
    "duration": 10,
    "start_time": "2022-06-24T09:30:08.486Z"
   },
   {
    "duration": 10,
    "start_time": "2022-06-24T09:30:19.824Z"
   },
   {
    "duration": 10,
    "start_time": "2022-06-24T09:30:26.072Z"
   },
   {
    "duration": 12,
    "start_time": "2022-06-24T09:30:55.183Z"
   },
   {
    "duration": 7,
    "start_time": "2022-06-24T09:31:04.133Z"
   },
   {
    "duration": 66,
    "start_time": "2022-06-24T09:31:09.705Z"
   },
   {
    "duration": 612,
    "start_time": "2022-06-24T09:31:22.715Z"
   },
   {
    "duration": 103,
    "start_time": "2022-06-24T09:31:45.073Z"
   },
   {
    "duration": 19,
    "start_time": "2022-06-24T09:31:57.593Z"
   },
   {
    "duration": 17,
    "start_time": "2022-06-24T09:32:31.881Z"
   },
   {
    "duration": 15,
    "start_time": "2022-06-24T09:32:43.871Z"
   },
   {
    "duration": 12,
    "start_time": "2022-06-24T09:32:52.903Z"
   },
   {
    "duration": 9,
    "start_time": "2022-06-24T09:34:13.781Z"
   },
   {
    "duration": 36,
    "start_time": "2022-06-24T09:34:33.272Z"
   },
   {
    "duration": 45,
    "start_time": "2022-06-24T09:37:49.381Z"
   },
   {
    "duration": 45,
    "start_time": "2022-06-24T09:38:20.887Z"
   },
   {
    "duration": 43,
    "start_time": "2022-06-24T09:38:48.732Z"
   },
   {
    "duration": 49,
    "start_time": "2022-06-24T09:39:01.933Z"
   },
   {
    "duration": 57,
    "start_time": "2022-06-24T09:39:08.441Z"
   },
   {
    "duration": 40,
    "start_time": "2022-06-24T09:43:52.421Z"
   },
   {
    "duration": 40,
    "start_time": "2022-06-24T09:44:06.880Z"
   },
   {
    "duration": 79,
    "start_time": "2022-06-24T09:44:22.641Z"
   },
   {
    "duration": 60,
    "start_time": "2022-06-24T09:45:45.539Z"
   },
   {
    "duration": 51,
    "start_time": "2022-06-24T09:46:32.526Z"
   },
   {
    "duration": 36,
    "start_time": "2022-06-24T09:50:04.310Z"
   },
   {
    "duration": 50,
    "start_time": "2022-06-24T09:53:31.675Z"
   },
   {
    "duration": 8,
    "start_time": "2022-06-24T09:58:52.782Z"
   },
   {
    "duration": 8,
    "start_time": "2022-06-24T10:01:01.796Z"
   },
   {
    "duration": 13,
    "start_time": "2022-06-24T10:05:45.877Z"
   },
   {
    "duration": 9,
    "start_time": "2022-06-24T10:05:55.983Z"
   },
   {
    "duration": 448,
    "start_time": "2022-06-24T10:11:30.522Z"
   },
   {
    "duration": 192,
    "start_time": "2022-06-24T10:11:30.972Z"
   },
   {
    "duration": 10,
    "start_time": "2022-06-24T10:11:31.166Z"
   },
   {
    "duration": 32,
    "start_time": "2022-06-24T10:11:31.178Z"
   },
   {
    "duration": 4,
    "start_time": "2022-06-24T10:11:31.212Z"
   },
   {
    "duration": 15,
    "start_time": "2022-06-24T10:11:31.218Z"
   },
   {
    "duration": 49,
    "start_time": "2022-06-24T10:11:31.235Z"
   },
   {
    "duration": 9,
    "start_time": "2022-06-24T10:11:31.287Z"
   },
   {
    "duration": 30,
    "start_time": "2022-06-24T10:11:31.298Z"
   },
   {
    "duration": 25,
    "start_time": "2022-06-24T10:11:31.331Z"
   },
   {
    "duration": 36,
    "start_time": "2022-06-24T10:11:31.358Z"
   },
   {
    "duration": 91,
    "start_time": "2022-06-24T10:11:31.396Z"
   },
   {
    "duration": 85,
    "start_time": "2022-06-24T10:11:31.489Z"
   },
   {
    "duration": 66,
    "start_time": "2022-06-24T10:11:31.576Z"
   },
   {
    "duration": 54,
    "start_time": "2022-06-24T10:11:31.643Z"
   },
   {
    "duration": 10,
    "start_time": "2022-06-24T10:11:31.698Z"
   },
   {
    "duration": 16,
    "start_time": "2022-06-24T10:11:31.709Z"
   },
   {
    "duration": 14,
    "start_time": "2022-06-24T10:11:31.727Z"
   },
   {
    "duration": 10,
    "start_time": "2022-06-24T10:11:31.742Z"
   },
   {
    "duration": 25,
    "start_time": "2022-06-24T10:11:31.759Z"
   },
   {
    "duration": 8,
    "start_time": "2022-06-24T10:11:31.786Z"
   },
   {
    "duration": 8,
    "start_time": "2022-06-24T10:11:31.796Z"
   },
   {
    "duration": 23,
    "start_time": "2022-06-24T10:11:31.805Z"
   },
   {
    "duration": 19,
    "start_time": "2022-06-24T10:11:31.829Z"
   },
   {
    "duration": 34,
    "start_time": "2022-06-24T10:11:31.850Z"
   },
   {
    "duration": 11,
    "start_time": "2022-06-24T10:11:31.886Z"
   },
   {
    "duration": 5,
    "start_time": "2022-06-24T10:11:31.899Z"
   },
   {
    "duration": 6,
    "start_time": "2022-06-24T10:11:31.908Z"
   },
   {
    "duration": 5,
    "start_time": "2022-06-24T10:11:31.916Z"
   },
   {
    "duration": 64,
    "start_time": "2022-06-24T10:11:31.923Z"
   },
   {
    "duration": 0,
    "start_time": "2022-06-24T10:11:31.989Z"
   },
   {
    "duration": 0,
    "start_time": "2022-06-24T10:11:31.990Z"
   },
   {
    "duration": 0,
    "start_time": "2022-06-24T10:11:31.992Z"
   },
   {
    "duration": 0,
    "start_time": "2022-06-24T10:11:31.993Z"
   },
   {
    "duration": 0,
    "start_time": "2022-06-24T10:11:31.995Z"
   },
   {
    "duration": 0,
    "start_time": "2022-06-24T10:11:31.996Z"
   },
   {
    "duration": 0,
    "start_time": "2022-06-24T10:11:31.997Z"
   },
   {
    "duration": 0,
    "start_time": "2022-06-24T10:11:31.998Z"
   },
   {
    "duration": 9,
    "start_time": "2022-06-24T10:11:50.665Z"
   },
   {
    "duration": 22,
    "start_time": "2022-06-24T10:14:56.520Z"
   },
   {
    "duration": 10,
    "start_time": "2022-06-24T10:15:47.669Z"
   },
   {
    "duration": 10,
    "start_time": "2022-06-24T10:19:21.465Z"
   },
   {
    "duration": 65,
    "start_time": "2022-06-24T10:21:14.388Z"
   },
   {
    "duration": 10,
    "start_time": "2022-06-24T10:21:24.026Z"
   },
   {
    "duration": 9,
    "start_time": "2022-06-24T10:21:48.071Z"
   },
   {
    "duration": 8,
    "start_time": "2022-06-24T10:22:16.538Z"
   },
   {
    "duration": 85,
    "start_time": "2022-06-24T10:22:30.986Z"
   },
   {
    "duration": 44,
    "start_time": "2022-06-24T10:22:41.105Z"
   },
   {
    "duration": 55,
    "start_time": "2022-06-24T10:23:16.590Z"
   },
   {
    "duration": 51,
    "start_time": "2022-06-24T10:24:31.260Z"
   },
   {
    "duration": 48,
    "start_time": "2022-06-24T10:24:59.383Z"
   },
   {
    "duration": 394,
    "start_time": "2022-06-24T10:26:44.315Z"
   },
   {
    "duration": 172,
    "start_time": "2022-06-24T10:26:44.711Z"
   },
   {
    "duration": 10,
    "start_time": "2022-06-24T10:26:44.884Z"
   },
   {
    "duration": 29,
    "start_time": "2022-06-24T10:26:44.897Z"
   },
   {
    "duration": 3,
    "start_time": "2022-06-24T10:26:44.928Z"
   },
   {
    "duration": 27,
    "start_time": "2022-06-24T10:26:44.956Z"
   },
   {
    "duration": 16,
    "start_time": "2022-06-24T10:26:44.985Z"
   },
   {
    "duration": 29,
    "start_time": "2022-06-24T10:26:45.003Z"
   },
   {
    "duration": 60,
    "start_time": "2022-06-24T10:26:45.034Z"
   },
   {
    "duration": 38,
    "start_time": "2022-06-24T10:26:45.097Z"
   },
   {
    "duration": 26,
    "start_time": "2022-06-24T10:26:45.137Z"
   },
   {
    "duration": 126,
    "start_time": "2022-06-24T10:26:45.165Z"
   },
   {
    "duration": 122,
    "start_time": "2022-06-24T10:26:45.293Z"
   },
   {
    "duration": 103,
    "start_time": "2022-06-24T10:26:45.420Z"
   },
   {
    "duration": 52,
    "start_time": "2022-06-24T10:26:45.525Z"
   },
   {
    "duration": 70,
    "start_time": "2022-06-24T10:26:45.579Z"
   },
   {
    "duration": 39,
    "start_time": "2022-06-24T10:26:56.080Z"
   },
   {
    "duration": 62,
    "start_time": "2022-06-24T10:37:26.876Z"
   },
   {
    "duration": 61,
    "start_time": "2022-06-24T10:38:05.250Z"
   },
   {
    "duration": 38,
    "start_time": "2022-06-24T10:38:14.597Z"
   },
   {
    "duration": 8,
    "start_time": "2022-06-24T10:38:57.189Z"
   },
   {
    "duration": 461,
    "start_time": "2022-06-24T10:39:55.236Z"
   },
   {
    "duration": 176,
    "start_time": "2022-06-24T10:39:55.700Z"
   },
   {
    "duration": 8,
    "start_time": "2022-06-24T10:39:55.878Z"
   },
   {
    "duration": 37,
    "start_time": "2022-06-24T10:39:55.888Z"
   },
   {
    "duration": 38,
    "start_time": "2022-06-24T10:39:55.927Z"
   },
   {
    "duration": 12,
    "start_time": "2022-06-24T10:39:55.967Z"
   },
   {
    "duration": 20,
    "start_time": "2022-06-24T10:39:55.981Z"
   },
   {
    "duration": 9,
    "start_time": "2022-06-24T10:39:56.003Z"
   },
   {
    "duration": 26,
    "start_time": "2022-06-24T10:39:56.014Z"
   },
   {
    "duration": 47,
    "start_time": "2022-06-24T10:39:56.044Z"
   },
   {
    "duration": 28,
    "start_time": "2022-06-24T10:39:56.092Z"
   },
   {
    "duration": 88,
    "start_time": "2022-06-24T10:39:56.122Z"
   },
   {
    "duration": 74,
    "start_time": "2022-06-24T10:39:56.212Z"
   },
   {
    "duration": 81,
    "start_time": "2022-06-24T10:39:56.287Z"
   },
   {
    "duration": 36,
    "start_time": "2022-06-24T10:39:56.370Z"
   },
   {
    "duration": 10,
    "start_time": "2022-06-24T10:39:56.408Z"
   },
   {
    "duration": 62,
    "start_time": "2022-06-24T10:39:56.419Z"
   },
   {
    "duration": 70,
    "start_time": "2022-06-24T10:40:00.804Z"
   },
   {
    "duration": 8,
    "start_time": "2022-06-24T10:40:58.434Z"
   },
   {
    "duration": 12,
    "start_time": "2022-06-24T10:41:24.692Z"
   },
   {
    "duration": 9,
    "start_time": "2022-06-24T10:44:03.698Z"
   },
   {
    "duration": 33,
    "start_time": "2022-06-24T10:44:21.968Z"
   },
   {
    "duration": 12,
    "start_time": "2022-06-24T10:44:34.997Z"
   },
   {
    "duration": 18,
    "start_time": "2022-06-24T10:45:02.796Z"
   },
   {
    "duration": 17,
    "start_time": "2022-06-24T10:45:45.334Z"
   },
   {
    "duration": 11,
    "start_time": "2022-06-24T10:47:42.965Z"
   },
   {
    "duration": 17,
    "start_time": "2022-06-24T10:48:55.476Z"
   },
   {
    "duration": 411,
    "start_time": "2022-06-24T10:49:42.504Z"
   },
   {
    "duration": 181,
    "start_time": "2022-06-24T10:49:42.917Z"
   },
   {
    "duration": 17,
    "start_time": "2022-06-24T10:49:43.100Z"
   },
   {
    "duration": 43,
    "start_time": "2022-06-24T10:49:43.119Z"
   },
   {
    "duration": 2,
    "start_time": "2022-06-24T10:49:43.164Z"
   },
   {
    "duration": 19,
    "start_time": "2022-06-24T10:49:43.168Z"
   },
   {
    "duration": 22,
    "start_time": "2022-06-24T10:49:43.189Z"
   },
   {
    "duration": 16,
    "start_time": "2022-06-24T10:49:43.214Z"
   },
   {
    "duration": 29,
    "start_time": "2022-06-24T10:49:43.232Z"
   },
   {
    "duration": 35,
    "start_time": "2022-06-24T10:49:43.264Z"
   },
   {
    "duration": 24,
    "start_time": "2022-06-24T10:49:43.301Z"
   },
   {
    "duration": 79,
    "start_time": "2022-06-24T10:49:43.327Z"
   },
   {
    "duration": 97,
    "start_time": "2022-06-24T10:49:43.408Z"
   },
   {
    "duration": 74,
    "start_time": "2022-06-24T10:49:43.507Z"
   },
   {
    "duration": 70,
    "start_time": "2022-06-24T10:49:43.583Z"
   },
   {
    "duration": 17,
    "start_time": "2022-06-24T10:49:43.658Z"
   },
   {
    "duration": 42,
    "start_time": "2022-06-24T10:49:43.680Z"
   },
   {
    "duration": 448,
    "start_time": "2022-06-24T10:49:57.380Z"
   },
   {
    "duration": 244,
    "start_time": "2022-06-24T10:49:57.830Z"
   },
   {
    "duration": 24,
    "start_time": "2022-06-24T10:49:58.077Z"
   },
   {
    "duration": 86,
    "start_time": "2022-06-24T10:49:58.103Z"
   },
   {
    "duration": 8,
    "start_time": "2022-06-24T10:49:58.191Z"
   },
   {
    "duration": 8,
    "start_time": "2022-06-24T10:49:58.201Z"
   },
   {
    "duration": 21,
    "start_time": "2022-06-24T10:49:58.211Z"
   },
   {
    "duration": 7,
    "start_time": "2022-06-24T10:49:58.235Z"
   },
   {
    "duration": 46,
    "start_time": "2022-06-24T10:49:58.244Z"
   },
   {
    "duration": 21,
    "start_time": "2022-06-24T10:49:58.292Z"
   },
   {
    "duration": 26,
    "start_time": "2022-06-24T10:49:58.315Z"
   },
   {
    "duration": 115,
    "start_time": "2022-06-24T10:49:58.352Z"
   },
   {
    "duration": 76,
    "start_time": "2022-06-24T10:49:58.469Z"
   },
   {
    "duration": 68,
    "start_time": "2022-06-24T10:49:58.551Z"
   },
   {
    "duration": 71,
    "start_time": "2022-06-24T10:49:58.621Z"
   },
   {
    "duration": 14,
    "start_time": "2022-06-24T10:49:58.694Z"
   },
   {
    "duration": 76,
    "start_time": "2022-06-24T10:49:58.710Z"
   },
   {
    "duration": 14,
    "start_time": "2022-06-24T10:49:58.788Z"
   },
   {
    "duration": 15,
    "start_time": "2022-06-24T10:50:28.082Z"
   },
   {
    "duration": 11,
    "start_time": "2022-06-24T10:50:47.095Z"
   },
   {
    "duration": 5,
    "start_time": "2022-06-24T10:53:18.038Z"
   },
   {
    "duration": 11,
    "start_time": "2022-06-24T10:53:38.396Z"
   },
   {
    "duration": 4,
    "start_time": "2022-06-24T11:13:08.280Z"
   },
   {
    "duration": 74,
    "start_time": "2022-06-24T11:14:24.898Z"
   },
   {
    "duration": 28,
    "start_time": "2022-06-24T11:14:58.247Z"
   },
   {
    "duration": 18,
    "start_time": "2022-06-24T11:15:16.916Z"
   },
   {
    "duration": 7,
    "start_time": "2022-06-24T11:15:59.222Z"
   },
   {
    "duration": 4,
    "start_time": "2022-06-24T11:17:21.969Z"
   },
   {
    "duration": 6,
    "start_time": "2022-06-24T11:17:24.528Z"
   },
   {
    "duration": 6,
    "start_time": "2022-06-24T11:17:45.542Z"
   },
   {
    "duration": 7,
    "start_time": "2022-06-24T11:17:46.392Z"
   },
   {
    "duration": 4,
    "start_time": "2022-06-24T11:20:10.701Z"
   },
   {
    "duration": 7,
    "start_time": "2022-06-24T11:20:12.029Z"
   },
   {
    "duration": 8,
    "start_time": "2022-06-24T11:20:22.590Z"
   },
   {
    "duration": 4,
    "start_time": "2022-06-24T11:20:42.802Z"
   },
   {
    "duration": 7,
    "start_time": "2022-06-24T11:20:43.573Z"
   },
   {
    "duration": 4,
    "start_time": "2022-06-24T11:22:24.193Z"
   },
   {
    "duration": 7,
    "start_time": "2022-06-24T11:22:25.030Z"
   },
   {
    "duration": 8,
    "start_time": "2022-06-24T11:23:40.869Z"
   },
   {
    "duration": 8,
    "start_time": "2022-06-24T11:25:10.728Z"
   },
   {
    "duration": 8,
    "start_time": "2022-06-24T11:25:18.829Z"
   },
   {
    "duration": 8,
    "start_time": "2022-06-24T11:29:03.077Z"
   },
   {
    "duration": 8,
    "start_time": "2022-06-24T11:29:14.806Z"
   },
   {
    "duration": 7,
    "start_time": "2022-06-24T11:29:41.435Z"
   },
   {
    "duration": 439,
    "start_time": "2022-06-24T11:30:01.234Z"
   },
   {
    "duration": 190,
    "start_time": "2022-06-24T11:30:01.675Z"
   },
   {
    "duration": 17,
    "start_time": "2022-06-24T11:30:01.867Z"
   },
   {
    "duration": 90,
    "start_time": "2022-06-24T11:30:01.886Z"
   },
   {
    "duration": 21,
    "start_time": "2022-06-24T11:30:01.978Z"
   },
   {
    "duration": 32,
    "start_time": "2022-06-24T11:30:02.000Z"
   },
   {
    "duration": 45,
    "start_time": "2022-06-24T11:30:02.033Z"
   },
   {
    "duration": 60,
    "start_time": "2022-06-24T11:30:02.079Z"
   },
   {
    "duration": 91,
    "start_time": "2022-06-24T11:30:02.141Z"
   },
   {
    "duration": 63,
    "start_time": "2022-06-24T11:30:02.234Z"
   },
   {
    "duration": 43,
    "start_time": "2022-06-24T11:30:02.299Z"
   },
   {
    "duration": 74,
    "start_time": "2022-06-24T11:30:02.344Z"
   },
   {
    "duration": 85,
    "start_time": "2022-06-24T11:30:02.420Z"
   },
   {
    "duration": 80,
    "start_time": "2022-06-24T11:30:02.507Z"
   },
   {
    "duration": 40,
    "start_time": "2022-06-24T11:30:02.589Z"
   },
   {
    "duration": 11,
    "start_time": "2022-06-24T11:30:02.631Z"
   },
   {
    "duration": 103,
    "start_time": "2022-06-24T11:30:02.644Z"
   },
   {
    "duration": 52,
    "start_time": "2022-06-24T11:30:02.749Z"
   },
   {
    "duration": 36,
    "start_time": "2022-06-24T11:30:02.803Z"
   },
   {
    "duration": 62,
    "start_time": "2022-06-24T11:30:09.376Z"
   },
   {
    "duration": 6,
    "start_time": "2022-06-24T11:31:23.704Z"
   },
   {
    "duration": 25,
    "start_time": "2022-06-24T11:33:16.540Z"
   },
   {
    "duration": 9,
    "start_time": "2022-06-24T11:34:27.313Z"
   },
   {
    "duration": 16,
    "start_time": "2022-06-24T11:35:00.123Z"
   },
   {
    "duration": 9,
    "start_time": "2022-06-24T11:36:48.004Z"
   },
   {
    "duration": 22,
    "start_time": "2022-06-24T11:37:04.065Z"
   },
   {
    "duration": 16,
    "start_time": "2022-06-24T11:38:43.014Z"
   },
   {
    "duration": 27,
    "start_time": "2022-06-24T11:38:48.120Z"
   },
   {
    "duration": 393,
    "start_time": "2022-06-24T11:39:37.545Z"
   },
   {
    "duration": 221,
    "start_time": "2022-06-24T11:39:45.489Z"
   },
   {
    "duration": 9,
    "start_time": "2022-06-24T11:39:58.068Z"
   },
   {
    "duration": 38,
    "start_time": "2022-06-24T11:40:10.547Z"
   },
   {
    "duration": 23,
    "start_time": "2022-06-24T11:40:23.872Z"
   },
   {
    "duration": 220,
    "start_time": "2022-06-24T11:41:14.316Z"
   },
   {
    "duration": 23,
    "start_time": "2022-06-24T11:41:22.110Z"
   },
   {
    "duration": 34,
    "start_time": "2022-06-24T11:42:53.276Z"
   },
   {
    "duration": 25,
    "start_time": "2022-06-24T11:43:06.592Z"
   },
   {
    "duration": 695,
    "start_time": "2022-06-24T11:43:16.687Z"
   },
   {
    "duration": 4000,
    "start_time": "2022-06-24T11:43:24.714Z"
   },
   {
    "duration": 31,
    "start_time": "2022-06-24T11:43:40.586Z"
   },
   {
    "duration": 28,
    "start_time": "2022-06-24T11:43:53.190Z"
   },
   {
    "duration": 3,
    "start_time": "2022-06-24T11:45:09.085Z"
   },
   {
    "duration": 8,
    "start_time": "2022-06-24T11:45:14.775Z"
   },
   {
    "duration": 41,
    "start_time": "2022-06-24T11:45:34.949Z"
   },
   {
    "duration": 4,
    "start_time": "2022-06-24T11:46:42.900Z"
   },
   {
    "duration": 42,
    "start_time": "2022-06-24T11:46:50.328Z"
   },
   {
    "duration": 52,
    "start_time": "2022-06-24T11:46:58.142Z"
   },
   {
    "duration": 56,
    "start_time": "2022-06-24T11:47:11.707Z"
   },
   {
    "duration": 36,
    "start_time": "2022-06-24T11:48:11.563Z"
   },
   {
    "duration": 30,
    "start_time": "2022-06-24T11:48:35.725Z"
   },
   {
    "duration": 675,
    "start_time": "2022-06-24T11:48:41.455Z"
   },
   {
    "duration": 29,
    "start_time": "2022-06-24T11:48:55.397Z"
   },
   {
    "duration": 3,
    "start_time": "2022-06-24T11:49:29.610Z"
   },
   {
    "duration": 29,
    "start_time": "2022-06-24T11:49:32.522Z"
   },
   {
    "duration": 3,
    "start_time": "2022-06-24T11:51:50.243Z"
   },
   {
    "duration": 15,
    "start_time": "2022-06-24T11:51:52.697Z"
   },
   {
    "duration": 4,
    "start_time": "2022-06-24T11:52:02.123Z"
   },
   {
    "duration": 15,
    "start_time": "2022-06-24T11:52:02.913Z"
   },
   {
    "duration": 4,
    "start_time": "2022-06-24T11:52:51.436Z"
   },
   {
    "duration": 27,
    "start_time": "2022-06-24T11:52:52.203Z"
   },
   {
    "duration": 25,
    "start_time": "2022-06-24T11:56:20.703Z"
   },
   {
    "duration": 17,
    "start_time": "2022-06-24T11:56:21.210Z"
   },
   {
    "duration": 20,
    "start_time": "2022-06-24T11:56:21.733Z"
   },
   {
    "duration": 18,
    "start_time": "2022-06-24T11:56:22.260Z"
   },
   {
    "duration": 25,
    "start_time": "2022-06-24T11:56:22.743Z"
   },
   {
    "duration": 27,
    "start_time": "2022-06-24T11:56:24.385Z"
   },
   {
    "duration": 3,
    "start_time": "2022-06-24T12:01:07.184Z"
   },
   {
    "duration": 9,
    "start_time": "2022-06-24T12:10:25.085Z"
   },
   {
    "duration": 13,
    "start_time": "2022-06-24T12:15:59.418Z"
   },
   {
    "duration": 3,
    "start_time": "2022-06-24T12:16:11.490Z"
   },
   {
    "duration": 4,
    "start_time": "2022-06-24T12:16:20.489Z"
   },
   {
    "duration": 11,
    "start_time": "2022-06-24T12:18:58.351Z"
   },
   {
    "duration": 73,
    "start_time": "2022-06-24T12:19:53.959Z"
   },
   {
    "duration": 91,
    "start_time": "2022-06-24T12:20:59.026Z"
   },
   {
    "duration": 123,
    "start_time": "2022-06-24T12:21:02.189Z"
   },
   {
    "duration": 45,
    "start_time": "2022-06-24T12:27:48.988Z"
   },
   {
    "duration": 46,
    "start_time": "2022-06-24T12:28:37.299Z"
   },
   {
    "duration": 172,
    "start_time": "2022-06-24T12:29:03.289Z"
   },
   {
    "duration": 107,
    "start_time": "2022-06-24T12:29:59.176Z"
   },
   {
    "duration": 109,
    "start_time": "2022-06-24T12:30:09.834Z"
   },
   {
    "duration": 114,
    "start_time": "2022-06-24T12:30:20.145Z"
   },
   {
    "duration": 114,
    "start_time": "2022-06-24T12:31:17.494Z"
   },
   {
    "duration": 12,
    "start_time": "2022-06-24T12:35:37.773Z"
   },
   {
    "duration": 82,
    "start_time": "2022-06-24T12:42:53.341Z"
   },
   {
    "duration": 13,
    "start_time": "2022-06-24T12:43:05.075Z"
   },
   {
    "duration": 28,
    "start_time": "2022-06-24T12:43:17.051Z"
   },
   {
    "duration": 15,
    "start_time": "2022-06-24T12:46:09.346Z"
   },
   {
    "duration": 3,
    "start_time": "2022-06-24T12:46:14.672Z"
   },
   {
    "duration": 18,
    "start_time": "2022-06-24T12:46:59.293Z"
   },
   {
    "duration": 18,
    "start_time": "2022-06-24T12:47:04.034Z"
   },
   {
    "duration": 6,
    "start_time": "2022-06-24T13:08:00.435Z"
   },
   {
    "duration": 31,
    "start_time": "2022-06-24T13:11:01.311Z"
   },
   {
    "duration": 5,
    "start_time": "2022-06-24T13:12:47.966Z"
   },
   {
    "duration": 5,
    "start_time": "2022-06-24T13:13:48.841Z"
   },
   {
    "duration": 16,
    "start_time": "2022-06-24T13:14:44.870Z"
   },
   {
    "duration": 13,
    "start_time": "2022-06-24T13:16:09.912Z"
   },
   {
    "duration": 20,
    "start_time": "2022-06-24T13:16:49.579Z"
   },
   {
    "duration": 11,
    "start_time": "2022-06-24T13:17:21.815Z"
   },
   {
    "duration": 14,
    "start_time": "2022-06-24T13:24:14.011Z"
   },
   {
    "duration": 12,
    "start_time": "2022-06-24T13:24:18.224Z"
   },
   {
    "duration": 12,
    "start_time": "2022-06-24T13:24:25.514Z"
   },
   {
    "duration": 26,
    "start_time": "2022-06-24T13:24:34.338Z"
   },
   {
    "duration": 7,
    "start_time": "2022-06-24T13:25:09.438Z"
   },
   {
    "duration": 5,
    "start_time": "2022-06-24T13:25:40.334Z"
   },
   {
    "duration": 4,
    "start_time": "2022-06-24T13:25:57.692Z"
   },
   {
    "duration": 8,
    "start_time": "2022-06-24T13:26:58.570Z"
   },
   {
    "duration": 6,
    "start_time": "2022-06-24T13:27:08.592Z"
   },
   {
    "duration": 5,
    "start_time": "2022-06-24T13:27:41.512Z"
   },
   {
    "duration": 399,
    "start_time": "2022-06-24T13:28:55.580Z"
   },
   {
    "duration": 185,
    "start_time": "2022-06-24T13:28:55.981Z"
   },
   {
    "duration": 20,
    "start_time": "2022-06-24T13:28:56.172Z"
   },
   {
    "duration": 32,
    "start_time": "2022-06-24T13:28:56.194Z"
   },
   {
    "duration": 13,
    "start_time": "2022-06-24T13:28:56.227Z"
   },
   {
    "duration": 45,
    "start_time": "2022-06-24T13:28:56.241Z"
   },
   {
    "duration": 16,
    "start_time": "2022-06-24T13:28:56.288Z"
   },
   {
    "duration": 23,
    "start_time": "2022-06-24T13:28:56.305Z"
   },
   {
    "duration": 57,
    "start_time": "2022-06-24T13:28:56.330Z"
   },
   {
    "duration": 34,
    "start_time": "2022-06-24T13:28:56.390Z"
   },
   {
    "duration": 46,
    "start_time": "2022-06-24T13:28:56.426Z"
   },
   {
    "duration": 93,
    "start_time": "2022-06-24T13:28:56.482Z"
   },
   {
    "duration": 85,
    "start_time": "2022-06-24T13:28:56.580Z"
   },
   {
    "duration": 69,
    "start_time": "2022-06-24T13:28:56.671Z"
   },
   {
    "duration": 54,
    "start_time": "2022-06-24T13:28:56.742Z"
   },
   {
    "duration": 11,
    "start_time": "2022-06-24T13:28:56.797Z"
   },
   {
    "duration": 57,
    "start_time": "2022-06-24T13:28:56.810Z"
   },
   {
    "duration": 15,
    "start_time": "2022-06-24T13:28:56.870Z"
   },
   {
    "duration": 22,
    "start_time": "2022-06-24T13:28:56.887Z"
   },
   {
    "duration": 4,
    "start_time": "2022-06-24T13:28:56.911Z"
   },
   {
    "duration": 66,
    "start_time": "2022-06-24T13:28:56.917Z"
   },
   {
    "duration": 32,
    "start_time": "2022-06-24T13:28:56.985Z"
   },
   {
    "duration": 22,
    "start_time": "2022-06-24T13:28:57.019Z"
   },
   {
    "duration": 28,
    "start_time": "2022-06-24T13:28:57.042Z"
   },
   {
    "duration": 58,
    "start_time": "2022-06-24T13:28:57.071Z"
   },
   {
    "duration": 17,
    "start_time": "2022-06-24T13:28:57.131Z"
   },
   {
    "duration": 35,
    "start_time": "2022-06-24T13:28:57.149Z"
   },
   {
    "duration": 20,
    "start_time": "2022-06-24T13:28:57.188Z"
   },
   {
    "duration": 12,
    "start_time": "2022-06-24T13:28:57.210Z"
   },
   {
    "duration": 16,
    "start_time": "2022-06-24T13:28:57.224Z"
   },
   {
    "duration": 58,
    "start_time": "2022-06-24T13:28:57.242Z"
   },
   {
    "duration": 14,
    "start_time": "2022-06-24T13:28:57.301Z"
   },
   {
    "duration": 24,
    "start_time": "2022-06-24T13:28:57.317Z"
   },
   {
    "duration": 25,
    "start_time": "2022-06-24T13:28:57.343Z"
   },
   {
    "duration": 33,
    "start_time": "2022-06-24T13:28:57.370Z"
   },
   {
    "duration": 15,
    "start_time": "2022-06-24T13:28:57.405Z"
   },
   {
    "duration": 19,
    "start_time": "2022-06-24T13:28:57.422Z"
   },
   {
    "duration": 43,
    "start_time": "2022-06-24T13:28:57.442Z"
   },
   {
    "duration": 20,
    "start_time": "2022-06-24T13:29:39.988Z"
   },
   {
    "duration": 22,
    "start_time": "2022-06-24T13:29:49.568Z"
   },
   {
    "duration": 13,
    "start_time": "2022-06-24T13:29:55.509Z"
   },
   {
    "duration": 12,
    "start_time": "2022-06-24T13:30:18.171Z"
   },
   {
    "duration": 5,
    "start_time": "2022-06-24T13:30:24.189Z"
   },
   {
    "duration": 5,
    "start_time": "2022-06-24T13:34:19.432Z"
   },
   {
    "duration": 9,
    "start_time": "2022-06-24T13:34:38.825Z"
   },
   {
    "duration": 9,
    "start_time": "2022-06-24T13:34:54.366Z"
   },
   {
    "duration": 55,
    "start_time": "2022-10-05T10:54:20.273Z"
   },
   {
    "duration": 401,
    "start_time": "2022-10-05T10:55:56.226Z"
   },
   {
    "duration": 247,
    "start_time": "2022-10-05T10:55:56.629Z"
   },
   {
    "duration": 19,
    "start_time": "2022-10-05T10:55:56.902Z"
   },
   {
    "duration": 26,
    "start_time": "2022-10-05T10:55:57.236Z"
   },
   {
    "duration": 2,
    "start_time": "2022-10-05T10:55:58.434Z"
   },
   {
    "duration": 3,
    "start_time": "2022-10-05T10:56:01.049Z"
   },
   {
    "duration": 11,
    "start_time": "2022-10-05T10:56:01.932Z"
   },
   {
    "duration": 4,
    "start_time": "2022-10-05T10:56:02.258Z"
   },
   {
    "duration": 22,
    "start_time": "2022-10-05T10:56:02.582Z"
   },
   {
    "duration": 17,
    "start_time": "2022-10-05T10:56:06.345Z"
   },
   {
    "duration": 3,
    "start_time": "2022-10-05T10:56:43.795Z"
   },
   {
    "duration": 212,
    "start_time": "2022-10-05T10:56:43.800Z"
   },
   {
    "duration": 14,
    "start_time": "2022-10-05T10:56:44.015Z"
   },
   {
    "duration": 55,
    "start_time": "2022-10-05T10:56:44.031Z"
   },
   {
    "duration": 3,
    "start_time": "2022-10-05T10:56:44.088Z"
   },
   {
    "duration": 16,
    "start_time": "2022-10-05T10:56:44.093Z"
   },
   {
    "duration": 31,
    "start_time": "2022-10-05T10:56:44.111Z"
   },
   {
    "duration": 14,
    "start_time": "2022-10-05T10:56:44.144Z"
   },
   {
    "duration": 29,
    "start_time": "2022-10-05T10:56:44.160Z"
   },
   {
    "duration": 27,
    "start_time": "2022-10-05T10:56:44.191Z"
   },
   {
    "duration": 49,
    "start_time": "2022-10-05T10:56:44.220Z"
   },
   {
    "duration": 89,
    "start_time": "2022-10-05T10:56:44.270Z"
   },
   {
    "duration": 81,
    "start_time": "2022-10-05T10:56:44.360Z"
   },
   {
    "duration": 56,
    "start_time": "2022-10-05T10:56:44.442Z"
   },
   {
    "duration": 48,
    "start_time": "2022-10-05T10:56:44.510Z"
   },
   {
    "duration": 9,
    "start_time": "2022-10-05T10:56:44.560Z"
   },
   {
    "duration": 58,
    "start_time": "2022-10-05T10:56:44.571Z"
   },
   {
    "duration": 11,
    "start_time": "2022-10-05T10:56:44.630Z"
   },
   {
    "duration": 17,
    "start_time": "2022-10-05T10:56:44.642Z"
   },
   {
    "duration": 23,
    "start_time": "2022-10-05T10:56:44.660Z"
   },
   {
    "duration": 43,
    "start_time": "2022-10-05T10:56:44.685Z"
   },
   {
    "duration": 17,
    "start_time": "2022-10-05T10:56:44.730Z"
   },
   {
    "duration": 20,
    "start_time": "2022-10-05T10:56:44.749Z"
   },
   {
    "duration": 17,
    "start_time": "2022-10-05T10:56:44.770Z"
   },
   {
    "duration": 40,
    "start_time": "2022-10-05T10:56:44.789Z"
   },
   {
    "duration": 25,
    "start_time": "2022-10-05T10:56:44.831Z"
   },
   {
    "duration": 9,
    "start_time": "2022-10-05T10:56:44.857Z"
   },
   {
    "duration": 18,
    "start_time": "2022-10-05T10:56:44.868Z"
   },
   {
    "duration": 24,
    "start_time": "2022-10-05T10:56:44.888Z"
   },
   {
    "duration": 5,
    "start_time": "2022-10-05T10:56:45.041Z"
   },
   {
    "duration": 15,
    "start_time": "2022-10-05T10:56:45.081Z"
   },
   {
    "duration": 10,
    "start_time": "2022-10-05T10:56:45.098Z"
   },
   {
    "duration": 25,
    "start_time": "2022-10-05T10:56:45.118Z"
   },
   {
    "duration": 11,
    "start_time": "2022-10-05T10:56:45.165Z"
   },
   {
    "duration": 12,
    "start_time": "2022-10-05T10:56:45.178Z"
   },
   {
    "duration": 4,
    "start_time": "2022-10-05T10:56:45.232Z"
   },
   {
    "duration": 6,
    "start_time": "2022-10-05T10:56:45.268Z"
   },
   {
    "duration": 7,
    "start_time": "2022-10-05T10:56:45.276Z"
   },
   {
    "duration": 8,
    "start_time": "2022-10-05T10:56:45.346Z"
   }
  ],
  "colab": {
   "collapsed_sections": [
    "E0vqbgi9ay0H",
    "VUC88oWjTJw2"
   ],
   "name": "automatization_template_upd4.ipynb",
   "provenance": []
  },
  "kernelspec": {
   "display_name": "Python 3 (ipykernel)",
   "language": "python",
   "name": "python3"
  },
  "language_info": {
   "codemirror_mode": {
    "name": "ipython",
    "version": 3
   },
   "file_extension": ".py",
   "mimetype": "text/x-python",
   "name": "python",
   "nbconvert_exporter": "python",
   "pygments_lexer": "ipython3",
   "version": "3.9.13"
  },
  "toc": {
   "base_numbering": 1,
   "nav_menu": {
    "height": "215px",
    "width": "403px"
   },
   "number_sections": true,
   "sideBar": true,
   "skip_h1_title": true,
   "title_cell": "Table of Contents",
   "title_sidebar": "Contents",
   "toc_cell": false,
   "toc_position": {
    "height": "calc(100% - 180px)",
    "left": "10px",
    "top": "150px",
    "width": "285.825px"
   },
   "toc_section_display": true,
   "toc_window_display": false
  }
 },
 "nbformat": 4,
 "nbformat_minor": 1
}
