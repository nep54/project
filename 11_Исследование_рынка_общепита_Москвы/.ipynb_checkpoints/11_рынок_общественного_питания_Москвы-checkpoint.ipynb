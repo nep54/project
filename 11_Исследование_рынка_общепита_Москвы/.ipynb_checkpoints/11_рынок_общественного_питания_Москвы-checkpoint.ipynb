{
 "cells": [
  {
   "cell_type": "markdown",
   "id": "33d2bea9",
   "metadata": {},
   "source": [
    "Привет! Меня зовут Александр Арасланов, я провожу ревью твоей работы. Предалагю общаться на «ты», если не против.\n",
    "\n",
    "В работе ты увидишь комментарии, помеченные разным цветом.\n",
    "\n",
    "<div class=\"alert alert-danger\"> ❌\n",
    "Красным цветом помечены моменты, которые необходимо доработать, чтобы проект был принят. Уверен, что у тебя все получится. Буду ждать твою работу на повторное ревью. \n",
    "</div>\n",
    "\n",
    "<div class=\"alert alert-success\"> ✅\n",
    "Зеленым цветом помечены образцовые решения. Которые можно использовать в дальнейшем.\n",
    "</div>\n",
    "\n",
    "<div class=\"alert alert-warning\"> ⚠️\n",
    "Желтым цветом отмечено то, что ты можешь улучшить или доработать. Можешь учесть это при выполнении следующих работ или доработать проект сейчас, но это не обязательно.\n",
    "</div>\n",
    "\n",
    "\n",
    "Будет комфортнее работать над проектом вместе, если ты будешь **писать об изменениях** в проекте по моим рекомендациям. Для этого выбери для своих комментариев \n",
    "\n",
    "<div class=\"alert alert-block alert-info\">Можешь выбрать этот цвет</div>\n",
    "\n",
    "Пожалуйста, **не перемещай, не изменяй и не удаляй мои комментарии**. Всё это поможет выполнить повторную проверку твоего проекта оперативнее."
   ]
  },
  {
   "cell_type": "markdown",
   "id": "faedb4e5",
   "metadata": {},
   "source": [
    "<div class=\"alert alert-danger\">\n",
    "\n",
    "**❌Комментарий ревьюера**\n",
    "Кирилл, к сожалению твой код упал с ошибкой `FileNotFoundError: [Errno 2] No such file or directory: '/Users/macbookair/Yandex.Disk.localized/Проекты_юпитер/03_mod/03_mod_sprint_2/Скайfolium/admin_level_geomap.geojson'` \n",
    "Конструкция `try except` в такой реализации как у тебя не поможет. По сути в ней, ты просто в переменную присваиваешь путь к файлу. Поэтому у тебя всегда будет выполняться только часть `try` Если ты хочешь использовать эту конструкцию, то нужно дублировать метод построения хороплета в обеих частях конструкции `try except`. \n",
    "    \n",
    "Альтернативный варинат, ты можешь закомментировать свой путь к файлу при отправке работы на сервер и оставить только путь `/datasets/admin_level_geomap.geojson`\n",
    "</div>"
   ]
  },
  {
   "cell_type": "markdown",
   "id": "1da94334",
   "metadata": {},
   "source": [
    "<div class=\"alert alert-block alert-info\">Понял, исправил. Пытался всетаки реализовать через </div>\n"
   ]
  },
  {
   "cell_type": "markdown",
   "id": "7505d197",
   "metadata": {},
   "source": [
    "<div class=\"alert alert-danger\">\n",
    "\n",
    "**❌Комментарий ревьюера**\n",
    "Кирилл, ты молодец. Хорошо поработал над проектом. Построил отличные графики. Здорово, что использовал `plotly` и другие библиотеки. У тебя получились хорошие промежуточные и общие выводы по проекту. Дал полезные рекомендации по кофейням. Подготовил хорошую презентацию, молодец, что не оставил просто белый фон.\n",
    "\n",
    "В проекте ты найдешь несколько замечаний и рекомендаций, которые позволят тебе сделать твой проект еще лучше. Пожалуйста, внеси изменения и присылай работу на повторную проверку</div>"
   ]
  },
  {
   "cell_type": "markdown",
   "id": "9c6f749a",
   "metadata": {},
   "source": [
    "<div class=\"alert alert-danger\">\n",
    "\n",
    "**❌Комментарий ревьюера В2**\n",
    "практически все исправления принял. Осталось только доработать по визуализации несколько графиков. Оставил ответ на твой вопрос про быстрый способ посчитать долю сетевых заведений по категориям \n",
    "</div>"
   ]
  },
  {
   "cell_type": "markdown",
   "id": "52a76e48",
   "metadata": {},
   "source": [
    "<div class=\"alert alert-success\">\n",
    "\n",
    "**✅Комментарий ревьюера В3**\n",
    "Исправления принял. Проект тоже принимаю, удачи в дальнейшей учебе\n",
    "</div>"
   ]
  },
  {
   "cell_type": "markdown",
   "id": "b0d1155f",
   "metadata": {},
   "source": [
    "## Проектная работа \"Исследование раныка общественного питания в Москве\" <a id=\"start\"></a>"
   ]
  },
  {
   "cell_type": "markdown",
   "id": "a29b594c",
   "metadata": {},
   "source": [
    "1. [Постановка задачи](#1) \n",
    "1.1. [Описание данных](#11)\n",
    "2. [Предобработка данных](#2)\n",
    "3. [Анализ данных](#3)\n",
    "4. [Детализация исследования](#4)\n",
    "5. [Презентация](#5)"
   ]
  },
  {
   "cell_type": "markdown",
   "id": "cbb01282",
   "metadata": {},
   "source": [
    "### Описание проекта: <a id=\"1\"></a> "
   ]
  },
  {
   "cell_type": "markdown",
   "id": "51300cec",
   "metadata": {},
   "source": [
    "- Инвесторы из фонда «Shut Up and Take My Money» решили попробовать себя в новой области и открыть заведение общественного питания в Москве. Заказчики ещё не знают, что это будет за место: кафе, ресторан, пиццерия, паб или бар, — и какими будут расположение, меню и цены.\n",
    "- Для начала они просят вас — аналитика — подготовить исследование рынка Москвы, найти интересные особенности и презентовать полученные результаты, которые в будущем помогут в выборе подходящего инвесторам места.\n",
    "- Постарайтесь сделать презентацию информативной и лаконичной. Её структура и оформление сильно влияют на восприятие информации читателями вашего исследования. Выбирать инструменты (matplotlib, seaborn и другие) и типы визуализаций вы можете самостоятельно.\n",
    "- Вам доступен датасет с заведениями общественного питания Москвы, составленный на основе данных сервисов Яндекс Карты и Яндекс Бизнес на лето 2022 года. Информация, размещённая в сервисе Яндекс Бизнес, могла быть добавлена пользователями или найдена в общедоступных источниках. Она носит исключительно справочный характер."
   ]
  },
  {
   "cell_type": "markdown",
   "id": "a4cf6acc",
   "metadata": {},
   "source": [
    "### Описание данных <a id=\"11\"></a>\n",
    "- name — название заведения;\n",
    "- address — адрес заведения;\n",
    "- category — категория заведения, например «кафе», «пиццерия» или «кофейня»;\n",
    "- hours — информация о днях и часах работы;\n",
    "- lat — широта географической точки, в которой находится заведение;\n",
    "- lng — долгота географической точки, в которой находится заведение;\n",
    "- rating — рейтинг заведения по оценкам пользователей в Яндекс Картах (высшая оценка — 5.0);\n",
    "- price — категория цен в заведении, например «средние», «ниже среднего», «выше среднего» и так далее;\n",
    "- avg_bill — строка, которая хранит среднюю стоимость заказа в виде диапазона, например:\n",
    "    - «Средний счёт: 1000–1500 ₽»;\n",
    "    - «Цена чашки капучино: 130–220 ₽»;\n",
    "    - «Цена бокала пива: 400–600 ₽».\n",
    "- middle_avg_bill — число с оценкой среднего чека, которое указано только для значений из столбца avg_bill, начинающихся с подстроки «Средний счёт»:\n",
    "    - Если в строке указан ценовой диапазон из двух значений, в столбец войдёт медиана этих двух значений.\n",
    "    - Если в строке указано одно число — цена без диапазона, то в столбец войдёт это число.\n",
    "    - Если значения нет или оно не начинается с подстроки «Средний счёт», то в столбец ничего не войдёт.\n",
    "- middle_coffee_cup — число с оценкой одной чашки капучино, которое указано только для значений из столбца avg_bill, начинающихся с подстроки «Цена одной чашки капучино»:\n",
    "    - Если в строке указан ценовой диапазон из двух значений, в столбец войдёт медиана этих двух значений.\n",
    "    - Если в строке указано одно число — цена без диапазона, то в столбец войдёт это число.\n",
    "    - Если значения нет или оно не начинается с подстроки «Цена одной чашки капучино», то в столбец ничего не войдёт.\n",
    "- chain — число, выраженное 0 или 1, которое показывает, является ли заведение сетевым (для маленьких сетей могут встречаться ошибки);\n",
    "- district — административный район, в котором находится заведение, например Центральный административный округ;\n",
    "- seats — количество посадочных мест."
   ]
  },
  {
   "cell_type": "code",
   "execution_count": 1,
   "id": "72fdad15",
   "metadata": {},
   "outputs": [],
   "source": [
    "import pandas as pd\n",
    "import matplotlib.pyplot as plt\n",
    "import numpy as np\n",
    "import datetime as dt\n",
    "import scipy.stats as stats\n",
    "from scipy import stats as st \n",
    "import math as mth\n",
    "from plotly import graph_objects as go\n",
    "import plotly.express as px\n",
    "import seaborn as sns\n",
    "from folium import Map, Choropleth\n",
    "from folium import Map, Marker\n",
    "from folium.plugins import MarkerCluster\n",
    "\n",
    "try:\n",
    "    state_geo = '/datasets/admin_level_geomap.geojson'\n",
    "except:\n",
    "    state_geo = '/Users/macbookair/Yandex.Disk.localized/01_Data_analyst/GitHub/DA_yandex_project_datasets/11_admin_level_geomap.geojson'\n",
    "\n",
    "\n",
    "def d(y):\n",
    "    return display(y)"
   ]
  },
  {
   "cell_type": "code",
   "execution_count": 2,
   "id": "412880cb",
   "metadata": {},
   "outputs": [],
   "source": [
    "try:\n",
    "    data = pd.read_csv('/Users/macbookair/Yandex.Disk.localized/01_Data_analyst/GitHub/DA_yandex_project_datasets/11_moscow_places.csv')\n",
    "except:\n",
    "    data = pd.read_csv('/datasets/moscow_places.csv')"
   ]
  },
  {
   "cell_type": "markdown",
   "id": "d30f2f9f",
   "metadata": {},
   "source": [
    "- Изучим общую информацию о датасете. \n",
    "    - Сколько заведений представлено? \n",
    "    - Что можно сказать о каждом столбце? \n",
    "    - Значения какого типа они хранят?"
   ]
  },
  {
   "cell_type": "code",
   "execution_count": null,
   "id": "89e6e58b",
   "metadata": {},
   "outputs": [],
   "source": [
    "data.head(5)"
   ]
  },
  {
   "cell_type": "code",
   "execution_count": null,
   "id": "f791611e",
   "metadata": {},
   "outputs": [],
   "source": [
    "# Сколько заведений представлено\n",
    "len(data)"
   ]
  },
  {
   "cell_type": "code",
   "execution_count": null,
   "id": "40bd4425",
   "metadata": {},
   "outputs": [],
   "source": [
    "data.info()"
   ]
  },
  {
   "cell_type": "markdown",
   "id": "d4e95e79",
   "metadata": {},
   "source": [
    "В целом данные в имеют хорошую структуры но есть нюансы:\n",
    "- Пропуски данных\n",
    "- Столбец seats имеет тип float64, кол-во мест не может быть дробным.\n",
    "- Стоблец hours имеет разную структуру. Например `ежедневно, 10:00–22:00` с этим можно работать. Надо подумать и принять как работать с теми ресторанами, где предоставленно время работы по дням."
   ]
  },
  {
   "cell_type": "markdown",
   "id": "2bba9d80",
   "metadata": {},
   "source": [
    "[К оглавлению](#start)"
   ]
  },
  {
   "cell_type": "markdown",
   "id": "4aeeabbb",
   "metadata": {},
   "source": [
    "## Шаг 2. Выполните предобработку данных <a id=\"2\"></a>\n",
    "- Изучите, есть ли дубликаты в данных. \n",
    "    - Поищите пропуски: встречаются ли они, в каких столбцах? \n",
    "    - Можно ли их обработать или оставить как есть?\n",
    "\n",
    "- Выполните предобработку данных:\n",
    "    - Создайте столбец street с названиями улиц из столбца с адресом.\n",
    "    - Создайте столбец is_24/7 с обозначением, что заведение работает ежедневно и круглосуточно (24/7):\n",
    "        - логическое значение True — если заведение работает ежедневно и круглосуточно;\n",
    "        - логическое значение False — в противоположном случае."
   ]
  },
  {
   "cell_type": "code",
   "execution_count": null,
   "id": "f0c6c8cc",
   "metadata": {},
   "outputs": [],
   "source": [
    "# Приведем колонку name к нижнему регистру\n",
    "data['name'] = data['name'].str.lower()\n",
    "\n",
    "# Изучим дубликаты:\n",
    "print('Кол-во дублей в данных =', data[['name','address']].duplicated().sum())"
   ]
  },
  {
   "cell_type": "code",
   "execution_count": null,
   "id": "690956f7",
   "metadata": {},
   "outputs": [],
   "source": [
    "data = data.drop_duplicates(['name','address'])\n",
    "print('Кол-во дублей в данных =', data[['name','address']].duplicated().sum())"
   ]
  },
  {
   "cell_type": "markdown",
   "id": "ea150e3a",
   "metadata": {},
   "source": [
    "<div class=\"alert alert-warning\">\n",
    "\n",
    "**⚠️Комментарий ревьюера**\n",
    "дубликаты рекомендую проверить по совокупности полей адреса и названия заведения. Названия заведений сперва лучше привести к нижнему регистру\n",
    "</div>"
   ]
  },
  {
   "cell_type": "markdown",
   "id": "0a49c72c",
   "metadata": {},
   "source": [
    "<div class=\"alert alert-block alert-info\">Принял, исправил</div>\n"
   ]
  },
  {
   "cell_type": "code",
   "execution_count": null,
   "id": "dc0a93ef",
   "metadata": {},
   "outputs": [],
   "source": [
    "# пропуски в данных:\n",
    "data.isna().sum().to_frame().T"
   ]
  },
  {
   "cell_type": "markdown",
   "id": "3bb34937",
   "metadata": {},
   "source": [
    "- Пропуски по времени работы можно заполнить усредненным значеним в данной локации\n",
    "- price мы никак не узнаем, нужно смириться с пропуском\n",
    "- Средний чек пропуски мы так-же не сможем придумать"
   ]
  },
  {
   "cell_type": "markdown",
   "id": "e31a3156",
   "metadata": {},
   "source": [
    "<div class=\"alert alert-warning\">\n",
    "\n",
    "**⚠️Комментарий ревьюера**\n",
    "Извлечь улицу в целом можно было чуть проще\n",
    "\n",
    "`data['street'] = data['address'].str.split(',').str[1]`</div>"
   ]
  },
  {
   "cell_type": "markdown",
   "id": "ac97264b",
   "metadata": {},
   "source": [
    "<div class=\"alert alert-block alert-info\">Согласен, но я пытался довести до идеала. Убрать само слово улица вначале названия или вконце</div>\n"
   ]
  },
  {
   "cell_type": "code",
   "execution_count": null,
   "id": "e02409ec",
   "metadata": {},
   "outputs": [],
   "source": [
    "data['address'].str.split(',').str[1]"
   ]
  },
  {
   "cell_type": "code",
   "execution_count": null,
   "id": "36195280",
   "metadata": {},
   "outputs": [],
   "source": [
    "# Создадим столбец street с названиями улиц из столбца с адресом.\n",
    "data['street'] = (\n",
    "                    data['address']\n",
    "                        .map(lambda x : x.replace('Москва, улица ',''))\n",
    "                        .map(lambda x : x.replace('Москва, ',''))\n",
    "                        .map(lambda x : x.replace(' улица',''))\n",
    "                        .map(lambda x : x.split(', ',1)[0])\n",
    "                )"
   ]
  },
  {
   "cell_type": "code",
   "execution_count": null,
   "id": "5ac4d021",
   "metadata": {},
   "outputs": [],
   "source": [
    "# Создаим столбец is_24/7 с обозначением, что заведение работает ежедневно и круглосуточно (24/7):\n",
    "# True — если заведение работает ежедневно и круглосуточно;\n",
    "# False — в противоположном случае.\n",
    "data['is_24/7'] = data['hours'].isin(['ежедневно, круглосуточно'])"
   ]
  },
  {
   "cell_type": "markdown",
   "id": "b4b28912",
   "metadata": {},
   "source": [
    "<div class=\"alert alert-warning\">\n",
    "\n",
    "**⚠️Комментарий ревьюера**\n",
    "при подготовке данных стоит добавить проверку распредения в числовых полях на наличие выбросов, аномалий. Так же лучше проверить категориальные признаки на неявные дубликаты</div>"
   ]
  },
  {
   "cell_type": "code",
   "execution_count": null,
   "id": "aa3da952",
   "metadata": {},
   "outputs": [],
   "source": [
    "data.describe()"
   ]
  },
  {
   "cell_type": "markdown",
   "id": "14e6da90",
   "metadata": {},
   "source": [
    "[К оглавлению](#start)"
   ]
  },
  {
   "cell_type": "markdown",
   "id": "c27ededb",
   "metadata": {},
   "source": [
    "## Шаг 3. Анализ данных <a id=\"3\"></a>\n",
    "- Какие категории заведений представлены в данных? Исследуйте количество объектов общественного питания по категориям: рестораны, кофейни, пиццерии, бары и так далее. Постройте визуализации. Ответьте на вопрос о распределении заведений по категориям.\n",
    "- Исследуйте количество посадочных мест в местах по категориям: рестораны, кофейни, пиццерии, бары и так далее. Постройте визуализации. Проанализируйте результаты и сделайте выводы.\n",
    "- Рассмотрите и изобразите соотношение сетевых и несетевых заведений в датасете. Каких заведений больше?\n",
    "- Какие категории заведений чаще являются сетевыми? Исследуйте данные и ответьте на вопрос графиком.\n",
    "- Сгруппируйте данные по названиям заведений и найдите топ-15 популярных сетей в Москве. Постройте подходящую для такой информации визуализацию. Знакомы ли вам эти сети? Есть ли какой-то признак, который их объединяет? К какой категории заведений они относятся? Отобразите общее количество заведений и количество заведений каждой категории по районам.\n",
    "- Какие административные районы Москвы присутствуют в датасете? Отобразите общее количество заведений и количество заведений каждой категории по районам. Попробуйте проиллюстрировать эту информацию одним графиком.\n",
    "- Визуализируйте распределение средних рейтингов по категориям заведений. Сильно ли различаются усреднённые рейтинги в разных типах общепита?\n",
    "- Постройте фоновую картограмму (хороплет) со средним рейтингом заведений каждого района. Границы районов Москвы, которые встречаются в датасете, хранятся в файле admin_level_geomap.geojson.\n",
    "- Отобразите все заведения датасета на карте с помощью кластеров средствами библиотеки folium.\n",
    "- Найдите топ-15 улиц по количеству заведений. Постройте график распределения количества заведений и их категорий по этим улицам. Попробуйте проиллюстрировать эту информацию одним графиком.\n",
    "- Найдите улицы, на которых находится только один объект общепита. Что можно сказать об этих заведениях?\n",
    "- Значения средних чеков заведений хранятся в столбце middle_avg_bill. Эти числа показывают примерную стоимость заказа в рублях, которая чаще всего выражена диапазоном. Посчитайте медиану этого столбца для каждого района. Используйте это значение в качестве ценового индикатора района. Постройте фоновую картограмму (хороплет) с полученными значениями для каждого района. Проанализируйте цены в центральном административном округе и других. Как удалённость от центра влияет на цены в заведениях?\n",
    "- Необязательное задание: проиллюстрируйте другие взаимосвязи, которые вы нашли в данных. Например, по желанию исследуйте часы работы заведений и их зависимость от расположения и категории заведения. Также можно исследовать особенности заведений с плохими рейтингами, средние чеки в таких местах и распределение по категориям заведений.\n",
    "- Соберите наблюдения по вопросам выше в один общий вывод."
   ]
  },
  {
   "cell_type": "code",
   "execution_count": null,
   "id": "b2ec2957",
   "metadata": {},
   "outputs": [],
   "source": [
    "# Какие категории заведений представлены в данных? \n",
    "# Исследуем количество объектов общественного питания по категориям: \n",
    "# Построим визуализации. Ответьте на вопрос о распределении заведений по категориям.\n",
    "data_1 = data.groupby('category')['name'].count().rename('count').reset_index()\n",
    "#data_1.columns = data_1.columns.str.replace('name','count')\n",
    "\n",
    "# строим круговую диаграмму\n",
    "fig = go.Figure(data=[go.Pie(labels=data_1['category'], values=data_1['count'])])\n",
    "fig.update_layout(title_text=\"Распределение по категориям\")\n",
    "fig.show()"
   ]
  },
  {
   "cell_type": "markdown",
   "id": "2e52401f",
   "metadata": {},
   "source": [
    "<div class=\"alert alert-success\">\n",
    "\n",
    "**✅Комментарий ревьюера**\n",
    "можно просто вызвать метода переименования `data.groupby('category')['name'].count().rename('count').reset_index()` тогда `values='name'`  нужно будет заменить на `values='count'`</div>"
   ]
  },
  {
   "cell_type": "markdown",
   "id": "fbf9d62b",
   "metadata": {},
   "source": [
    "<div class=\"alert alert-block alert-info\">Благодарю! Не мог понять как это сделать)</div>\n"
   ]
  },
  {
   "cell_type": "code",
   "execution_count": null,
   "id": "27033eec",
   "metadata": {},
   "outputs": [],
   "source": [
    "# в целях обучения постою по другому\n",
    "fig = px.pie(\n",
    "    data.groupby('category')['name'].count().rename('кол-во').reset_index(), \n",
    "    values='кол-во', \n",
    "    names='category', \n",
    "    title='Распределение по категориям'\n",
    ")\n",
    "fig.show()\n",
    "\n",
    "# ВОПРОС??? Теперь не знаю как в строке кода заменить 'name' to 'count'"
   ]
  },
  {
   "cell_type": "code",
   "execution_count": null,
   "id": "742983bd",
   "metadata": {},
   "outputs": [],
   "source": [
    "fig = px.bar(data.groupby('category')['name']\n",
    "                 .count()\n",
    "                 .rename('кол-во')\n",
    "                 .reset_index() \n",
    "                 .sort_values('кол-во', ascending=True), # загружаем данные и заново их сортируем \n",
    "             x='кол-во', # указываем столбец с данными для оси X\n",
    "             y='category', # указываем столбец с данными для оси Y\n",
    "             text='кол-во' # добавляем аргумент, который отобразит текст с информацией\n",
    "                                # о количестве объявлений внутри столбца графика\n",
    "            )\n",
    "# оформляем график\n",
    "fig.update_layout(title='Распределение по категориям',\n",
    "                   xaxis_title='Количество заведений',\n",
    "                   yaxis_title='категория')\n",
    "fig.show() # выводим график"
   ]
  },
  {
   "cell_type": "markdown",
   "id": "eab9d174",
   "metadata": {},
   "source": [
    "- Лидируют Кафе и рестораны.\n",
    "- Меньше всего булочных и столовых."
   ]
  },
  {
   "cell_type": "code",
   "execution_count": null,
   "id": "ee0a51ae",
   "metadata": {},
   "outputs": [],
   "source": [
    "# Исследуем количество посадочных мест в местах по категориям: \n",
    "# Постройм визуализации. Проанализируем результаты и сделаем выводы.\n",
    "\n",
    "fig = px.pie(\n",
    "    data.groupby('category')['seats'].median().reset_index(), \n",
    "    values='seats', \n",
    "    names='category', \n",
    "    title='Распределение кол-ва посадочных мест по категориям'\n",
    ")\n",
    "fig.show()\n"
   ]
  },
  {
   "cell_type": "code",
   "execution_count": null,
   "id": "e6a5119f",
   "metadata": {},
   "outputs": [],
   "source": [
    "plt.subplots(figsize=(4, 3))\n",
    "plt.title('Распределение кол-ва посадочных мест по категориям')\n",
    "ax = sns.barplot(\n",
    "    x=\"seats\", \n",
    "    y=\"category\",\n",
    "    data=(data[~data['seats'].isna()]\n",
    "          .groupby('category')['seats']\n",
    "          .median()\n",
    "          .reset_index()\n",
    "          .sort_values('seats', ascending=False)),\n",
    ")"
   ]
  },
  {
   "cell_type": "markdown",
   "id": "4f8c06b9",
   "metadata": {},
   "source": [
    "<div class=\"alert alert-success\">\n",
    "\n",
    "**✅Комментарий ревьюера**\n",
    "Пропуски никак не учитываются при группировке. Поэтому их можно не удалять специально</div>"
   ]
  },
  {
   "cell_type": "markdown",
   "id": "e7740a5a",
   "metadata": {},
   "source": [
    "- Больше всего посадочных мест в барах и ресторанах.\n",
    "- Меньше всего требуется мест для булочных"
   ]
  },
  {
   "cell_type": "markdown",
   "id": "67aeb413",
   "metadata": {},
   "source": [
    "<div class=\"alert alert-success\">\n",
    "\n",
    "**✅Комментарий ревьюера**\n",
    "Хорошо, что изменил легенду на более однозначную </div>"
   ]
  },
  {
   "cell_type": "code",
   "execution_count": null,
   "id": "923d9660",
   "metadata": {},
   "outputs": [],
   "source": [
    "# Рассмотрим и изобразим соотношение сетевых и несетевых заведений в датасете. Каких заведений больше\n",
    "data_3 = data.groupby('chain')['name'].count().reset_index()\n",
    "data_3.columns = data_3.columns.str.replace('name','count')\n",
    "data_3['chain'] = data_3['chain'].replace(0,'не сетевой').replace(1,'сетевой')\n",
    "\n",
    "fig = px.pie(\n",
    "    data_3, \n",
    "    values='count', \n",
    "    names='chain', \n",
    "    title='Распределение сетевых и не сетевых магазинов'\n",
    ")\n",
    "fig.show()"
   ]
  },
  {
   "cell_type": "code",
   "execution_count": null,
   "id": "1f0a5d8e",
   "metadata": {},
   "outputs": [],
   "source": [
    "# Какие категории заведений чаще являются сетевыми? Исследуйте данные и ответьте на вопрос графиком.\n",
    "data_2 = (\n",
    "    data.groupby(['category','chain'], as_index = False)['name']\n",
    "    .count()\n",
    "    .sort_values(['category','name'], ascending=False)\n",
    ")\n",
    "data_2.columns = data_2.columns.str.replace('name','count')\n",
    "\n",
    "\n",
    "data_2 = data_2.merge(data_2.groupby('category')['count'].sum(), on='category')\n",
    "data_2['perc'] = data_2['count_x']/data_2['count_y']*100\n",
    "data_2.columns = data_2.columns.str.replace('count_x', 'count').str.replace('count_y', 'sum_count')\n",
    "\n",
    "\n",
    "plt.subplots(figsize=(8, 5))\n",
    "plt.title('Распределение сетевых и не сетевых по категориям')\n",
    "ax = sns.barplot(x=\"perc\", y=\"category\", data=data_2, hue='chain')"
   ]
  },
  {
   "cell_type": "code",
   "execution_count": null,
   "id": "a4f409df",
   "metadata": {},
   "outputs": [],
   "source": [
    "data_2"
   ]
  },
  {
   "cell_type": "markdown",
   "id": "92b8e19e",
   "metadata": {},
   "source": [
    "<div class=\"alert alert-success\">\n",
    "\n",
    "**✅Комментарий ревьюера**\n",
    "А вот здесь нагляднее будет посчитать долю сетевых заведений по категориям </div>"
   ]
  },
  {
   "cell_type": "markdown",
   "id": "0bbe3448",
   "metadata": {},
   "source": [
    "<div class=\"alert alert-block alert-info\"> Решил задачу. Только в голове все перемешалось. Расскажи как можно было в одну строку добавить колонку которая сичтает процент? Пробовал и через цикл и через lambda и через функцию. Но только сильнее запутался. Подскажи пожалуйста на практике. А то через merge это чуствую, глупо)</div>\n"
   ]
  },
  {
   "cell_type": "code",
   "execution_count": null,
   "id": "2ffd9aac",
   "metadata": {},
   "outputs": [],
   "source": [
    "data_2_2 = data.groupby('category').agg({'chain':['count','sum','mean']}).reset_index()\n",
    "data_2_2.columns = ['category','objects','chain_objects','ratio_objects']\n",
    "\n",
    "\n",
    "plt.subplots(figsize=(8, 5))\n",
    "plt.title('доля сетевых заведений по категориям')\n",
    "ax = sns.barplot(x=\"ratio_objects\", y=\"category\", data=data_2_2.sort_values('ratio_objects',ascending=False))"
   ]
  },
  {
   "cell_type": "markdown",
   "id": "20fef1de",
   "metadata": {},
   "source": [
    "<div class=\"alert alert-success\">\n",
    "\n",
    "**✅Комментарий ревьюера В2**\n",
    "проще всего это будет сделать через группировку только по катеоориям. А поле chain использовать для арифметики. `count` вернет кол-во записей, `sum` вернет кол-во сетевых так как `chain` бинарный признак. А `mean` вернет долю по этой же логике\n",
    "\n",
    "`data.groupby('category').agg({'chain':['count','sum','mean']})`\n",
    "\n",
    "чтобы обратить к конкретному столбцу привычном способом, то можно просто задать новый список имен колонок\n",
    "\n",
    "`temp = data.groupby('category').agg({'chain':['count','sum','mean']})\n",
    "temp.columns = ['objects','chain_objects','ratio_objects']`\n",
    "</div>"
   ]
  },
  {
   "cell_type": "markdown",
   "id": "b2f92d38",
   "metadata": {},
   "source": [
    "- Пицерия, кофейня и булочная - чаще бывает сетевая. Ввиду того что очень много продается франшиз.\n",
    "- Рестораны и кафе в большей степени не сетевые."
   ]
  },
  {
   "cell_type": "markdown",
   "id": "8922c50a",
   "metadata": {},
   "source": [
    "<div class=\"alert alert-danger\">\n",
    "\n",
    "**❌Комментарий ревьюера**\n",
    "чтобы определить топ 15 сетевых категорий, необходимо было сгруппировать сетевые заведения по названиям и посчитать кол-во объектов. Чтобы понять как они распределены по категориям, можно из датафрейма с сетевыми заведениями извлечь записи с названиями из полученного списка топ 15. Сгруппировать эти записи по категориям и посчитать кол-во объектов </div>"
   ]
  },
  {
   "cell_type": "markdown",
   "id": "5a3236e5",
   "metadata": {},
   "source": [
    "<div class=\"alert alert-success\">\n",
    "\n",
    "**✅Комментарий ревьюера В2**\n",
    "исправления принял\n",
    "</div>"
   ]
  },
  {
   "cell_type": "code",
   "execution_count": null,
   "id": "a4be4508",
   "metadata": {},
   "outputs": [],
   "source": [
    "# Сгруппируйте данные по названиям заведений и найдите топ-15 популярных сетей в Москве. \n",
    "# Постройте подходящую для такой информации визуализацию. \n",
    "# Знакомы ли вам эти сети? Есть ли какой-то признак, который их объединяет? \n",
    "# К какой категории заведений они относятся? \n",
    "top_15_chain = (\n",
    "    data[data['chain'] == 1]\n",
    "    .groupby(['name','category'])['chain']\n",
    "    .count().rename('кол-во')\n",
    "    .reset_index()\n",
    "    .sort_values('кол-во',ascending=False)\n",
    "               )\n",
    "\n",
    "plt.title('ТОП 15 популярныйх сетей по рейтингу')\n",
    "ax = sns.barplot(\n",
    "    x='кол-во',\n",
    "    y='name',\n",
    "    data=top_15_chain.head(15)\n",
    ")\n",
    "plt.xlabel('Рейтинг')\n",
    "plt.ylabel('Название сети');"
   ]
  },
  {
   "cell_type": "code",
   "execution_count": null,
   "id": "ff2a94c1",
   "metadata": {},
   "outputs": [],
   "source": [
    "top_15_chain['category'].head(15).hist(bins=5)\n",
    "plt.title('популярность по категориям в топ 15')\n",
    "plt.xlabel('категории топ 15')\n",
    "plt.ylabel('кол-во сетей категории');"
   ]
  },
  {
   "cell_type": "markdown",
   "id": "31d0ba91",
   "metadata": {},
   "source": [
    "Из ТОП 15 популярных:\n",
    "- 8 кафе\n",
    "- 3 Бара\n",
    "- по 2 ресторана и пицерии\n",
    "- 1 кофейня\n",
    "\n",
    "Кафе люди любят и ценят больше"
   ]
  },
  {
   "cell_type": "code",
   "execution_count": null,
   "id": "9d5d716e",
   "metadata": {},
   "outputs": [],
   "source": [
    "top_15_chain.head(15).groupby('category')['кол-во'].sum().to_frame().reset_index()"
   ]
  },
  {
   "cell_type": "code",
   "execution_count": null,
   "id": "d757240b",
   "metadata": {},
   "outputs": [],
   "source": [
    "fig = px.pie(\n",
    "    top_15_chain.head(15).groupby('category')['кол-во'].sum().to_frame().reset_index(), \n",
    "    values='кол-во', \n",
    "    names='category', \n",
    "    title='Какие категории в ТОП 15 сетевых ресторанов'\n",
    ")\n",
    "fig.show()"
   ]
  },
  {
   "cell_type": "markdown",
   "id": "197db0b0",
   "metadata": {},
   "source": [
    "- Кофейни занимают 45% от общего количества заведдений в ТОП 15"
   ]
  },
  {
   "cell_type": "markdown",
   "id": "c90775c6",
   "metadata": {},
   "source": [
    "<div class=\"alert alert-danger\">\n",
    "\n",
    "**❌Комментарий ревьюера**\n",
    "хороший способ визуализации, чтобы показать общее кол-во заведений в районе и по категориям. Но графике необходимо будет отсортировать по общему кол-ву заведений в районе</div>"
   ]
  },
  {
   "cell_type": "markdown",
   "id": "cf136ff3",
   "metadata": {},
   "source": [
    "<div class=\"alert alert-danger\">\n",
    "\n",
    "**❌Комментарий ревьюера В2**\n",
    "график не отсортирован по общему кол-ву заведений в районе. Чтобы это сделать, можешь посчитать кол-во заведений в районах (без группировки по категориям) Смержить этот показатель с группировкой по районам и категориям. Отсортировать по этому столбцу с общим кол-вом заведений в районе, а потом его удалить и построить график\n",
    "</div>"
   ]
  },
  {
   "cell_type": "markdown",
   "id": "cc09d73e",
   "metadata": {},
   "source": [
    "<div class=\"alert alert-success\">\n",
    "\n",
    "**✅Комментарий ревьюера В3**\n",
    "Исправления принял\n",
    "</div>"
   ]
  },
  {
   "cell_type": "code",
   "execution_count": null,
   "id": "36b3fed9",
   "metadata": {},
   "outputs": [],
   "source": [
    "# Отобразите общее количество заведений и количество заведений каждой категории по районам.\n",
    "\n",
    "data_3 = (\n",
    "    data.groupby(['district', 'category'])['name']\n",
    "    .count()\n",
    "    .rename('колличество_заведений')\n",
    "    .reset_index().sort_values('колличество_заведений',ascending=False)\n",
    ")\n",
    "data_3 = (\n",
    "    data_3.merge(\n",
    "        data.groupby('district')['name'].count().rename('всего_в_районе'), on='district'\n",
    "        )\n",
    "        .sort_values('всего_в_районе', ascending=False).reset_index(drop=True)\n",
    ")\n",
    "data_3"
   ]
  },
  {
   "cell_type": "code",
   "execution_count": null,
   "id": "fece196d",
   "metadata": {},
   "outputs": [],
   "source": [
    "\n",
    "fig = px.bar(\n",
    "    data_3, \n",
    "    x=\"district\", \n",
    "    y=\"колличество_заведений\", \n",
    "    color=\"category\", title=\"Количество заведений по категориям и районам\"\n",
    ")\n",
    "\n",
    "fig.show()"
   ]
  },
  {
   "cell_type": "markdown",
   "id": "19a56ff6",
   "metadata": {},
   "source": [
    "- Нашлядно видим, что в центральном округе преобладают рестораны\n",
    "- По остальным округам, категория кафе популярнее всех заведений."
   ]
  },
  {
   "cell_type": "markdown",
   "id": "8ec67cf7",
   "metadata": {},
   "source": [
    "<div class=\"alert alert-danger\">\n",
    "\n",
    "**❌Комментарий ревьюера**\n",
    "Выбрана неудоачная визуализация. В чем идея смотреть на долю распределения средних рейтингов по категориям? Логичнее будет использовать столбчатую диаграмму и указать, что средние рейтинги практически не различаются</div>"
   ]
  },
  {
   "cell_type": "markdown",
   "id": "1a559053",
   "metadata": {},
   "source": [
    "<div class=\"alert alert-danger\">\n",
    "\n",
    "**❌Комментарий ревьюера В2**\n",
    "вижу, что добавил столбчатый график, но его необходимо будет отсортировать. Ось Х можно начинать не с 0, а с 4. Тогда различия будут заметнее\n",
    "</div>"
   ]
  },
  {
   "cell_type": "markdown",
   "id": "9ad3aeb6",
   "metadata": {},
   "source": [
    "<div class=\"alert alert-success\">\n",
    "\n",
    "**✅Комментарий ревьюера В3**\n",
    "Исправления принял\n",
    "</div>"
   ]
  },
  {
   "cell_type": "code",
   "execution_count": null,
   "id": "bfbea77c",
   "metadata": {},
   "outputs": [],
   "source": [
    "# Визуализируйте распределение средних рейтингов по категориям заведений. \n",
    "# Сильно ли различаются усреднённые рейтинги в разных типах общепита?\n",
    "\n",
    "fig = px.pie(\n",
    "    data.groupby('category')['rating'].mean().reset_index(), \n",
    "    values='rating', \n",
    "    names='category', \n",
    "    title='Распределение средних рейтингов по категориям заведений'\n",
    ")\n",
    "fig.show()"
   ]
  },
  {
   "cell_type": "code",
   "execution_count": null,
   "id": "54aa6258",
   "metadata": {},
   "outputs": [],
   "source": [
    "fig = px.bar(\n",
    "    data.groupby('category')['rating'].mean().reset_index(), \n",
    "    x=\"category\", \n",
    "    y=\"rating\", \n",
    "    color=\"category\", title=\"Распределение средних рейтингов по категориям заведений\"\n",
    ")\n",
    "fig.update_yaxes(range=[4, 5])\n",
    "fig.show()"
   ]
  },
  {
   "cell_type": "markdown",
   "id": "9511f11f",
   "metadata": {},
   "source": [
    "- Видим, что взяв в визуализацию все заведения, распределение стремится к равным показателям для всех категорий.\n",
    "- средние рейтинги практически не различаются"
   ]
  },
  {
   "cell_type": "code",
   "execution_count": null,
   "id": "62af9bc6",
   "metadata": {},
   "outputs": [],
   "source": [
    "data.groupby('district')['rating'].mean().reset_index().sort_values('rating', ascending=False)"
   ]
  },
  {
   "cell_type": "markdown",
   "id": "a44c1088",
   "metadata": {},
   "source": [
    "<div class=\"alert alert-success\">\n",
    "\n",
    "**✅Комментарий ревьюера**\n",
    "верно показал средние рейтинги по районам </div>"
   ]
  },
  {
   "cell_type": "code",
   "execution_count": null,
   "id": "d3b9102a",
   "metadata": {},
   "outputs": [],
   "source": [
    "# Построим фоновую картограмму (хороплет) со средним рейтингом заведений каждого района\n",
    "# Отобразим все заведения датасета на карте с помощью кластеров средствами библиотеки folium.\n",
    "\n",
    "# moscow_lat - широта центра Москвы, moscow_lng - долгота центра Москвы\n",
    "moscow_lat, moscow_lng = 55.751244, 37.618423\n",
    "\n",
    "# создаём карту Москвы\n",
    "m = Map(location=[moscow_lat, moscow_lng], zoom_start=10)\n",
    "\n",
    "# создаём хороплет с помощью конструктора Choropleth и добавляем его на карту\n",
    "Choropleth(\n",
    "    geo_data=state_geo,\n",
    "    data=data.groupby('district')['rating'].mean().reset_index(),\n",
    "    columns=['district', 'rating'],\n",
    "    key_on='feature.name',\n",
    "    fill_color='YlGn',\n",
    "    fill_opacity=0.6,\n",
    "    legend_name='Средний рейтинг заведений по районам',\n",
    ").add_to(m)\n",
    "\n",
    "# Отобразим все заведения датасета на карте с помощью кластеров средствами библиотеки folium.\n",
    "\n",
    "# создаём пустой кластер, добавляем его на карту\n",
    "marker_cluster = MarkerCluster().add_to(m)\n",
    "\n",
    "# пишем функцию, которая принимает строку датафрейма,\n",
    "# создаёт маркер в текущей точке и добавляет его в кластер marker_cluster\n",
    "def create_clusters(row):\n",
    "    Marker(\n",
    "        [row['lat'], row['lng']],\n",
    "        popup=f\"{row['name']} {row['rating']}\",\n",
    "    ).add_to(marker_cluster)\n",
    "\n",
    "# применяем функцию create_clusters() к каждой строке датафрейма\n",
    "data.apply(create_clusters, axis=1)\n",
    "\n",
    "# выводим карту\n",
    "m"
   ]
  },
  {
   "cell_type": "code",
   "execution_count": null,
   "id": "83fac94e",
   "metadata": {},
   "outputs": [],
   "source": [
    "# Найдем топ-15 улиц по количеству заведений. \n",
    "top_15_street = (\n",
    "    data.groupby(['street'])\n",
    "    .agg({'name':'count'})\n",
    "    .sort_values('name', ascending=False)\n",
    "    .reset_index()\n",
    "    .loc[0:14])\n",
    "top_15_street.columns = top_15_street.columns.str.replace('name','кол-во_заведений')\n",
    "#top_15_street\n",
    "\n",
    "# создадим ДФ с группировкой улиц и заведений\n",
    "street_category_group = (\n",
    "    data.groupby(['street','category'])\n",
    "    .agg({'name':'count'})\n",
    "    .sort_values('name', ascending=False)\n",
    "    .reset_index()\n",
    ")\n",
    "street_category_group.columns = street_category_group.columns.str.replace('name','кол-во_заведений')\n",
    "\n",
    "data_4 = top_15_street[['street']].merge(street_category_group, how='left', on='street')\n",
    "data_4"
   ]
  },
  {
   "cell_type": "markdown",
   "id": "a93cfbe4",
   "metadata": {},
   "source": [
    "<div class=\"alert alert-success\">\n",
    "\n",
    "**✅Комментарий ревьюера**\n",
    "здесь все сделал отлично </div>"
   ]
  },
  {
   "cell_type": "code",
   "execution_count": null,
   "id": "e621fc82",
   "metadata": {},
   "outputs": [],
   "source": [
    "# Постройте график распределения количества заведений и их категорий по этим улицам.\n",
    "\n",
    "fig = px.bar(\n",
    "    data_4, \n",
    "    x=\"street\", \n",
    "    y=\"кол-во_заведений\", \n",
    "    color=\"category\", title=\"Количество заведений по категориям и ТОП15 улицам\"\n",
    ")\n",
    "\n",
    "fig.show()"
   ]
  },
  {
   "cell_type": "markdown",
   "id": "43708379",
   "metadata": {},
   "source": [
    "- Проспект Мира-самое популярно место длятого чтобы перекусить\n",
    "- Преобладают Кафе, рестораны, кофейни. Столовых либо очень мало либо нет совсем."
   ]
  },
  {
   "cell_type": "code",
   "execution_count": null,
   "id": "4d82f05a",
   "metadata": {},
   "outputs": [],
   "source": [
    "# Найдем улицы, на которых находится только один объект общепита. Что можно сказать об этих заведениях?\n",
    "\n",
    "data_5 = data.groupby(['street']).agg({'name':'count'}).sort_values('name', ascending=True).reset_index()\n",
    "data_5.columns = data_5.columns.str.replace('name','кол-во_заведений')\n",
    "data_5 = data_5[data_5['кол-во_заведений'] == 1]\n",
    "# подтянем координаты этих заведений и категорию\n",
    "data_5 = data_5.merge(data[['street','category','lat','lng','rating']], on='street', how='left')\n",
    "\n",
    "# Покажем их на карте\n",
    "# moscow_lat - широта центра Москвы, moscow_lng - долгота центра Москвы\n",
    "moscow_lat, moscow_lng = 55.751244, 37.618423\n",
    "\n",
    "# создаём карту Москвы\n",
    "m_2 = Map(location=[moscow_lat, moscow_lng], zoom_start=10)\n",
    "\n",
    "# Отобразим все заведения датасета на карте с помощью кластеров средствами библиотеки folium.\n",
    "\n",
    "# создаём пустой кластер, добавляем его на карту\n",
    "marker_cluster_2 = MarkerCluster().add_to(m_2)\n",
    "\n",
    "# пишем функцию, которая принимает строку датафрейма,\n",
    "# создаёт маркер в текущей точке и добавляет его в кластер marker_cluster\n",
    "def create_clusters(row):\n",
    "    Marker(\n",
    "        [row['lat'], row['lng']],\n",
    "        popup=f\"{row['street']} {row['category']}\",\n",
    "    ).add_to(marker_cluster_2)\n",
    "\n",
    "# применяем функцию create_clusters() к каждой строке датафрейма\n",
    "data_5.apply(create_clusters, axis=1)\n",
    "\n",
    "# выводим карту\n",
    "m_2"
   ]
  },
  {
   "cell_type": "code",
   "execution_count": null,
   "id": "7e1f823b",
   "metadata": {},
   "outputs": [],
   "source": [
    "data_5['category']\n",
    "\n",
    "ax = sns.barplot(\n",
    "    x='street',\n",
    "    y='category',\n",
    "    data=(\n",
    "        data_5.groupby('category')['street']\n",
    "        .count()\n",
    "        .reset_index()\n",
    "        .sort_values('street', ascending=False))\n",
    ")\n",
    "plt.xlabel('кол-во заведений не имеющих конкуренцию на улице расположения')\n",
    "plt.ylabel('категория');"
   ]
  },
  {
   "cell_type": "code",
   "execution_count": null,
   "id": "9d41ebc2",
   "metadata": {},
   "outputs": [],
   "source": [
    "fig = px.bar(data_5.groupby('category')['street'].count().rename('кол-во').reset_index()\n",
    "                 .sort_values('кол-во', ascending=True), # загружаем данные и заново их сортируем \n",
    "             x='кол-во', # указываем столбец с данными для оси X\n",
    "             y='category', # указываем столбец с данными для оси Y\n",
    "             text='кол-во' # добавляем аргумент, который отобразит текст с информацией\n",
    "                                # о количестве объявлений внутри столбца графика\n",
    "            )\n",
    "# оформляем график\n",
    "fig.update_layout(title='кол-во заведений не имеющих конкуренцию на улице расположения',\n",
    "                   xaxis_title='Количество заведений',\n",
    "                   yaxis_title='категория')\n",
    "fig.show() # выводим график"
   ]
  },
  {
   "cell_type": "markdown",
   "id": "e475362b",
   "metadata": {},
   "source": [
    "<div class=\"alert alert-danger\">\n",
    "\n",
    "**❌Комментарий ревьюера**\n",
    "диаграмму необходимо будет отсортировать.\n",
    "</div>"
   ]
  },
  {
   "cell_type": "markdown",
   "id": "a8eb3c68",
   "metadata": {},
   "source": [
    "<div class=\"alert alert-success\">\n",
    "\n",
    "**✅Комментарий ревьюера В2**\n",
    "исправления принял\n",
    "</div>"
   ]
  },
  {
   "cell_type": "markdown",
   "id": "72dc612b",
   "metadata": {},
   "source": [
    "<div class=\"alert alert-success\">\n",
    "\n",
    "**✅Комментарий ревьюера**\n",
    "Можно сравнить одиночные заведения и остальные по среднему рейтингу, среднему чеку и среднему кол-ву мест \n",
    "    \n",
    "`data.merge(data.groupby('street')['name'].count().rename('is_alone') == 1, on='street')\\\n",
    "    .groupby('is_alone')[['seats','rating','middle_avg_bill']].mean()`</div>"
   ]
  },
  {
   "cell_type": "code",
   "execution_count": null,
   "id": "a3a79888",
   "metadata": {},
   "outputs": [],
   "source": [
    "data.merge(data.groupby('street')['name'].count().rename('is_alone') == 1, on='street')\\\n",
    "    .groupby('is_alone')[['seats','rating','middle_avg_bill']].mean()"
   ]
  },
  {
   "cell_type": "markdown",
   "id": "63b69b39",
   "metadata": {},
   "source": [
    "- Можно сказать что преобладают кафе. Больше не знаю что можно сказать и какую закономерность вывести."
   ]
  },
  {
   "cell_type": "markdown",
   "id": "ce190cc6",
   "metadata": {},
   "source": [
    "---"
   ]
  },
  {
   "cell_type": "markdown",
   "id": "4db2c901",
   "metadata": {},
   "source": [
    "- Значения средних чеков заведений хранятся в столбце middle_avg_bill. \n",
    "    - Эти числа показывают примерную стоимость заказа в рублях, которая чаще всего выражена диапазоном. \n",
    "- Посчитайте медиану этого столбца для каждого района. \n",
    "- Используйте это значение в качестве ценового индикатора района. \n",
    "    - Постройте фоновую картограмму (хороплет) с полученными значениями для каждого района. Проанализируйте цены в центральном административном округе и других. Как удалённость от центра влияет на цены в заведениях?\n"
   ]
  },
  {
   "cell_type": "markdown",
   "id": "cac8dbd3",
   "metadata": {},
   "source": [
    "<div class=\"alert alert-success\">\n",
    "\n",
    "**✅Комментарий ревьюера**\n",
    "здесь все сделал верно 👍</div>"
   ]
  },
  {
   "cell_type": "code",
   "execution_count": null,
   "id": "c0d6d6dd",
   "metadata": {},
   "outputs": [],
   "source": [
    "# Посчитайте медиану этого столбца для каждого района\n",
    "data_6 = data.groupby('district')['middle_avg_bill'].median().reset_index()\n",
    "data_6\n",
    "\n",
    "# Построим фоновую картограмму (хороплет) с полученными значениями для каждого района\n",
    "\n",
    "# moscow_lat - широта центра Москвы, moscow_lng - долгота центра Москвы\n",
    "moscow_lat, moscow_lng = 55.751244, 37.618423\n",
    "\n",
    "# создаём карту Москвы\n",
    "m_3 = Map(location=[moscow_lat, moscow_lng], zoom_start=10)\n",
    "\n",
    "# создаём хороплет с помощью конструктора Choropleth и добавляем его на карту\n",
    "Choropleth(\n",
    "    geo_data=state_geo,\n",
    "    data=data_6,\n",
    "    columns=['district', 'middle_avg_bill'],\n",
    "    key_on='feature.name',\n",
    "    fill_color='YlGn',\n",
    "    fill_opacity=0.6,\n",
    "    legend_name='Медианный средний чек заведений по районам'\n",
    ").add_to(m_3)\n",
    "\n",
    "m_3"
   ]
  },
  {
   "cell_type": "markdown",
   "id": "8f7c3e81",
   "metadata": {},
   "source": [
    "- Самый высокий средний чек в центральном и западном округе.\n",
    "- Бюджетнее можно поесть в Юго-восточном, северо-восточном и Южном АО."
   ]
  },
  {
   "cell_type": "markdown",
   "id": "e0457362",
   "metadata": {},
   "source": [
    "<div class=\"alert alert-danger\">\n",
    "\n",
    "**❌Комментарий ревьюера**\n",
    "Хорошие общие выводы, но после внесения доработок их необходимо будет перепроверить </div>"
   ]
  },
  {
   "cell_type": "markdown",
   "id": "004ce31a",
   "metadata": {},
   "source": [
    "<div class=\"alert alert-success\">\n",
    "\n",
    "**✅Комментарий ревьюера В2**\n",
    "исправления принял\n",
    "</div>"
   ]
  },
  {
   "cell_type": "markdown",
   "id": "9d631331",
   "metadata": {},
   "source": [
    "Резюмируем:\n",
    "- Всего на анализ представленно 8403 единиц заведений. кафе, ресторан, кофейня, пиццерия, бар&паб, быстрое питание, булочная, столовая\n",
    "    - Лидеры по категории Кафе и рестораны.\n",
    "    - Меньше всего Булочных и столовых\n",
    "- Сетевые и не сетевые заведения:\n",
    "    - Большинство не сетевых, их 61%\n",
    "    - Сетевых - 38%\n",
    "        - Пицерия, кофейня и булочная - чаще бывает сетевая. Ввиду того что очень много продается франшиз.\n",
    "        - Рестораны и кафе в большей степени не сетевые.\n",
    "- Распределение вида заведения по районам:\n",
    "    - в центральном округе преобладают рестораны\n",
    "    - По остальным округам, категория кафе популярнее всех заведений.\n",
    "- Количество заведений по категориям и ТОП15 улицам\n",
    "    - Проспект Мира-самое популярно место длятого чтобы перекусить\n",
    "    - Преобладают Кафе, рестораны, кофейни. Столовых либо очень мало либо нет совсем.\n",
    "- Средний чек\n",
    "    - Самый высокий средний чек в центральном и западном округе.\n",
    "    - Бюджетнее можно поесть в Юго-восточном, северо-восточном и Южном АО."
   ]
  },
  {
   "cell_type": "markdown",
   "id": "b0792b44",
   "metadata": {},
   "source": [
    "[К оглавлению](#start)"
   ]
  },
  {
   "cell_type": "code",
   "execution_count": null,
   "id": "c90cad59",
   "metadata": {},
   "outputs": [],
   "source": [
    "#data[data['category'] == 'кофейня'].groupby('district')['name'] \\\n",
    "#    .count().reset_index().sort_values('name', ascending=False)"
   ]
  },
  {
   "cell_type": "markdown",
   "id": "60726da4",
   "metadata": {},
   "source": [
    "## Шаг 4. Детализируем исследование: открытие кофейни <a id=\"4\"></a>\n",
    "Основателям фонда «Shut Up and Take My Money» не даёт покоя успех сериала «Друзья». Их мечта — открыть такую же крутую и доступную, как «Central Perk», кофейню в Москве. Будем считать, что заказчики не боятся конкуренции в этой сфере, ведь кофеен в больших городах уже достаточно. Попробуйте определить, осуществима ли мечта клиентов.\n",
    "\n",
    "- Ответим на следующие вопросы:\n",
    "    - Сколько всего кофеен в датасете? В каких районах их больше всего, каковы особенности их расположения?\n",
    "    - Есть ли круглосуточные кофейни?\n",
    "    - Какие у кофеен рейтинги? Как они распределяются по районам?\n",
    "    - На какую стоимость чашки капучино стоит ориентироваться при открытии и почему?\n",
    "    - По желанию вы можете расширить список вопросов для исследования, добавив собственные.\n",
    "    - Постройте визуализации. Попробуйте дать рекомендацию для открытия нового заведения. Это творческое задание: здесь нет правильного или неправильного ответа, но ваше решение должно быть чем-то обосновано. Объяснить свою рекомендацию можно текстом с описанием или маркерами на географической карте."
   ]
  },
  {
   "cell_type": "code",
   "execution_count": null,
   "id": "b99b520a",
   "metadata": {},
   "outputs": [],
   "source": [
    "pd.DataFrame(\n",
    "    columns=['вопрос','ответ'],\n",
    "    data=[\n",
    "        ['Сколько всего кофеен в датасете?',len(data[data['category'] == 'кофейня'])],\n",
    "        ['В каких районах их больше всего', 'Центральный административный округ - 428шт.'],\n",
    "        \n",
    "    ]\n",
    ")"
   ]
  },
  {
   "cell_type": "code",
   "execution_count": null,
   "id": "e37c1ef8",
   "metadata": {},
   "outputs": [],
   "source": [
    "# концентрация кофеен по районам\n",
    "ax = sns.barplot(\n",
    "    x='name',\n",
    "    y='district',\n",
    "    data=(\n",
    "        data[data['category'] == 'кофейня'].\n",
    "        groupby('district')['name']\n",
    "        .count().reset_index()\n",
    "        .sort_values('name', ascending=False)\n",
    "    )\n",
    ")"
   ]
  },
  {
   "cell_type": "code",
   "execution_count": null,
   "id": "21096081",
   "metadata": {},
   "outputs": [],
   "source": [
    "# перестроим по другому\n",
    "fig = px.bar(\n",
    "    (\n",
    "        data[data['category'] == 'кофейня'].\n",
    "        groupby('district')['name']\n",
    "        .count().reset_index()\n",
    "        .sort_values('name', ascending=True)\n",
    "    ), # загружаем данные и заново их сортируем\n",
    "    x='name', # указываем столбец с данными для оси X\n",
    "    y='district', # указываем столбец с данными для оси Y\n",
    "    text='name' # добавляем аргумент, который отобразит текст с информацией\n",
    ")\n",
    "# оформляем график\n",
    "fig.update_layout(title='Распределение кофеен по АО',\n",
    "                   xaxis_title='Количество заведений',\n",
    "                   yaxis_title='Район')\n",
    "fig.show() # выводим график"
   ]
  },
  {
   "cell_type": "code",
   "execution_count": null,
   "id": "cf20b699",
   "metadata": {},
   "outputs": [],
   "source": [
    "data_rating_koffee = data[data['category'] == 'кофейня'].groupby('district')['rating'].mean().reset_index()\n",
    "data_rating_koffee"
   ]
  },
  {
   "cell_type": "markdown",
   "id": "8ba4393b",
   "metadata": {},
   "source": [
    "<div class=\"alert alert-warning\">\n",
    "\n",
    "**⚠️Комментарий ревьюера**\n",
    "вместо медианы лучше взять среднее, чтобы лучше была видна разницу между районами </div>"
   ]
  },
  {
   "cell_type": "code",
   "execution_count": null,
   "id": "14c68162",
   "metadata": {},
   "outputs": [],
   "source": [
    "# создадми хороплет по кофейням\n",
    "\n",
    "# moscow_lat - широта центра Москвы, moscow_lng - долгота центра Москвы\n",
    "moscow_lat, moscow_lng = 55.751244, 37.618423\n",
    "\n",
    "# создаём карту Москвы\n",
    "m_4 = Map(location=[moscow_lat, moscow_lng], zoom_start=10)\n",
    "\n",
    "# Отобразим все заведения датасета на карте с помощью кластеров средствами библиотеки folium.\n",
    "\n",
    "# создаём пустой кластер, добавляем его на карту\n",
    "marker_cluster_4 = MarkerCluster().add_to(m_4)\n",
    "\n",
    "# пишем функцию, которая принимает строку датафрейма,\n",
    "# создаёт маркер в текущей точке и добавляет его в кластер marker_cluster\n",
    "def create_clusters(row):\n",
    "    Marker(\n",
    "        [row['lat'], row['lng']],\n",
    "        popup=f\"{row['name']} {row['category']}\",\n",
    "    ).add_to(marker_cluster_4)\n",
    "\n",
    "# применяем функцию create_clusters() к каждой строке датафрейма\n",
    "data[data['category'] == 'кофейня'].apply(create_clusters, axis=1)\n",
    "\n",
    "# Добавим хороплет с рейтингом по районам\n",
    "Choropleth(\n",
    "        geo_data=state_geo,\n",
    "        data=(\n",
    "            data[data['category'] == 'кофейня']\n",
    "            .groupby('district')['rating']\n",
    "            .mean()\n",
    "            .reset_index()\n",
    "        ),\n",
    "        columns=['district', 'rating'],\n",
    "        key_on='feature.name',\n",
    "        fill_color='YlGn',\n",
    "        fill_opacity=0.6,\n",
    "        legend_name='Медианный рейтинг кофеен по районам'\n",
    ").add_to(m_4)\n",
    "\n",
    "# выводим карту\n",
    "m_4"
   ]
  },
  {
   "cell_type": "code",
   "execution_count": null,
   "id": "c384dd70",
   "metadata": {},
   "outputs": [],
   "source": [
    "# соотношение круглосуточных кофеен и обычных\n",
    "\n",
    "data_24_7 = data[data['category'] == 'кофейня'].groupby('is_24/7')['name'].count().reset_index()\n",
    "data_24_7 = data_24_7.replace(False,'не_клуглосуточная').replace(True,'круглосуточная')\n",
    "\n",
    "fig = px.pie(\n",
    "    data_24_7, \n",
    "    values='name', \n",
    "    names='is_24/7', \n",
    "    title='Распределение круглосуточных и не круглосуточных кофеен'\n",
    ")\n",
    "fig.show()"
   ]
  },
  {
   "cell_type": "markdown",
   "id": "f595eeca",
   "metadata": {},
   "source": [
    "<div class=\"alert alert-warning\">\n",
    "\n",
    "**⚠️Комментарий ревьюера**\n",
    "если есть возможность то лучше использовать хороплет, чтобы показать что то по районам </div>"
   ]
  },
  {
   "cell_type": "markdown",
   "id": "eb03a304",
   "metadata": {},
   "source": [
    "### На какую стоимость чашки капучино стоит ориентироваться при открытии и почему?\n",
    "- Найдем медианную стоимость чашки кофе по районам\n",
    "- Сделаем 5% дисконт от этой стоимости на 2 месяца, в честь открытия. Для раскрутки кафе."
   ]
  },
  {
   "cell_type": "code",
   "execution_count": null,
   "id": "8383f7d0",
   "metadata": {},
   "outputs": [],
   "source": [
    "data_koffee_cup_5_perc = (\n",
    "    data[data['category'] == 'кофейня']\n",
    "    .groupby('district')['middle_coffee_cup']\n",
    "    .median().reset_index()\n",
    "    .sort_values('middle_coffee_cup')\n",
    ")\n",
    "data_koffee_cup_5_perc['middle_coffee_cup'] = (\n",
    "    data_koffee_cup_5_perc['middle_coffee_cup'].map(lambda x : round(x * 0.95))\n",
    ")\n",
    "data_koffee_cup_5_perc"
   ]
  },
  {
   "cell_type": "code",
   "execution_count": null,
   "id": "263fcb16",
   "metadata": {},
   "outputs": [],
   "source": [
    "# На какую стоимость чашки капучино стоит ориентироваться при открытии и почему?\n",
    "\n",
    "# построим barplot с медианным чеком на чашку капучино по районам\n",
    "\n",
    "ax = sns.barplot(\n",
    "    x='middle_coffee_cup',\n",
    "    y='district',\n",
    "    data = data_koffee_cup_5_perc\n",
    ")\n",
    "plt.title('Стоимость чашки кофе по АО')\n",
    "plt.ylabel('район')\n",
    "plt.xlabel('стоимость чашки кофе')\n"
   ]
  },
  {
   "cell_type": "code",
   "execution_count": null,
   "id": "a49539d9",
   "metadata": {},
   "outputs": [],
   "source": [
    "# перестроим по другому Для презентации\n",
    "fig = px.bar(\n",
    "    data_koffee_cup_5_perc, # загружаем данные и заново их сортируем\n",
    "    x='middle_coffee_cup', # указываем столбец с данными для оси X\n",
    "    y='district', # указываем столбец с данными для оси Y\n",
    "    text='middle_coffee_cup' # добавляем аргумент, который отобразит текст с информацией\n",
    ")\n",
    "# оформляем график\n",
    "fig.update_layout(title='Стоимость чашки кофе по районам',\n",
    "                   xaxis_title='Стоимость',\n",
    "                   yaxis_title='Район')\n",
    "fig.show() # выводим график"
   ]
  },
  {
   "cell_type": "code",
   "execution_count": null,
   "id": "a1192167",
   "metadata": {},
   "outputs": [],
   "source": [
    "# покажем стоимость чашки кофе на хороплете\n",
    "\n",
    "# moscow_lat - широта центра Москвы, moscow_lng - долгота центра Москвы\n",
    "moscow_lat, moscow_lng = 55.751244, 37.618423\n",
    "\n",
    "# создаём карту Москвы\n",
    "m_5 = Map(location=[moscow_lat, moscow_lng], zoom_start=10)\n",
    "\n",
    "# Добавим хороплет с стоимостью чашки кофе по районам\n",
    "Choropleth(\n",
    "        geo_data=state_geo,\n",
    "        data=data_koffee_cup_5_perc,\n",
    "        columns=['district', 'middle_coffee_cup'],\n",
    "        key_on='feature.name',\n",
    "        fill_color='YlGn',\n",
    "        fill_opacity=0.6,\n",
    "        legend_name='стоимостью чашки кофе по районам'\n",
    ").add_to(m_5)\n",
    "\n",
    "# выводим карту\n",
    "m_5"
   ]
  },
  {
   "cell_type": "markdown",
   "id": "aa39b07b",
   "metadata": {},
   "source": [
    "- Западный, Центральный, и ЮгоЗападный АО имеют самый высокий чек на чашку кофе."
   ]
  },
  {
   "cell_type": "code",
   "execution_count": null,
   "id": "7c0151a4",
   "metadata": {},
   "outputs": [],
   "source": [
    "# построим violinplot по стоимостям за чашку кофе на сегодняшний день. Посмотрим как равпределена стоимость по районам.\n",
    "\n",
    "sns.set_style('darkgrid')\n",
    "# строим график violinplot средствами seaborn\n",
    "sns.violinplot(\n",
    "    x='middle_coffee_cup', \n",
    "    y='district', \n",
    "    data=(\n",
    "        data[data['category'] == 'кофейня']\n",
    "    )\n",
    ")\n",
    "# ограничиваем ось X для наглядности\n",
    "plt.xlim(0, 500)\n",
    "# указываем заголовок графика и подписи осей средствами matplotlib\n",
    "plt.title('Распределение стоимости чашки кофе в зависимости от района')\n",
    "plt.xlabel('район')\n",
    "plt.ylabel('стоимость')\n",
    "# отображаем график на экране\n",
    "plt.show()"
   ]
  },
  {
   "cell_type": "code",
   "execution_count": null,
   "id": "ec5077ae",
   "metadata": {},
   "outputs": [],
   "source": [
    "data['district'].unique().tolist()"
   ]
  },
  {
   "cell_type": "code",
   "execution_count": null,
   "id": "f1c2c550",
   "metadata": {},
   "outputs": [],
   "source": [
    "# посмотрим нашлядно концентрацию кофеен на одного проживающего в административном округе\n",
    "\n",
    "# создаем ДФ с названием района и численностью кофеен на район\n",
    "data_coffee_count = (data[data['category'] == 'кофейня'].\n",
    "        groupby('district')['name']\n",
    "        .count().reset_index()\n",
    "        .sort_values('name', ascending=False))\n",
    "data_coffee_count.columns = data_coffee_count.columns.str.replace('name','count')\n",
    "data_coffee_count\n",
    "\n",
    "# создадим ДФ с численностью жителей района\n",
    "data_people = pd.DataFrame(\n",
    "    columns=['district','people'],\n",
    "    data = [\n",
    "        ['Северный административный округ', 1600000],\n",
    "        ['Северо-Восточный административный округ', 1437668],\n",
    "        ['Северо-Западный административный округ', 1031149],\n",
    "        ['Западный административный округ', 1437153],\n",
    "        ['Центральный административный округ', 772258],\n",
    "        ['Восточный административный округ',1512946],\n",
    "        ['Юго-Восточный административный округ', 1492257],\n",
    "        ['Южный административный округ',1789371],\n",
    "        ['Юго-Западный административный округ',1431903]    \n",
    "    ]\n",
    ")\n",
    "# соединим\n",
    "\n",
    "data_coffee_people = data_coffee_count.merge(data_people, on='district')\n",
    "data_coffee_people['кофеен_на_жителя'] = data_coffee_people['count']/data_coffee_people['people']\n",
    "data_coffee_people\n",
    "\n",
    "# построим карту и хороплет\n",
    "\n",
    "# moscow_lat - широта центра Москвы, moscow_lng - долгота центра Москвы\n",
    "moscow_lat, moscow_lng = 55.751244, 37.618423\n",
    "\n",
    "# создаём карту Москвы\n",
    "m_6 = Map(location=[moscow_lat, moscow_lng], zoom_start=10)\n",
    "\n",
    "# Добавим хороплет с стоимостью чашки кофе по районам\n",
    "Choropleth(\n",
    "        geo_data=state_geo,\n",
    "        data=data_coffee_people,\n",
    "        columns=['district', 'кофеен_на_жителя'],\n",
    "        key_on='feature.name',\n",
    "        fill_color='YlOrRd',\n",
    "        fill_opacity=0.6,\n",
    "        legend_name='кол-во кофеен на 1 жителя'\n",
    ").add_to(m_6)\n",
    "\n",
    "# выводим карту\n",
    "m_6"
   ]
  },
  {
   "cell_type": "code",
   "execution_count": null,
   "id": "db878821",
   "metadata": {},
   "outputs": [],
   "source": [
    "ax = sns.barplot(\n",
    "    x='кофеен_на_жителя',\n",
    "    y='district',\n",
    "    data = data_coffee_people\n",
    ")\n",
    "plt.title('Концентрация кофеен на одного жителя')\n",
    "plt.ylabel('район')\n",
    "plt.xlabel('кол-во кофеен на жителя')"
   ]
  },
  {
   "cell_type": "markdown",
   "id": "b1f416fe",
   "metadata": {},
   "source": [
    "#### Итог. Детализация исследования. Рекомендацию для открытия нового заведения.\n",
    "- Стоимость чашки кофе имеет высокий показатель в районах:\n",
    "    - Западный АО\n",
    "    - Центральный АО\n",
    "    - ЮгоЗападный АО\n",
    "- Из низ, Западный АО Имеет самый низкий из всех показатель рейтинга\n",
    "    - Говорит о том, что сервис заведений храмает. Что может быть конкурентным преимуществом для новой кофейни.\n",
    "- Что касается концентрации кофеен на 1 жителя, то центральный АО имеет явный отрыв в 6 раз. То есть их очень много и конкуренция большая.\n",
    "    - Но это значит что и поток клиентов там хороший что плюс.\n",
    "    - Большой трафик означает высокую стоимость аренды - это минус.\n",
    "\n",
    "#### Рекомендации:\n",
    "- Наиболее интересными для первой кофейни являются.\n",
    "    - Западный\n",
    "        - Он же храмает по сервису и рейтингу.\n",
    "    - Центральны\n",
    "    - Юго Западный АО\n",
    "- Продолжить исследования и учитывать следующие факторы по каждому району:\n",
    "    - Трафик и проходимость\n",
    "    - Стоимость аренды помещения\n",
    "    - Считать рентабельность и срок выхода в Безубыток.\n",
    "        - У кофейни может быть высокий средний чек, но при завышенно аренде возможно будет выгоднее открыть кофейню с вредним чеком ниже, но окупится она быстрее.\n",
    "    - Рассматривать проходимость по конкретным предложениям аренды."
   ]
  },
  {
   "cell_type": "markdown",
   "id": "a7b92624",
   "metadata": {},
   "source": [
    "[К оглавлению](#start)"
   ]
  },
  {
   "cell_type": "markdown",
   "id": "be3b6905",
   "metadata": {},
   "source": [
    "## Шаг 4. Презентация <a id=\"5\"></a>\n",
    "[Презентация на гугл диске](https://drive.google.com/file/d/1IisqW_9W-ecyM43VG00uP0G4owHOVSAl/view?usp=share_link)"
   ]
  },
  {
   "cell_type": "markdown",
   "id": "4ad195a7",
   "metadata": {},
   "source": [
    "---"
   ]
  },
  {
   "cell_type": "markdown",
   "id": "bb94679c",
   "metadata": {},
   "source": [
    "[К оглавлению](#start)"
   ]
  },
  {
   "cell_type": "markdown",
   "id": "39696554",
   "metadata": {},
   "source": [
    "<div class=\"alert alert-danger\">\n",
    "\n",
    "**❌Комментарий ревьюера**\n",
    "Кирилл, ты молодец. Хорошо поработал над проектом. Построил отличные графики. Здорово, что использовал `plotly` и другие библиотеки. У тебя получились хорошие промежуточные и общие выводы по проекту. Дал полезные рекомендации по кофейням. Подготовил хорошую презентацию, молодец, что не оставил просто белый фон.\n",
    "\n",
    "В проекте ты найдешь несколько замечаний и рекомендаций, которые позволят тебе сделать твой проект еще лучше. Пожалуйста, внеси изменения и присылай работу на повторную проверку</div>"
   ]
  },
  {
   "cell_type": "markdown",
   "id": "06a818ef",
   "metadata": {},
   "source": [
    "<div class=\"alert alert-danger\">\n",
    "\n",
    "**❌Комментарий ревьюера В2**\n",
    "практически все исправления принял. Осталось только доработать по визуализации несколько графиков. Оставил ответ на твой вопрос про быстрый способ посчитать долю сетевых заведений по категориям \n",
    "</div>"
   ]
  },
  {
   "cell_type": "markdown",
   "id": "32f37c5a",
   "metadata": {},
   "source": [
    "<div class=\"alert alert-success\">\n",
    "\n",
    "**✅Комментарий ревьюера В3**\n",
    "Исправления принял. Проект тоже принимаю, удачи в дальнейшей учебе\n",
    "</div>"
   ]
  },
  {
   "cell_type": "code",
   "execution_count": null,
   "id": "ce5cde95",
   "metadata": {},
   "outputs": [],
   "source": []
  }
 ],
 "metadata": {
  "ExecuteTimeLog": [
   {
    "duration": 1071,
    "start_time": "2023-02-05T19:52:53.402Z"
   },
   {
    "duration": 281,
    "start_time": "2023-02-05T19:52:54.475Z"
   },
   {
    "duration": 521,
    "start_time": "2023-02-05T19:52:54.757Z"
   },
   {
    "duration": 0,
    "start_time": "2023-02-05T19:52:55.281Z"
   },
   {
    "duration": 0,
    "start_time": "2023-02-05T19:52:55.282Z"
   },
   {
    "duration": 0,
    "start_time": "2023-02-05T19:52:55.284Z"
   },
   {
    "duration": 0,
    "start_time": "2023-02-05T19:52:55.285Z"
   },
   {
    "duration": 0,
    "start_time": "2023-02-05T19:52:55.287Z"
   },
   {
    "duration": 0,
    "start_time": "2023-02-05T19:52:55.288Z"
   },
   {
    "duration": 0,
    "start_time": "2023-02-05T19:52:55.290Z"
   },
   {
    "duration": 0,
    "start_time": "2023-02-05T19:52:55.292Z"
   },
   {
    "duration": 0,
    "start_time": "2023-02-05T19:52:55.294Z"
   },
   {
    "duration": 0,
    "start_time": "2023-02-05T19:52:55.295Z"
   },
   {
    "duration": 0,
    "start_time": "2023-02-05T19:52:55.297Z"
   },
   {
    "duration": 0,
    "start_time": "2023-02-05T19:52:55.299Z"
   },
   {
    "duration": 0,
    "start_time": "2023-02-05T19:52:55.300Z"
   },
   {
    "duration": 0,
    "start_time": "2023-02-05T19:52:55.302Z"
   },
   {
    "duration": 0,
    "start_time": "2023-02-05T19:52:55.304Z"
   },
   {
    "duration": 0,
    "start_time": "2023-02-05T19:52:55.305Z"
   },
   {
    "duration": 0,
    "start_time": "2023-02-05T19:52:55.307Z"
   },
   {
    "duration": 0,
    "start_time": "2023-02-05T19:52:55.308Z"
   },
   {
    "duration": 0,
    "start_time": "2023-02-05T19:52:55.310Z"
   },
   {
    "duration": 0,
    "start_time": "2023-02-05T19:52:55.311Z"
   },
   {
    "duration": 0,
    "start_time": "2023-02-05T19:52:55.312Z"
   },
   {
    "duration": 0,
    "start_time": "2023-02-05T19:52:55.314Z"
   },
   {
    "duration": 0,
    "start_time": "2023-02-05T19:52:55.315Z"
   },
   {
    "duration": 0,
    "start_time": "2023-02-05T19:52:55.317Z"
   },
   {
    "duration": 0,
    "start_time": "2023-02-05T19:52:55.318Z"
   },
   {
    "duration": 0,
    "start_time": "2023-02-05T19:52:55.338Z"
   },
   {
    "duration": 0,
    "start_time": "2023-02-05T19:52:55.339Z"
   },
   {
    "duration": 0,
    "start_time": "2023-02-05T19:52:55.341Z"
   },
   {
    "duration": 0,
    "start_time": "2023-02-05T19:52:55.342Z"
   },
   {
    "duration": 1113,
    "start_time": "2023-02-05T19:54:00.751Z"
   },
   {
    "duration": 291,
    "start_time": "2023-02-05T19:54:01.866Z"
   },
   {
    "duration": 536,
    "start_time": "2023-02-05T19:54:02.160Z"
   },
   {
    "duration": 0,
    "start_time": "2023-02-05T19:54:02.703Z"
   },
   {
    "duration": 0,
    "start_time": "2023-02-05T19:54:02.705Z"
   },
   {
    "duration": 0,
    "start_time": "2023-02-05T19:54:02.706Z"
   },
   {
    "duration": 0,
    "start_time": "2023-02-05T19:54:02.707Z"
   },
   {
    "duration": 0,
    "start_time": "2023-02-05T19:54:02.709Z"
   },
   {
    "duration": 0,
    "start_time": "2023-02-05T19:54:02.711Z"
   },
   {
    "duration": 0,
    "start_time": "2023-02-05T19:54:02.712Z"
   },
   {
    "duration": 0,
    "start_time": "2023-02-05T19:54:02.713Z"
   },
   {
    "duration": 0,
    "start_time": "2023-02-05T19:54:02.715Z"
   },
   {
    "duration": 0,
    "start_time": "2023-02-05T19:54:02.716Z"
   },
   {
    "duration": 0,
    "start_time": "2023-02-05T19:54:02.718Z"
   },
   {
    "duration": 0,
    "start_time": "2023-02-05T19:54:02.719Z"
   },
   {
    "duration": 0,
    "start_time": "2023-02-05T19:54:02.720Z"
   },
   {
    "duration": 0,
    "start_time": "2023-02-05T19:54:02.722Z"
   },
   {
    "duration": 0,
    "start_time": "2023-02-05T19:54:02.723Z"
   },
   {
    "duration": 0,
    "start_time": "2023-02-05T19:54:02.725Z"
   },
   {
    "duration": 0,
    "start_time": "2023-02-05T19:54:02.726Z"
   },
   {
    "duration": 0,
    "start_time": "2023-02-05T19:54:02.728Z"
   },
   {
    "duration": 0,
    "start_time": "2023-02-05T19:54:02.729Z"
   },
   {
    "duration": 0,
    "start_time": "2023-02-05T19:54:02.731Z"
   },
   {
    "duration": 0,
    "start_time": "2023-02-05T19:54:02.732Z"
   },
   {
    "duration": 0,
    "start_time": "2023-02-05T19:54:02.733Z"
   },
   {
    "duration": 0,
    "start_time": "2023-02-05T19:54:02.735Z"
   },
   {
    "duration": 0,
    "start_time": "2023-02-05T19:54:02.736Z"
   },
   {
    "duration": 0,
    "start_time": "2023-02-05T19:54:02.738Z"
   },
   {
    "duration": 0,
    "start_time": "2023-02-05T19:54:02.739Z"
   },
   {
    "duration": 0,
    "start_time": "2023-02-05T19:54:02.740Z"
   },
   {
    "duration": 0,
    "start_time": "2023-02-05T19:54:02.741Z"
   },
   {
    "duration": 0,
    "start_time": "2023-02-05T19:54:02.742Z"
   },
   {
    "duration": 1290,
    "start_time": "2023-02-06T06:22:14.092Z"
   },
   {
    "duration": 844,
    "start_time": "2023-02-06T06:22:15.384Z"
   },
   {
    "duration": 364,
    "start_time": "2023-02-06T06:22:16.229Z"
   },
   {
    "duration": 0,
    "start_time": "2023-02-06T06:22:16.595Z"
   },
   {
    "duration": 0,
    "start_time": "2023-02-06T06:22:16.597Z"
   },
   {
    "duration": 0,
    "start_time": "2023-02-06T06:22:16.598Z"
   },
   {
    "duration": 0,
    "start_time": "2023-02-06T06:22:16.599Z"
   },
   {
    "duration": 0,
    "start_time": "2023-02-06T06:22:16.600Z"
   },
   {
    "duration": 0,
    "start_time": "2023-02-06T06:22:16.602Z"
   },
   {
    "duration": 0,
    "start_time": "2023-02-06T06:22:16.603Z"
   },
   {
    "duration": 0,
    "start_time": "2023-02-06T06:22:16.604Z"
   },
   {
    "duration": 0,
    "start_time": "2023-02-06T06:22:16.606Z"
   },
   {
    "duration": 0,
    "start_time": "2023-02-06T06:22:16.607Z"
   },
   {
    "duration": 0,
    "start_time": "2023-02-06T06:22:16.608Z"
   },
   {
    "duration": 0,
    "start_time": "2023-02-06T06:22:16.609Z"
   },
   {
    "duration": 0,
    "start_time": "2023-02-06T06:22:16.610Z"
   },
   {
    "duration": 0,
    "start_time": "2023-02-06T06:22:16.612Z"
   },
   {
    "duration": 0,
    "start_time": "2023-02-06T06:22:16.613Z"
   },
   {
    "duration": 0,
    "start_time": "2023-02-06T06:22:16.615Z"
   },
   {
    "duration": 0,
    "start_time": "2023-02-06T06:22:16.616Z"
   },
   {
    "duration": 0,
    "start_time": "2023-02-06T06:22:16.617Z"
   },
   {
    "duration": 0,
    "start_time": "2023-02-06T06:22:16.618Z"
   },
   {
    "duration": 0,
    "start_time": "2023-02-06T06:22:16.619Z"
   },
   {
    "duration": 0,
    "start_time": "2023-02-06T06:22:16.620Z"
   },
   {
    "duration": 0,
    "start_time": "2023-02-06T06:22:16.621Z"
   },
   {
    "duration": 0,
    "start_time": "2023-02-06T06:22:16.622Z"
   },
   {
    "duration": 1,
    "start_time": "2023-02-06T06:22:16.623Z"
   },
   {
    "duration": 0,
    "start_time": "2023-02-06T06:22:16.625Z"
   },
   {
    "duration": 0,
    "start_time": "2023-02-06T06:22:16.626Z"
   },
   {
    "duration": 0,
    "start_time": "2023-02-06T06:22:16.627Z"
   },
   {
    "duration": 0,
    "start_time": "2023-02-06T06:22:16.628Z"
   },
   {
    "duration": 0,
    "start_time": "2023-02-06T06:22:16.629Z"
   },
   {
    "duration": 12,
    "start_time": "2023-02-06T06:22:25.696Z"
   },
   {
    "duration": 154,
    "start_time": "2023-02-06T06:22:35.029Z"
   },
   {
    "duration": 10,
    "start_time": "2023-02-06T06:22:35.393Z"
   },
   {
    "duration": 3,
    "start_time": "2023-02-06T06:22:40.435Z"
   },
   {
    "duration": 1023,
    "start_time": "2023-02-06T06:22:47.062Z"
   },
   {
    "duration": 156,
    "start_time": "2023-02-06T06:22:48.087Z"
   },
   {
    "duration": 4,
    "start_time": "2023-02-06T06:22:48.245Z"
   },
   {
    "duration": 32,
    "start_time": "2023-02-06T06:22:48.251Z"
   },
   {
    "duration": 25,
    "start_time": "2023-02-06T06:22:48.285Z"
   },
   {
    "duration": 68,
    "start_time": "2023-02-06T06:22:48.312Z"
   },
   {
    "duration": 31,
    "start_time": "2023-02-06T06:22:48.382Z"
   },
   {
    "duration": 333,
    "start_time": "2023-02-06T06:22:48.415Z"
   },
   {
    "duration": 192,
    "start_time": "2023-02-06T06:22:48.749Z"
   },
   {
    "duration": 167,
    "start_time": "2023-02-06T06:22:48.944Z"
   },
   {
    "duration": 17,
    "start_time": "2023-02-06T06:22:49.113Z"
   },
   {
    "duration": 139,
    "start_time": "2023-02-06T06:22:49.132Z"
   },
   {
    "duration": 10,
    "start_time": "2023-02-06T06:22:49.273Z"
   },
   {
    "duration": 40,
    "start_time": "2023-02-06T06:22:49.285Z"
   },
   {
    "duration": 104,
    "start_time": "2023-02-06T06:22:49.326Z"
   },
   {
    "duration": 99,
    "start_time": "2023-02-06T06:22:49.432Z"
   },
   {
    "duration": 18,
    "start_time": "2023-02-06T06:22:49.533Z"
   },
   {
    "duration": 98,
    "start_time": "2023-02-06T06:22:49.553Z"
   },
   {
    "duration": 13,
    "start_time": "2023-02-06T06:22:49.653Z"
   },
   {
    "duration": 10,
    "start_time": "2023-02-06T06:22:49.667Z"
   },
   {
    "duration": 52,
    "start_time": "2023-02-06T06:22:49.679Z"
   },
   {
    "duration": 7,
    "start_time": "2023-02-06T06:22:49.732Z"
   },
   {
    "duration": 4,
    "start_time": "2023-02-06T06:22:49.741Z"
   },
   {
    "duration": 10,
    "start_time": "2023-02-06T06:22:49.747Z"
   },
   {
    "duration": 96,
    "start_time": "2023-02-06T06:22:49.758Z"
   },
   {
    "duration": 10,
    "start_time": "2023-02-06T06:22:49.855Z"
   },
   {
    "duration": 7,
    "start_time": "2023-02-06T06:22:49.867Z"
   },
   {
    "duration": 41,
    "start_time": "2023-02-06T06:22:49.877Z"
   },
   {
    "duration": 5,
    "start_time": "2023-02-06T06:22:49.920Z"
   },
   {
    "duration": 86,
    "start_time": "2023-02-06T06:22:49.927Z"
   },
   {
    "duration": 5,
    "start_time": "2023-02-06T06:22:50.016Z"
   },
   {
    "duration": 109,
    "start_time": "2023-02-06T06:22:50.023Z"
   },
   {
    "duration": 1313,
    "start_time": "2023-02-07T02:35:47.006Z"
   },
   {
    "duration": 571,
    "start_time": "2023-02-07T02:35:48.321Z"
   },
   {
    "duration": 4,
    "start_time": "2023-02-07T02:35:48.893Z"
   },
   {
    "duration": 59,
    "start_time": "2023-02-07T02:35:48.898Z"
   },
   {
    "duration": 16,
    "start_time": "2023-02-07T02:35:48.960Z"
   },
   {
    "duration": 89,
    "start_time": "2023-02-07T02:35:48.978Z"
   },
   {
    "duration": 13,
    "start_time": "2023-02-07T02:35:49.068Z"
   },
   {
    "duration": 381,
    "start_time": "2023-02-07T02:35:49.083Z"
   },
   {
    "duration": 204,
    "start_time": "2023-02-07T02:35:49.466Z"
   },
   {
    "duration": 247,
    "start_time": "2023-02-07T02:35:49.672Z"
   },
   {
    "duration": 29,
    "start_time": "2023-02-07T02:35:49.921Z"
   },
   {
    "duration": 129,
    "start_time": "2023-02-07T02:35:49.952Z"
   },
   {
    "duration": 9,
    "start_time": "2023-02-07T02:35:50.084Z"
   },
   {
    "duration": 60,
    "start_time": "2023-02-07T02:35:50.097Z"
   },
   {
    "duration": 165,
    "start_time": "2023-02-07T02:35:50.159Z"
   },
   {
    "duration": 101,
    "start_time": "2023-02-07T02:35:50.326Z"
   },
   {
    "duration": 27,
    "start_time": "2023-02-07T02:35:50.428Z"
   },
   {
    "duration": 111,
    "start_time": "2023-02-07T02:35:50.457Z"
   },
   {
    "duration": 13,
    "start_time": "2023-02-07T02:35:50.572Z"
   },
   {
    "duration": 16,
    "start_time": "2023-02-07T02:35:50.588Z"
   },
   {
    "duration": 76,
    "start_time": "2023-02-07T02:35:50.606Z"
   },
   {
    "duration": 8,
    "start_time": "2023-02-07T02:35:50.684Z"
   },
   {
    "duration": 7,
    "start_time": "2023-02-07T02:35:50.694Z"
   },
   {
    "duration": 21,
    "start_time": "2023-02-07T02:35:50.703Z"
   },
   {
    "duration": 95,
    "start_time": "2023-02-07T02:35:50.726Z"
   },
   {
    "duration": 11,
    "start_time": "2023-02-07T02:35:50.823Z"
   },
   {
    "duration": 20,
    "start_time": "2023-02-07T02:35:50.836Z"
   },
   {
    "duration": 47,
    "start_time": "2023-02-07T02:35:50.858Z"
   },
   {
    "duration": 8,
    "start_time": "2023-02-07T02:35:50.907Z"
   },
   {
    "duration": 116,
    "start_time": "2023-02-07T02:35:50.917Z"
   },
   {
    "duration": 9,
    "start_time": "2023-02-07T02:35:51.049Z"
   },
   {
    "duration": 115,
    "start_time": "2023-02-07T02:35:51.060Z"
   },
   {
    "duration": 1140,
    "start_time": "2023-02-07T02:37:59.922Z"
   },
   {
    "duration": 168,
    "start_time": "2023-02-07T02:38:01.064Z"
   },
   {
    "duration": 3,
    "start_time": "2023-02-07T02:38:01.234Z"
   },
   {
    "duration": 75,
    "start_time": "2023-02-07T02:38:01.240Z"
   },
   {
    "duration": 18,
    "start_time": "2023-02-07T02:38:01.317Z"
   },
   {
    "duration": 138,
    "start_time": "2023-02-07T02:38:01.337Z"
   },
   {
    "duration": 15,
    "start_time": "2023-02-07T02:38:01.477Z"
   },
   {
    "duration": 401,
    "start_time": "2023-02-07T02:38:01.494Z"
   },
   {
    "duration": 278,
    "start_time": "2023-02-07T02:38:01.897Z"
   },
   {
    "duration": 191,
    "start_time": "2023-02-07T02:38:02.177Z"
   },
   {
    "duration": 23,
    "start_time": "2023-02-07T02:38:02.371Z"
   },
   {
    "duration": 175,
    "start_time": "2023-02-07T02:38:02.396Z"
   },
   {
    "duration": 13,
    "start_time": "2023-02-07T02:38:02.575Z"
   },
   {
    "duration": 31,
    "start_time": "2023-02-07T02:38:02.590Z"
   },
   {
    "duration": 151,
    "start_time": "2023-02-07T02:38:02.623Z"
   },
   {
    "duration": 116,
    "start_time": "2023-02-07T02:38:02.776Z"
   },
   {
    "duration": 20,
    "start_time": "2023-02-07T02:38:02.894Z"
   },
   {
    "duration": 115,
    "start_time": "2023-02-07T02:38:02.916Z"
   },
   {
    "duration": 19,
    "start_time": "2023-02-07T02:38:03.033Z"
   },
   {
    "duration": 20,
    "start_time": "2023-02-07T02:38:03.054Z"
   },
   {
    "duration": 58,
    "start_time": "2023-02-07T02:38:03.076Z"
   },
   {
    "duration": 18,
    "start_time": "2023-02-07T02:38:03.136Z"
   },
   {
    "duration": 20,
    "start_time": "2023-02-07T02:38:03.156Z"
   },
   {
    "duration": 14,
    "start_time": "2023-02-07T02:38:03.178Z"
   },
   {
    "duration": 136,
    "start_time": "2023-02-07T02:38:03.194Z"
   },
   {
    "duration": 19,
    "start_time": "2023-02-07T02:38:03.333Z"
   },
   {
    "duration": 23,
    "start_time": "2023-02-07T02:38:03.354Z"
   },
   {
    "duration": 60,
    "start_time": "2023-02-07T02:38:03.381Z"
   },
   {
    "duration": 20,
    "start_time": "2023-02-07T02:38:03.444Z"
   },
   {
    "duration": 115,
    "start_time": "2023-02-07T02:38:03.466Z"
   },
   {
    "duration": 10,
    "start_time": "2023-02-07T02:38:03.584Z"
   },
   {
    "duration": 106,
    "start_time": "2023-02-07T02:38:03.596Z"
   },
   {
    "duration": 1654,
    "start_time": "2023-02-07T03:11:58.582Z"
   },
   {
    "duration": 271,
    "start_time": "2023-02-07T03:12:00.239Z"
   },
   {
    "duration": 5,
    "start_time": "2023-02-07T03:12:00.512Z"
   },
   {
    "duration": 92,
    "start_time": "2023-02-07T03:12:00.520Z"
   },
   {
    "duration": 18,
    "start_time": "2023-02-07T03:12:00.615Z"
   },
   {
    "duration": 134,
    "start_time": "2023-02-07T03:12:00.636Z"
   },
   {
    "duration": 20,
    "start_time": "2023-02-07T03:12:00.772Z"
   },
   {
    "duration": 601,
    "start_time": "2023-02-07T03:12:00.794Z"
   },
   {
    "duration": 314,
    "start_time": "2023-02-07T03:12:01.398Z"
   },
   {
    "duration": 268,
    "start_time": "2023-02-07T03:12:01.717Z"
   },
   {
    "duration": 23,
    "start_time": "2023-02-07T03:12:01.987Z"
   },
   {
    "duration": 187,
    "start_time": "2023-02-07T03:12:02.013Z"
   },
   {
    "duration": 13,
    "start_time": "2023-02-07T03:12:02.202Z"
   },
   {
    "duration": 57,
    "start_time": "2023-02-07T03:12:02.218Z"
   },
   {
    "duration": 186,
    "start_time": "2023-02-07T03:12:02.278Z"
   },
   {
    "duration": 164,
    "start_time": "2023-02-07T03:12:02.468Z"
   },
   {
    "duration": 32,
    "start_time": "2023-02-07T03:12:02.635Z"
   },
   {
    "duration": 152,
    "start_time": "2023-02-07T03:12:02.669Z"
   },
   {
    "duration": 17,
    "start_time": "2023-02-07T03:12:02.822Z"
   },
   {
    "duration": 25,
    "start_time": "2023-02-07T03:12:02.849Z"
   },
   {
    "duration": 72,
    "start_time": "2023-02-07T03:12:02.876Z"
   },
   {
    "duration": 14,
    "start_time": "2023-02-07T03:12:02.950Z"
   },
   {
    "duration": 17,
    "start_time": "2023-02-07T03:12:02.966Z"
   },
   {
    "duration": 32,
    "start_time": "2023-02-07T03:12:02.985Z"
   },
   {
    "duration": 145,
    "start_time": "2023-02-07T03:12:03.019Z"
   },
   {
    "duration": 14,
    "start_time": "2023-02-07T03:12:03.166Z"
   },
   {
    "duration": 45,
    "start_time": "2023-02-07T03:12:03.183Z"
   },
   {
    "duration": 76,
    "start_time": "2023-02-07T03:12:03.232Z"
   },
   {
    "duration": 8,
    "start_time": "2023-02-07T03:12:03.310Z"
   },
   {
    "duration": 139,
    "start_time": "2023-02-07T03:12:03.320Z"
   },
   {
    "duration": 12,
    "start_time": "2023-02-07T03:12:03.461Z"
   },
   {
    "duration": 189,
    "start_time": "2023-02-07T03:12:03.475Z"
   },
   {
    "duration": 44,
    "start_time": "2023-02-07T08:58:42.916Z"
   },
   {
    "duration": 1302,
    "start_time": "2023-02-07T08:58:52.084Z"
   },
   {
    "duration": 503,
    "start_time": "2023-02-07T08:58:53.388Z"
   },
   {
    "duration": 3,
    "start_time": "2023-02-07T08:58:53.893Z"
   },
   {
    "duration": 44,
    "start_time": "2023-02-07T08:58:53.898Z"
   },
   {
    "duration": 11,
    "start_time": "2023-02-07T08:58:53.943Z"
   },
   {
    "duration": 90,
    "start_time": "2023-02-07T08:58:53.956Z"
   },
   {
    "duration": 14,
    "start_time": "2023-02-07T08:58:54.047Z"
   },
   {
    "duration": 59,
    "start_time": "2023-02-07T08:58:54.062Z"
   },
   {
    "duration": 353,
    "start_time": "2023-02-07T08:58:54.122Z"
   },
   {
    "duration": 210,
    "start_time": "2023-02-07T08:58:54.478Z"
   },
   {
    "duration": 188,
    "start_time": "2023-02-07T08:58:54.693Z"
   },
   {
    "duration": 31,
    "start_time": "2023-02-07T08:58:54.883Z"
   },
   {
    "duration": 129,
    "start_time": "2023-02-07T08:58:54.916Z"
   },
   {
    "duration": 9,
    "start_time": "2023-02-07T08:58:55.047Z"
   },
   {
    "duration": 35,
    "start_time": "2023-02-07T08:58:55.058Z"
   },
   {
    "duration": 114,
    "start_time": "2023-02-07T08:58:55.094Z"
   },
   {
    "duration": 110,
    "start_time": "2023-02-07T08:58:55.209Z"
   },
   {
    "duration": 18,
    "start_time": "2023-02-07T08:58:55.321Z"
   },
   {
    "duration": 118,
    "start_time": "2023-02-07T08:58:55.341Z"
   },
   {
    "duration": 13,
    "start_time": "2023-02-07T08:58:55.460Z"
   },
   {
    "duration": 19,
    "start_time": "2023-02-07T08:58:55.474Z"
   },
   {
    "duration": 56,
    "start_time": "2023-02-07T08:58:55.495Z"
   },
   {
    "duration": 7,
    "start_time": "2023-02-07T08:58:55.552Z"
   },
   {
    "duration": 11,
    "start_time": "2023-02-07T08:58:55.561Z"
   },
   {
    "duration": 12,
    "start_time": "2023-02-07T08:58:55.573Z"
   },
   {
    "duration": 87,
    "start_time": "2023-02-07T08:58:55.592Z"
   },
   {
    "duration": 23,
    "start_time": "2023-02-07T08:58:55.681Z"
   },
   {
    "duration": 18,
    "start_time": "2023-02-07T08:58:55.707Z"
   },
   {
    "duration": 48,
    "start_time": "2023-02-07T08:58:55.727Z"
   },
   {
    "duration": 17,
    "start_time": "2023-02-07T08:58:55.777Z"
   },
   {
    "duration": 83,
    "start_time": "2023-02-07T08:58:55.797Z"
   },
   {
    "duration": 10,
    "start_time": "2023-02-07T08:58:55.882Z"
   },
   {
    "duration": 97,
    "start_time": "2023-02-07T08:58:55.894Z"
   },
   {
    "duration": 40,
    "start_time": "2023-02-07T08:59:29.357Z"
   },
   {
    "duration": 46,
    "start_time": "2023-02-07T09:03:32.174Z"
   },
   {
    "duration": 40,
    "start_time": "2023-02-07T09:03:39.809Z"
   },
   {
    "duration": 45,
    "start_time": "2023-02-07T09:04:54.582Z"
   },
   {
    "duration": 289,
    "start_time": "2023-02-07T09:08:15.194Z"
   },
   {
    "duration": 1053,
    "start_time": "2023-02-07T09:08:33.885Z"
   },
   {
    "duration": 167,
    "start_time": "2023-02-07T09:08:34.940Z"
   },
   {
    "duration": 4,
    "start_time": "2023-02-07T09:08:35.109Z"
   },
   {
    "duration": 37,
    "start_time": "2023-02-07T09:08:35.116Z"
   },
   {
    "duration": 14,
    "start_time": "2023-02-07T09:08:35.155Z"
   },
   {
    "duration": 96,
    "start_time": "2023-02-07T09:08:35.171Z"
   },
   {
    "duration": 24,
    "start_time": "2023-02-07T09:08:35.269Z"
   },
   {
    "duration": 50,
    "start_time": "2023-02-07T09:08:35.295Z"
   },
   {
    "duration": 410,
    "start_time": "2023-02-07T09:08:35.347Z"
   },
   {
    "duration": 222,
    "start_time": "2023-02-07T09:08:35.759Z"
   },
   {
    "duration": 223,
    "start_time": "2023-02-07T09:08:35.983Z"
   },
   {
    "duration": 17,
    "start_time": "2023-02-07T09:08:36.209Z"
   },
   {
    "duration": 133,
    "start_time": "2023-02-07T09:08:36.227Z"
   },
   {
    "duration": 9,
    "start_time": "2023-02-07T09:08:36.361Z"
   },
   {
    "duration": 50,
    "start_time": "2023-02-07T09:08:36.371Z"
   },
   {
    "duration": 116,
    "start_time": "2023-02-07T09:08:36.422Z"
   },
   {
    "duration": 113,
    "start_time": "2023-02-07T09:08:36.539Z"
   },
   {
    "duration": 17,
    "start_time": "2023-02-07T09:08:36.654Z"
   },
   {
    "duration": 100,
    "start_time": "2023-02-07T09:08:36.672Z"
   },
   {
    "duration": 24,
    "start_time": "2023-02-07T09:08:36.774Z"
   },
   {
    "duration": 12,
    "start_time": "2023-02-07T09:08:36.800Z"
   },
   {
    "duration": 40,
    "start_time": "2023-02-07T09:08:36.814Z"
   },
   {
    "duration": 7,
    "start_time": "2023-02-07T09:08:36.855Z"
   },
   {
    "duration": 4,
    "start_time": "2023-02-07T09:08:36.864Z"
   },
   {
    "duration": 36,
    "start_time": "2023-02-07T09:08:36.869Z"
   },
   {
    "duration": 90,
    "start_time": "2023-02-07T09:08:36.907Z"
   },
   {
    "duration": 13,
    "start_time": "2023-02-07T09:08:36.999Z"
   },
   {
    "duration": 8,
    "start_time": "2023-02-07T09:08:37.015Z"
   },
   {
    "duration": 29,
    "start_time": "2023-02-07T09:08:37.024Z"
   },
   {
    "duration": 5,
    "start_time": "2023-02-07T09:08:37.055Z"
   },
   {
    "duration": 102,
    "start_time": "2023-02-07T09:08:37.062Z"
   },
   {
    "duration": 5,
    "start_time": "2023-02-07T09:08:37.166Z"
   },
   {
    "duration": 100,
    "start_time": "2023-02-07T09:08:37.193Z"
   },
   {
    "duration": 304,
    "start_time": "2023-02-07T09:09:01.155Z"
   },
   {
    "duration": 1056,
    "start_time": "2023-02-07T09:09:07.028Z"
   },
   {
    "duration": 176,
    "start_time": "2023-02-07T09:09:08.086Z"
   },
   {
    "duration": 3,
    "start_time": "2023-02-07T09:09:08.263Z"
   },
   {
    "duration": 54,
    "start_time": "2023-02-07T09:09:08.268Z"
   },
   {
    "duration": 12,
    "start_time": "2023-02-07T09:09:08.323Z"
   },
   {
    "duration": 93,
    "start_time": "2023-02-07T09:09:08.336Z"
   },
   {
    "duration": 12,
    "start_time": "2023-02-07T09:09:08.431Z"
   },
   {
    "duration": 48,
    "start_time": "2023-02-07T09:09:08.445Z"
   },
   {
    "duration": 410,
    "start_time": "2023-02-07T09:09:08.496Z"
   },
   {
    "duration": 224,
    "start_time": "2023-02-07T09:09:08.910Z"
   },
   {
    "duration": 204,
    "start_time": "2023-02-07T09:09:09.136Z"
   },
   {
    "duration": 17,
    "start_time": "2023-02-07T09:09:09.341Z"
   },
   {
    "duration": 153,
    "start_time": "2023-02-07T09:09:09.360Z"
   },
   {
    "duration": 8,
    "start_time": "2023-02-07T09:09:09.516Z"
   },
   {
    "duration": 29,
    "start_time": "2023-02-07T09:09:09.526Z"
   },
   {
    "duration": 108,
    "start_time": "2023-02-07T09:09:09.556Z"
   },
   {
    "duration": 99,
    "start_time": "2023-02-07T09:09:09.666Z"
   },
   {
    "duration": 26,
    "start_time": "2023-02-07T09:09:09.767Z"
   },
   {
    "duration": 104,
    "start_time": "2023-02-07T09:09:09.795Z"
   },
   {
    "duration": 17,
    "start_time": "2023-02-07T09:09:09.901Z"
   },
   {
    "duration": 11,
    "start_time": "2023-02-07T09:09:09.919Z"
   },
   {
    "duration": 61,
    "start_time": "2023-02-07T09:09:09.932Z"
   },
   {
    "duration": 10,
    "start_time": "2023-02-07T09:09:09.995Z"
   },
   {
    "duration": 16,
    "start_time": "2023-02-07T09:09:10.007Z"
   },
   {
    "duration": 31,
    "start_time": "2023-02-07T09:09:10.025Z"
   },
   {
    "duration": 92,
    "start_time": "2023-02-07T09:09:10.058Z"
   },
   {
    "duration": 10,
    "start_time": "2023-02-07T09:09:10.152Z"
   },
   {
    "duration": 9,
    "start_time": "2023-02-07T09:09:10.166Z"
   },
   {
    "duration": 33,
    "start_time": "2023-02-07T09:09:10.193Z"
   },
   {
    "duration": 6,
    "start_time": "2023-02-07T09:09:10.228Z"
   },
   {
    "duration": 102,
    "start_time": "2023-02-07T09:09:10.236Z"
   },
   {
    "duration": 5,
    "start_time": "2023-02-07T09:09:10.340Z"
   },
   {
    "duration": 101,
    "start_time": "2023-02-07T09:09:10.347Z"
   },
   {
    "duration": 286,
    "start_time": "2023-02-07T09:09:17.663Z"
   },
   {
    "duration": 272,
    "start_time": "2023-02-07T09:09:27.473Z"
   },
   {
    "duration": 1065,
    "start_time": "2023-02-07T09:09:34.795Z"
   },
   {
    "duration": 178,
    "start_time": "2023-02-07T09:09:35.862Z"
   },
   {
    "duration": 3,
    "start_time": "2023-02-07T09:09:36.043Z"
   },
   {
    "duration": 73,
    "start_time": "2023-02-07T09:09:36.048Z"
   },
   {
    "duration": 13,
    "start_time": "2023-02-07T09:09:36.125Z"
   },
   {
    "duration": 90,
    "start_time": "2023-02-07T09:09:36.139Z"
   },
   {
    "duration": 18,
    "start_time": "2023-02-07T09:09:36.232Z"
   },
   {
    "duration": 63,
    "start_time": "2023-02-07T09:09:36.252Z"
   },
   {
    "duration": 406,
    "start_time": "2023-02-07T09:09:36.317Z"
   },
   {
    "duration": 206,
    "start_time": "2023-02-07T09:09:36.724Z"
   },
   {
    "duration": 180,
    "start_time": "2023-02-07T09:09:36.931Z"
   },
   {
    "duration": 16,
    "start_time": "2023-02-07T09:09:37.113Z"
   },
   {
    "duration": 135,
    "start_time": "2023-02-07T09:09:37.130Z"
   },
   {
    "duration": 8,
    "start_time": "2023-02-07T09:09:37.268Z"
   },
   {
    "duration": 48,
    "start_time": "2023-02-07T09:09:37.278Z"
   },
   {
    "duration": 117,
    "start_time": "2023-02-07T09:09:37.327Z"
   },
   {
    "duration": 103,
    "start_time": "2023-02-07T09:09:37.446Z"
   },
   {
    "duration": 18,
    "start_time": "2023-02-07T09:09:37.551Z"
   },
   {
    "duration": 108,
    "start_time": "2023-02-07T09:09:37.570Z"
   },
   {
    "duration": 24,
    "start_time": "2023-02-07T09:09:37.680Z"
   },
   {
    "duration": 18,
    "start_time": "2023-02-07T09:09:37.706Z"
   },
   {
    "duration": 41,
    "start_time": "2023-02-07T09:09:37.726Z"
   },
   {
    "duration": 23,
    "start_time": "2023-02-07T09:09:37.769Z"
   },
   {
    "duration": 4,
    "start_time": "2023-02-07T09:09:37.794Z"
   },
   {
    "duration": 19,
    "start_time": "2023-02-07T09:09:37.800Z"
   },
   {
    "duration": 95,
    "start_time": "2023-02-07T09:09:37.821Z"
   },
   {
    "duration": 9,
    "start_time": "2023-02-07T09:09:37.917Z"
   },
   {
    "duration": 13,
    "start_time": "2023-02-07T09:09:37.928Z"
   },
   {
    "duration": 32,
    "start_time": "2023-02-07T09:09:37.943Z"
   },
   {
    "duration": 18,
    "start_time": "2023-02-07T09:09:37.976Z"
   },
   {
    "duration": 83,
    "start_time": "2023-02-07T09:09:37.996Z"
   },
   {
    "duration": 15,
    "start_time": "2023-02-07T09:09:38.081Z"
   },
   {
    "duration": 78,
    "start_time": "2023-02-07T09:09:38.097Z"
   },
   {
    "duration": 194,
    "start_time": "2023-02-07T09:12:25.495Z"
   },
   {
    "duration": 1139,
    "start_time": "2023-02-07T09:12:35.936Z"
   },
   {
    "duration": 166,
    "start_time": "2023-02-07T09:12:37.077Z"
   },
   {
    "duration": 3,
    "start_time": "2023-02-07T09:12:37.245Z"
   },
   {
    "duration": 48,
    "start_time": "2023-02-07T09:12:37.250Z"
   },
   {
    "duration": 14,
    "start_time": "2023-02-07T09:12:37.300Z"
   },
   {
    "duration": 81,
    "start_time": "2023-02-07T09:12:37.316Z"
   },
   {
    "duration": 15,
    "start_time": "2023-02-07T09:12:37.399Z"
   },
   {
    "duration": 47,
    "start_time": "2023-02-07T09:12:37.416Z"
   },
   {
    "duration": 395,
    "start_time": "2023-02-07T09:12:37.464Z"
   },
   {
    "duration": 226,
    "start_time": "2023-02-07T09:12:37.862Z"
   },
   {
    "duration": 178,
    "start_time": "2023-02-07T09:12:38.091Z"
   },
   {
    "duration": 22,
    "start_time": "2023-02-07T09:12:38.271Z"
   },
   {
    "duration": 132,
    "start_time": "2023-02-07T09:12:38.296Z"
   },
   {
    "duration": 8,
    "start_time": "2023-02-07T09:12:38.429Z"
   },
   {
    "duration": 26,
    "start_time": "2023-02-07T09:12:38.439Z"
   },
   {
    "duration": 117,
    "start_time": "2023-02-07T09:12:38.466Z"
   },
   {
    "duration": 97,
    "start_time": "2023-02-07T09:12:38.586Z"
   },
   {
    "duration": 24,
    "start_time": "2023-02-07T09:12:38.685Z"
   },
   {
    "duration": 113,
    "start_time": "2023-02-07T09:12:38.711Z"
   },
   {
    "duration": 13,
    "start_time": "2023-02-07T09:12:38.826Z"
   },
   {
    "duration": 13,
    "start_time": "2023-02-07T09:12:38.840Z"
   },
   {
    "duration": 53,
    "start_time": "2023-02-07T09:12:38.855Z"
   },
   {
    "duration": 7,
    "start_time": "2023-02-07T09:12:38.910Z"
   },
   {
    "duration": 11,
    "start_time": "2023-02-07T09:12:38.919Z"
   },
   {
    "duration": 16,
    "start_time": "2023-02-07T09:12:38.932Z"
   },
   {
    "duration": 101,
    "start_time": "2023-02-07T09:12:38.950Z"
   },
   {
    "duration": 11,
    "start_time": "2023-02-07T09:12:39.052Z"
   },
   {
    "duration": 8,
    "start_time": "2023-02-07T09:12:39.066Z"
   },
   {
    "duration": 56,
    "start_time": "2023-02-07T09:12:39.075Z"
   },
   {
    "duration": 6,
    "start_time": "2023-02-07T09:12:39.133Z"
   },
   {
    "duration": 94,
    "start_time": "2023-02-07T09:12:39.141Z"
   },
   {
    "duration": 6,
    "start_time": "2023-02-07T09:12:39.236Z"
   },
   {
    "duration": 87,
    "start_time": "2023-02-07T09:12:39.244Z"
   },
   {
    "duration": 178,
    "start_time": "2023-02-07T09:12:50.818Z"
   },
   {
    "duration": 1082,
    "start_time": "2023-02-07T09:17:18.860Z"
   },
   {
    "duration": 167,
    "start_time": "2023-02-07T09:17:19.944Z"
   },
   {
    "duration": 107,
    "start_time": "2023-02-07T09:17:20.113Z"
   },
   {
    "duration": 0,
    "start_time": "2023-02-07T09:17:20.222Z"
   },
   {
    "duration": 0,
    "start_time": "2023-02-07T09:17:20.224Z"
   },
   {
    "duration": 0,
    "start_time": "2023-02-07T09:17:20.225Z"
   },
   {
    "duration": 0,
    "start_time": "2023-02-07T09:17:20.225Z"
   },
   {
    "duration": 1,
    "start_time": "2023-02-07T09:17:20.226Z"
   },
   {
    "duration": 0,
    "start_time": "2023-02-07T09:17:20.227Z"
   },
   {
    "duration": 0,
    "start_time": "2023-02-07T09:17:20.228Z"
   },
   {
    "duration": 0,
    "start_time": "2023-02-07T09:17:20.229Z"
   },
   {
    "duration": 0,
    "start_time": "2023-02-07T09:17:20.230Z"
   },
   {
    "duration": 0,
    "start_time": "2023-02-07T09:17:20.231Z"
   },
   {
    "duration": 0,
    "start_time": "2023-02-07T09:17:20.232Z"
   },
   {
    "duration": 0,
    "start_time": "2023-02-07T09:17:20.233Z"
   },
   {
    "duration": 0,
    "start_time": "2023-02-07T09:17:20.234Z"
   },
   {
    "duration": 0,
    "start_time": "2023-02-07T09:17:20.235Z"
   },
   {
    "duration": 0,
    "start_time": "2023-02-07T09:17:20.236Z"
   },
   {
    "duration": 0,
    "start_time": "2023-02-07T09:17:20.237Z"
   },
   {
    "duration": 0,
    "start_time": "2023-02-07T09:17:20.238Z"
   },
   {
    "duration": 0,
    "start_time": "2023-02-07T09:17:20.239Z"
   },
   {
    "duration": 0,
    "start_time": "2023-02-07T09:17:20.240Z"
   },
   {
    "duration": 1,
    "start_time": "2023-02-07T09:17:20.240Z"
   },
   {
    "duration": 0,
    "start_time": "2023-02-07T09:17:20.241Z"
   },
   {
    "duration": 0,
    "start_time": "2023-02-07T09:17:20.242Z"
   },
   {
    "duration": 0,
    "start_time": "2023-02-07T09:17:20.243Z"
   },
   {
    "duration": 0,
    "start_time": "2023-02-07T09:17:20.244Z"
   },
   {
    "duration": 0,
    "start_time": "2023-02-07T09:17:20.245Z"
   },
   {
    "duration": 1,
    "start_time": "2023-02-07T09:17:20.245Z"
   },
   {
    "duration": 0,
    "start_time": "2023-02-07T09:17:20.246Z"
   },
   {
    "duration": 0,
    "start_time": "2023-02-07T09:17:20.248Z"
   },
   {
    "duration": 0,
    "start_time": "2023-02-07T09:17:20.297Z"
   },
   {
    "duration": 0,
    "start_time": "2023-02-07T09:17:20.298Z"
   },
   {
    "duration": 0,
    "start_time": "2023-02-07T09:17:20.299Z"
   },
   {
    "duration": 3,
    "start_time": "2023-02-07T09:17:41.616Z"
   },
   {
    "duration": 32,
    "start_time": "2023-02-07T09:17:42.761Z"
   },
   {
    "duration": 8,
    "start_time": "2023-02-07T09:17:43.675Z"
   },
   {
    "duration": 11,
    "start_time": "2023-02-07T09:17:43.903Z"
   },
   {
    "duration": 13,
    "start_time": "2023-02-07T09:17:49.930Z"
   },
   {
    "duration": 71,
    "start_time": "2023-02-07T09:17:58.524Z"
   },
   {
    "duration": 13,
    "start_time": "2023-02-07T09:18:01.121Z"
   },
   {
    "duration": 47,
    "start_time": "2023-02-07T09:18:04.978Z"
   },
   {
    "duration": 39,
    "start_time": "2023-02-07T09:20:29.681Z"
   },
   {
    "duration": 38,
    "start_time": "2023-02-07T09:20:41.872Z"
   },
   {
    "duration": 5,
    "start_time": "2023-02-07T09:21:30.492Z"
   },
   {
    "duration": 3,
    "start_time": "2023-02-07T09:21:36.665Z"
   },
   {
    "duration": 43,
    "start_time": "2023-02-07T09:22:57.782Z"
   },
   {
    "duration": 18,
    "start_time": "2023-02-07T09:23:46.667Z"
   },
   {
    "duration": 87,
    "start_time": "2023-02-07T09:24:37.949Z"
   },
   {
    "duration": 365,
    "start_time": "2023-02-07T09:24:46.499Z"
   },
   {
    "duration": 217,
    "start_time": "2023-02-07T09:24:53.809Z"
   },
   {
    "duration": 189,
    "start_time": "2023-02-07T09:24:58.339Z"
   },
   {
    "duration": 15,
    "start_time": "2023-02-07T09:25:12.057Z"
   },
   {
    "duration": 19,
    "start_time": "2023-02-07T09:26:00.436Z"
   },
   {
    "duration": 127,
    "start_time": "2023-02-07T09:26:50.315Z"
   },
   {
    "duration": 120,
    "start_time": "2023-02-07T09:27:24.648Z"
   },
   {
    "duration": 133,
    "start_time": "2023-02-07T09:27:57.392Z"
   },
   {
    "duration": 130,
    "start_time": "2023-02-07T09:28:03.832Z"
   },
   {
    "duration": 131,
    "start_time": "2023-02-07T09:28:13.735Z"
   },
   {
    "duration": 210,
    "start_time": "2023-02-07T09:29:11.310Z"
   },
   {
    "duration": 129,
    "start_time": "2023-02-07T09:29:15.729Z"
   },
   {
    "duration": 9,
    "start_time": "2023-02-07T09:29:18.066Z"
   },
   {
    "duration": 33,
    "start_time": "2023-02-07T09:29:18.395Z"
   },
   {
    "duration": 101,
    "start_time": "2023-02-07T09:29:20.420Z"
   },
   {
    "duration": 123,
    "start_time": "2023-02-07T09:30:56.182Z"
   },
   {
    "duration": 104,
    "start_time": "2023-02-07T09:31:47.064Z"
   },
   {
    "duration": 100,
    "start_time": "2023-02-07T09:32:03.069Z"
   },
   {
    "duration": 100,
    "start_time": "2023-02-07T09:33:44.565Z"
   },
   {
    "duration": 19,
    "start_time": "2023-02-07T09:34:31.475Z"
   },
   {
    "duration": 100,
    "start_time": "2023-02-07T09:34:33.080Z"
   },
   {
    "duration": 97,
    "start_time": "2023-02-07T09:34:38.295Z"
   },
   {
    "duration": 91,
    "start_time": "2023-02-07T09:34:40.723Z"
   },
   {
    "duration": 96,
    "start_time": "2023-02-07T09:34:42.683Z"
   },
   {
    "duration": 94,
    "start_time": "2023-02-07T09:34:46.491Z"
   },
   {
    "duration": 17,
    "start_time": "2023-02-07T09:34:47.702Z"
   },
   {
    "duration": 13,
    "start_time": "2023-02-07T09:34:51.139Z"
   },
   {
    "duration": 12,
    "start_time": "2023-02-07T09:34:53.681Z"
   },
   {
    "duration": 104,
    "start_time": "2023-02-07T09:34:55.855Z"
   },
   {
    "duration": 16,
    "start_time": "2023-02-07T09:34:56.195Z"
   },
   {
    "duration": 108,
    "start_time": "2023-02-07T09:35:02.058Z"
   },
   {
    "duration": 96,
    "start_time": "2023-02-07T09:35:03.699Z"
   },
   {
    "duration": 14,
    "start_time": "2023-02-07T09:35:07.607Z"
   },
   {
    "duration": 14,
    "start_time": "2023-02-07T09:35:09.219Z"
   },
   {
    "duration": 46,
    "start_time": "2023-02-07T09:35:25.065Z"
   },
   {
    "duration": 7,
    "start_time": "2023-02-07T09:35:28.214Z"
   },
   {
    "duration": 3,
    "start_time": "2023-02-07T09:35:28.898Z"
   },
   {
    "duration": 10,
    "start_time": "2023-02-07T09:35:30.662Z"
   },
   {
    "duration": 89,
    "start_time": "2023-02-07T09:35:31.013Z"
   },
   {
    "duration": 14,
    "start_time": "2023-02-07T09:35:33.093Z"
   },
   {
    "duration": 8,
    "start_time": "2023-02-07T09:36:28.853Z"
   },
   {
    "duration": 8,
    "start_time": "2023-02-07T09:37:32.867Z"
   },
   {
    "duration": 27,
    "start_time": "2023-02-07T09:37:34.546Z"
   },
   {
    "duration": 6,
    "start_time": "2023-02-07T09:37:44.541Z"
   },
   {
    "duration": 75,
    "start_time": "2023-02-07T09:37:52.159Z"
   },
   {
    "duration": 6,
    "start_time": "2023-02-07T09:38:15.373Z"
   },
   {
    "duration": 64,
    "start_time": "2023-02-07T09:38:16.531Z"
   },
   {
    "duration": 8,
    "start_time": "2023-02-07T09:41:12.791Z"
   },
   {
    "duration": 80,
    "start_time": "2023-02-07T09:41:15.246Z"
   },
   {
    "duration": 1079,
    "start_time": "2023-02-07T09:43:46.190Z"
   },
   {
    "duration": 191,
    "start_time": "2023-02-07T09:43:47.270Z"
   },
   {
    "duration": 3,
    "start_time": "2023-02-07T09:43:47.463Z"
   },
   {
    "duration": 44,
    "start_time": "2023-02-07T09:43:47.467Z"
   },
   {
    "duration": 13,
    "start_time": "2023-02-07T09:43:47.514Z"
   },
   {
    "duration": 94,
    "start_time": "2023-02-07T09:43:47.529Z"
   },
   {
    "duration": 12,
    "start_time": "2023-02-07T09:43:47.625Z"
   },
   {
    "duration": 38,
    "start_time": "2023-02-07T09:43:47.638Z"
   },
   {
    "duration": 390,
    "start_time": "2023-02-07T09:43:47.691Z"
   },
   {
    "duration": 241,
    "start_time": "2023-02-07T09:43:48.082Z"
   },
   {
    "duration": 202,
    "start_time": "2023-02-07T09:43:48.325Z"
   },
   {
    "duration": 18,
    "start_time": "2023-02-07T09:43:48.529Z"
   },
   {
    "duration": 152,
    "start_time": "2023-02-07T09:43:48.550Z"
   },
   {
    "duration": 11,
    "start_time": "2023-02-07T09:43:48.706Z"
   },
   {
    "duration": 24,
    "start_time": "2023-02-07T09:43:48.720Z"
   },
   {
    "duration": 130,
    "start_time": "2023-02-07T09:43:48.746Z"
   },
   {
    "duration": 128,
    "start_time": "2023-02-07T09:43:48.878Z"
   },
   {
    "duration": 21,
    "start_time": "2023-02-07T09:43:49.008Z"
   },
   {
    "duration": 123,
    "start_time": "2023-02-07T09:43:49.031Z"
   },
   {
    "duration": 13,
    "start_time": "2023-02-07T09:43:49.155Z"
   },
   {
    "duration": 12,
    "start_time": "2023-02-07T09:43:49.169Z"
   },
   {
    "duration": 57,
    "start_time": "2023-02-07T09:43:49.193Z"
   },
   {
    "duration": 7,
    "start_time": "2023-02-07T09:43:49.251Z"
   },
   {
    "duration": 5,
    "start_time": "2023-02-07T09:43:49.259Z"
   },
   {
    "duration": 12,
    "start_time": "2023-02-07T09:43:49.265Z"
   },
   {
    "duration": 102,
    "start_time": "2023-02-07T09:43:49.278Z"
   },
   {
    "duration": 31,
    "start_time": "2023-02-07T09:43:49.381Z"
   },
   {
    "duration": 16,
    "start_time": "2023-02-07T09:43:49.414Z"
   },
   {
    "duration": 32,
    "start_time": "2023-02-07T09:43:49.431Z"
   },
   {
    "duration": 5,
    "start_time": "2023-02-07T09:43:49.465Z"
   },
   {
    "duration": 92,
    "start_time": "2023-02-07T09:43:49.472Z"
   },
   {
    "duration": 5,
    "start_time": "2023-02-07T09:43:49.566Z"
   },
   {
    "duration": 79,
    "start_time": "2023-02-07T09:43:49.591Z"
   },
   {
    "duration": 5,
    "start_time": "2023-02-07T09:43:59.484Z"
   },
   {
    "duration": 73,
    "start_time": "2023-02-07T09:44:02.813Z"
   },
   {
    "duration": 8,
    "start_time": "2023-02-07T09:44:08.386Z"
   },
   {
    "duration": 75,
    "start_time": "2023-02-07T09:44:11.754Z"
   },
   {
    "duration": 8,
    "start_time": "2023-02-07T09:44:24.497Z"
   },
   {
    "duration": 86,
    "start_time": "2023-02-07T09:44:25.055Z"
   },
   {
    "duration": 5,
    "start_time": "2023-02-07T09:47:18.738Z"
   },
   {
    "duration": 5,
    "start_time": "2023-02-07T09:51:19.015Z"
   },
   {
    "duration": 6,
    "start_time": "2023-02-07T09:51:30.791Z"
   },
   {
    "duration": 187,
    "start_time": "2023-02-07T09:52:55.670Z"
   },
   {
    "duration": 97,
    "start_time": "2023-02-07T09:53:00.259Z"
   },
   {
    "duration": 100,
    "start_time": "2023-02-07T09:53:51.432Z"
   },
   {
    "duration": 1202,
    "start_time": "2023-02-07T09:54:03.095Z"
   },
   {
    "duration": 180,
    "start_time": "2023-02-07T09:54:04.300Z"
   },
   {
    "duration": 3,
    "start_time": "2023-02-07T09:54:04.481Z"
   },
   {
    "duration": 61,
    "start_time": "2023-02-07T09:54:04.491Z"
   },
   {
    "duration": 12,
    "start_time": "2023-02-07T09:54:04.553Z"
   },
   {
    "duration": 75,
    "start_time": "2023-02-07T09:54:04.567Z"
   },
   {
    "duration": 51,
    "start_time": "2023-02-07T09:54:04.644Z"
   },
   {
    "duration": 64,
    "start_time": "2023-02-07T09:54:04.699Z"
   },
   {
    "duration": 386,
    "start_time": "2023-02-07T09:54:04.765Z"
   },
   {
    "duration": 240,
    "start_time": "2023-02-07T09:54:05.153Z"
   },
   {
    "duration": 221,
    "start_time": "2023-02-07T09:54:05.395Z"
   },
   {
    "duration": 24,
    "start_time": "2023-02-07T09:54:05.620Z"
   },
   {
    "duration": 150,
    "start_time": "2023-02-07T09:54:05.645Z"
   },
   {
    "duration": 11,
    "start_time": "2023-02-07T09:54:05.797Z"
   },
   {
    "duration": 33,
    "start_time": "2023-02-07T09:54:05.810Z"
   },
   {
    "duration": 117,
    "start_time": "2023-02-07T09:54:05.845Z"
   },
   {
    "duration": 132,
    "start_time": "2023-02-07T09:54:05.964Z"
   },
   {
    "duration": 26,
    "start_time": "2023-02-07T09:54:06.098Z"
   },
   {
    "duration": 133,
    "start_time": "2023-02-07T09:54:06.126Z"
   },
   {
    "duration": 17,
    "start_time": "2023-02-07T09:54:06.261Z"
   },
   {
    "duration": 51,
    "start_time": "2023-02-07T09:54:06.279Z"
   },
   {
    "duration": 53,
    "start_time": "2023-02-07T09:54:06.332Z"
   },
   {
    "duration": 8,
    "start_time": "2023-02-07T09:54:06.387Z"
   },
   {
    "duration": 30,
    "start_time": "2023-02-07T09:54:06.397Z"
   },
   {
    "duration": 25,
    "start_time": "2023-02-07T09:54:06.428Z"
   },
   {
    "duration": 105,
    "start_time": "2023-02-07T09:54:06.455Z"
   },
   {
    "duration": 10,
    "start_time": "2023-02-07T09:54:06.562Z"
   },
   {
    "duration": 21,
    "start_time": "2023-02-07T09:54:06.575Z"
   },
   {
    "duration": 120,
    "start_time": "2023-02-07T09:54:06.601Z"
   },
   {
    "duration": 0,
    "start_time": "2023-02-07T09:54:06.723Z"
   },
   {
    "duration": 0,
    "start_time": "2023-02-07T09:54:06.725Z"
   },
   {
    "duration": 0,
    "start_time": "2023-02-07T09:54:06.726Z"
   },
   {
    "duration": 0,
    "start_time": "2023-02-07T09:54:06.728Z"
   },
   {
    "duration": 0,
    "start_time": "2023-02-07T09:54:06.729Z"
   },
   {
    "duration": 0,
    "start_time": "2023-02-07T09:54:06.730Z"
   },
   {
    "duration": 1070,
    "start_time": "2023-02-07T09:54:30.996Z"
   },
   {
    "duration": 197,
    "start_time": "2023-02-07T09:54:32.069Z"
   },
   {
    "duration": 4,
    "start_time": "2023-02-07T09:54:32.267Z"
   },
   {
    "duration": 53,
    "start_time": "2023-02-07T09:54:32.273Z"
   },
   {
    "duration": 13,
    "start_time": "2023-02-07T09:54:32.328Z"
   },
   {
    "duration": 87,
    "start_time": "2023-02-07T09:54:32.343Z"
   },
   {
    "duration": 12,
    "start_time": "2023-02-07T09:54:32.432Z"
   },
   {
    "duration": 50,
    "start_time": "2023-02-07T09:54:32.445Z"
   },
   {
    "duration": 374,
    "start_time": "2023-02-07T09:54:32.497Z"
   },
   {
    "duration": 236,
    "start_time": "2023-02-07T09:54:32.873Z"
   },
   {
    "duration": 202,
    "start_time": "2023-02-07T09:54:33.112Z"
   },
   {
    "duration": 23,
    "start_time": "2023-02-07T09:54:33.316Z"
   },
   {
    "duration": 155,
    "start_time": "2023-02-07T09:54:33.341Z"
   },
   {
    "duration": 13,
    "start_time": "2023-02-07T09:54:33.498Z"
   },
   {
    "duration": 59,
    "start_time": "2023-02-07T09:54:33.513Z"
   },
   {
    "duration": 128,
    "start_time": "2023-02-07T09:54:33.573Z"
   },
   {
    "duration": 122,
    "start_time": "2023-02-07T09:54:33.705Z"
   },
   {
    "duration": 18,
    "start_time": "2023-02-07T09:54:33.829Z"
   },
   {
    "duration": 111,
    "start_time": "2023-02-07T09:54:33.849Z"
   },
   {
    "duration": 13,
    "start_time": "2023-02-07T09:54:33.962Z"
   },
   {
    "duration": 28,
    "start_time": "2023-02-07T09:54:33.976Z"
   },
   {
    "duration": 73,
    "start_time": "2023-02-07T09:54:34.006Z"
   },
   {
    "duration": 7,
    "start_time": "2023-02-07T09:54:34.081Z"
   },
   {
    "duration": 18,
    "start_time": "2023-02-07T09:54:34.089Z"
   },
   {
    "duration": 17,
    "start_time": "2023-02-07T09:54:34.111Z"
   },
   {
    "duration": 84,
    "start_time": "2023-02-07T09:54:37.627Z"
   },
   {
    "duration": 1019,
    "start_time": "2023-02-07T09:54:53.929Z"
   },
   {
    "duration": 162,
    "start_time": "2023-02-07T09:54:54.950Z"
   },
   {
    "duration": 2,
    "start_time": "2023-02-07T09:54:55.114Z"
   },
   {
    "duration": 34,
    "start_time": "2023-02-07T09:54:55.119Z"
   },
   {
    "duration": 13,
    "start_time": "2023-02-07T09:54:55.155Z"
   },
   {
    "duration": 88,
    "start_time": "2023-02-07T09:54:55.191Z"
   },
   {
    "duration": 20,
    "start_time": "2023-02-07T09:54:55.281Z"
   },
   {
    "duration": 44,
    "start_time": "2023-02-07T09:54:55.303Z"
   },
   {
    "duration": 418,
    "start_time": "2023-02-07T09:54:55.348Z"
   },
   {
    "duration": 264,
    "start_time": "2023-02-07T09:54:55.769Z"
   },
   {
    "duration": 240,
    "start_time": "2023-02-07T09:54:56.034Z"
   },
   {
    "duration": 29,
    "start_time": "2023-02-07T09:54:56.276Z"
   },
   {
    "duration": 146,
    "start_time": "2023-02-07T09:54:56.307Z"
   },
   {
    "duration": 8,
    "start_time": "2023-02-07T09:54:56.455Z"
   },
   {
    "duration": 42,
    "start_time": "2023-02-07T09:54:56.465Z"
   },
   {
    "duration": 120,
    "start_time": "2023-02-07T09:54:56.509Z"
   },
   {
    "duration": 106,
    "start_time": "2023-02-07T09:54:56.631Z"
   },
   {
    "duration": 17,
    "start_time": "2023-02-07T09:54:56.738Z"
   },
   {
    "duration": 112,
    "start_time": "2023-02-07T09:54:56.757Z"
   },
   {
    "duration": 13,
    "start_time": "2023-02-07T09:54:56.870Z"
   },
   {
    "duration": 18,
    "start_time": "2023-02-07T09:54:56.885Z"
   },
   {
    "duration": 55,
    "start_time": "2023-02-07T09:54:56.905Z"
   },
   {
    "duration": 6,
    "start_time": "2023-02-07T09:54:56.962Z"
   },
   {
    "duration": 10,
    "start_time": "2023-02-07T09:54:56.970Z"
   },
   {
    "duration": 23,
    "start_time": "2023-02-07T09:54:56.982Z"
   },
   {
    "duration": 93,
    "start_time": "2023-02-07T09:54:57.007Z"
   },
   {
    "duration": 13,
    "start_time": "2023-02-07T09:54:57.102Z"
   },
   {
    "duration": 46,
    "start_time": "2023-02-07T09:54:57.119Z"
   },
   {
    "duration": 121,
    "start_time": "2023-02-07T09:54:57.166Z"
   },
   {
    "duration": 0,
    "start_time": "2023-02-07T09:54:57.292Z"
   },
   {
    "duration": 0,
    "start_time": "2023-02-07T09:54:57.293Z"
   },
   {
    "duration": 0,
    "start_time": "2023-02-07T09:54:57.295Z"
   },
   {
    "duration": 0,
    "start_time": "2023-02-07T09:54:57.296Z"
   },
   {
    "duration": 0,
    "start_time": "2023-02-07T09:54:57.298Z"
   },
   {
    "duration": 0,
    "start_time": "2023-02-07T09:54:57.299Z"
   },
   {
    "duration": 11,
    "start_time": "2023-02-07T09:57:53.804Z"
   },
   {
    "duration": 26,
    "start_time": "2023-02-07T09:59:23.716Z"
   },
   {
    "duration": 5,
    "start_time": "2023-02-07T09:59:36.813Z"
   },
   {
    "duration": 5,
    "start_time": "2023-02-07T10:00:09.097Z"
   },
   {
    "duration": 8,
    "start_time": "2023-02-07T10:00:26.937Z"
   },
   {
    "duration": 7,
    "start_time": "2023-02-07T10:00:36.149Z"
   },
   {
    "duration": 10,
    "start_time": "2023-02-07T10:00:58.902Z"
   },
   {
    "duration": 5,
    "start_time": "2023-02-07T10:01:03.221Z"
   },
   {
    "duration": 7,
    "start_time": "2023-02-07T10:02:53.512Z"
   },
   {
    "duration": 4,
    "start_time": "2023-02-07T10:03:54.748Z"
   },
   {
    "duration": 10,
    "start_time": "2023-02-07T10:04:03.992Z"
   },
   {
    "duration": 5,
    "start_time": "2023-02-07T10:04:07.328Z"
   },
   {
    "duration": 10,
    "start_time": "2023-02-07T10:04:13.580Z"
   },
   {
    "duration": 4,
    "start_time": "2023-02-07T10:04:17.318Z"
   },
   {
    "duration": 3,
    "start_time": "2023-02-07T10:05:48.369Z"
   },
   {
    "duration": 3,
    "start_time": "2023-02-07T10:06:03.074Z"
   },
   {
    "duration": 4,
    "start_time": "2023-02-07T10:06:19.891Z"
   },
   {
    "duration": 3,
    "start_time": "2023-02-07T10:06:25.857Z"
   },
   {
    "duration": 2,
    "start_time": "2023-02-07T10:06:37.072Z"
   },
   {
    "duration": 4,
    "start_time": "2023-02-07T10:06:45.428Z"
   },
   {
    "duration": 1070,
    "start_time": "2023-02-07T10:06:51.383Z"
   },
   {
    "duration": 159,
    "start_time": "2023-02-07T10:06:52.454Z"
   },
   {
    "duration": 3,
    "start_time": "2023-02-07T10:06:52.615Z"
   },
   {
    "duration": 37,
    "start_time": "2023-02-07T10:06:52.620Z"
   },
   {
    "duration": 13,
    "start_time": "2023-02-07T10:06:52.658Z"
   },
   {
    "duration": 79,
    "start_time": "2023-02-07T10:06:52.696Z"
   },
   {
    "duration": 16,
    "start_time": "2023-02-07T10:06:52.777Z"
   },
   {
    "duration": 44,
    "start_time": "2023-02-07T10:06:52.794Z"
   },
   {
    "duration": 419,
    "start_time": "2023-02-07T10:06:52.840Z"
   },
   {
    "duration": 258,
    "start_time": "2023-02-07T10:06:53.263Z"
   },
   {
    "duration": 208,
    "start_time": "2023-02-07T10:06:53.523Z"
   },
   {
    "duration": 22,
    "start_time": "2023-02-07T10:06:53.733Z"
   },
   {
    "duration": 162,
    "start_time": "2023-02-07T10:06:53.756Z"
   },
   {
    "duration": 9,
    "start_time": "2023-02-07T10:06:53.919Z"
   },
   {
    "duration": 25,
    "start_time": "2023-02-07T10:06:53.930Z"
   },
   {
    "duration": 125,
    "start_time": "2023-02-07T10:06:53.956Z"
   },
   {
    "duration": 115,
    "start_time": "2023-02-07T10:06:54.083Z"
   },
   {
    "duration": 23,
    "start_time": "2023-02-07T10:06:54.200Z"
   },
   {
    "duration": 114,
    "start_time": "2023-02-07T10:06:54.225Z"
   },
   {
    "duration": 14,
    "start_time": "2023-02-07T10:06:54.340Z"
   },
   {
    "duration": 9,
    "start_time": "2023-02-07T10:06:54.356Z"
   },
   {
    "duration": 66,
    "start_time": "2023-02-07T10:06:54.366Z"
   },
   {
    "duration": 6,
    "start_time": "2023-02-07T10:06:54.434Z"
   },
   {
    "duration": 9,
    "start_time": "2023-02-07T10:06:54.442Z"
   },
   {
    "duration": 12,
    "start_time": "2023-02-07T10:06:54.453Z"
   },
   {
    "duration": 100,
    "start_time": "2023-02-07T10:06:54.466Z"
   },
   {
    "duration": 9,
    "start_time": "2023-02-07T10:06:54.568Z"
   },
   {
    "duration": 11,
    "start_time": "2023-02-07T10:06:54.595Z"
   },
   {
    "duration": 19,
    "start_time": "2023-02-07T10:06:54.608Z"
   },
   {
    "duration": 27,
    "start_time": "2023-02-07T10:06:54.628Z"
   },
   {
    "duration": 105,
    "start_time": "2023-02-07T10:06:54.657Z"
   },
   {
    "duration": 0,
    "start_time": "2023-02-07T10:06:54.763Z"
   },
   {
    "duration": 0,
    "start_time": "2023-02-07T10:06:54.765Z"
   },
   {
    "duration": 0,
    "start_time": "2023-02-07T10:06:54.766Z"
   },
   {
    "duration": 0,
    "start_time": "2023-02-07T10:06:54.767Z"
   },
   {
    "duration": 0,
    "start_time": "2023-02-07T10:06:54.768Z"
   },
   {
    "duration": 0,
    "start_time": "2023-02-07T10:06:54.769Z"
   },
   {
    "duration": 12,
    "start_time": "2023-02-07T10:07:45.997Z"
   },
   {
    "duration": 5,
    "start_time": "2023-02-07T10:07:58.808Z"
   },
   {
    "duration": 3,
    "start_time": "2023-02-07T10:08:03.571Z"
   },
   {
    "duration": 4,
    "start_time": "2023-02-07T10:08:06.985Z"
   },
   {
    "duration": 3,
    "start_time": "2023-02-07T10:08:14.681Z"
   },
   {
    "duration": 4,
    "start_time": "2023-02-07T10:08:28.497Z"
   },
   {
    "duration": 4,
    "start_time": "2023-02-07T10:08:37.442Z"
   },
   {
    "duration": 5,
    "start_time": "2023-02-07T10:08:40.588Z"
   },
   {
    "duration": 9,
    "start_time": "2023-02-07T10:08:45.913Z"
   },
   {
    "duration": 12,
    "start_time": "2023-02-07T10:09:11.591Z"
   },
   {
    "duration": 3,
    "start_time": "2023-02-07T10:09:14.932Z"
   },
   {
    "duration": 5,
    "start_time": "2023-02-07T10:09:23.783Z"
   },
   {
    "duration": 3,
    "start_time": "2023-02-07T10:09:35.437Z"
   },
   {
    "duration": 3,
    "start_time": "2023-02-07T10:09:40.363Z"
   },
   {
    "duration": 3,
    "start_time": "2023-02-07T10:10:02.403Z"
   },
   {
    "duration": 3,
    "start_time": "2023-02-07T10:10:10.946Z"
   },
   {
    "duration": 1053,
    "start_time": "2023-02-07T10:10:27.310Z"
   },
   {
    "duration": 173,
    "start_time": "2023-02-07T10:10:28.365Z"
   },
   {
    "duration": 2,
    "start_time": "2023-02-07T10:10:28.540Z"
   },
   {
    "duration": 44,
    "start_time": "2023-02-07T10:10:28.544Z"
   },
   {
    "duration": 16,
    "start_time": "2023-02-07T10:10:28.590Z"
   },
   {
    "duration": 83,
    "start_time": "2023-02-07T10:10:28.609Z"
   },
   {
    "duration": 14,
    "start_time": "2023-02-07T10:10:28.694Z"
   },
   {
    "duration": 40,
    "start_time": "2023-02-07T10:10:28.710Z"
   },
   {
    "duration": 394,
    "start_time": "2023-02-07T10:10:28.752Z"
   },
   {
    "duration": 231,
    "start_time": "2023-02-07T10:10:29.149Z"
   },
   {
    "duration": 186,
    "start_time": "2023-02-07T10:10:29.381Z"
   },
   {
    "duration": 30,
    "start_time": "2023-02-07T10:10:29.569Z"
   },
   {
    "duration": 152,
    "start_time": "2023-02-07T10:10:29.603Z"
   },
   {
    "duration": 9,
    "start_time": "2023-02-07T10:10:29.756Z"
   },
   {
    "duration": 44,
    "start_time": "2023-02-07T10:10:29.766Z"
   },
   {
    "duration": 119,
    "start_time": "2023-02-07T10:10:29.812Z"
   },
   {
    "duration": 105,
    "start_time": "2023-02-07T10:10:29.933Z"
   },
   {
    "duration": 19,
    "start_time": "2023-02-07T10:10:30.039Z"
   },
   {
    "duration": 108,
    "start_time": "2023-02-07T10:10:30.060Z"
   },
   {
    "duration": 24,
    "start_time": "2023-02-07T10:10:30.170Z"
   },
   {
    "duration": 39,
    "start_time": "2023-02-07T10:10:30.196Z"
   },
   {
    "duration": 84,
    "start_time": "2023-02-07T10:10:30.236Z"
   },
   {
    "duration": 16,
    "start_time": "2023-02-07T10:10:30.321Z"
   },
   {
    "duration": 31,
    "start_time": "2023-02-07T10:10:30.339Z"
   },
   {
    "duration": 44,
    "start_time": "2023-02-07T10:10:30.372Z"
   },
   {
    "duration": 113,
    "start_time": "2023-02-07T10:10:30.418Z"
   },
   {
    "duration": 10,
    "start_time": "2023-02-07T10:10:30.533Z"
   },
   {
    "duration": 59,
    "start_time": "2023-02-07T10:10:30.547Z"
   },
   {
    "duration": 24,
    "start_time": "2023-02-07T10:10:30.608Z"
   },
   {
    "duration": 23,
    "start_time": "2023-02-07T10:10:30.634Z"
   },
   {
    "duration": 127,
    "start_time": "2023-02-07T10:10:30.658Z"
   },
   {
    "duration": 0,
    "start_time": "2023-02-07T10:10:30.786Z"
   },
   {
    "duration": 0,
    "start_time": "2023-02-07T10:10:30.788Z"
   },
   {
    "duration": 0,
    "start_time": "2023-02-07T10:10:30.797Z"
   },
   {
    "duration": 0,
    "start_time": "2023-02-07T10:10:30.798Z"
   },
   {
    "duration": 0,
    "start_time": "2023-02-07T10:10:30.800Z"
   },
   {
    "duration": 0,
    "start_time": "2023-02-07T10:10:30.801Z"
   },
   {
    "duration": 2,
    "start_time": "2023-02-07T10:11:12.317Z"
   },
   {
    "duration": 3,
    "start_time": "2023-02-07T10:11:19.888Z"
   },
   {
    "duration": 3,
    "start_time": "2023-02-07T10:11:31.219Z"
   },
   {
    "duration": 5,
    "start_time": "2023-02-07T10:11:36.795Z"
   },
   {
    "duration": 6,
    "start_time": "2023-02-07T10:11:43.602Z"
   },
   {
    "duration": 5,
    "start_time": "2023-02-07T10:11:50.607Z"
   },
   {
    "duration": 5,
    "start_time": "2023-02-07T10:12:09.340Z"
   },
   {
    "duration": 33,
    "start_time": "2023-02-07T10:12:36.022Z"
   },
   {
    "duration": 5,
    "start_time": "2023-02-07T10:12:45.416Z"
   },
   {
    "duration": 3,
    "start_time": "2023-02-07T10:13:12.683Z"
   },
   {
    "duration": 12,
    "start_time": "2023-02-07T10:14:00.284Z"
   },
   {
    "duration": 8,
    "start_time": "2023-02-07T10:14:06.917Z"
   },
   {
    "duration": 6,
    "start_time": "2023-02-07T10:14:21.894Z"
   },
   {
    "duration": 6,
    "start_time": "2023-02-07T10:14:27.917Z"
   },
   {
    "duration": 10,
    "start_time": "2023-02-07T10:18:10.068Z"
   },
   {
    "duration": 38,
    "start_time": "2023-02-07T10:18:58.536Z"
   },
   {
    "duration": 19,
    "start_time": "2023-02-07T10:20:27.254Z"
   },
   {
    "duration": 6,
    "start_time": "2023-02-07T10:21:25.214Z"
   },
   {
    "duration": 17,
    "start_time": "2023-02-07T10:21:34.150Z"
   },
   {
    "duration": 16,
    "start_time": "2023-02-07T10:21:56.932Z"
   },
   {
    "duration": 21,
    "start_time": "2023-02-07T10:22:18.401Z"
   },
   {
    "duration": 4,
    "start_time": "2023-02-07T10:22:53.459Z"
   },
   {
    "duration": 23,
    "start_time": "2023-02-07T10:24:37.096Z"
   },
   {
    "duration": 5,
    "start_time": "2023-02-07T10:25:21.082Z"
   },
   {
    "duration": 17,
    "start_time": "2023-02-07T10:25:45.412Z"
   },
   {
    "duration": 13,
    "start_time": "2023-02-07T10:25:59.396Z"
   },
   {
    "duration": 6,
    "start_time": "2023-02-07T10:26:03.669Z"
   },
   {
    "duration": 134,
    "start_time": "2023-02-07T10:30:33.377Z"
   },
   {
    "duration": 16,
    "start_time": "2023-02-07T10:31:16.620Z"
   },
   {
    "duration": 7,
    "start_time": "2023-02-07T10:31:22.616Z"
   },
   {
    "duration": 4,
    "start_time": "2023-02-07T10:32:20.138Z"
   },
   {
    "duration": 4,
    "start_time": "2023-02-07T10:32:56.723Z"
   },
   {
    "duration": 4,
    "start_time": "2023-02-07T10:33:07.453Z"
   },
   {
    "duration": 18,
    "start_time": "2023-02-07T10:33:24.599Z"
   },
   {
    "duration": 18,
    "start_time": "2023-02-07T10:33:40.300Z"
   },
   {
    "duration": 4,
    "start_time": "2023-02-07T10:33:50.477Z"
   },
   {
    "duration": 6,
    "start_time": "2023-02-07T10:34:01.192Z"
   },
   {
    "duration": 5,
    "start_time": "2023-02-07T10:34:07.929Z"
   },
   {
    "duration": 7,
    "start_time": "2023-02-07T10:34:16.394Z"
   },
   {
    "duration": 16,
    "start_time": "2023-02-07T10:35:01.799Z"
   },
   {
    "duration": 6,
    "start_time": "2023-02-07T10:35:07.927Z"
   },
   {
    "duration": 10,
    "start_time": "2023-02-07T10:35:14.220Z"
   },
   {
    "duration": 6,
    "start_time": "2023-02-07T10:35:18.482Z"
   },
   {
    "duration": 6,
    "start_time": "2023-02-07T10:36:57.696Z"
   },
   {
    "duration": 4,
    "start_time": "2023-02-07T10:37:02.074Z"
   },
   {
    "duration": 5,
    "start_time": "2023-02-07T10:37:10.128Z"
   },
   {
    "duration": 4,
    "start_time": "2023-02-07T10:37:14.854Z"
   },
   {
    "duration": 4,
    "start_time": "2023-02-07T10:37:24.214Z"
   },
   {
    "duration": 3,
    "start_time": "2023-02-07T10:37:31.540Z"
   },
   {
    "duration": 7,
    "start_time": "2023-02-07T10:37:46.003Z"
   },
   {
    "duration": 11,
    "start_time": "2023-02-07T10:38:43.048Z"
   },
   {
    "duration": 10,
    "start_time": "2023-02-07T10:40:35.637Z"
   },
   {
    "duration": 11,
    "start_time": "2023-02-07T10:40:42.286Z"
   },
   {
    "duration": 6,
    "start_time": "2023-02-07T10:40:53.809Z"
   },
   {
    "duration": 10,
    "start_time": "2023-02-07T10:41:02.427Z"
   },
   {
    "duration": 2,
    "start_time": "2023-02-07T10:41:07.066Z"
   },
   {
    "duration": 3,
    "start_time": "2023-02-07T10:41:13.388Z"
   },
   {
    "duration": 5,
    "start_time": "2023-02-07T10:41:22.937Z"
   },
   {
    "duration": 14,
    "start_time": "2023-02-07T10:41:47.083Z"
   },
   {
    "duration": 5,
    "start_time": "2023-02-07T10:43:00.385Z"
   },
   {
    "duration": 12,
    "start_time": "2023-02-07T10:43:17.390Z"
   },
   {
    "duration": 5,
    "start_time": "2023-02-07T10:43:37.672Z"
   },
   {
    "duration": 6,
    "start_time": "2023-02-07T10:43:42.334Z"
   },
   {
    "duration": 3,
    "start_time": "2023-02-07T10:44:11.242Z"
   },
   {
    "duration": 3,
    "start_time": "2023-02-07T10:44:20.483Z"
   },
   {
    "duration": 5,
    "start_time": "2023-02-07T10:44:40.546Z"
   },
   {
    "duration": 5,
    "start_time": "2023-02-07T10:44:57.457Z"
   },
   {
    "duration": 7,
    "start_time": "2023-02-07T10:45:01.863Z"
   },
   {
    "duration": 7,
    "start_time": "2023-02-07T10:47:55.361Z"
   },
   {
    "duration": 16,
    "start_time": "2023-02-07T10:48:18.587Z"
   },
   {
    "duration": 15,
    "start_time": "2023-02-07T10:48:32.387Z"
   },
   {
    "duration": 13,
    "start_time": "2023-02-07T10:49:46.570Z"
   },
   {
    "duration": 5,
    "start_time": "2023-02-07T10:50:51.566Z"
   },
   {
    "duration": 6,
    "start_time": "2023-02-07T10:52:14.655Z"
   },
   {
    "duration": 13,
    "start_time": "2023-02-07T10:52:27.296Z"
   },
   {
    "duration": 7,
    "start_time": "2023-02-07T10:52:31.034Z"
   },
   {
    "duration": 8,
    "start_time": "2023-02-07T10:53:05.216Z"
   },
   {
    "duration": 7,
    "start_time": "2023-02-07T10:53:14.794Z"
   },
   {
    "duration": 15,
    "start_time": "2023-02-07T10:56:50.210Z"
   },
   {
    "duration": 1094,
    "start_time": "2023-02-07T17:45:09.651Z"
   },
   {
    "duration": 509,
    "start_time": "2023-02-07T17:45:10.746Z"
   },
   {
    "duration": 3,
    "start_time": "2023-02-07T17:45:11.257Z"
   },
   {
    "duration": 43,
    "start_time": "2023-02-07T17:45:11.261Z"
   },
   {
    "duration": 12,
    "start_time": "2023-02-07T17:45:11.306Z"
   },
   {
    "duration": 64,
    "start_time": "2023-02-07T17:45:11.320Z"
   },
   {
    "duration": 10,
    "start_time": "2023-02-07T17:45:11.386Z"
   },
   {
    "duration": 49,
    "start_time": "2023-02-07T17:45:11.398Z"
   },
   {
    "duration": 361,
    "start_time": "2023-02-07T17:45:11.449Z"
   },
   {
    "duration": 192,
    "start_time": "2023-02-07T17:45:11.811Z"
   },
   {
    "duration": 172,
    "start_time": "2023-02-07T17:45:12.005Z"
   },
   {
    "duration": 22,
    "start_time": "2023-02-07T17:45:12.179Z"
   },
   {
    "duration": 136,
    "start_time": "2023-02-07T17:45:12.203Z"
   },
   {
    "duration": 8,
    "start_time": "2023-02-07T17:45:12.343Z"
   },
   {
    "duration": 26,
    "start_time": "2023-02-07T17:45:12.352Z"
   },
   {
    "duration": 110,
    "start_time": "2023-02-07T17:45:12.380Z"
   },
   {
    "duration": 105,
    "start_time": "2023-02-07T17:45:12.491Z"
   },
   {
    "duration": 17,
    "start_time": "2023-02-07T17:45:12.598Z"
   },
   {
    "duration": 94,
    "start_time": "2023-02-07T17:45:12.616Z"
   },
   {
    "duration": 13,
    "start_time": "2023-02-07T17:45:12.712Z"
   },
   {
    "duration": 24,
    "start_time": "2023-02-07T17:45:12.726Z"
   },
   {
    "duration": 40,
    "start_time": "2023-02-07T17:45:12.752Z"
   },
   {
    "duration": 5,
    "start_time": "2023-02-07T17:45:12.794Z"
   },
   {
    "duration": 10,
    "start_time": "2023-02-07T17:45:12.801Z"
   },
   {
    "duration": 11,
    "start_time": "2023-02-07T17:45:12.812Z"
   },
   {
    "duration": 84,
    "start_time": "2023-02-07T17:45:12.824Z"
   },
   {
    "duration": 10,
    "start_time": "2023-02-07T17:45:12.909Z"
   },
   {
    "duration": 11,
    "start_time": "2023-02-07T17:45:12.920Z"
   },
   {
    "duration": 252,
    "start_time": "2023-02-07T17:45:12.943Z"
   },
   {
    "duration": 5,
    "start_time": "2023-02-07T17:45:13.198Z"
   },
   {
    "duration": 22,
    "start_time": "2023-02-07T17:45:13.204Z"
   },
   {
    "duration": 17,
    "start_time": "2023-02-07T17:45:13.227Z"
   },
   {
    "duration": 37,
    "start_time": "2023-02-07T17:45:13.245Z"
   },
   {
    "duration": 6,
    "start_time": "2023-02-07T17:45:13.284Z"
   },
   {
    "duration": 101,
    "start_time": "2023-02-07T17:45:13.292Z"
   },
   {
    "duration": 5,
    "start_time": "2023-02-07T17:45:13.394Z"
   },
   {
    "duration": 80,
    "start_time": "2023-02-07T17:45:13.400Z"
   },
   {
    "duration": 7,
    "start_time": "2023-02-07T17:46:05.508Z"
   },
   {
    "duration": 7,
    "start_time": "2023-02-07T17:50:51.455Z"
   },
   {
    "duration": 92,
    "start_time": "2023-02-07T17:53:16.193Z"
   },
   {
    "duration": 12,
    "start_time": "2023-02-07T17:53:32.456Z"
   },
   {
    "duration": 10,
    "start_time": "2023-02-07T17:53:45.575Z"
   },
   {
    "duration": 11,
    "start_time": "2023-02-07T17:53:48.566Z"
   },
   {
    "duration": 10,
    "start_time": "2023-02-07T17:54:58.705Z"
   },
   {
    "duration": 9,
    "start_time": "2023-02-07T17:55:22.709Z"
   },
   {
    "duration": 9,
    "start_time": "2023-02-07T17:55:28.117Z"
   },
   {
    "duration": 9,
    "start_time": "2023-02-07T17:55:38.516Z"
   },
   {
    "duration": 10,
    "start_time": "2023-02-07T17:55:47.404Z"
   },
   {
    "duration": 9,
    "start_time": "2023-02-07T17:56:13.357Z"
   },
   {
    "duration": 12,
    "start_time": "2023-02-07T17:56:26.130Z"
   },
   {
    "duration": 88,
    "start_time": "2023-02-07T17:56:35.101Z"
   },
   {
    "duration": 13,
    "start_time": "2023-02-07T17:56:38.453Z"
   },
   {
    "duration": 16,
    "start_time": "2023-02-07T17:58:56.036Z"
   },
   {
    "duration": 15,
    "start_time": "2023-02-07T17:58:59.593Z"
   },
   {
    "duration": 8,
    "start_time": "2023-02-07T17:59:11.193Z"
   },
   {
    "duration": 9,
    "start_time": "2023-02-07T18:00:23.712Z"
   },
   {
    "duration": 12,
    "start_time": "2023-02-07T18:00:40.368Z"
   },
   {
    "duration": 10,
    "start_time": "2023-02-07T18:00:44.055Z"
   },
   {
    "duration": 9,
    "start_time": "2023-02-07T18:01:00.988Z"
   },
   {
    "duration": 9,
    "start_time": "2023-02-07T18:01:15.667Z"
   },
   {
    "duration": 15,
    "start_time": "2023-02-07T18:01:29.276Z"
   },
   {
    "duration": 11,
    "start_time": "2023-02-07T18:01:34.557Z"
   },
   {
    "duration": 8,
    "start_time": "2023-02-07T18:01:39.907Z"
   },
   {
    "duration": 981,
    "start_time": "2023-02-07T18:06:33.803Z"
   },
   {
    "duration": 156,
    "start_time": "2023-02-07T18:06:34.786Z"
   },
   {
    "duration": 3,
    "start_time": "2023-02-07T18:06:34.943Z"
   },
   {
    "duration": 54,
    "start_time": "2023-02-07T18:06:34.947Z"
   },
   {
    "duration": 12,
    "start_time": "2023-02-07T18:06:35.003Z"
   },
   {
    "duration": 104,
    "start_time": "2023-02-07T18:06:35.016Z"
   },
   {
    "duration": 11,
    "start_time": "2023-02-07T18:06:35.121Z"
   },
   {
    "duration": 52,
    "start_time": "2023-02-07T18:06:35.133Z"
   },
   {
    "duration": 326,
    "start_time": "2023-02-07T18:06:35.187Z"
   },
   {
    "duration": 267,
    "start_time": "2023-02-07T18:06:35.515Z"
   },
   {
    "duration": 196,
    "start_time": "2023-02-07T18:06:35.784Z"
   },
   {
    "duration": 20,
    "start_time": "2023-02-07T18:06:35.981Z"
   },
   {
    "duration": 132,
    "start_time": "2023-02-07T18:06:36.002Z"
   },
   {
    "duration": 12,
    "start_time": "2023-02-07T18:06:36.137Z"
   },
   {
    "duration": 36,
    "start_time": "2023-02-07T18:06:36.150Z"
   },
   {
    "duration": 96,
    "start_time": "2023-02-07T18:06:36.187Z"
   },
   {
    "duration": 100,
    "start_time": "2023-02-07T18:06:36.285Z"
   },
   {
    "duration": 16,
    "start_time": "2023-02-07T18:06:36.386Z"
   },
   {
    "duration": 101,
    "start_time": "2023-02-07T18:06:36.403Z"
   },
   {
    "duration": 14,
    "start_time": "2023-02-07T18:06:36.505Z"
   },
   {
    "duration": 24,
    "start_time": "2023-02-07T18:06:36.521Z"
   },
   {
    "duration": 42,
    "start_time": "2023-02-07T18:06:36.547Z"
   },
   {
    "duration": 6,
    "start_time": "2023-02-07T18:06:36.590Z"
   },
   {
    "duration": 57,
    "start_time": "2023-02-07T18:06:36.598Z"
   },
   {
    "duration": 13,
    "start_time": "2023-02-07T18:06:36.656Z"
   },
   {
    "duration": 79,
    "start_time": "2023-02-07T18:06:36.670Z"
   },
   {
    "duration": 9,
    "start_time": "2023-02-07T18:06:36.750Z"
   },
   {
    "duration": 14,
    "start_time": "2023-02-07T18:06:36.760Z"
   },
   {
    "duration": 235,
    "start_time": "2023-02-07T18:06:36.776Z"
   },
   {
    "duration": 6,
    "start_time": "2023-02-07T18:06:37.012Z"
   },
   {
    "duration": 11,
    "start_time": "2023-02-07T18:06:37.019Z"
   },
   {
    "duration": 15,
    "start_time": "2023-02-07T18:06:37.031Z"
   },
   {
    "duration": 9,
    "start_time": "2023-02-07T18:06:37.047Z"
   },
   {
    "duration": 31,
    "start_time": "2023-02-07T18:06:37.058Z"
   },
   {
    "duration": 53,
    "start_time": "2023-02-07T18:06:37.091Z"
   },
   {
    "duration": 73,
    "start_time": "2023-02-07T18:06:37.145Z"
   },
   {
    "duration": 28,
    "start_time": "2023-02-07T18:06:37.220Z"
   },
   {
    "duration": 74,
    "start_time": "2023-02-07T18:06:37.250Z"
   },
   {
    "duration": 44,
    "start_time": "2023-02-08T09:08:29.436Z"
   },
   {
    "duration": 5,
    "start_time": "2023-02-08T09:08:31.868Z"
   },
   {
    "duration": 1307,
    "start_time": "2023-02-08T09:08:48.339Z"
   },
   {
    "duration": 736,
    "start_time": "2023-02-08T09:08:49.648Z"
   },
   {
    "duration": 3,
    "start_time": "2023-02-08T09:08:50.386Z"
   },
   {
    "duration": 41,
    "start_time": "2023-02-08T09:08:50.391Z"
   },
   {
    "duration": 15,
    "start_time": "2023-02-08T09:08:50.435Z"
   },
   {
    "duration": 107,
    "start_time": "2023-02-08T09:08:50.452Z"
   },
   {
    "duration": 14,
    "start_time": "2023-02-08T09:08:50.561Z"
   },
   {
    "duration": 54,
    "start_time": "2023-02-08T09:08:50.576Z"
   },
   {
    "duration": 102,
    "start_time": "2023-02-08T09:08:50.632Z"
   },
   {
    "duration": 0,
    "start_time": "2023-02-08T09:08:50.737Z"
   },
   {
    "duration": 0,
    "start_time": "2023-02-08T09:08:50.739Z"
   },
   {
    "duration": 0,
    "start_time": "2023-02-08T09:08:50.740Z"
   },
   {
    "duration": 0,
    "start_time": "2023-02-08T09:08:50.741Z"
   },
   {
    "duration": 0,
    "start_time": "2023-02-08T09:08:50.742Z"
   },
   {
    "duration": 0,
    "start_time": "2023-02-08T09:08:50.743Z"
   },
   {
    "duration": 0,
    "start_time": "2023-02-08T09:08:50.745Z"
   },
   {
    "duration": 0,
    "start_time": "2023-02-08T09:08:50.746Z"
   },
   {
    "duration": 0,
    "start_time": "2023-02-08T09:08:50.747Z"
   },
   {
    "duration": 0,
    "start_time": "2023-02-08T09:08:50.748Z"
   },
   {
    "duration": 0,
    "start_time": "2023-02-08T09:08:50.749Z"
   },
   {
    "duration": 0,
    "start_time": "2023-02-08T09:08:50.751Z"
   },
   {
    "duration": 0,
    "start_time": "2023-02-08T09:08:50.752Z"
   },
   {
    "duration": 0,
    "start_time": "2023-02-08T09:08:50.753Z"
   },
   {
    "duration": 0,
    "start_time": "2023-02-08T09:08:50.754Z"
   },
   {
    "duration": 0,
    "start_time": "2023-02-08T09:08:50.755Z"
   },
   {
    "duration": 0,
    "start_time": "2023-02-08T09:08:50.756Z"
   },
   {
    "duration": 0,
    "start_time": "2023-02-08T09:08:50.757Z"
   },
   {
    "duration": 0,
    "start_time": "2023-02-08T09:08:50.758Z"
   },
   {
    "duration": 0,
    "start_time": "2023-02-08T09:08:50.759Z"
   },
   {
    "duration": 0,
    "start_time": "2023-02-08T09:08:50.761Z"
   },
   {
    "duration": 0,
    "start_time": "2023-02-08T09:08:50.799Z"
   },
   {
    "duration": 0,
    "start_time": "2023-02-08T09:08:50.800Z"
   },
   {
    "duration": 0,
    "start_time": "2023-02-08T09:08:50.802Z"
   },
   {
    "duration": 0,
    "start_time": "2023-02-08T09:08:50.803Z"
   },
   {
    "duration": 0,
    "start_time": "2023-02-08T09:08:50.804Z"
   },
   {
    "duration": 0,
    "start_time": "2023-02-08T09:08:50.805Z"
   },
   {
    "duration": 0,
    "start_time": "2023-02-08T09:08:50.807Z"
   },
   {
    "duration": 1,
    "start_time": "2023-02-08T09:08:50.808Z"
   },
   {
    "duration": 0,
    "start_time": "2023-02-08T09:08:50.809Z"
   },
   {
    "duration": 93,
    "start_time": "2023-02-08T09:09:01.576Z"
   },
   {
    "duration": 9,
    "start_time": "2023-02-08T09:09:14.465Z"
   },
   {
    "duration": 116,
    "start_time": "2023-02-08T09:09:26.680Z"
   },
   {
    "duration": 90,
    "start_time": "2023-02-08T09:10:00.014Z"
   },
   {
    "duration": 89,
    "start_time": "2023-02-08T09:10:11.977Z"
   },
   {
    "duration": 92,
    "start_time": "2023-02-08T09:10:20.021Z"
   },
   {
    "duration": 96,
    "start_time": "2023-02-08T09:10:36.212Z"
   },
   {
    "duration": 93,
    "start_time": "2023-02-08T09:10:49.678Z"
   },
   {
    "duration": 106,
    "start_time": "2023-02-08T09:14:09.715Z"
   },
   {
    "duration": 86,
    "start_time": "2023-02-08T09:14:14.021Z"
   },
   {
    "duration": 86,
    "start_time": "2023-02-08T09:14:20.701Z"
   },
   {
    "duration": 68,
    "start_time": "2023-02-08T09:14:45.083Z"
   },
   {
    "duration": 88,
    "start_time": "2023-02-08T09:14:52.207Z"
   },
   {
    "duration": 91,
    "start_time": "2023-02-08T09:15:12.995Z"
   },
   {
    "duration": 106,
    "start_time": "2023-02-08T09:15:26.186Z"
   },
   {
    "duration": 96,
    "start_time": "2023-02-08T09:15:28.881Z"
   },
   {
    "duration": 123,
    "start_time": "2023-02-08T09:15:57.249Z"
   },
   {
    "duration": 91,
    "start_time": "2023-02-08T09:16:06.271Z"
   },
   {
    "duration": 172,
    "start_time": "2023-02-08T09:16:36.760Z"
   },
   {
    "duration": 178,
    "start_time": "2023-02-08T09:16:43.423Z"
   },
   {
    "duration": 169,
    "start_time": "2023-02-08T09:17:02.092Z"
   },
   {
    "duration": 183,
    "start_time": "2023-02-08T09:17:06.067Z"
   },
   {
    "duration": 175,
    "start_time": "2023-02-08T09:18:09.518Z"
   },
   {
    "duration": 117,
    "start_time": "2023-02-08T09:19:47.386Z"
   },
   {
    "duration": 177,
    "start_time": "2023-02-08T09:19:55.020Z"
   },
   {
    "duration": 1032,
    "start_time": "2023-02-08T09:20:07.021Z"
   },
   {
    "duration": 150,
    "start_time": "2023-02-08T09:20:08.055Z"
   },
   {
    "duration": 3,
    "start_time": "2023-02-08T09:20:08.207Z"
   },
   {
    "duration": 38,
    "start_time": "2023-02-08T09:20:08.212Z"
   },
   {
    "duration": 13,
    "start_time": "2023-02-08T09:20:08.251Z"
   },
   {
    "duration": 85,
    "start_time": "2023-02-08T09:20:08.266Z"
   },
   {
    "duration": 12,
    "start_time": "2023-02-08T09:20:08.352Z"
   },
   {
    "duration": 54,
    "start_time": "2023-02-08T09:20:08.365Z"
   },
   {
    "duration": 189,
    "start_time": "2023-02-08T09:20:08.421Z"
   },
   {
    "duration": 215,
    "start_time": "2023-02-08T09:20:08.612Z"
   },
   {
    "duration": 341,
    "start_time": "2023-02-08T09:20:08.829Z"
   },
   {
    "duration": 197,
    "start_time": "2023-02-08T09:20:09.172Z"
   },
   {
    "duration": 176,
    "start_time": "2023-02-08T09:20:09.371Z"
   },
   {
    "duration": 20,
    "start_time": "2023-02-08T09:20:09.549Z"
   },
   {
    "duration": 134,
    "start_time": "2023-02-08T09:20:09.570Z"
   },
   {
    "duration": 9,
    "start_time": "2023-02-08T09:20:09.706Z"
   },
   {
    "duration": 23,
    "start_time": "2023-02-08T09:20:09.717Z"
   },
   {
    "duration": 115,
    "start_time": "2023-02-08T09:20:09.742Z"
   },
   {
    "duration": 103,
    "start_time": "2023-02-08T09:20:09.858Z"
   },
   {
    "duration": 17,
    "start_time": "2023-02-08T09:20:09.963Z"
   },
   {
    "duration": 108,
    "start_time": "2023-02-08T09:20:09.981Z"
   },
   {
    "duration": 17,
    "start_time": "2023-02-08T09:20:10.091Z"
   },
   {
    "duration": 15,
    "start_time": "2023-02-08T09:20:10.110Z"
   },
   {
    "duration": 51,
    "start_time": "2023-02-08T09:20:10.126Z"
   },
   {
    "duration": 21,
    "start_time": "2023-02-08T09:20:10.178Z"
   },
   {
    "duration": 6,
    "start_time": "2023-02-08T09:20:10.201Z"
   },
   {
    "duration": 12,
    "start_time": "2023-02-08T09:20:10.209Z"
   },
   {
    "duration": 102,
    "start_time": "2023-02-08T09:20:10.224Z"
   },
   {
    "duration": 11,
    "start_time": "2023-02-08T09:20:10.328Z"
   },
   {
    "duration": 28,
    "start_time": "2023-02-08T09:20:10.341Z"
   },
   {
    "duration": 180,
    "start_time": "2023-02-08T09:20:10.370Z"
   },
   {
    "duration": 6,
    "start_time": "2023-02-08T09:20:10.552Z"
   },
   {
    "duration": 15,
    "start_time": "2023-02-08T09:20:10.560Z"
   },
   {
    "duration": 26,
    "start_time": "2023-02-08T09:20:10.578Z"
   },
   {
    "duration": 10,
    "start_time": "2023-02-08T09:20:10.606Z"
   },
   {
    "duration": 86,
    "start_time": "2023-02-08T09:20:10.618Z"
   },
   {
    "duration": 7,
    "start_time": "2023-02-08T09:20:10.706Z"
   },
   {
    "duration": 121,
    "start_time": "2023-02-08T09:20:10.715Z"
   },
   {
    "duration": 6,
    "start_time": "2023-02-08T09:20:10.838Z"
   },
   {
    "duration": 101,
    "start_time": "2023-02-08T09:20:10.846Z"
   },
   {
    "duration": 72,
    "start_time": "2023-02-08T09:20:30.998Z"
   },
   {
    "duration": 4,
    "start_time": "2023-02-08T09:22:41.607Z"
   },
   {
    "duration": 5,
    "start_time": "2023-02-08T09:23:05.958Z"
   },
   {
    "duration": 4,
    "start_time": "2023-02-08T09:23:07.042Z"
   },
   {
    "duration": 1124,
    "start_time": "2023-02-08T09:23:15.840Z"
   },
   {
    "duration": 153,
    "start_time": "2023-02-08T09:23:16.966Z"
   },
   {
    "duration": 3,
    "start_time": "2023-02-08T09:23:17.121Z"
   },
   {
    "duration": 54,
    "start_time": "2023-02-08T09:23:17.127Z"
   },
   {
    "duration": 18,
    "start_time": "2023-02-08T09:23:17.182Z"
   },
   {
    "duration": 70,
    "start_time": "2023-02-08T09:23:17.201Z"
   },
   {
    "duration": 26,
    "start_time": "2023-02-08T09:23:17.273Z"
   },
   {
    "duration": 39,
    "start_time": "2023-02-08T09:23:17.301Z"
   },
   {
    "duration": 200,
    "start_time": "2023-02-08T09:23:17.342Z"
   },
   {
    "duration": 218,
    "start_time": "2023-02-08T09:23:17.545Z"
   },
   {
    "duration": 343,
    "start_time": "2023-02-08T09:23:17.765Z"
   },
   {
    "duration": 207,
    "start_time": "2023-02-08T09:23:18.111Z"
   },
   {
    "duration": 185,
    "start_time": "2023-02-08T09:23:18.320Z"
   },
   {
    "duration": 19,
    "start_time": "2023-02-08T09:23:18.507Z"
   },
   {
    "duration": 144,
    "start_time": "2023-02-08T09:23:18.528Z"
   },
   {
    "duration": 9,
    "start_time": "2023-02-08T09:23:18.673Z"
   },
   {
    "duration": 31,
    "start_time": "2023-02-08T09:23:18.684Z"
   },
   {
    "duration": 116,
    "start_time": "2023-02-08T09:23:18.717Z"
   },
   {
    "duration": 104,
    "start_time": "2023-02-08T09:23:18.835Z"
   },
   {
    "duration": 17,
    "start_time": "2023-02-08T09:23:18.940Z"
   },
   {
    "duration": 103,
    "start_time": "2023-02-08T09:23:18.959Z"
   },
   {
    "duration": 15,
    "start_time": "2023-02-08T09:23:19.065Z"
   },
   {
    "duration": 26,
    "start_time": "2023-02-08T09:23:19.082Z"
   },
   {
    "duration": 40,
    "start_time": "2023-02-08T09:23:19.110Z"
   },
   {
    "duration": 8,
    "start_time": "2023-02-08T09:23:19.152Z"
   },
   {
    "duration": 6,
    "start_time": "2023-02-08T09:23:19.161Z"
   },
   {
    "duration": 31,
    "start_time": "2023-02-08T09:23:19.169Z"
   },
   {
    "duration": 86,
    "start_time": "2023-02-08T09:23:19.204Z"
   },
   {
    "duration": 12,
    "start_time": "2023-02-08T09:23:19.299Z"
   },
   {
    "duration": 18,
    "start_time": "2023-02-08T09:23:19.313Z"
   },
   {
    "duration": 181,
    "start_time": "2023-02-08T09:23:19.333Z"
   },
   {
    "duration": 7,
    "start_time": "2023-02-08T09:23:19.516Z"
   },
   {
    "duration": 19,
    "start_time": "2023-02-08T09:23:19.525Z"
   },
   {
    "duration": 9,
    "start_time": "2023-02-08T09:23:19.545Z"
   },
   {
    "duration": 44,
    "start_time": "2023-02-08T09:23:19.556Z"
   },
   {
    "duration": 8,
    "start_time": "2023-02-08T09:23:19.602Z"
   },
   {
    "duration": 34,
    "start_time": "2023-02-08T09:23:19.612Z"
   },
   {
    "duration": 51,
    "start_time": "2023-02-08T09:23:19.648Z"
   },
   {
    "duration": 75,
    "start_time": "2023-02-08T09:23:19.701Z"
   },
   {
    "duration": 5,
    "start_time": "2023-02-08T09:23:19.778Z"
   },
   {
    "duration": 78,
    "start_time": "2023-02-08T09:23:19.784Z"
   },
   {
    "duration": 4,
    "start_time": "2023-02-08T09:23:33.549Z"
   },
   {
    "duration": 6,
    "start_time": "2023-02-08T09:24:29.779Z"
   },
   {
    "duration": 4,
    "start_time": "2023-02-08T09:24:35.480Z"
   },
   {
    "duration": 71,
    "start_time": "2023-02-08T09:25:46.726Z"
   },
   {
    "duration": 71,
    "start_time": "2023-02-08T09:26:01.810Z"
   },
   {
    "duration": 69,
    "start_time": "2023-02-08T09:26:06.751Z"
   },
   {
    "duration": 130,
    "start_time": "2023-02-08T09:26:11.179Z"
   },
   {
    "duration": 12,
    "start_time": "2023-02-08T09:26:23.769Z"
   },
   {
    "duration": 11,
    "start_time": "2023-02-08T09:26:33.402Z"
   },
   {
    "duration": 11,
    "start_time": "2023-02-08T09:27:03.630Z"
   },
   {
    "duration": 6,
    "start_time": "2023-02-08T09:27:09.234Z"
   },
   {
    "duration": 75,
    "start_time": "2023-02-08T09:27:39.727Z"
   },
   {
    "duration": 84,
    "start_time": "2023-02-08T09:27:42.529Z"
   },
   {
    "duration": 11,
    "start_time": "2023-02-08T09:27:47.438Z"
   },
   {
    "duration": 11,
    "start_time": "2023-02-08T09:28:02.704Z"
   },
   {
    "duration": 10,
    "start_time": "2023-02-08T09:28:19.497Z"
   },
   {
    "duration": 11,
    "start_time": "2023-02-08T09:28:22.402Z"
   },
   {
    "duration": 6,
    "start_time": "2023-02-08T09:28:38.870Z"
   },
   {
    "duration": 16,
    "start_time": "2023-02-08T09:28:44.052Z"
   },
   {
    "duration": 5,
    "start_time": "2023-02-08T09:28:51.372Z"
   },
   {
    "duration": 13,
    "start_time": "2023-02-08T09:29:27.183Z"
   },
   {
    "duration": 6,
    "start_time": "2023-02-08T09:29:52.146Z"
   },
   {
    "duration": 6,
    "start_time": "2023-02-08T09:31:09.400Z"
   },
   {
    "duration": 4,
    "start_time": "2023-02-08T09:31:10.555Z"
   },
   {
    "duration": 11,
    "start_time": "2023-02-08T09:31:24.581Z"
   },
   {
    "duration": 12,
    "start_time": "2023-02-08T09:31:52.032Z"
   },
   {
    "duration": 8,
    "start_time": "2023-02-08T09:32:19.085Z"
   },
   {
    "duration": 7,
    "start_time": "2023-02-08T09:32:24.406Z"
   },
   {
    "duration": 3,
    "start_time": "2023-02-08T09:35:54.030Z"
   },
   {
    "duration": 3,
    "start_time": "2023-02-08T09:36:02.214Z"
   },
   {
    "duration": 5,
    "start_time": "2023-02-08T09:36:14.198Z"
   },
   {
    "duration": 4,
    "start_time": "2023-02-08T09:36:21.061Z"
   },
   {
    "duration": 3,
    "start_time": "2023-02-08T09:36:26.513Z"
   },
   {
    "duration": 5,
    "start_time": "2023-02-08T09:36:29.387Z"
   },
   {
    "duration": 9,
    "start_time": "2023-02-08T09:36:38.333Z"
   },
   {
    "duration": 13,
    "start_time": "2023-02-08T09:36:51.459Z"
   },
   {
    "duration": 11,
    "start_time": "2023-02-08T09:36:57.557Z"
   },
   {
    "duration": 3,
    "start_time": "2023-02-08T09:37:01.039Z"
   },
   {
    "duration": 9,
    "start_time": "2023-02-08T09:37:04.417Z"
   },
   {
    "duration": 3,
    "start_time": "2023-02-08T09:37:07.548Z"
   },
   {
    "duration": 2,
    "start_time": "2023-02-08T09:37:18.293Z"
   },
   {
    "duration": 3,
    "start_time": "2023-02-08T09:37:26.345Z"
   },
   {
    "duration": 93,
    "start_time": "2023-02-08T09:39:58.351Z"
   },
   {
    "duration": 287,
    "start_time": "2023-02-08T09:40:05.978Z"
   },
   {
    "duration": 1169,
    "start_time": "2023-02-09T05:56:06.602Z"
   },
   {
    "duration": 177,
    "start_time": "2023-02-09T05:56:07.773Z"
   },
   {
    "duration": 2,
    "start_time": "2023-02-09T05:56:07.952Z"
   },
   {
    "duration": 37,
    "start_time": "2023-02-09T05:56:07.956Z"
   },
   {
    "duration": 13,
    "start_time": "2023-02-09T05:56:08.005Z"
   },
   {
    "duration": 75,
    "start_time": "2023-02-09T05:56:08.019Z"
   },
   {
    "duration": 16,
    "start_time": "2023-02-09T05:56:08.106Z"
   },
   {
    "duration": 49,
    "start_time": "2023-02-09T05:56:08.124Z"
   },
   {
    "duration": 204,
    "start_time": "2023-02-09T05:56:08.176Z"
   },
   {
    "duration": 213,
    "start_time": "2023-02-09T05:56:08.381Z"
   },
   {
    "duration": 370,
    "start_time": "2023-02-09T05:56:08.604Z"
   },
   {
    "duration": 223,
    "start_time": "2023-02-09T05:56:08.976Z"
   },
   {
    "duration": 220,
    "start_time": "2023-02-09T05:56:09.200Z"
   },
   {
    "duration": 20,
    "start_time": "2023-02-09T05:56:09.424Z"
   },
   {
    "duration": 148,
    "start_time": "2023-02-09T05:56:09.446Z"
   },
   {
    "duration": 14,
    "start_time": "2023-02-09T05:56:09.604Z"
   },
   {
    "duration": 37,
    "start_time": "2023-02-09T05:56:09.620Z"
   },
   {
    "duration": 118,
    "start_time": "2023-02-09T05:56:09.659Z"
   },
   {
    "duration": 106,
    "start_time": "2023-02-09T05:56:09.779Z"
   },
   {
    "duration": 37,
    "start_time": "2023-02-09T05:56:09.887Z"
   },
   {
    "duration": 111,
    "start_time": "2023-02-09T05:56:09.926Z"
   },
   {
    "duration": 14,
    "start_time": "2023-02-09T05:56:10.039Z"
   },
   {
    "duration": 17,
    "start_time": "2023-02-09T05:56:10.055Z"
   },
   {
    "duration": 63,
    "start_time": "2023-02-09T05:56:10.074Z"
   },
   {
    "duration": 7,
    "start_time": "2023-02-09T05:56:10.139Z"
   },
   {
    "duration": 6,
    "start_time": "2023-02-09T05:56:10.148Z"
   },
   {
    "duration": 78,
    "start_time": "2023-02-09T05:56:10.155Z"
   },
   {
    "duration": 97,
    "start_time": "2023-02-09T05:56:10.235Z"
   },
   {
    "duration": 14,
    "start_time": "2023-02-09T05:56:10.334Z"
   },
   {
    "duration": 13,
    "start_time": "2023-02-09T05:56:10.350Z"
   },
   {
    "duration": 285,
    "start_time": "2023-02-09T05:56:10.364Z"
   },
   {
    "duration": 6,
    "start_time": "2023-02-09T05:56:10.650Z"
   },
   {
    "duration": 12,
    "start_time": "2023-02-09T05:56:10.657Z"
   },
   {
    "duration": 8,
    "start_time": "2023-02-09T05:56:10.671Z"
   },
   {
    "duration": 9,
    "start_time": "2023-02-09T05:56:10.681Z"
   },
   {
    "duration": 3,
    "start_time": "2023-02-09T05:56:10.711Z"
   },
   {
    "duration": 5,
    "start_time": "2023-02-09T05:56:10.720Z"
   },
   {
    "duration": 7,
    "start_time": "2023-02-09T05:56:10.727Z"
   },
   {
    "duration": 83,
    "start_time": "2023-02-09T05:56:10.736Z"
   },
   {
    "duration": 7,
    "start_time": "2023-02-09T05:56:10.821Z"
   },
   {
    "duration": 118,
    "start_time": "2023-02-09T05:56:10.832Z"
   },
   {
    "duration": 5,
    "start_time": "2023-02-09T05:56:10.952Z"
   },
   {
    "duration": 103,
    "start_time": "2023-02-09T05:56:10.959Z"
   },
   {
    "duration": 5,
    "start_time": "2023-02-09T06:10:48.131Z"
   },
   {
    "duration": 1257,
    "start_time": "2023-02-09T06:10:56.618Z"
   },
   {
    "duration": 196,
    "start_time": "2023-02-09T06:10:57.877Z"
   },
   {
    "duration": 2,
    "start_time": "2023-02-09T06:10:58.075Z"
   },
   {
    "duration": 70,
    "start_time": "2023-02-09T06:10:58.079Z"
   },
   {
    "duration": 13,
    "start_time": "2023-02-09T06:10:58.151Z"
   },
   {
    "duration": 99,
    "start_time": "2023-02-09T06:10:58.166Z"
   },
   {
    "duration": 12,
    "start_time": "2023-02-09T06:10:58.266Z"
   },
   {
    "duration": 60,
    "start_time": "2023-02-09T06:10:58.279Z"
   },
   {
    "duration": 219,
    "start_time": "2023-02-09T06:10:58.341Z"
   },
   {
    "duration": 256,
    "start_time": "2023-02-09T06:10:58.561Z"
   },
   {
    "duration": 453,
    "start_time": "2023-02-09T06:10:58.819Z"
   },
   {
    "duration": 258,
    "start_time": "2023-02-09T06:10:59.273Z"
   },
   {
    "duration": 239,
    "start_time": "2023-02-09T06:10:59.534Z"
   },
   {
    "duration": 19,
    "start_time": "2023-02-09T06:10:59.777Z"
   },
   {
    "duration": 174,
    "start_time": "2023-02-09T06:10:59.798Z"
   },
   {
    "duration": 11,
    "start_time": "2023-02-09T06:10:59.974Z"
   },
   {
    "duration": 57,
    "start_time": "2023-02-09T06:10:59.987Z"
   },
   {
    "duration": 143,
    "start_time": "2023-02-09T06:11:00.046Z"
   },
   {
    "duration": 176,
    "start_time": "2023-02-09T06:11:00.190Z"
   },
   {
    "duration": 17,
    "start_time": "2023-02-09T06:11:00.367Z"
   },
   {
    "duration": 163,
    "start_time": "2023-02-09T06:11:00.385Z"
   },
   {
    "duration": 14,
    "start_time": "2023-02-09T06:11:00.550Z"
   },
   {
    "duration": 89,
    "start_time": "2023-02-09T06:11:00.566Z"
   },
   {
    "duration": 68,
    "start_time": "2023-02-09T06:11:00.656Z"
   },
   {
    "duration": 27,
    "start_time": "2023-02-09T06:11:00.726Z"
   },
   {
    "duration": 28,
    "start_time": "2023-02-09T06:11:00.756Z"
   },
   {
    "duration": 64,
    "start_time": "2023-02-09T06:11:00.786Z"
   },
   {
    "duration": 117,
    "start_time": "2023-02-09T06:11:00.853Z"
   },
   {
    "duration": 11,
    "start_time": "2023-02-09T06:11:00.972Z"
   },
   {
    "duration": 78,
    "start_time": "2023-02-09T06:11:00.984Z"
   },
   {
    "duration": 365,
    "start_time": "2023-02-09T06:11:01.064Z"
   },
   {
    "duration": 8,
    "start_time": "2023-02-09T06:11:01.431Z"
   },
   {
    "duration": 43,
    "start_time": "2023-02-09T06:11:01.441Z"
   },
   {
    "duration": 73,
    "start_time": "2023-02-09T06:11:01.486Z"
   },
   {
    "duration": 26,
    "start_time": "2023-02-09T06:11:01.561Z"
   },
   {
    "duration": 62,
    "start_time": "2023-02-09T06:11:01.589Z"
   },
   {
    "duration": 23,
    "start_time": "2023-02-09T06:11:01.652Z"
   },
   {
    "duration": 69,
    "start_time": "2023-02-09T06:11:01.677Z"
   },
   {
    "duration": 39,
    "start_time": "2023-02-09T06:11:01.748Z"
   },
   {
    "duration": 56,
    "start_time": "2023-02-09T06:11:01.789Z"
   },
   {
    "duration": 136,
    "start_time": "2023-02-09T06:11:01.858Z"
   },
   {
    "duration": 13,
    "start_time": "2023-02-09T06:11:01.996Z"
   },
   {
    "duration": 156,
    "start_time": "2023-02-09T06:11:02.012Z"
   },
   {
    "duration": 4,
    "start_time": "2023-02-09T06:12:21.662Z"
   },
   {
    "duration": 149,
    "start_time": "2023-02-09T06:14:37.498Z"
   },
   {
    "duration": 4,
    "start_time": "2023-02-09T06:14:47.591Z"
   },
   {
    "duration": 1399,
    "start_time": "2023-02-09T06:15:46.489Z"
   },
   {
    "duration": 204,
    "start_time": "2023-02-09T06:15:47.889Z"
   },
   {
    "duration": 5,
    "start_time": "2023-02-09T06:15:48.095Z"
   },
   {
    "duration": 72,
    "start_time": "2023-02-09T06:15:48.102Z"
   },
   {
    "duration": 12,
    "start_time": "2023-02-09T06:15:48.176Z"
   },
   {
    "duration": 92,
    "start_time": "2023-02-09T06:15:48.189Z"
   },
   {
    "duration": 14,
    "start_time": "2023-02-09T06:15:48.283Z"
   },
   {
    "duration": 61,
    "start_time": "2023-02-09T06:15:48.299Z"
   },
   {
    "duration": 226,
    "start_time": "2023-02-09T06:15:48.362Z"
   },
   {
    "duration": 267,
    "start_time": "2023-02-09T06:15:48.590Z"
   },
   {
    "duration": 423,
    "start_time": "2023-02-09T06:15:48.859Z"
   },
   {
    "duration": 238,
    "start_time": "2023-02-09T06:15:49.283Z"
   },
   {
    "duration": 218,
    "start_time": "2023-02-09T06:15:49.524Z"
   },
   {
    "duration": 21,
    "start_time": "2023-02-09T06:15:49.745Z"
   },
   {
    "duration": 170,
    "start_time": "2023-02-09T06:15:49.768Z"
   },
   {
    "duration": 11,
    "start_time": "2023-02-09T06:15:49.942Z"
   },
   {
    "duration": 30,
    "start_time": "2023-02-09T06:15:49.955Z"
   },
   {
    "duration": 148,
    "start_time": "2023-02-09T06:15:49.987Z"
   },
   {
    "duration": 162,
    "start_time": "2023-02-09T06:15:50.137Z"
   },
   {
    "duration": 50,
    "start_time": "2023-02-09T06:15:50.301Z"
   },
   {
    "duration": 125,
    "start_time": "2023-02-09T06:15:50.353Z"
   },
   {
    "duration": 13,
    "start_time": "2023-02-09T06:15:50.480Z"
   },
   {
    "duration": 30,
    "start_time": "2023-02-09T06:15:50.494Z"
   },
   {
    "duration": 80,
    "start_time": "2023-02-09T06:15:50.526Z"
   },
   {
    "duration": 12,
    "start_time": "2023-02-09T06:15:50.609Z"
   },
   {
    "duration": 29,
    "start_time": "2023-02-09T06:15:50.624Z"
   },
   {
    "duration": 13,
    "start_time": "2023-02-09T06:15:50.655Z"
   },
   {
    "duration": 109,
    "start_time": "2023-02-09T06:15:50.669Z"
   },
   {
    "duration": 9,
    "start_time": "2023-02-09T06:15:50.779Z"
   },
   {
    "duration": 21,
    "start_time": "2023-02-09T06:15:50.789Z"
   },
   {
    "duration": 337,
    "start_time": "2023-02-09T06:15:50.812Z"
   },
   {
    "duration": 6,
    "start_time": "2023-02-09T06:15:51.151Z"
   },
   {
    "duration": 19,
    "start_time": "2023-02-09T06:15:51.160Z"
   },
   {
    "duration": 14,
    "start_time": "2023-02-09T06:15:51.181Z"
   },
   {
    "duration": 44,
    "start_time": "2023-02-09T06:15:51.197Z"
   },
   {
    "duration": 16,
    "start_time": "2023-02-09T06:15:51.244Z"
   },
   {
    "duration": 4,
    "start_time": "2023-02-09T06:15:51.262Z"
   },
   {
    "duration": 18,
    "start_time": "2023-02-09T06:15:51.267Z"
   },
   {
    "duration": 88,
    "start_time": "2023-02-09T06:15:51.286Z"
   },
   {
    "duration": 5,
    "start_time": "2023-02-09T06:15:51.375Z"
   },
   {
    "duration": 102,
    "start_time": "2023-02-09T06:15:51.383Z"
   },
   {
    "duration": 5,
    "start_time": "2023-02-09T06:15:51.486Z"
   },
   {
    "duration": 101,
    "start_time": "2023-02-09T06:15:51.493Z"
   },
   {
    "duration": 4,
    "start_time": "2023-02-09T06:17:32.950Z"
   },
   {
    "duration": 3,
    "start_time": "2023-02-09T06:17:41.248Z"
   },
   {
    "duration": 4,
    "start_time": "2023-02-09T06:20:39.205Z"
   },
   {
    "duration": 3,
    "start_time": "2023-02-09T06:20:48.690Z"
   },
   {
    "duration": 113,
    "start_time": "2023-02-09T06:21:40.973Z"
   },
   {
    "duration": 77,
    "start_time": "2023-02-09T06:21:54.238Z"
   },
   {
    "duration": 4,
    "start_time": "2023-02-09T06:22:43.670Z"
   },
   {
    "duration": 5,
    "start_time": "2023-02-09T06:23:06.343Z"
   },
   {
    "duration": 5,
    "start_time": "2023-02-09T06:24:24.171Z"
   },
   {
    "duration": 1353,
    "start_time": "2023-02-09T06:24:41.631Z"
   },
   {
    "duration": 265,
    "start_time": "2023-02-09T06:24:42.986Z"
   },
   {
    "duration": 4,
    "start_time": "2023-02-09T06:24:43.252Z"
   },
   {
    "duration": 41,
    "start_time": "2023-02-09T06:24:43.257Z"
   },
   {
    "duration": 36,
    "start_time": "2023-02-09T06:24:43.300Z"
   },
   {
    "duration": 110,
    "start_time": "2023-02-09T06:24:43.340Z"
   },
   {
    "duration": 12,
    "start_time": "2023-02-09T06:24:43.453Z"
   },
   {
    "duration": 56,
    "start_time": "2023-02-09T06:24:43.466Z"
   },
   {
    "duration": 471,
    "start_time": "2023-02-09T06:24:43.533Z"
   },
   {
    "duration": 336,
    "start_time": "2023-02-09T06:24:44.005Z"
   },
   {
    "duration": 620,
    "start_time": "2023-02-09T06:24:44.344Z"
   },
   {
    "duration": 259,
    "start_time": "2023-02-09T06:24:44.967Z"
   },
   {
    "duration": 219,
    "start_time": "2023-02-09T06:24:45.231Z"
   },
   {
    "duration": 20,
    "start_time": "2023-02-09T06:24:45.453Z"
   },
   {
    "duration": 157,
    "start_time": "2023-02-09T06:24:45.475Z"
   },
   {
    "duration": 10,
    "start_time": "2023-02-09T06:24:45.633Z"
   },
   {
    "duration": 30,
    "start_time": "2023-02-09T06:24:45.645Z"
   },
   {
    "duration": 167,
    "start_time": "2023-02-09T06:24:45.676Z"
   },
   {
    "duration": 134,
    "start_time": "2023-02-09T06:24:45.846Z"
   },
   {
    "duration": 35,
    "start_time": "2023-02-09T06:24:45.982Z"
   },
   {
    "duration": 151,
    "start_time": "2023-02-09T06:24:46.021Z"
   },
   {
    "duration": 13,
    "start_time": "2023-02-09T06:24:46.173Z"
   },
   {
    "duration": 37,
    "start_time": "2023-02-09T06:24:46.188Z"
   },
   {
    "duration": 65,
    "start_time": "2023-02-09T06:24:46.226Z"
   },
   {
    "duration": 7,
    "start_time": "2023-02-09T06:24:46.293Z"
   },
   {
    "duration": 46,
    "start_time": "2023-02-09T06:24:46.302Z"
   },
   {
    "duration": 14,
    "start_time": "2023-02-09T06:24:46.349Z"
   },
   {
    "duration": 103,
    "start_time": "2023-02-09T06:24:46.364Z"
   },
   {
    "duration": 9,
    "start_time": "2023-02-09T06:24:46.469Z"
   },
   {
    "duration": 15,
    "start_time": "2023-02-09T06:24:46.480Z"
   },
   {
    "duration": 386,
    "start_time": "2023-02-09T06:24:46.497Z"
   },
   {
    "duration": 7,
    "start_time": "2023-02-09T06:24:46.885Z"
   },
   {
    "duration": 83,
    "start_time": "2023-02-09T06:24:46.894Z"
   },
   {
    "duration": 11,
    "start_time": "2023-02-09T06:24:46.979Z"
   },
   {
    "duration": 75,
    "start_time": "2023-02-09T06:24:46.992Z"
   },
   {
    "duration": 15,
    "start_time": "2023-02-09T06:24:47.069Z"
   },
   {
    "duration": 10,
    "start_time": "2023-02-09T06:24:47.086Z"
   },
   {
    "duration": 22,
    "start_time": "2023-02-09T06:24:47.098Z"
   },
   {
    "duration": 65,
    "start_time": "2023-02-09T06:24:47.121Z"
   },
   {
    "duration": 5,
    "start_time": "2023-02-09T06:24:47.188Z"
   },
   {
    "duration": 115,
    "start_time": "2023-02-09T06:24:47.197Z"
   },
   {
    "duration": 8,
    "start_time": "2023-02-09T06:24:47.314Z"
   },
   {
    "duration": 122,
    "start_time": "2023-02-09T06:24:47.331Z"
   },
   {
    "duration": 1160,
    "start_time": "2023-02-09T06:26:31.035Z"
   },
   {
    "duration": 202,
    "start_time": "2023-02-09T06:26:32.198Z"
   },
   {
    "duration": 10,
    "start_time": "2023-02-09T06:26:32.402Z"
   },
   {
    "duration": 54,
    "start_time": "2023-02-09T06:26:32.417Z"
   },
   {
    "duration": 13,
    "start_time": "2023-02-09T06:26:32.473Z"
   },
   {
    "duration": 88,
    "start_time": "2023-02-09T06:26:32.488Z"
   },
   {
    "duration": 12,
    "start_time": "2023-02-09T06:26:32.578Z"
   },
   {
    "duration": 72,
    "start_time": "2023-02-09T06:26:32.591Z"
   },
   {
    "duration": 201,
    "start_time": "2023-02-09T06:26:32.665Z"
   },
   {
    "duration": 239,
    "start_time": "2023-02-09T06:26:32.868Z"
   },
   {
    "duration": 397,
    "start_time": "2023-02-09T06:26:33.109Z"
   },
   {
    "duration": 234,
    "start_time": "2023-02-09T06:26:33.507Z"
   },
   {
    "duration": 195,
    "start_time": "2023-02-09T06:26:33.743Z"
   },
   {
    "duration": 20,
    "start_time": "2023-02-09T06:26:33.942Z"
   },
   {
    "duration": 143,
    "start_time": "2023-02-09T06:26:33.964Z"
   },
   {
    "duration": 18,
    "start_time": "2023-02-09T06:26:34.108Z"
   },
   {
    "duration": 35,
    "start_time": "2023-02-09T06:26:34.127Z"
   },
   {
    "duration": 117,
    "start_time": "2023-02-09T06:26:34.164Z"
   },
   {
    "duration": 131,
    "start_time": "2023-02-09T06:26:34.282Z"
   },
   {
    "duration": 27,
    "start_time": "2023-02-09T06:26:34.421Z"
   },
   {
    "duration": 112,
    "start_time": "2023-02-09T06:26:34.449Z"
   },
   {
    "duration": 14,
    "start_time": "2023-02-09T06:26:34.563Z"
   },
   {
    "duration": 17,
    "start_time": "2023-02-09T06:26:34.578Z"
   },
   {
    "duration": 49,
    "start_time": "2023-02-09T06:26:34.605Z"
   },
   {
    "duration": 7,
    "start_time": "2023-02-09T06:26:34.656Z"
   },
   {
    "duration": 13,
    "start_time": "2023-02-09T06:26:34.664Z"
   },
   {
    "duration": 12,
    "start_time": "2023-02-09T06:26:34.679Z"
   },
   {
    "duration": 95,
    "start_time": "2023-02-09T06:26:34.693Z"
   },
   {
    "duration": 36,
    "start_time": "2023-02-09T06:26:34.790Z"
   },
   {
    "duration": 34,
    "start_time": "2023-02-09T06:26:34.831Z"
   },
   {
    "duration": 267,
    "start_time": "2023-02-09T06:26:34.867Z"
   },
   {
    "duration": 9,
    "start_time": "2023-02-09T06:26:35.136Z"
   },
   {
    "duration": 16,
    "start_time": "2023-02-09T06:26:35.150Z"
   },
   {
    "duration": 8,
    "start_time": "2023-02-09T06:26:35.168Z"
   },
   {
    "duration": 37,
    "start_time": "2023-02-09T06:26:35.177Z"
   },
   {
    "duration": 26,
    "start_time": "2023-02-09T06:26:35.222Z"
   },
   {
    "duration": 5,
    "start_time": "2023-02-09T06:26:35.250Z"
   },
   {
    "duration": 12,
    "start_time": "2023-02-09T06:26:35.257Z"
   },
   {
    "duration": 64,
    "start_time": "2023-02-09T06:26:35.307Z"
   },
   {
    "duration": 6,
    "start_time": "2023-02-09T06:26:35.373Z"
   },
   {
    "duration": 90,
    "start_time": "2023-02-09T06:26:35.382Z"
   },
   {
    "duration": 6,
    "start_time": "2023-02-09T06:26:35.473Z"
   },
   {
    "duration": 102,
    "start_time": "2023-02-09T06:26:35.481Z"
   },
   {
    "duration": 9,
    "start_time": "2023-02-09T09:56:39.365Z"
   },
   {
    "duration": 10,
    "start_time": "2023-02-09T09:56:45.264Z"
   },
   {
    "duration": 4,
    "start_time": "2023-02-09T09:56:50.564Z"
   },
   {
    "duration": 5,
    "start_time": "2023-02-09T09:56:53.768Z"
   },
   {
    "duration": 48,
    "start_time": "2023-02-09T09:57:18.013Z"
   },
   {
    "duration": 1299,
    "start_time": "2023-02-09T09:57:23.766Z"
   },
   {
    "duration": 1063,
    "start_time": "2023-02-09T09:57:25.068Z"
   },
   {
    "duration": 3,
    "start_time": "2023-02-09T09:57:26.132Z"
   },
   {
    "duration": 50,
    "start_time": "2023-02-09T09:57:26.137Z"
   },
   {
    "duration": 11,
    "start_time": "2023-02-09T09:57:26.189Z"
   },
   {
    "duration": 74,
    "start_time": "2023-02-09T09:57:26.201Z"
   },
   {
    "duration": 12,
    "start_time": "2023-02-09T09:57:26.276Z"
   },
   {
    "duration": 47,
    "start_time": "2023-02-09T09:57:26.290Z"
   },
   {
    "duration": 175,
    "start_time": "2023-02-09T09:57:26.339Z"
   },
   {
    "duration": 189,
    "start_time": "2023-02-09T09:57:26.515Z"
   },
   {
    "duration": 354,
    "start_time": "2023-02-09T09:57:26.705Z"
   },
   {
    "duration": 211,
    "start_time": "2023-02-09T09:57:27.061Z"
   },
   {
    "duration": 187,
    "start_time": "2023-02-09T09:57:27.273Z"
   },
   {
    "duration": 20,
    "start_time": "2023-02-09T09:57:27.464Z"
   },
   {
    "duration": 138,
    "start_time": "2023-02-09T09:57:27.486Z"
   },
   {
    "duration": 13,
    "start_time": "2023-02-09T09:57:27.625Z"
   },
   {
    "duration": 38,
    "start_time": "2023-02-09T09:57:27.640Z"
   },
   {
    "duration": 104,
    "start_time": "2023-02-09T09:57:27.679Z"
   },
   {
    "duration": 96,
    "start_time": "2023-02-09T09:57:27.785Z"
   },
   {
    "duration": 16,
    "start_time": "2023-02-09T09:57:27.882Z"
   },
   {
    "duration": 98,
    "start_time": "2023-02-09T09:57:27.899Z"
   },
   {
    "duration": 13,
    "start_time": "2023-02-09T09:57:27.998Z"
   },
   {
    "duration": 25,
    "start_time": "2023-02-09T09:57:28.013Z"
   },
   {
    "duration": 36,
    "start_time": "2023-02-09T09:57:28.040Z"
   },
   {
    "duration": 6,
    "start_time": "2023-02-09T09:57:28.078Z"
   },
   {
    "duration": 6,
    "start_time": "2023-02-09T09:57:28.086Z"
   },
   {
    "duration": 12,
    "start_time": "2023-02-09T09:57:28.093Z"
   },
   {
    "duration": 92,
    "start_time": "2023-02-09T09:57:28.107Z"
   },
   {
    "duration": 9,
    "start_time": "2023-02-09T09:57:28.201Z"
   },
   {
    "duration": 14,
    "start_time": "2023-02-09T09:57:28.211Z"
   },
   {
    "duration": 182,
    "start_time": "2023-02-09T09:57:28.238Z"
   },
   {
    "duration": 5,
    "start_time": "2023-02-09T09:57:28.421Z"
   },
   {
    "duration": 11,
    "start_time": "2023-02-09T09:57:28.427Z"
   },
   {
    "duration": 9,
    "start_time": "2023-02-09T09:57:28.440Z"
   },
   {
    "duration": 14,
    "start_time": "2023-02-09T09:57:28.451Z"
   },
   {
    "duration": 7,
    "start_time": "2023-02-09T09:57:28.466Z"
   },
   {
    "duration": 6,
    "start_time": "2023-02-09T09:57:28.474Z"
   },
   {
    "duration": 8,
    "start_time": "2023-02-09T09:57:28.482Z"
   },
   {
    "duration": 74,
    "start_time": "2023-02-09T09:57:28.491Z"
   },
   {
    "duration": 5,
    "start_time": "2023-02-09T09:57:28.567Z"
   },
   {
    "duration": 101,
    "start_time": "2023-02-09T09:57:28.575Z"
   },
   {
    "duration": 6,
    "start_time": "2023-02-09T09:57:28.677Z"
   },
   {
    "duration": 88,
    "start_time": "2023-02-09T09:57:28.684Z"
   },
   {
    "duration": 5,
    "start_time": "2023-02-09T09:57:39.464Z"
   },
   {
    "duration": 4,
    "start_time": "2023-02-09T09:57:46.282Z"
   },
   {
    "duration": 3,
    "start_time": "2023-02-09T09:57:51.027Z"
   },
   {
    "duration": 4,
    "start_time": "2023-02-09T09:57:53.592Z"
   },
   {
    "duration": 4,
    "start_time": "2023-02-09T09:57:57.426Z"
   },
   {
    "duration": 4,
    "start_time": "2023-02-09T09:58:04.657Z"
   },
   {
    "duration": 5,
    "start_time": "2023-02-09T09:58:15.471Z"
   },
   {
    "duration": 4,
    "start_time": "2023-02-09T09:58:21.517Z"
   },
   {
    "duration": 7,
    "start_time": "2023-02-09T09:58:26.252Z"
   },
   {
    "duration": 5,
    "start_time": "2023-02-09T09:58:28.868Z"
   },
   {
    "duration": 5,
    "start_time": "2023-02-09T09:58:56.605Z"
   },
   {
    "duration": 5,
    "start_time": "2023-02-09T09:59:14.660Z"
   },
   {
    "duration": 4,
    "start_time": "2023-02-09T09:59:16.874Z"
   },
   {
    "duration": 5,
    "start_time": "2023-02-09T09:59:21.225Z"
   },
   {
    "duration": 107,
    "start_time": "2023-02-09T09:59:41.606Z"
   },
   {
    "duration": 10,
    "start_time": "2023-02-09T09:59:48.997Z"
   },
   {
    "duration": 9,
    "start_time": "2023-02-09T10:00:14.226Z"
   },
   {
    "duration": 10,
    "start_time": "2023-02-09T10:00:18.786Z"
   },
   {
    "duration": 9,
    "start_time": "2023-02-09T10:00:23.496Z"
   },
   {
    "duration": 7,
    "start_time": "2023-02-09T10:00:43.364Z"
   },
   {
    "duration": 1612,
    "start_time": "2023-02-25T15:29:22.932Z"
   },
   {
    "duration": 100,
    "start_time": "2023-02-25T15:29:24.546Z"
   },
   {
    "duration": 21,
    "start_time": "2023-02-25T15:29:24.648Z"
   },
   {
    "duration": 7,
    "start_time": "2023-02-25T15:29:24.671Z"
   },
   {
    "duration": 14,
    "start_time": "2023-02-25T15:29:24.681Z"
   },
   {
    "duration": 16,
    "start_time": "2023-02-25T15:29:24.696Z"
   },
   {
    "duration": 46,
    "start_time": "2023-02-25T15:29:24.714Z"
   },
   {
    "duration": 18,
    "start_time": "2023-02-25T15:29:24.762Z"
   },
   {
    "duration": 8,
    "start_time": "2023-02-25T15:29:24.781Z"
   },
   {
    "duration": 226,
    "start_time": "2023-02-25T15:29:24.790Z"
   },
   {
    "duration": 1840,
    "start_time": "2023-02-25T15:29:25.018Z"
   },
   {
    "duration": 115,
    "start_time": "2023-02-25T15:29:26.860Z"
   },
   {
    "duration": 40,
    "start_time": "2023-02-25T15:29:26.977Z"
   },
   {
    "duration": 188,
    "start_time": "2023-02-25T15:29:27.020Z"
   },
   {
    "duration": 45,
    "start_time": "2023-02-25T15:29:27.210Z"
   },
   {
    "duration": 247,
    "start_time": "2023-02-25T15:29:27.257Z"
   },
   {
    "duration": 295,
    "start_time": "2023-02-25T15:29:27.505Z"
   },
   {
    "duration": 145,
    "start_time": "2023-02-25T15:29:27.803Z"
   },
   {
    "duration": 87,
    "start_time": "2023-02-25T15:29:27.954Z"
   },
   {
    "duration": 42,
    "start_time": "2023-02-25T15:29:28.042Z"
   },
   {
    "duration": 11,
    "start_time": "2023-02-25T15:29:28.086Z"
   },
   {
    "duration": 200,
    "start_time": "2023-02-25T15:29:28.099Z"
   },
   {
    "duration": 0,
    "start_time": "2023-02-25T15:29:28.301Z"
   },
   {
    "duration": 0,
    "start_time": "2023-02-25T15:29:28.302Z"
   },
   {
    "duration": 0,
    "start_time": "2023-02-25T15:29:28.303Z"
   },
   {
    "duration": 0,
    "start_time": "2023-02-25T15:29:28.304Z"
   },
   {
    "duration": 0,
    "start_time": "2023-02-25T15:29:28.305Z"
   },
   {
    "duration": 0,
    "start_time": "2023-02-25T15:29:28.306Z"
   },
   {
    "duration": 0,
    "start_time": "2023-02-25T15:29:28.307Z"
   },
   {
    "duration": 0,
    "start_time": "2023-02-25T15:29:28.308Z"
   },
   {
    "duration": 0,
    "start_time": "2023-02-25T15:29:28.309Z"
   },
   {
    "duration": 0,
    "start_time": "2023-02-25T15:29:28.311Z"
   },
   {
    "duration": 1,
    "start_time": "2023-02-25T15:29:28.311Z"
   },
   {
    "duration": 0,
    "start_time": "2023-02-25T15:29:28.313Z"
   },
   {
    "duration": 0,
    "start_time": "2023-02-25T15:29:28.313Z"
   },
   {
    "duration": 0,
    "start_time": "2023-02-25T15:29:28.315Z"
   },
   {
    "duration": 0,
    "start_time": "2023-02-25T15:29:28.315Z"
   },
   {
    "duration": 0,
    "start_time": "2023-02-25T15:29:28.317Z"
   },
   {
    "duration": 0,
    "start_time": "2023-02-25T15:29:28.318Z"
   },
   {
    "duration": 0,
    "start_time": "2023-02-25T15:29:28.319Z"
   },
   {
    "duration": 0,
    "start_time": "2023-02-25T15:29:28.320Z"
   },
   {
    "duration": 0,
    "start_time": "2023-02-25T15:29:28.321Z"
   },
   {
    "duration": 112,
    "start_time": "2023-02-25T16:19:10.568Z"
   },
   {
    "duration": 1634,
    "start_time": "2023-02-25T16:19:23.362Z"
   },
   {
    "duration": 108,
    "start_time": "2023-02-25T16:19:24.998Z"
   },
   {
    "duration": 20,
    "start_time": "2023-02-25T16:19:25.108Z"
   },
   {
    "duration": 6,
    "start_time": "2023-02-25T16:19:25.130Z"
   },
   {
    "duration": 17,
    "start_time": "2023-02-25T16:19:25.138Z"
   },
   {
    "duration": 14,
    "start_time": "2023-02-25T16:19:25.157Z"
   },
   {
    "duration": 32,
    "start_time": "2023-02-25T16:19:25.173Z"
   },
   {
    "duration": 21,
    "start_time": "2023-02-25T16:19:25.206Z"
   },
   {
    "duration": 13,
    "start_time": "2023-02-25T16:19:25.229Z"
   },
   {
    "duration": 160,
    "start_time": "2023-02-25T16:19:25.244Z"
   },
   {
    "duration": 353,
    "start_time": "2023-02-25T16:19:25.406Z"
   },
   {
    "duration": 69,
    "start_time": "2023-02-25T16:19:25.760Z"
   },
   {
    "duration": 36,
    "start_time": "2023-02-25T16:19:25.831Z"
   },
   {
    "duration": 190,
    "start_time": "2023-02-25T16:19:25.869Z"
   },
   {
    "duration": 44,
    "start_time": "2023-02-25T16:19:26.061Z"
   },
   {
    "duration": 233,
    "start_time": "2023-02-25T16:19:26.107Z"
   },
   {
    "duration": 218,
    "start_time": "2023-02-25T16:19:26.342Z"
   },
   {
    "duration": 143,
    "start_time": "2023-02-25T16:19:26.561Z"
   },
   {
    "duration": 71,
    "start_time": "2023-02-25T16:19:26.706Z"
   },
   {
    "duration": 54,
    "start_time": "2023-02-25T16:19:26.779Z"
   },
   {
    "duration": 11,
    "start_time": "2023-02-25T16:19:26.834Z"
   },
   {
    "duration": 92,
    "start_time": "2023-02-25T16:19:26.847Z"
   },
   {
    "duration": 0,
    "start_time": "2023-02-25T16:19:26.941Z"
   },
   {
    "duration": 0,
    "start_time": "2023-02-25T16:19:26.943Z"
   },
   {
    "duration": 0,
    "start_time": "2023-02-25T16:19:26.944Z"
   },
   {
    "duration": 0,
    "start_time": "2023-02-25T16:19:26.946Z"
   },
   {
    "duration": 0,
    "start_time": "2023-02-25T16:19:26.947Z"
   },
   {
    "duration": 0,
    "start_time": "2023-02-25T16:19:26.949Z"
   },
   {
    "duration": 0,
    "start_time": "2023-02-25T16:19:26.950Z"
   },
   {
    "duration": 0,
    "start_time": "2023-02-25T16:19:26.951Z"
   },
   {
    "duration": 0,
    "start_time": "2023-02-25T16:19:26.952Z"
   },
   {
    "duration": 0,
    "start_time": "2023-02-25T16:19:26.952Z"
   },
   {
    "duration": 0,
    "start_time": "2023-02-25T16:19:26.954Z"
   },
   {
    "duration": 0,
    "start_time": "2023-02-25T16:19:26.955Z"
   },
   {
    "duration": 0,
    "start_time": "2023-02-25T16:19:26.956Z"
   },
   {
    "duration": 0,
    "start_time": "2023-02-25T16:19:26.957Z"
   },
   {
    "duration": 0,
    "start_time": "2023-02-25T16:19:26.958Z"
   },
   {
    "duration": 0,
    "start_time": "2023-02-25T16:19:26.960Z"
   },
   {
    "duration": 0,
    "start_time": "2023-02-25T16:19:26.961Z"
   },
   {
    "duration": 0,
    "start_time": "2023-02-25T16:19:26.962Z"
   },
   {
    "duration": 0,
    "start_time": "2023-02-25T16:19:26.963Z"
   },
   {
    "duration": 0,
    "start_time": "2023-02-25T16:19:26.965Z"
   },
   {
    "duration": 1522,
    "start_time": "2023-02-25T16:20:53.938Z"
   },
   {
    "duration": 59,
    "start_time": "2023-02-25T16:20:55.461Z"
   },
   {
    "duration": 19,
    "start_time": "2023-02-25T16:20:55.521Z"
   },
   {
    "duration": 6,
    "start_time": "2023-02-25T16:20:55.542Z"
   },
   {
    "duration": 16,
    "start_time": "2023-02-25T16:20:55.549Z"
   },
   {
    "duration": 15,
    "start_time": "2023-02-25T16:20:55.566Z"
   },
   {
    "duration": 13,
    "start_time": "2023-02-25T16:20:55.602Z"
   },
   {
    "duration": 17,
    "start_time": "2023-02-25T16:20:55.617Z"
   },
   {
    "duration": 6,
    "start_time": "2023-02-25T16:20:55.635Z"
   },
   {
    "duration": 177,
    "start_time": "2023-02-25T16:20:55.643Z"
   },
   {
    "duration": 330,
    "start_time": "2023-02-25T16:20:55.822Z"
   },
   {
    "duration": 59,
    "start_time": "2023-02-25T16:20:56.154Z"
   },
   {
    "duration": 36,
    "start_time": "2023-02-25T16:20:56.215Z"
   },
   {
    "duration": 176,
    "start_time": "2023-02-25T16:20:56.255Z"
   },
   {
    "duration": 36,
    "start_time": "2023-02-25T16:20:56.434Z"
   },
   {
    "duration": 236,
    "start_time": "2023-02-25T16:20:56.471Z"
   },
   {
    "duration": 215,
    "start_time": "2023-02-25T16:20:56.709Z"
   },
   {
    "duration": 140,
    "start_time": "2023-02-25T16:20:56.926Z"
   },
   {
    "duration": 80,
    "start_time": "2023-02-25T16:20:57.067Z"
   },
   {
    "duration": 38,
    "start_time": "2023-02-25T16:20:57.149Z"
   },
   {
    "duration": 23,
    "start_time": "2023-02-25T16:20:57.189Z"
   },
   {
    "duration": 190,
    "start_time": "2023-02-25T16:20:57.213Z"
   },
   {
    "duration": 0,
    "start_time": "2023-02-25T16:20:57.404Z"
   },
   {
    "duration": 0,
    "start_time": "2023-02-25T16:20:57.405Z"
   },
   {
    "duration": 0,
    "start_time": "2023-02-25T16:20:57.406Z"
   },
   {
    "duration": 0,
    "start_time": "2023-02-25T16:20:57.407Z"
   },
   {
    "duration": 0,
    "start_time": "2023-02-25T16:20:57.408Z"
   },
   {
    "duration": 0,
    "start_time": "2023-02-25T16:20:57.408Z"
   },
   {
    "duration": 0,
    "start_time": "2023-02-25T16:20:57.409Z"
   },
   {
    "duration": 0,
    "start_time": "2023-02-25T16:20:57.410Z"
   },
   {
    "duration": 0,
    "start_time": "2023-02-25T16:20:57.411Z"
   },
   {
    "duration": 0,
    "start_time": "2023-02-25T16:20:57.412Z"
   },
   {
    "duration": 0,
    "start_time": "2023-02-25T16:20:57.413Z"
   },
   {
    "duration": 0,
    "start_time": "2023-02-25T16:20:57.414Z"
   },
   {
    "duration": 0,
    "start_time": "2023-02-25T16:20:57.416Z"
   },
   {
    "duration": 0,
    "start_time": "2023-02-25T16:20:57.417Z"
   },
   {
    "duration": 0,
    "start_time": "2023-02-25T16:20:57.418Z"
   },
   {
    "duration": 0,
    "start_time": "2023-02-25T16:20:57.419Z"
   },
   {
    "duration": 0,
    "start_time": "2023-02-25T16:20:57.420Z"
   },
   {
    "duration": 0,
    "start_time": "2023-02-25T16:20:57.421Z"
   },
   {
    "duration": 0,
    "start_time": "2023-02-25T16:20:57.422Z"
   },
   {
    "duration": 0,
    "start_time": "2023-02-25T16:20:57.423Z"
   },
   {
    "duration": 1478,
    "start_time": "2023-02-25T16:22:07.054Z"
   },
   {
    "duration": 60,
    "start_time": "2023-02-25T16:22:08.534Z"
   },
   {
    "duration": 19,
    "start_time": "2023-02-25T16:22:08.596Z"
   },
   {
    "duration": 9,
    "start_time": "2023-02-25T16:22:08.617Z"
   },
   {
    "duration": 18,
    "start_time": "2023-02-25T16:22:08.628Z"
   },
   {
    "duration": 20,
    "start_time": "2023-02-25T16:22:08.648Z"
   },
   {
    "duration": 40,
    "start_time": "2023-02-25T16:22:08.670Z"
   },
   {
    "duration": 23,
    "start_time": "2023-02-25T16:22:08.712Z"
   },
   {
    "duration": 10,
    "start_time": "2023-02-25T16:22:08.737Z"
   },
   {
    "duration": 167,
    "start_time": "2023-02-25T16:22:08.749Z"
   },
   {
    "duration": 364,
    "start_time": "2023-02-25T16:22:08.918Z"
   },
   {
    "duration": 73,
    "start_time": "2023-02-25T16:22:09.284Z"
   },
   {
    "duration": 51,
    "start_time": "2023-02-25T16:22:09.358Z"
   },
   {
    "duration": 201,
    "start_time": "2023-02-25T16:22:09.414Z"
   },
   {
    "duration": 40,
    "start_time": "2023-02-25T16:22:09.616Z"
   },
   {
    "duration": 278,
    "start_time": "2023-02-25T16:22:09.658Z"
   },
   {
    "duration": 227,
    "start_time": "2023-02-25T16:22:09.938Z"
   },
   {
    "duration": 149,
    "start_time": "2023-02-25T16:22:10.167Z"
   },
   {
    "duration": 188,
    "start_time": "2023-02-25T16:22:10.318Z"
   },
   {
    "duration": 37,
    "start_time": "2023-02-25T16:22:10.508Z"
   },
   {
    "duration": 10,
    "start_time": "2023-02-25T16:22:10.547Z"
   },
   {
    "duration": 9889,
    "start_time": "2023-02-25T16:22:10.558Z"
   },
   {
    "duration": 70,
    "start_time": "2023-02-25T16:22:20.450Z"
   },
   {
    "duration": 124,
    "start_time": "2023-02-25T16:22:20.521Z"
   },
   {
    "duration": 656,
    "start_time": "2023-02-25T16:22:20.646Z"
   },
   {
    "duration": 367,
    "start_time": "2023-02-25T16:22:21.303Z"
   },
   {
    "duration": 112,
    "start_time": "2023-02-25T16:22:21.672Z"
   },
   {
    "duration": 25,
    "start_time": "2023-02-25T16:22:21.785Z"
   },
   {
    "duration": 95,
    "start_time": "2023-02-25T16:22:21.812Z"
   },
   {
    "duration": 218,
    "start_time": "2023-02-25T16:22:21.909Z"
   },
   {
    "duration": 56,
    "start_time": "2023-02-25T16:22:22.129Z"
   },
   {
    "duration": 28,
    "start_time": "2023-02-25T16:22:22.186Z"
   },
   {
    "duration": 1707,
    "start_time": "2023-02-25T16:22:22.215Z"
   },
   {
    "duration": 82,
    "start_time": "2023-02-25T16:22:23.924Z"
   },
   {
    "duration": 14,
    "start_time": "2023-02-25T16:22:24.007Z"
   },
   {
    "duration": 269,
    "start_time": "2023-02-25T16:22:24.022Z"
   },
   {
    "duration": 69,
    "start_time": "2023-02-25T16:22:24.294Z"
   },
   {
    "duration": 102,
    "start_time": "2023-02-25T16:22:24.364Z"
   },
   {
    "duration": 380,
    "start_time": "2023-02-25T16:22:24.468Z"
   },
   {
    "duration": 7,
    "start_time": "2023-02-25T16:22:24.850Z"
   },
   {
    "duration": 133,
    "start_time": "2023-02-25T16:22:24.861Z"
   },
   {
    "duration": 259,
    "start_time": "2023-02-25T16:22:24.996Z"
   },
   {
    "duration": 1896,
    "start_time": "2023-02-25T16:44:58.703Z"
   },
   {
    "duration": 61,
    "start_time": "2023-02-25T16:45:00.601Z"
   },
   {
    "duration": 30,
    "start_time": "2023-02-25T16:45:00.664Z"
   },
   {
    "duration": 17,
    "start_time": "2023-02-25T16:45:00.696Z"
   },
   {
    "duration": 36,
    "start_time": "2023-02-25T16:45:00.714Z"
   },
   {
    "duration": 54,
    "start_time": "2023-02-25T16:45:00.752Z"
   },
   {
    "duration": 50,
    "start_time": "2023-02-25T16:45:00.808Z"
   },
   {
    "duration": 47,
    "start_time": "2023-02-25T16:45:00.860Z"
   },
   {
    "duration": 6,
    "start_time": "2023-02-25T16:45:00.909Z"
   },
   {
    "duration": 238,
    "start_time": "2023-02-25T16:45:00.918Z"
   },
   {
    "duration": 450,
    "start_time": "2023-02-25T16:45:01.159Z"
   },
   {
    "duration": 90,
    "start_time": "2023-02-25T16:45:01.610Z"
   },
   {
    "duration": 81,
    "start_time": "2023-02-25T16:45:01.702Z"
   },
   {
    "duration": 395,
    "start_time": "2023-02-25T16:45:01.785Z"
   },
   {
    "duration": 55,
    "start_time": "2023-02-25T16:45:02.182Z"
   },
   {
    "duration": 503,
    "start_time": "2023-02-25T16:45:02.240Z"
   },
   {
    "duration": 498,
    "start_time": "2023-02-25T16:45:02.745Z"
   },
   {
    "duration": 382,
    "start_time": "2023-02-25T16:45:03.245Z"
   },
   {
    "duration": 101,
    "start_time": "2023-02-25T16:45:03.629Z"
   },
   {
    "duration": 66,
    "start_time": "2023-02-25T16:45:03.732Z"
   },
   {
    "duration": 13,
    "start_time": "2023-02-25T16:45:03.800Z"
   },
   {
    "duration": 11506,
    "start_time": "2023-02-25T16:45:03.815Z"
   },
   {
    "duration": 71,
    "start_time": "2023-02-25T16:45:15.323Z"
   },
   {
    "duration": 264,
    "start_time": "2023-02-25T16:45:15.397Z"
   },
   {
    "duration": 738,
    "start_time": "2023-02-25T16:45:15.663Z"
   },
   {
    "duration": 392,
    "start_time": "2023-02-25T16:45:16.402Z"
   },
   {
    "duration": 140,
    "start_time": "2023-02-25T16:45:16.795Z"
   },
   {
    "duration": 38,
    "start_time": "2023-02-25T16:45:16.940Z"
   },
   {
    "duration": 13,
    "start_time": "2023-02-25T16:45:16.980Z"
   },
   {
    "duration": 479,
    "start_time": "2023-02-25T16:45:16.995Z"
   },
   {
    "duration": 102,
    "start_time": "2023-02-25T16:45:17.476Z"
   },
   {
    "duration": 16,
    "start_time": "2023-02-25T16:45:17.581Z"
   },
   {
    "duration": 2213,
    "start_time": "2023-02-25T16:45:17.599Z"
   },
   {
    "duration": 78,
    "start_time": "2023-02-25T16:45:19.814Z"
   },
   {
    "duration": 75,
    "start_time": "2023-02-25T16:45:19.894Z"
   },
   {
    "duration": 450,
    "start_time": "2023-02-25T16:45:19.971Z"
   },
   {
    "duration": 62,
    "start_time": "2023-02-25T16:45:20.423Z"
   },
   {
    "duration": 125,
    "start_time": "2023-02-25T16:45:20.486Z"
   },
   {
    "duration": 521,
    "start_time": "2023-02-25T16:45:20.614Z"
   },
   {
    "duration": 4,
    "start_time": "2023-02-25T16:45:21.137Z"
   },
   {
    "duration": 138,
    "start_time": "2023-02-25T16:45:21.154Z"
   },
   {
    "duration": 525,
    "start_time": "2023-02-25T16:45:21.294Z"
   },
   {
    "duration": 1632,
    "start_time": "2023-02-25T16:54:08.603Z"
   },
   {
    "duration": 61,
    "start_time": "2023-02-25T16:54:10.237Z"
   },
   {
    "duration": 23,
    "start_time": "2023-02-25T16:54:10.300Z"
   },
   {
    "duration": 7,
    "start_time": "2023-02-25T16:54:10.325Z"
   },
   {
    "duration": 29,
    "start_time": "2023-02-25T16:54:10.335Z"
   },
   {
    "duration": 14,
    "start_time": "2023-02-25T16:54:10.366Z"
   },
   {
    "duration": 13,
    "start_time": "2023-02-25T16:54:10.381Z"
   },
   {
    "duration": 18,
    "start_time": "2023-02-25T16:54:10.395Z"
   },
   {
    "duration": 6,
    "start_time": "2023-02-25T16:54:10.414Z"
   },
   {
    "duration": 297,
    "start_time": "2023-02-25T16:54:10.422Z"
   },
   {
    "duration": 407,
    "start_time": "2023-02-25T16:54:10.720Z"
   },
   {
    "duration": 64,
    "start_time": "2023-02-25T16:54:11.128Z"
   },
   {
    "duration": 36,
    "start_time": "2023-02-25T16:54:11.194Z"
   },
   {
    "duration": 339,
    "start_time": "2023-02-25T16:54:11.236Z"
   },
   {
    "duration": 39,
    "start_time": "2023-02-25T16:54:11.577Z"
   },
   {
    "duration": 400,
    "start_time": "2023-02-25T16:54:11.618Z"
   },
   {
    "duration": 385,
    "start_time": "2023-02-25T16:54:12.020Z"
   },
   {
    "duration": 347,
    "start_time": "2023-02-25T16:54:12.406Z"
   },
   {
    "duration": 71,
    "start_time": "2023-02-25T16:54:12.755Z"
   },
   {
    "duration": 51,
    "start_time": "2023-02-25T16:54:12.828Z"
   },
   {
    "duration": 10,
    "start_time": "2023-02-25T16:54:12.881Z"
   },
   {
    "duration": 10318,
    "start_time": "2023-02-25T16:54:12.892Z"
   },
   {
    "duration": 58,
    "start_time": "2023-02-25T16:54:23.212Z"
   },
   {
    "duration": 208,
    "start_time": "2023-02-25T16:54:23.272Z"
   },
   {
    "duration": 655,
    "start_time": "2023-02-25T16:54:23.481Z"
   },
   {
    "duration": 337,
    "start_time": "2023-02-25T16:54:24.138Z"
   },
   {
    "duration": 120,
    "start_time": "2023-02-25T16:54:24.476Z"
   },
   {
    "duration": 13,
    "start_time": "2023-02-25T16:54:24.598Z"
   },
   {
    "duration": 11,
    "start_time": "2023-02-25T16:54:24.613Z"
   },
   {
    "duration": 342,
    "start_time": "2023-02-25T16:54:24.653Z"
   },
   {
    "duration": 59,
    "start_time": "2023-02-25T16:54:24.997Z"
   },
   {
    "duration": 12,
    "start_time": "2023-02-25T16:54:25.058Z"
   },
   {
    "duration": 1987,
    "start_time": "2023-02-25T16:54:25.077Z"
   },
   {
    "duration": 88,
    "start_time": "2023-02-25T16:54:27.066Z"
   },
   {
    "duration": 14,
    "start_time": "2023-02-25T16:54:27.157Z"
   },
   {
    "duration": 483,
    "start_time": "2023-02-25T16:54:27.173Z"
   },
   {
    "duration": 59,
    "start_time": "2023-02-25T16:54:27.659Z"
   },
   {
    "duration": 120,
    "start_time": "2023-02-25T16:54:27.721Z"
   },
   {
    "duration": 543,
    "start_time": "2023-02-25T16:54:27.843Z"
   },
   {
    "duration": 5,
    "start_time": "2023-02-25T16:54:28.388Z"
   },
   {
    "duration": 129,
    "start_time": "2023-02-25T16:54:28.397Z"
   },
   {
    "duration": 469,
    "start_time": "2023-02-25T16:54:28.527Z"
   },
   {
    "duration": 2417,
    "start_time": "2023-02-25T19:24:25.777Z"
   },
   {
    "duration": 125,
    "start_time": "2023-02-25T19:24:28.196Z"
   },
   {
    "duration": 22,
    "start_time": "2023-02-25T19:24:28.322Z"
   },
   {
    "duration": 6,
    "start_time": "2023-02-25T19:24:28.345Z"
   },
   {
    "duration": 41,
    "start_time": "2023-02-25T19:24:28.353Z"
   },
   {
    "duration": 15,
    "start_time": "2023-02-25T19:24:28.395Z"
   },
   {
    "duration": 13,
    "start_time": "2023-02-25T19:24:28.411Z"
   },
   {
    "duration": 16,
    "start_time": "2023-02-25T19:24:28.425Z"
   },
   {
    "duration": 6,
    "start_time": "2023-02-25T19:24:28.443Z"
   },
   {
    "duration": 256,
    "start_time": "2023-02-25T19:24:28.451Z"
   },
   {
    "duration": 420,
    "start_time": "2023-02-25T19:24:28.709Z"
   },
   {
    "duration": 72,
    "start_time": "2023-02-25T19:24:29.131Z"
   },
   {
    "duration": 36,
    "start_time": "2023-02-25T19:24:29.205Z"
   },
   {
    "duration": 367,
    "start_time": "2023-02-25T19:24:29.255Z"
   },
   {
    "duration": 67,
    "start_time": "2023-02-25T19:24:29.624Z"
   },
   {
    "duration": 450,
    "start_time": "2023-02-25T19:24:29.693Z"
   },
   {
    "duration": 461,
    "start_time": "2023-02-25T19:24:30.145Z"
   },
   {
    "duration": 371,
    "start_time": "2023-02-25T19:24:30.609Z"
   },
   {
    "duration": 107,
    "start_time": "2023-02-25T19:24:30.982Z"
   },
   {
    "duration": 43,
    "start_time": "2023-02-25T19:24:31.091Z"
   },
   {
    "duration": 39,
    "start_time": "2023-02-25T19:24:31.135Z"
   },
   {
    "duration": 10921,
    "start_time": "2023-02-25T19:24:31.178Z"
   },
   {
    "duration": 73,
    "start_time": "2023-02-25T19:24:42.100Z"
   },
   {
    "duration": 129,
    "start_time": "2023-02-25T19:24:42.174Z"
   },
   {
    "duration": 718,
    "start_time": "2023-02-25T19:24:42.304Z"
   },
   {
    "duration": 335,
    "start_time": "2023-02-25T19:24:43.024Z"
   },
   {
    "duration": 142,
    "start_time": "2023-02-25T19:24:43.361Z"
   },
   {
    "duration": 11,
    "start_time": "2023-02-25T19:24:43.505Z"
   },
   {
    "duration": 9,
    "start_time": "2023-02-25T19:24:43.518Z"
   },
   {
    "duration": 343,
    "start_time": "2023-02-25T19:24:43.553Z"
   },
   {
    "duration": 62,
    "start_time": "2023-02-25T19:24:43.898Z"
   },
   {
    "duration": 17,
    "start_time": "2023-02-25T19:24:43.965Z"
   },
   {
    "duration": 2036,
    "start_time": "2023-02-25T19:24:43.984Z"
   },
   {
    "duration": 81,
    "start_time": "2023-02-25T19:24:46.022Z"
   },
   {
    "duration": 57,
    "start_time": "2023-02-25T19:24:46.105Z"
   },
   {
    "duration": 442,
    "start_time": "2023-02-25T19:24:46.164Z"
   },
   {
    "duration": 76,
    "start_time": "2023-02-25T19:24:46.608Z"
   },
   {
    "duration": 130,
    "start_time": "2023-02-25T19:24:46.686Z"
   },
   {
    "duration": 593,
    "start_time": "2023-02-25T19:24:46.819Z"
   },
   {
    "duration": 6,
    "start_time": "2023-02-25T19:24:47.414Z"
   },
   {
    "duration": 180,
    "start_time": "2023-02-25T19:24:47.425Z"
   },
   {
    "duration": 519,
    "start_time": "2023-02-25T19:24:47.607Z"
   },
   {
    "duration": 200,
    "start_time": "2023-02-25T19:28:35.108Z"
   },
   {
    "duration": 19,
    "start_time": "2023-02-25T19:28:43.712Z"
   },
   {
    "duration": 6,
    "start_time": "2023-02-25T19:28:58.080Z"
   },
   {
    "duration": 38,
    "start_time": "2023-02-25T19:29:11.300Z"
   },
   {
    "duration": 41,
    "start_time": "2023-02-25T19:29:18.184Z"
   },
   {
    "duration": 41,
    "start_time": "2023-02-25T19:30:08.771Z"
   },
   {
    "duration": 58,
    "start_time": "2023-02-25T19:48:47.806Z"
   },
   {
    "duration": 18,
    "start_time": "2023-02-25T19:49:17.502Z"
   },
   {
    "duration": 24,
    "start_time": "2023-02-25T19:49:19.284Z"
   },
   {
    "duration": 28,
    "start_time": "2023-02-25T19:49:54.819Z"
   },
   {
    "duration": 66,
    "start_time": "2023-02-25T19:50:58.104Z"
   },
   {
    "duration": 51,
    "start_time": "2023-02-25T19:51:43.280Z"
   },
   {
    "duration": 61,
    "start_time": "2023-02-25T19:52:19.950Z"
   },
   {
    "duration": 1907,
    "start_time": "2023-02-26T04:11:46.592Z"
   },
   {
    "duration": 114,
    "start_time": "2023-02-26T04:11:48.501Z"
   },
   {
    "duration": 25,
    "start_time": "2023-02-26T04:11:48.617Z"
   },
   {
    "duration": 19,
    "start_time": "2023-02-26T04:11:48.644Z"
   },
   {
    "duration": 32,
    "start_time": "2023-02-26T04:11:48.665Z"
   },
   {
    "duration": 22,
    "start_time": "2023-02-26T04:11:48.699Z"
   },
   {
    "duration": 12,
    "start_time": "2023-02-26T04:11:48.723Z"
   },
   {
    "duration": 24,
    "start_time": "2023-02-26T04:11:48.737Z"
   },
   {
    "duration": 21,
    "start_time": "2023-02-26T04:11:48.763Z"
   },
   {
    "duration": 161,
    "start_time": "2023-02-26T04:11:48.787Z"
   },
   {
    "duration": 416,
    "start_time": "2023-02-26T04:11:48.951Z"
   },
   {
    "duration": 64,
    "start_time": "2023-02-26T04:11:49.369Z"
   },
   {
    "duration": 36,
    "start_time": "2023-02-26T04:11:49.435Z"
   },
   {
    "duration": 197,
    "start_time": "2023-02-26T04:11:49.485Z"
   },
   {
    "duration": 52,
    "start_time": "2023-02-26T04:11:49.686Z"
   },
   {
    "duration": 263,
    "start_time": "2023-02-26T04:11:49.741Z"
   },
   {
    "duration": 222,
    "start_time": "2023-02-26T04:11:50.007Z"
   },
   {
    "duration": 152,
    "start_time": "2023-02-26T04:11:50.231Z"
   },
   {
    "duration": 69,
    "start_time": "2023-02-26T04:11:50.385Z"
   },
   {
    "duration": 55,
    "start_time": "2023-02-26T04:11:50.457Z"
   },
   {
    "duration": 10,
    "start_time": "2023-02-26T04:11:50.514Z"
   },
   {
    "duration": 10304,
    "start_time": "2023-02-26T04:11:50.526Z"
   },
   {
    "duration": 67,
    "start_time": "2023-02-26T04:12:00.833Z"
   },
   {
    "duration": 213,
    "start_time": "2023-02-26T04:12:00.902Z"
   },
   {
    "duration": 645,
    "start_time": "2023-02-26T04:12:01.118Z"
   },
   {
    "duration": 528,
    "start_time": "2023-02-26T04:12:01.765Z"
   },
   {
    "duration": 124,
    "start_time": "2023-02-26T04:12:02.294Z"
   },
   {
    "duration": 15,
    "start_time": "2023-02-26T04:12:02.422Z"
   },
   {
    "duration": 13,
    "start_time": "2023-02-26T04:12:02.439Z"
   },
   {
    "duration": 203,
    "start_time": "2023-02-26T04:12:02.454Z"
   },
   {
    "duration": 58,
    "start_time": "2023-02-26T04:12:02.659Z"
   },
   {
    "duration": 14,
    "start_time": "2023-02-26T04:12:02.718Z"
   },
   {
    "duration": 1685,
    "start_time": "2023-02-26T04:12:02.734Z"
   },
   {
    "duration": 85,
    "start_time": "2023-02-26T04:12:04.421Z"
   },
   {
    "duration": 15,
    "start_time": "2023-02-26T04:12:04.507Z"
   },
   {
    "duration": 238,
    "start_time": "2023-02-26T04:12:04.524Z"
   },
   {
    "duration": 54,
    "start_time": "2023-02-26T04:12:04.764Z"
   },
   {
    "duration": 109,
    "start_time": "2023-02-26T04:12:04.820Z"
   },
   {
    "duration": 405,
    "start_time": "2023-02-26T04:12:04.931Z"
   },
   {
    "duration": 6,
    "start_time": "2023-02-26T04:12:05.338Z"
   },
   {
    "duration": 108,
    "start_time": "2023-02-26T04:12:05.346Z"
   },
   {
    "duration": 361,
    "start_time": "2023-02-26T04:12:05.456Z"
   },
   {
    "duration": 23,
    "start_time": "2023-02-26T04:14:01.426Z"
   },
   {
    "duration": 28,
    "start_time": "2023-02-26T04:14:14.344Z"
   },
   {
    "duration": 17,
    "start_time": "2023-02-26T04:16:32.044Z"
   },
   {
    "duration": 12,
    "start_time": "2023-02-26T04:16:43.772Z"
   },
   {
    "duration": 4,
    "start_time": "2023-02-26T06:27:36.018Z"
   },
   {
    "duration": 1367,
    "start_time": "2023-02-26T06:28:37.459Z"
   },
   {
    "duration": 8,
    "start_time": "2023-02-26T06:28:44.320Z"
   },
   {
    "duration": 11,
    "start_time": "2023-02-26T06:29:42.955Z"
   },
   {
    "duration": 8,
    "start_time": "2023-02-26T06:29:52.745Z"
   },
   {
    "duration": 16,
    "start_time": "2023-02-26T06:30:30.337Z"
   },
   {
    "duration": 7,
    "start_time": "2023-02-26T06:30:32.493Z"
   },
   {
    "duration": 10,
    "start_time": "2023-02-26T06:31:09.738Z"
   },
   {
    "duration": 22,
    "start_time": "2023-02-26T06:31:22.839Z"
   },
   {
    "duration": 19,
    "start_time": "2023-02-26T06:32:58.801Z"
   },
   {
    "duration": 14,
    "start_time": "2023-02-26T06:37:24.101Z"
   },
   {
    "duration": 12,
    "start_time": "2023-02-26T06:37:38.518Z"
   },
   {
    "duration": 16,
    "start_time": "2023-02-26T06:37:57.029Z"
   },
   {
    "duration": 15,
    "start_time": "2023-02-26T06:38:14.978Z"
   },
   {
    "duration": 19,
    "start_time": "2023-02-26T06:38:22.784Z"
   },
   {
    "duration": 251,
    "start_time": "2023-02-26T06:38:26.486Z"
   },
   {
    "duration": 15,
    "start_time": "2023-02-26T06:38:45.793Z"
   },
   {
    "duration": 10,
    "start_time": "2023-02-26T06:38:50.206Z"
   },
   {
    "duration": 13,
    "start_time": "2023-02-26T06:39:54.799Z"
   },
   {
    "duration": 47,
    "start_time": "2023-02-26T06:40:02.776Z"
   },
   {
    "duration": 43,
    "start_time": "2023-02-26T06:41:59.216Z"
   },
   {
    "duration": 23,
    "start_time": "2023-02-26T06:44:05.060Z"
   },
   {
    "duration": 47,
    "start_time": "2023-02-26T06:44:14.333Z"
   },
   {
    "duration": 23,
    "start_time": "2023-02-26T06:46:08.674Z"
   },
   {
    "duration": 3,
    "start_time": "2023-02-26T06:46:19.263Z"
   },
   {
    "duration": 15,
    "start_time": "2023-02-26T06:46:23.115Z"
   },
   {
    "duration": 62,
    "start_time": "2023-02-26T06:46:34.417Z"
   },
   {
    "duration": 16,
    "start_time": "2023-02-26T06:47:44.103Z"
   },
   {
    "duration": 16,
    "start_time": "2023-02-26T06:47:53.923Z"
   },
   {
    "duration": 22,
    "start_time": "2023-02-26T06:49:28.094Z"
   },
   {
    "duration": 9,
    "start_time": "2023-02-26T06:49:50.933Z"
   },
   {
    "duration": 11,
    "start_time": "2023-02-26T06:50:24.196Z"
   },
   {
    "duration": 10,
    "start_time": "2023-02-26T06:50:26.163Z"
   },
   {
    "duration": 37,
    "start_time": "2023-02-26T06:50:33.873Z"
   },
   {
    "duration": 4,
    "start_time": "2023-02-26T06:53:38.922Z"
   },
   {
    "duration": 4,
    "start_time": "2023-02-26T06:53:47.854Z"
   },
   {
    "duration": 1542,
    "start_time": "2023-02-26T06:53:55.247Z"
   },
   {
    "duration": 65,
    "start_time": "2023-02-26T06:53:56.792Z"
   },
   {
    "duration": 21,
    "start_time": "2023-02-26T06:53:56.858Z"
   },
   {
    "duration": 15,
    "start_time": "2023-02-26T06:53:56.880Z"
   },
   {
    "duration": 21,
    "start_time": "2023-02-26T06:53:56.901Z"
   },
   {
    "duration": 4,
    "start_time": "2023-02-26T06:53:56.924Z"
   },
   {
    "duration": 16,
    "start_time": "2023-02-26T06:53:56.929Z"
   },
   {
    "duration": 10,
    "start_time": "2023-02-26T06:53:56.946Z"
   },
   {
    "duration": 163,
    "start_time": "2023-02-26T06:53:56.957Z"
   },
   {
    "duration": 0,
    "start_time": "2023-02-26T06:53:57.122Z"
   },
   {
    "duration": 0,
    "start_time": "2023-02-26T06:53:57.124Z"
   },
   {
    "duration": 0,
    "start_time": "2023-02-26T06:53:57.125Z"
   },
   {
    "duration": 0,
    "start_time": "2023-02-26T06:53:57.126Z"
   },
   {
    "duration": 0,
    "start_time": "2023-02-26T06:53:57.127Z"
   },
   {
    "duration": 0,
    "start_time": "2023-02-26T06:53:57.128Z"
   },
   {
    "duration": 0,
    "start_time": "2023-02-26T06:53:57.129Z"
   },
   {
    "duration": 0,
    "start_time": "2023-02-26T06:53:57.130Z"
   },
   {
    "duration": 0,
    "start_time": "2023-02-26T06:53:57.131Z"
   },
   {
    "duration": 0,
    "start_time": "2023-02-26T06:53:57.132Z"
   },
   {
    "duration": 0,
    "start_time": "2023-02-26T06:53:57.133Z"
   },
   {
    "duration": 0,
    "start_time": "2023-02-26T06:53:57.134Z"
   },
   {
    "duration": 0,
    "start_time": "2023-02-26T06:53:57.135Z"
   },
   {
    "duration": 0,
    "start_time": "2023-02-26T06:53:57.136Z"
   },
   {
    "duration": 0,
    "start_time": "2023-02-26T06:53:57.138Z"
   },
   {
    "duration": 0,
    "start_time": "2023-02-26T06:53:57.139Z"
   },
   {
    "duration": 0,
    "start_time": "2023-02-26T06:53:57.139Z"
   },
   {
    "duration": 0,
    "start_time": "2023-02-26T06:53:57.140Z"
   },
   {
    "duration": 0,
    "start_time": "2023-02-26T06:53:57.142Z"
   },
   {
    "duration": 0,
    "start_time": "2023-02-26T06:53:57.143Z"
   },
   {
    "duration": 0,
    "start_time": "2023-02-26T06:53:57.144Z"
   },
   {
    "duration": 0,
    "start_time": "2023-02-26T06:53:57.145Z"
   },
   {
    "duration": 0,
    "start_time": "2023-02-26T06:53:57.146Z"
   },
   {
    "duration": 0,
    "start_time": "2023-02-26T06:53:57.147Z"
   },
   {
    "duration": 0,
    "start_time": "2023-02-26T06:53:57.148Z"
   },
   {
    "duration": 0,
    "start_time": "2023-02-26T06:53:57.149Z"
   },
   {
    "duration": 0,
    "start_time": "2023-02-26T06:53:57.187Z"
   },
   {
    "duration": 0,
    "start_time": "2023-02-26T06:53:57.188Z"
   },
   {
    "duration": 0,
    "start_time": "2023-02-26T06:53:57.189Z"
   },
   {
    "duration": 0,
    "start_time": "2023-02-26T06:53:57.189Z"
   },
   {
    "duration": 0,
    "start_time": "2023-02-26T06:53:57.190Z"
   },
   {
    "duration": 0,
    "start_time": "2023-02-26T06:53:57.190Z"
   },
   {
    "duration": 0,
    "start_time": "2023-02-26T06:53:57.191Z"
   },
   {
    "duration": 0,
    "start_time": "2023-02-26T06:53:57.194Z"
   },
   {
    "duration": 0,
    "start_time": "2023-02-26T06:53:57.196Z"
   },
   {
    "duration": 0,
    "start_time": "2023-02-26T06:53:57.197Z"
   },
   {
    "duration": 0,
    "start_time": "2023-02-26T06:53:57.198Z"
   },
   {
    "duration": 0,
    "start_time": "2023-02-26T06:53:57.199Z"
   },
   {
    "duration": 0,
    "start_time": "2023-02-26T06:53:57.200Z"
   },
   {
    "duration": 24,
    "start_time": "2023-02-26T06:54:50.992Z"
   },
   {
    "duration": 4,
    "start_time": "2023-02-26T06:54:58.859Z"
   },
   {
    "duration": 1377,
    "start_time": "2023-02-26T06:55:11.551Z"
   },
   {
    "duration": 70,
    "start_time": "2023-02-26T06:55:12.929Z"
   },
   {
    "duration": 26,
    "start_time": "2023-02-26T06:55:13.001Z"
   },
   {
    "duration": 7,
    "start_time": "2023-02-26T06:55:13.029Z"
   },
   {
    "duration": 14,
    "start_time": "2023-02-26T06:55:13.038Z"
   },
   {
    "duration": 4,
    "start_time": "2023-02-26T06:55:13.053Z"
   },
   {
    "duration": 34,
    "start_time": "2023-02-26T06:55:13.058Z"
   },
   {
    "duration": 10,
    "start_time": "2023-02-26T06:55:13.094Z"
   },
   {
    "duration": 150,
    "start_time": "2023-02-26T06:55:13.106Z"
   },
   {
    "duration": 0,
    "start_time": "2023-02-26T06:55:13.260Z"
   },
   {
    "duration": 0,
    "start_time": "2023-02-26T06:55:13.261Z"
   },
   {
    "duration": 0,
    "start_time": "2023-02-26T06:55:13.263Z"
   },
   {
    "duration": 0,
    "start_time": "2023-02-26T06:55:13.264Z"
   },
   {
    "duration": 0,
    "start_time": "2023-02-26T06:55:13.266Z"
   },
   {
    "duration": 0,
    "start_time": "2023-02-26T06:55:13.267Z"
   },
   {
    "duration": 0,
    "start_time": "2023-02-26T06:55:13.269Z"
   },
   {
    "duration": 0,
    "start_time": "2023-02-26T06:55:13.270Z"
   },
   {
    "duration": 0,
    "start_time": "2023-02-26T06:55:13.287Z"
   },
   {
    "duration": 0,
    "start_time": "2023-02-26T06:55:13.291Z"
   },
   {
    "duration": 0,
    "start_time": "2023-02-26T06:55:13.295Z"
   },
   {
    "duration": 0,
    "start_time": "2023-02-26T06:55:13.297Z"
   },
   {
    "duration": 0,
    "start_time": "2023-02-26T06:55:13.302Z"
   },
   {
    "duration": 0,
    "start_time": "2023-02-26T06:55:13.303Z"
   },
   {
    "duration": 0,
    "start_time": "2023-02-26T06:55:13.304Z"
   },
   {
    "duration": 0,
    "start_time": "2023-02-26T06:55:13.305Z"
   },
   {
    "duration": 0,
    "start_time": "2023-02-26T06:55:13.306Z"
   },
   {
    "duration": 0,
    "start_time": "2023-02-26T06:55:13.307Z"
   },
   {
    "duration": 0,
    "start_time": "2023-02-26T06:55:13.310Z"
   },
   {
    "duration": 0,
    "start_time": "2023-02-26T06:55:13.311Z"
   },
   {
    "duration": 0,
    "start_time": "2023-02-26T06:55:13.312Z"
   },
   {
    "duration": 0,
    "start_time": "2023-02-26T06:55:13.313Z"
   },
   {
    "duration": 0,
    "start_time": "2023-02-26T06:55:13.314Z"
   },
   {
    "duration": 0,
    "start_time": "2023-02-26T06:55:13.315Z"
   },
   {
    "duration": 0,
    "start_time": "2023-02-26T06:55:13.316Z"
   },
   {
    "duration": 0,
    "start_time": "2023-02-26T06:55:13.318Z"
   },
   {
    "duration": 0,
    "start_time": "2023-02-26T06:55:13.319Z"
   },
   {
    "duration": 0,
    "start_time": "2023-02-26T06:55:13.319Z"
   },
   {
    "duration": 0,
    "start_time": "2023-02-26T06:55:13.321Z"
   },
   {
    "duration": 0,
    "start_time": "2023-02-26T06:55:13.322Z"
   },
   {
    "duration": 0,
    "start_time": "2023-02-26T06:55:13.323Z"
   },
   {
    "duration": 0,
    "start_time": "2023-02-26T06:55:13.324Z"
   },
   {
    "duration": 0,
    "start_time": "2023-02-26T06:55:13.325Z"
   },
   {
    "duration": 0,
    "start_time": "2023-02-26T06:55:13.326Z"
   },
   {
    "duration": 0,
    "start_time": "2023-02-26T06:55:13.327Z"
   },
   {
    "duration": 1,
    "start_time": "2023-02-26T06:55:13.327Z"
   },
   {
    "duration": 0,
    "start_time": "2023-02-26T06:55:13.328Z"
   },
   {
    "duration": 0,
    "start_time": "2023-02-26T06:55:13.329Z"
   },
   {
    "duration": 0,
    "start_time": "2023-02-26T06:55:13.330Z"
   },
   {
    "duration": 29,
    "start_time": "2023-02-26T06:55:34.881Z"
   },
   {
    "duration": 24,
    "start_time": "2023-02-26T06:55:37.770Z"
   },
   {
    "duration": 12,
    "start_time": "2023-02-26T06:55:48.400Z"
   },
   {
    "duration": 8,
    "start_time": "2023-02-26T06:57:31.557Z"
   },
   {
    "duration": 4,
    "start_time": "2023-02-26T06:57:33.258Z"
   },
   {
    "duration": 18,
    "start_time": "2023-02-26T06:58:09.751Z"
   },
   {
    "duration": 9,
    "start_time": "2023-02-26T06:58:22.814Z"
   },
   {
    "duration": 25,
    "start_time": "2023-02-26T06:58:28.647Z"
   },
   {
    "duration": 1461,
    "start_time": "2023-02-26T06:59:06.749Z"
   },
   {
    "duration": 62,
    "start_time": "2023-02-26T06:59:08.211Z"
   },
   {
    "duration": 28,
    "start_time": "2023-02-26T06:59:08.274Z"
   },
   {
    "duration": 11,
    "start_time": "2023-02-26T06:59:08.303Z"
   },
   {
    "duration": 13,
    "start_time": "2023-02-26T06:59:08.316Z"
   },
   {
    "duration": 3,
    "start_time": "2023-02-26T06:59:08.330Z"
   },
   {
    "duration": 13,
    "start_time": "2023-02-26T06:59:08.335Z"
   },
   {
    "duration": 8,
    "start_time": "2023-02-26T06:59:08.350Z"
   },
   {
    "duration": 41,
    "start_time": "2023-02-26T06:59:08.359Z"
   },
   {
    "duration": 21,
    "start_time": "2023-02-26T06:59:08.401Z"
   },
   {
    "duration": 10,
    "start_time": "2023-02-26T06:59:08.424Z"
   },
   {
    "duration": 3,
    "start_time": "2023-02-26T06:59:08.435Z"
   },
   {
    "duration": 11,
    "start_time": "2023-02-26T06:59:08.440Z"
   },
   {
    "duration": 36,
    "start_time": "2023-02-26T06:59:08.454Z"
   },
   {
    "duration": 26,
    "start_time": "2023-02-26T06:59:08.492Z"
   },
   {
    "duration": 4,
    "start_time": "2023-02-26T06:59:08.519Z"
   },
   {
    "duration": 154,
    "start_time": "2023-02-26T06:59:08.524Z"
   },
   {
    "duration": 334,
    "start_time": "2023-02-26T06:59:08.679Z"
   },
   {
    "duration": 50,
    "start_time": "2023-02-26T06:59:09.015Z"
   },
   {
    "duration": 53,
    "start_time": "2023-02-26T06:59:09.066Z"
   },
   {
    "duration": 173,
    "start_time": "2023-02-26T06:59:09.120Z"
   },
   {
    "duration": 39,
    "start_time": "2023-02-26T06:59:09.295Z"
   },
   {
    "duration": 228,
    "start_time": "2023-02-26T06:59:09.335Z"
   },
   {
    "duration": 215,
    "start_time": "2023-02-26T06:59:09.564Z"
   },
   {
    "duration": 148,
    "start_time": "2023-02-26T06:59:09.781Z"
   },
   {
    "duration": 82,
    "start_time": "2023-02-26T06:59:09.931Z"
   },
   {
    "duration": 34,
    "start_time": "2023-02-26T06:59:10.015Z"
   },
   {
    "duration": 10,
    "start_time": "2023-02-26T06:59:10.051Z"
   },
   {
    "duration": 9596,
    "start_time": "2023-02-26T06:59:10.062Z"
   },
   {
    "duration": 51,
    "start_time": "2023-02-26T06:59:19.660Z"
   },
   {
    "duration": 123,
    "start_time": "2023-02-26T06:59:19.712Z"
   },
   {
    "duration": 827,
    "start_time": "2023-02-26T06:59:19.886Z"
   },
   {
    "duration": 178,
    "start_time": "2023-02-26T06:59:20.715Z"
   },
   {
    "duration": 112,
    "start_time": "2023-02-26T06:59:20.896Z"
   },
   {
    "duration": 12,
    "start_time": "2023-02-26T06:59:21.010Z"
   },
   {
    "duration": 10,
    "start_time": "2023-02-26T06:59:21.023Z"
   },
   {
    "duration": 205,
    "start_time": "2023-02-26T06:59:21.034Z"
   },
   {
    "duration": 75,
    "start_time": "2023-02-26T06:59:21.241Z"
   },
   {
    "duration": 11,
    "start_time": "2023-02-26T06:59:21.318Z"
   },
   {
    "duration": 1648,
    "start_time": "2023-02-26T06:59:21.330Z"
   },
   {
    "duration": 52,
    "start_time": "2023-02-26T06:59:22.988Z"
   },
   {
    "duration": 49,
    "start_time": "2023-02-26T06:59:23.042Z"
   },
   {
    "duration": 213,
    "start_time": "2023-02-26T06:59:23.094Z"
   },
   {
    "duration": 44,
    "start_time": "2023-02-26T06:59:23.309Z"
   },
   {
    "duration": 103,
    "start_time": "2023-02-26T06:59:23.355Z"
   },
   {
    "duration": 314,
    "start_time": "2023-02-26T06:59:23.460Z"
   },
   {
    "duration": 11,
    "start_time": "2023-02-26T06:59:23.775Z"
   },
   {
    "duration": 123,
    "start_time": "2023-02-26T06:59:23.792Z"
   },
   {
    "duration": 485,
    "start_time": "2023-02-26T06:59:23.917Z"
   },
   {
    "duration": 46,
    "start_time": "2023-02-26T07:03:52.805Z"
   },
   {
    "duration": 231,
    "start_time": "2023-02-26T07:06:35.433Z"
   },
   {
    "duration": 24,
    "start_time": "2023-02-26T07:06:59.414Z"
   },
   {
    "duration": 38,
    "start_time": "2023-02-26T07:07:19.383Z"
   },
   {
    "duration": 39,
    "start_time": "2023-02-26T07:07:42.369Z"
   },
   {
    "duration": 14,
    "start_time": "2023-02-26T07:08:30.054Z"
   },
   {
    "duration": 23,
    "start_time": "2023-02-26T07:11:06.386Z"
   },
   {
    "duration": 20,
    "start_time": "2023-02-26T07:11:15.394Z"
   },
   {
    "duration": 17,
    "start_time": "2023-02-26T07:11:31.566Z"
   },
   {
    "duration": 100,
    "start_time": "2023-02-26T07:11:34.474Z"
   },
   {
    "duration": 18,
    "start_time": "2023-02-26T07:11:51.836Z"
   },
   {
    "duration": 22,
    "start_time": "2023-02-26T07:12:04.916Z"
   },
   {
    "duration": 65,
    "start_time": "2023-02-26T07:12:07.061Z"
   },
   {
    "duration": 48,
    "start_time": "2023-02-26T07:12:14.016Z"
   },
   {
    "duration": 54,
    "start_time": "2023-02-26T07:12:15.914Z"
   },
   {
    "duration": 65,
    "start_time": "2023-02-26T07:12:21.436Z"
   },
   {
    "duration": 28,
    "start_time": "2023-02-26T07:13:59.285Z"
   },
   {
    "duration": 31,
    "start_time": "2023-02-26T07:14:17.914Z"
   },
   {
    "duration": 20,
    "start_time": "2023-02-26T07:15:02.563Z"
   },
   {
    "duration": 25,
    "start_time": "2023-02-26T07:15:12.673Z"
   },
   {
    "duration": 14,
    "start_time": "2023-02-26T07:15:25.105Z"
   },
   {
    "duration": 21,
    "start_time": "2023-02-26T07:15:53.348Z"
   },
   {
    "duration": 28,
    "start_time": "2023-02-26T07:16:02.373Z"
   },
   {
    "duration": 21,
    "start_time": "2023-02-26T07:16:09.822Z"
   },
   {
    "duration": 159,
    "start_time": "2023-02-26T07:16:11.972Z"
   },
   {
    "duration": 253,
    "start_time": "2023-02-26T07:16:19.753Z"
   },
   {
    "duration": 8,
    "start_time": "2023-02-26T07:16:42.033Z"
   },
   {
    "duration": 9,
    "start_time": "2023-02-26T07:16:48.674Z"
   },
   {
    "duration": 6,
    "start_time": "2023-02-26T07:18:59.237Z"
   },
   {
    "duration": 7,
    "start_time": "2023-02-26T07:20:20.124Z"
   },
   {
    "duration": 1297,
    "start_time": "2023-02-26T07:20:31.562Z"
   },
   {
    "duration": 10,
    "start_time": "2023-02-26T07:20:52.185Z"
   },
   {
    "duration": 6,
    "start_time": "2023-02-26T07:21:18.799Z"
   },
   {
    "duration": 240,
    "start_time": "2023-02-26T07:23:39.308Z"
   },
   {
    "duration": 15,
    "start_time": "2023-02-26T07:23:52.417Z"
   },
   {
    "duration": 11,
    "start_time": "2023-02-26T07:24:06.778Z"
   },
   {
    "duration": 320,
    "start_time": "2023-02-26T07:24:31.133Z"
   },
   {
    "duration": 9,
    "start_time": "2023-02-26T07:24:40.271Z"
   },
   {
    "duration": 325,
    "start_time": "2023-02-26T07:25:22.913Z"
   },
   {
    "duration": 10,
    "start_time": "2023-02-26T07:25:26.114Z"
   },
   {
    "duration": 5,
    "start_time": "2023-02-26T07:26:29.011Z"
   },
   {
    "duration": 319,
    "start_time": "2023-02-26T07:27:15.996Z"
   },
   {
    "duration": 8,
    "start_time": "2023-02-26T07:27:18.369Z"
   },
   {
    "duration": 240,
    "start_time": "2023-02-26T07:27:39.278Z"
   },
   {
    "duration": 1521,
    "start_time": "2023-02-26T07:27:49.086Z"
   },
   {
    "duration": 61,
    "start_time": "2023-02-26T07:27:50.609Z"
   },
   {
    "duration": 34,
    "start_time": "2023-02-26T07:27:50.671Z"
   },
   {
    "duration": 13,
    "start_time": "2023-02-26T07:27:50.707Z"
   },
   {
    "duration": 17,
    "start_time": "2023-02-26T07:27:50.722Z"
   },
   {
    "duration": 16,
    "start_time": "2023-02-26T07:27:50.740Z"
   },
   {
    "duration": 11,
    "start_time": "2023-02-26T07:27:50.758Z"
   },
   {
    "duration": 39,
    "start_time": "2023-02-26T07:27:50.771Z"
   },
   {
    "duration": 8,
    "start_time": "2023-02-26T07:27:50.812Z"
   },
   {
    "duration": 13,
    "start_time": "2023-02-26T07:27:50.821Z"
   },
   {
    "duration": 36,
    "start_time": "2023-02-26T07:27:50.836Z"
   },
   {
    "duration": 48,
    "start_time": "2023-02-26T07:27:50.874Z"
   },
   {
    "duration": 18,
    "start_time": "2023-02-26T07:27:50.924Z"
   },
   {
    "duration": 33,
    "start_time": "2023-02-26T07:27:50.945Z"
   },
   {
    "duration": 168,
    "start_time": "2023-02-26T07:27:50.979Z"
   },
   {
    "duration": 369,
    "start_time": "2023-02-26T07:27:51.149Z"
   },
   {
    "duration": 71,
    "start_time": "2023-02-26T07:27:51.520Z"
   },
   {
    "duration": 37,
    "start_time": "2023-02-26T07:27:51.592Z"
   },
   {
    "duration": 186,
    "start_time": "2023-02-26T07:27:51.631Z"
   },
   {
    "duration": 38,
    "start_time": "2023-02-26T07:27:51.819Z"
   },
   {
    "duration": 177,
    "start_time": "2023-02-26T07:27:51.858Z"
   },
   {
    "duration": 0,
    "start_time": "2023-02-26T07:27:52.037Z"
   },
   {
    "duration": 0,
    "start_time": "2023-02-26T07:27:52.038Z"
   },
   {
    "duration": 0,
    "start_time": "2023-02-26T07:27:52.039Z"
   },
   {
    "duration": 0,
    "start_time": "2023-02-26T07:27:52.040Z"
   },
   {
    "duration": 1,
    "start_time": "2023-02-26T07:27:52.041Z"
   },
   {
    "duration": 0,
    "start_time": "2023-02-26T07:27:52.043Z"
   },
   {
    "duration": 0,
    "start_time": "2023-02-26T07:27:52.044Z"
   },
   {
    "duration": 0,
    "start_time": "2023-02-26T07:27:52.044Z"
   },
   {
    "duration": 0,
    "start_time": "2023-02-26T07:27:52.045Z"
   },
   {
    "duration": 0,
    "start_time": "2023-02-26T07:27:52.046Z"
   },
   {
    "duration": 0,
    "start_time": "2023-02-26T07:27:52.047Z"
   },
   {
    "duration": 0,
    "start_time": "2023-02-26T07:27:52.048Z"
   },
   {
    "duration": 0,
    "start_time": "2023-02-26T07:27:52.049Z"
   },
   {
    "duration": 0,
    "start_time": "2023-02-26T07:27:52.050Z"
   },
   {
    "duration": 0,
    "start_time": "2023-02-26T07:27:52.052Z"
   },
   {
    "duration": 0,
    "start_time": "2023-02-26T07:27:52.053Z"
   },
   {
    "duration": 0,
    "start_time": "2023-02-26T07:27:52.054Z"
   },
   {
    "duration": 0,
    "start_time": "2023-02-26T07:27:52.087Z"
   },
   {
    "duration": 0,
    "start_time": "2023-02-26T07:27:52.088Z"
   },
   {
    "duration": 0,
    "start_time": "2023-02-26T07:27:52.089Z"
   },
   {
    "duration": 0,
    "start_time": "2023-02-26T07:27:52.089Z"
   },
   {
    "duration": 0,
    "start_time": "2023-02-26T07:27:52.090Z"
   },
   {
    "duration": 0,
    "start_time": "2023-02-26T07:27:52.090Z"
   },
   {
    "duration": 0,
    "start_time": "2023-02-26T07:27:52.099Z"
   },
   {
    "duration": 0,
    "start_time": "2023-02-26T07:27:52.101Z"
   },
   {
    "duration": 0,
    "start_time": "2023-02-26T07:27:52.102Z"
   },
   {
    "duration": 0,
    "start_time": "2023-02-26T07:27:52.102Z"
   },
   {
    "duration": 0,
    "start_time": "2023-02-26T07:27:52.103Z"
   },
   {
    "duration": 157,
    "start_time": "2023-02-26T07:28:28.169Z"
   },
   {
    "duration": 9,
    "start_time": "2023-02-26T07:28:33.125Z"
   },
   {
    "duration": 240,
    "start_time": "2023-02-26T07:29:40.778Z"
   },
   {
    "duration": 6,
    "start_time": "2023-02-26T07:34:09.397Z"
   },
   {
    "duration": 5,
    "start_time": "2023-02-26T07:34:14.513Z"
   },
   {
    "duration": 2397,
    "start_time": "2023-02-26T07:35:15.945Z"
   },
   {
    "duration": 894,
    "start_time": "2023-02-26T07:36:10.814Z"
   },
   {
    "duration": 949,
    "start_time": "2023-02-26T07:36:46.535Z"
   },
   {
    "duration": 70,
    "start_time": "2023-02-26T07:37:28.504Z"
   },
   {
    "duration": 98,
    "start_time": "2023-02-26T07:37:51.135Z"
   },
   {
    "duration": 297,
    "start_time": "2023-02-26T07:37:57.978Z"
   },
   {
    "duration": 6,
    "start_time": "2023-02-26T07:38:01.936Z"
   },
   {
    "duration": 7,
    "start_time": "2023-02-26T07:39:44.123Z"
   },
   {
    "duration": 7,
    "start_time": "2023-02-26T07:39:53.374Z"
   },
   {
    "duration": 8,
    "start_time": "2023-02-26T07:40:45.178Z"
   },
   {
    "duration": 1270,
    "start_time": "2023-02-26T07:41:24.002Z"
   },
   {
    "duration": 22,
    "start_time": "2023-02-26T07:43:48.404Z"
   },
   {
    "duration": 296,
    "start_time": "2023-02-26T07:43:56.326Z"
   },
   {
    "duration": 11,
    "start_time": "2023-02-26T07:49:04.496Z"
   },
   {
    "duration": 15,
    "start_time": "2023-02-26T07:49:10.235Z"
   },
   {
    "duration": 20,
    "start_time": "2023-02-26T07:50:29.547Z"
   },
   {
    "duration": 9,
    "start_time": "2023-02-26T07:55:28.625Z"
   },
   {
    "duration": 9,
    "start_time": "2023-02-26T07:55:48.897Z"
   },
   {
    "duration": 8,
    "start_time": "2023-02-26T07:56:13.835Z"
   },
   {
    "duration": 12,
    "start_time": "2023-02-26T07:56:19.625Z"
   },
   {
    "duration": 15,
    "start_time": "2023-02-26T07:56:48.622Z"
   },
   {
    "duration": 1510,
    "start_time": "2023-02-26T07:57:14.835Z"
   },
   {
    "duration": 81,
    "start_time": "2023-02-26T07:57:16.347Z"
   },
   {
    "duration": 19,
    "start_time": "2023-02-26T07:57:16.430Z"
   },
   {
    "duration": 13,
    "start_time": "2023-02-26T07:57:16.451Z"
   },
   {
    "duration": 34,
    "start_time": "2023-02-26T07:57:16.466Z"
   },
   {
    "duration": 26,
    "start_time": "2023-02-26T07:57:16.502Z"
   },
   {
    "duration": 16,
    "start_time": "2023-02-26T07:57:16.530Z"
   },
   {
    "duration": 49,
    "start_time": "2023-02-26T07:57:16.548Z"
   },
   {
    "duration": 8,
    "start_time": "2023-02-26T07:57:16.604Z"
   },
   {
    "duration": 21,
    "start_time": "2023-02-26T07:57:16.614Z"
   },
   {
    "duration": 31,
    "start_time": "2023-02-26T07:57:16.637Z"
   },
   {
    "duration": 29,
    "start_time": "2023-02-26T07:57:16.670Z"
   },
   {
    "duration": 26,
    "start_time": "2023-02-26T07:57:16.700Z"
   },
   {
    "duration": 41,
    "start_time": "2023-02-26T07:57:16.730Z"
   },
   {
    "duration": 168,
    "start_time": "2023-02-26T07:57:16.772Z"
   },
   {
    "duration": 443,
    "start_time": "2023-02-26T07:57:16.942Z"
   },
   {
    "duration": 84,
    "start_time": "2023-02-26T07:57:17.388Z"
   },
   {
    "duration": 62,
    "start_time": "2023-02-26T07:57:17.474Z"
   },
   {
    "duration": 193,
    "start_time": "2023-02-26T07:57:17.538Z"
   },
   {
    "duration": 76,
    "start_time": "2023-02-26T07:57:17.734Z"
   },
   {
    "duration": 186,
    "start_time": "2023-02-26T07:57:17.813Z"
   },
   {
    "duration": 0,
    "start_time": "2023-02-26T07:57:18.001Z"
   },
   {
    "duration": 0,
    "start_time": "2023-02-26T07:57:18.002Z"
   },
   {
    "duration": 0,
    "start_time": "2023-02-26T07:57:18.003Z"
   },
   {
    "duration": 0,
    "start_time": "2023-02-26T07:57:18.003Z"
   },
   {
    "duration": 0,
    "start_time": "2023-02-26T07:57:18.004Z"
   },
   {
    "duration": 0,
    "start_time": "2023-02-26T07:57:18.007Z"
   },
   {
    "duration": 0,
    "start_time": "2023-02-26T07:57:18.008Z"
   },
   {
    "duration": 0,
    "start_time": "2023-02-26T07:57:18.010Z"
   },
   {
    "duration": 0,
    "start_time": "2023-02-26T07:57:18.012Z"
   },
   {
    "duration": 0,
    "start_time": "2023-02-26T07:57:18.013Z"
   },
   {
    "duration": 0,
    "start_time": "2023-02-26T07:57:18.014Z"
   },
   {
    "duration": 0,
    "start_time": "2023-02-26T07:57:18.015Z"
   },
   {
    "duration": 0,
    "start_time": "2023-02-26T07:57:18.016Z"
   },
   {
    "duration": 0,
    "start_time": "2023-02-26T07:57:18.017Z"
   },
   {
    "duration": 0,
    "start_time": "2023-02-26T07:57:18.018Z"
   },
   {
    "duration": 0,
    "start_time": "2023-02-26T07:57:18.019Z"
   },
   {
    "duration": 0,
    "start_time": "2023-02-26T07:57:18.020Z"
   },
   {
    "duration": 0,
    "start_time": "2023-02-26T07:57:18.021Z"
   },
   {
    "duration": 0,
    "start_time": "2023-02-26T07:57:18.023Z"
   },
   {
    "duration": 0,
    "start_time": "2023-02-26T07:57:18.024Z"
   },
   {
    "duration": 0,
    "start_time": "2023-02-26T07:57:18.025Z"
   },
   {
    "duration": 0,
    "start_time": "2023-02-26T07:57:18.026Z"
   },
   {
    "duration": 0,
    "start_time": "2023-02-26T07:57:18.028Z"
   },
   {
    "duration": 0,
    "start_time": "2023-02-26T07:57:18.029Z"
   },
   {
    "duration": 0,
    "start_time": "2023-02-26T07:57:18.030Z"
   },
   {
    "duration": 0,
    "start_time": "2023-02-26T07:57:18.031Z"
   },
   {
    "duration": 0,
    "start_time": "2023-02-26T07:57:18.032Z"
   },
   {
    "duration": 0,
    "start_time": "2023-02-26T07:57:18.033Z"
   },
   {
    "duration": 0,
    "start_time": "2023-02-26T07:57:18.034Z"
   },
   {
    "duration": 231,
    "start_time": "2023-02-26T07:57:39.627Z"
   },
   {
    "duration": 19,
    "start_time": "2023-02-26T07:57:42.856Z"
   },
   {
    "duration": 15,
    "start_time": "2023-02-26T07:58:18.605Z"
   },
   {
    "duration": 20,
    "start_time": "2023-02-26T07:58:29.877Z"
   },
   {
    "duration": 18,
    "start_time": "2023-02-26T07:58:41.978Z"
   },
   {
    "duration": 20,
    "start_time": "2023-02-26T07:58:48.475Z"
   },
   {
    "duration": 26,
    "start_time": "2023-02-26T07:59:13.258Z"
   },
   {
    "duration": 39,
    "start_time": "2023-02-26T07:59:18.456Z"
   },
   {
    "duration": 21,
    "start_time": "2023-02-26T07:59:24.192Z"
   },
   {
    "duration": 24,
    "start_time": "2023-02-26T08:00:24.025Z"
   },
   {
    "duration": 29,
    "start_time": "2023-02-26T08:00:32.704Z"
   },
   {
    "duration": 28,
    "start_time": "2023-02-26T08:00:40.446Z"
   },
   {
    "duration": 15,
    "start_time": "2023-02-26T08:03:07.157Z"
   },
   {
    "duration": 22,
    "start_time": "2023-02-26T08:03:12.455Z"
   },
   {
    "duration": 22,
    "start_time": "2023-02-26T08:03:41.357Z"
   },
   {
    "duration": 28,
    "start_time": "2023-02-26T08:04:09.027Z"
   },
   {
    "duration": 26,
    "start_time": "2023-02-26T08:04:15.635Z"
   },
   {
    "duration": 32,
    "start_time": "2023-02-26T08:04:20.943Z"
   },
   {
    "duration": 29,
    "start_time": "2023-02-26T08:04:30.211Z"
   },
   {
    "duration": 31,
    "start_time": "2023-02-26T08:04:35.270Z"
   },
   {
    "duration": 28,
    "start_time": "2023-02-26T08:04:50.816Z"
   },
   {
    "duration": 290,
    "start_time": "2023-02-26T08:05:30.206Z"
   },
   {
    "duration": 243,
    "start_time": "2023-02-26T08:05:36.906Z"
   },
   {
    "duration": 204,
    "start_time": "2023-02-26T08:10:08.933Z"
   },
   {
    "duration": 263,
    "start_time": "2023-02-26T08:10:10.175Z"
   },
   {
    "duration": 108,
    "start_time": "2023-02-26T08:10:54.505Z"
   },
   {
    "duration": 18,
    "start_time": "2023-02-26T08:11:15.134Z"
   },
   {
    "duration": 26,
    "start_time": "2023-02-26T08:12:23.985Z"
   },
   {
    "duration": 19,
    "start_time": "2023-02-26T08:12:31.144Z"
   },
   {
    "duration": 11,
    "start_time": "2023-02-26T08:12:41.515Z"
   },
   {
    "duration": 12,
    "start_time": "2023-02-26T08:12:55.144Z"
   },
   {
    "duration": 13,
    "start_time": "2023-02-26T08:13:10.104Z"
   },
   {
    "duration": 16,
    "start_time": "2023-02-26T08:13:25.034Z"
   },
   {
    "duration": 11,
    "start_time": "2023-02-26T08:13:34.227Z"
   },
   {
    "duration": 16,
    "start_time": "2023-02-26T08:13:46.397Z"
   },
   {
    "duration": 12,
    "start_time": "2023-02-26T08:14:07.515Z"
   },
   {
    "duration": 16,
    "start_time": "2023-02-26T08:14:12.586Z"
   },
   {
    "duration": 17,
    "start_time": "2023-02-26T08:14:17.585Z"
   },
   {
    "duration": 16,
    "start_time": "2023-02-26T08:14:21.034Z"
   },
   {
    "duration": 6,
    "start_time": "2023-02-26T08:14:26.247Z"
   },
   {
    "duration": 15,
    "start_time": "2023-02-26T08:15:14.222Z"
   },
   {
    "duration": 26,
    "start_time": "2023-02-26T08:15:36.226Z"
   },
   {
    "duration": 8,
    "start_time": "2023-02-26T08:16:09.516Z"
   },
   {
    "duration": 7,
    "start_time": "2023-02-26T08:16:29.675Z"
   },
   {
    "duration": 17,
    "start_time": "2023-02-26T08:16:34.785Z"
   },
   {
    "duration": 24,
    "start_time": "2023-02-26T08:18:26.706Z"
   },
   {
    "duration": 9,
    "start_time": "2023-02-26T08:18:35.445Z"
   },
   {
    "duration": 9,
    "start_time": "2023-02-26T08:18:43.544Z"
   },
   {
    "duration": 12,
    "start_time": "2023-02-26T08:18:51.833Z"
   },
   {
    "duration": 18,
    "start_time": "2023-02-26T08:19:22.787Z"
   },
   {
    "duration": 13,
    "start_time": "2023-02-26T08:19:31.747Z"
   },
   {
    "duration": 228,
    "start_time": "2023-02-26T08:21:07.780Z"
   },
   {
    "duration": 17,
    "start_time": "2023-02-26T08:22:30.047Z"
   },
   {
    "duration": 234,
    "start_time": "2023-02-26T08:33:00.269Z"
   },
   {
    "duration": 97,
    "start_time": "2023-02-26T08:33:12.888Z"
   },
   {
    "duration": 68,
    "start_time": "2023-02-26T08:34:17.408Z"
   },
   {
    "duration": 14,
    "start_time": "2023-02-26T08:35:29.608Z"
   },
   {
    "duration": 8,
    "start_time": "2023-02-26T08:35:44.975Z"
   },
   {
    "duration": 14,
    "start_time": "2023-02-26T08:35:50.765Z"
   },
   {
    "duration": 12,
    "start_time": "2023-02-26T08:36:00.005Z"
   },
   {
    "duration": 28,
    "start_time": "2023-02-26T08:36:01.876Z"
   },
   {
    "duration": 211,
    "start_time": "2023-02-26T08:36:32.599Z"
   },
   {
    "duration": 11,
    "start_time": "2023-02-26T08:38:51.134Z"
   },
   {
    "duration": 16,
    "start_time": "2023-02-26T08:40:27.267Z"
   },
   {
    "duration": 8,
    "start_time": "2023-02-26T08:40:35.669Z"
   },
   {
    "duration": 9,
    "start_time": "2023-02-26T08:40:41.557Z"
   },
   {
    "duration": 13,
    "start_time": "2023-02-26T08:40:47.035Z"
   },
   {
    "duration": 84,
    "start_time": "2023-02-26T08:41:28.431Z"
   },
   {
    "duration": 11,
    "start_time": "2023-02-26T08:41:31.566Z"
   },
   {
    "duration": 47,
    "start_time": "2023-02-26T08:42:17.859Z"
   },
   {
    "duration": 75,
    "start_time": "2023-02-26T08:45:30.201Z"
   },
   {
    "duration": 35,
    "start_time": "2023-02-26T08:45:41.438Z"
   },
   {
    "duration": 59,
    "start_time": "2023-02-26T15:01:16.521Z"
   },
   {
    "duration": 1667,
    "start_time": "2023-02-26T15:01:23.806Z"
   },
   {
    "duration": 112,
    "start_time": "2023-02-26T15:01:25.475Z"
   },
   {
    "duration": 18,
    "start_time": "2023-02-26T15:01:25.588Z"
   },
   {
    "duration": 18,
    "start_time": "2023-02-26T15:01:25.608Z"
   },
   {
    "duration": 12,
    "start_time": "2023-02-26T15:01:25.628Z"
   },
   {
    "duration": 13,
    "start_time": "2023-02-26T15:01:25.641Z"
   },
   {
    "duration": 8,
    "start_time": "2023-02-26T15:01:25.655Z"
   },
   {
    "duration": 21,
    "start_time": "2023-02-26T15:01:25.664Z"
   },
   {
    "duration": 24,
    "start_time": "2023-02-26T15:01:25.686Z"
   },
   {
    "duration": 11,
    "start_time": "2023-02-26T15:01:25.724Z"
   },
   {
    "duration": 17,
    "start_time": "2023-02-26T15:01:25.737Z"
   },
   {
    "duration": 17,
    "start_time": "2023-02-26T15:01:25.755Z"
   },
   {
    "duration": 4,
    "start_time": "2023-02-26T15:01:25.774Z"
   },
   {
    "duration": 45,
    "start_time": "2023-02-26T15:01:25.780Z"
   },
   {
    "duration": 157,
    "start_time": "2023-02-26T15:01:25.826Z"
   },
   {
    "duration": 314,
    "start_time": "2023-02-26T15:01:25.984Z"
   },
   {
    "duration": 63,
    "start_time": "2023-02-26T15:01:26.299Z"
   },
   {
    "duration": 35,
    "start_time": "2023-02-26T15:01:26.363Z"
   },
   {
    "duration": 154,
    "start_time": "2023-02-26T15:01:26.410Z"
   },
   {
    "duration": 36,
    "start_time": "2023-02-26T15:01:26.566Z"
   },
   {
    "duration": 219,
    "start_time": "2023-02-26T15:01:26.609Z"
   },
   {
    "duration": 0,
    "start_time": "2023-02-26T15:01:26.831Z"
   },
   {
    "duration": 0,
    "start_time": "2023-02-26T15:01:26.832Z"
   },
   {
    "duration": 0,
    "start_time": "2023-02-26T15:01:26.834Z"
   },
   {
    "duration": 0,
    "start_time": "2023-02-26T15:01:26.835Z"
   },
   {
    "duration": 0,
    "start_time": "2023-02-26T15:01:26.836Z"
   },
   {
    "duration": 0,
    "start_time": "2023-02-26T15:01:26.838Z"
   },
   {
    "duration": 0,
    "start_time": "2023-02-26T15:01:26.839Z"
   },
   {
    "duration": 0,
    "start_time": "2023-02-26T15:01:26.840Z"
   },
   {
    "duration": 0,
    "start_time": "2023-02-26T15:01:26.841Z"
   },
   {
    "duration": 0,
    "start_time": "2023-02-26T15:01:26.843Z"
   },
   {
    "duration": 0,
    "start_time": "2023-02-26T15:01:26.844Z"
   },
   {
    "duration": 0,
    "start_time": "2023-02-26T15:01:26.846Z"
   },
   {
    "duration": 0,
    "start_time": "2023-02-26T15:01:26.847Z"
   },
   {
    "duration": 0,
    "start_time": "2023-02-26T15:01:26.848Z"
   },
   {
    "duration": 0,
    "start_time": "2023-02-26T15:01:26.850Z"
   },
   {
    "duration": 0,
    "start_time": "2023-02-26T15:01:26.851Z"
   },
   {
    "duration": 0,
    "start_time": "2023-02-26T15:01:26.852Z"
   },
   {
    "duration": 0,
    "start_time": "2023-02-26T15:01:26.854Z"
   },
   {
    "duration": 0,
    "start_time": "2023-02-26T15:01:26.856Z"
   },
   {
    "duration": 0,
    "start_time": "2023-02-26T15:01:26.859Z"
   },
   {
    "duration": 0,
    "start_time": "2023-02-26T15:01:26.860Z"
   },
   {
    "duration": 0,
    "start_time": "2023-02-26T15:01:26.910Z"
   },
   {
    "duration": 0,
    "start_time": "2023-02-26T15:01:26.910Z"
   },
   {
    "duration": 0,
    "start_time": "2023-02-26T15:01:26.911Z"
   },
   {
    "duration": 0,
    "start_time": "2023-02-26T15:01:26.911Z"
   },
   {
    "duration": 0,
    "start_time": "2023-02-26T15:01:26.912Z"
   },
   {
    "duration": 0,
    "start_time": "2023-02-26T15:01:26.912Z"
   },
   {
    "duration": 0,
    "start_time": "2023-02-26T15:01:26.913Z"
   },
   {
    "duration": 0,
    "start_time": "2023-02-26T15:01:26.913Z"
   },
   {
    "duration": 0,
    "start_time": "2023-02-26T15:01:26.914Z"
   },
   {
    "duration": 223,
    "start_time": "2023-02-26T15:02:01.250Z"
   },
   {
    "duration": 8,
    "start_time": "2023-02-26T15:02:02.734Z"
   },
   {
    "duration": 209,
    "start_time": "2023-02-26T15:02:14.321Z"
   },
   {
    "duration": 123,
    "start_time": "2023-02-26T15:02:21.749Z"
   },
   {
    "duration": 9,
    "start_time": "2023-02-26T15:02:21.873Z"
   },
   {
    "duration": 36,
    "start_time": "2023-02-26T15:02:22.209Z"
   },
   {
    "duration": 72,
    "start_time": "2023-02-26T15:02:31.521Z"
   },
   {
    "duration": 67,
    "start_time": "2023-02-26T15:03:18.430Z"
   },
   {
    "duration": 15,
    "start_time": "2023-02-26T15:03:45.770Z"
   },
   {
    "duration": 14,
    "start_time": "2023-02-26T15:03:50.958Z"
   },
   {
    "duration": 146,
    "start_time": "2023-02-26T15:03:53.376Z"
   },
   {
    "duration": 73,
    "start_time": "2023-02-26T15:04:02.876Z"
   },
   {
    "duration": 38,
    "start_time": "2023-02-26T15:06:01.847Z"
   },
   {
    "duration": 9,
    "start_time": "2023-02-26T15:06:39.533Z"
   },
   {
    "duration": 103,
    "start_time": "2023-02-26T15:07:39.268Z"
   },
   {
    "duration": 10,
    "start_time": "2023-02-26T15:08:08.348Z"
   },
   {
    "duration": 9299,
    "start_time": "2023-02-26T15:08:54.433Z"
   },
   {
    "duration": 7,
    "start_time": "2023-02-26T15:10:57.063Z"
   },
   {
    "duration": 10,
    "start_time": "2023-02-26T15:11:06.889Z"
   },
   {
    "duration": 10,
    "start_time": "2023-02-26T15:11:30.338Z"
   },
   {
    "duration": 29,
    "start_time": "2023-02-26T15:11:42.580Z"
   },
   {
    "duration": 74,
    "start_time": "2023-02-26T15:12:32.853Z"
   },
   {
    "duration": 504,
    "start_time": "2023-02-26T15:12:45.448Z"
   },
   {
    "duration": 149,
    "start_time": "2023-02-26T15:12:52.235Z"
   },
   {
    "duration": 114,
    "start_time": "2023-02-26T15:15:12.834Z"
   },
   {
    "duration": 157,
    "start_time": "2023-02-26T15:15:17.238Z"
   },
   {
    "duration": 48,
    "start_time": "2023-02-26T15:17:07.771Z"
   },
   {
    "duration": 13,
    "start_time": "2023-02-26T15:17:38.767Z"
   },
   {
    "duration": 138,
    "start_time": "2023-02-26T15:17:51.437Z"
   },
   {
    "duration": 140,
    "start_time": "2023-02-26T15:18:13.432Z"
   },
   {
    "duration": 146,
    "start_time": "2023-02-26T15:19:47.877Z"
   },
   {
    "duration": 45,
    "start_time": "2023-02-26T15:19:51.224Z"
   },
   {
    "duration": 22,
    "start_time": "2023-02-26T15:20:22.452Z"
   },
   {
    "duration": 21,
    "start_time": "2023-02-26T15:20:36.897Z"
   },
   {
    "duration": 8,
    "start_time": "2023-02-26T15:21:56.608Z"
   },
   {
    "duration": 10,
    "start_time": "2023-02-26T15:22:00.744Z"
   },
   {
    "duration": 9,
    "start_time": "2023-02-26T15:22:30.480Z"
   },
   {
    "duration": 8,
    "start_time": "2023-02-26T15:22:34.518Z"
   },
   {
    "duration": 12,
    "start_time": "2023-02-26T15:22:37.259Z"
   },
   {
    "duration": 116,
    "start_time": "2023-02-26T15:23:52.856Z"
   },
   {
    "duration": 15,
    "start_time": "2023-02-26T15:24:05.692Z"
   },
   {
    "duration": 3,
    "start_time": "2023-02-26T15:24:22.778Z"
   },
   {
    "duration": 12,
    "start_time": "2023-02-26T15:24:26.291Z"
   },
   {
    "duration": 199,
    "start_time": "2023-02-26T15:24:26.940Z"
   },
   {
    "duration": 46,
    "start_time": "2023-02-26T15:24:29.470Z"
   },
   {
    "duration": 11,
    "start_time": "2023-02-26T15:24:35.205Z"
   },
   {
    "duration": 11,
    "start_time": "2023-02-26T15:24:39.605Z"
   },
   {
    "duration": 1754,
    "start_time": "2023-02-26T15:24:52.642Z"
   },
   {
    "duration": 50,
    "start_time": "2023-02-26T15:25:14.561Z"
   },
   {
    "duration": 13,
    "start_time": "2023-02-26T15:28:04.809Z"
   },
   {
    "duration": 191,
    "start_time": "2023-02-26T15:28:05.412Z"
   },
   {
    "duration": 45,
    "start_time": "2023-02-26T15:28:05.765Z"
   },
   {
    "duration": 107,
    "start_time": "2023-02-26T15:28:06.080Z"
   },
   {
    "duration": 304,
    "start_time": "2023-02-26T15:28:07.021Z"
   },
   {
    "duration": 5,
    "start_time": "2023-02-26T15:28:07.347Z"
   },
   {
    "duration": 116,
    "start_time": "2023-02-26T15:28:07.696Z"
   },
   {
    "duration": 199,
    "start_time": "2023-02-26T15:28:08.060Z"
   },
   {
    "duration": 4,
    "start_time": "2023-02-26T15:29:01.198Z"
   },
   {
    "duration": 1439,
    "start_time": "2023-02-26T15:29:55.690Z"
   },
   {
    "duration": 58,
    "start_time": "2023-02-26T15:29:57.131Z"
   },
   {
    "duration": 17,
    "start_time": "2023-02-26T15:29:57.190Z"
   },
   {
    "duration": 6,
    "start_time": "2023-02-26T15:29:57.210Z"
   },
   {
    "duration": 13,
    "start_time": "2023-02-26T15:29:57.218Z"
   },
   {
    "duration": 12,
    "start_time": "2023-02-26T15:29:57.233Z"
   },
   {
    "duration": 8,
    "start_time": "2023-02-26T15:29:57.247Z"
   },
   {
    "duration": 16,
    "start_time": "2023-02-26T15:29:57.256Z"
   },
   {
    "duration": 41,
    "start_time": "2023-02-26T15:29:57.274Z"
   },
   {
    "duration": 11,
    "start_time": "2023-02-26T15:29:57.318Z"
   },
   {
    "duration": 19,
    "start_time": "2023-02-26T15:29:57.330Z"
   },
   {
    "duration": 15,
    "start_time": "2023-02-26T15:29:57.351Z"
   },
   {
    "duration": 7,
    "start_time": "2023-02-26T15:29:57.367Z"
   },
   {
    "duration": 51,
    "start_time": "2023-02-26T15:29:57.375Z"
   },
   {
    "duration": 185,
    "start_time": "2023-02-26T15:29:57.428Z"
   },
   {
    "duration": 341,
    "start_time": "2023-02-26T15:29:57.614Z"
   },
   {
    "duration": 59,
    "start_time": "2023-02-26T15:29:57.957Z"
   },
   {
    "duration": 34,
    "start_time": "2023-02-26T15:29:58.018Z"
   },
   {
    "duration": 158,
    "start_time": "2023-02-26T15:29:58.053Z"
   },
   {
    "duration": 36,
    "start_time": "2023-02-26T15:29:58.213Z"
   },
   {
    "duration": 225,
    "start_time": "2023-02-26T15:29:58.251Z"
   },
   {
    "duration": 9,
    "start_time": "2023-02-26T15:29:58.478Z"
   },
   {
    "duration": 209,
    "start_time": "2023-02-26T15:29:58.489Z"
   },
   {
    "duration": 126,
    "start_time": "2023-02-26T15:29:58.700Z"
   },
   {
    "duration": 9,
    "start_time": "2023-02-26T15:29:58.828Z"
   },
   {
    "duration": 40,
    "start_time": "2023-02-26T15:29:58.838Z"
   },
   {
    "duration": 80,
    "start_time": "2023-02-26T15:29:58.880Z"
   },
   {
    "duration": 34,
    "start_time": "2023-02-26T15:29:58.963Z"
   },
   {
    "duration": 67,
    "start_time": "2023-02-26T15:29:59.009Z"
   },
   {
    "duration": 11,
    "start_time": "2023-02-26T15:29:59.077Z"
   },
   {
    "duration": 9253,
    "start_time": "2023-02-26T15:29:59.089Z"
   },
   {
    "duration": 68,
    "start_time": "2023-02-26T15:30:08.344Z"
   },
   {
    "duration": 360,
    "start_time": "2023-02-26T15:30:08.413Z"
   },
   {
    "duration": 524,
    "start_time": "2023-02-26T15:30:08.774Z"
   },
   {
    "duration": 167,
    "start_time": "2023-02-26T15:30:09.300Z"
   },
   {
    "duration": 57,
    "start_time": "2023-02-26T15:30:09.469Z"
   },
   {
    "duration": 22,
    "start_time": "2023-02-26T15:30:09.527Z"
   },
   {
    "duration": 107,
    "start_time": "2023-02-26T15:30:09.551Z"
   },
   {
    "duration": 3,
    "start_time": "2023-02-26T15:30:09.659Z"
   },
   {
    "duration": 7,
    "start_time": "2023-02-26T15:30:09.664Z"
   },
   {
    "duration": 23,
    "start_time": "2023-02-26T15:30:09.672Z"
   },
   {
    "duration": 187,
    "start_time": "2023-02-26T15:30:09.696Z"
   },
   {
    "duration": 52,
    "start_time": "2023-02-26T15:30:09.885Z"
   },
   {
    "duration": 10,
    "start_time": "2023-02-26T15:30:09.939Z"
   },
   {
    "duration": 1568,
    "start_time": "2023-02-26T15:30:09.950Z"
   },
   {
    "duration": 40,
    "start_time": "2023-02-26T15:30:11.520Z"
   },
   {
    "duration": 56,
    "start_time": "2023-02-26T15:30:11.562Z"
   },
   {
    "duration": 237,
    "start_time": "2023-02-26T15:30:11.620Z"
   },
   {
    "duration": 61,
    "start_time": "2023-02-26T15:30:11.859Z"
   },
   {
    "duration": 141,
    "start_time": "2023-02-26T15:30:11.922Z"
   },
   {
    "duration": 393,
    "start_time": "2023-02-26T15:30:12.064Z"
   },
   {
    "duration": 6,
    "start_time": "2023-02-26T15:30:12.459Z"
   },
   {
    "duration": 291,
    "start_time": "2023-02-26T15:30:12.467Z"
   },
   {
    "duration": 227,
    "start_time": "2023-02-26T15:30:12.759Z"
   },
   {
    "duration": 179,
    "start_time": "2023-02-26T15:31:04.228Z"
   },
   {
    "duration": 4,
    "start_time": "2023-02-26T15:31:11.469Z"
   },
   {
    "duration": 5,
    "start_time": "2023-02-26T15:31:55.001Z"
   },
   {
    "duration": 1459,
    "start_time": "2023-02-26T15:32:11.370Z"
   },
   {
    "duration": 56,
    "start_time": "2023-02-26T15:32:12.831Z"
   },
   {
    "duration": 17,
    "start_time": "2023-02-26T15:32:12.888Z"
   },
   {
    "duration": 5,
    "start_time": "2023-02-26T15:32:12.908Z"
   },
   {
    "duration": 14,
    "start_time": "2023-02-26T15:32:12.914Z"
   },
   {
    "duration": 12,
    "start_time": "2023-02-26T15:32:12.929Z"
   },
   {
    "duration": 8,
    "start_time": "2023-02-26T15:32:12.943Z"
   },
   {
    "duration": 19,
    "start_time": "2023-02-26T15:32:12.953Z"
   },
   {
    "duration": 36,
    "start_time": "2023-02-26T15:32:12.974Z"
   },
   {
    "duration": 13,
    "start_time": "2023-02-26T15:32:13.013Z"
   },
   {
    "duration": 27,
    "start_time": "2023-02-26T15:32:13.027Z"
   },
   {
    "duration": 18,
    "start_time": "2023-02-26T15:32:13.057Z"
   },
   {
    "duration": 9,
    "start_time": "2023-02-26T15:32:13.077Z"
   },
   {
    "duration": 27,
    "start_time": "2023-02-26T15:32:13.110Z"
   },
   {
    "duration": 162,
    "start_time": "2023-02-26T15:32:13.139Z"
   },
   {
    "duration": 371,
    "start_time": "2023-02-26T15:32:13.303Z"
   },
   {
    "duration": 59,
    "start_time": "2023-02-26T15:32:13.676Z"
   },
   {
    "duration": 35,
    "start_time": "2023-02-26T15:32:13.736Z"
   },
   {
    "duration": 156,
    "start_time": "2023-02-26T15:32:13.773Z"
   },
   {
    "duration": 38,
    "start_time": "2023-02-26T15:32:13.930Z"
   },
   {
    "duration": 230,
    "start_time": "2023-02-26T15:32:13.970Z"
   },
   {
    "duration": 11,
    "start_time": "2023-02-26T15:32:14.202Z"
   },
   {
    "duration": 203,
    "start_time": "2023-02-26T15:32:14.214Z"
   },
   {
    "duration": 125,
    "start_time": "2023-02-26T15:32:14.419Z"
   },
   {
    "duration": 10,
    "start_time": "2023-02-26T15:32:14.545Z"
   },
   {
    "duration": 53,
    "start_time": "2023-02-26T15:32:14.557Z"
   },
   {
    "duration": 73,
    "start_time": "2023-02-26T15:32:14.612Z"
   },
   {
    "duration": 52,
    "start_time": "2023-02-26T15:32:14.690Z"
   },
   {
    "duration": 82,
    "start_time": "2023-02-26T15:32:14.744Z"
   },
   {
    "duration": 12,
    "start_time": "2023-02-26T15:32:14.828Z"
   },
   {
    "duration": 8836,
    "start_time": "2023-02-26T15:32:14.841Z"
   },
   {
    "duration": 52,
    "start_time": "2023-02-26T15:32:23.680Z"
   },
   {
    "duration": 380,
    "start_time": "2023-02-26T15:32:23.734Z"
   },
   {
    "duration": 479,
    "start_time": "2023-02-26T15:32:24.116Z"
   },
   {
    "duration": 163,
    "start_time": "2023-02-26T15:32:24.597Z"
   },
   {
    "duration": 57,
    "start_time": "2023-02-26T15:32:24.762Z"
   },
   {
    "duration": 22,
    "start_time": "2023-02-26T15:32:24.821Z"
   },
   {
    "duration": 110,
    "start_time": "2023-02-26T15:32:24.844Z"
   },
   {
    "duration": 2,
    "start_time": "2023-02-26T15:32:24.955Z"
   },
   {
    "duration": 12,
    "start_time": "2023-02-26T15:32:24.959Z"
   },
   {
    "duration": 203,
    "start_time": "2023-02-26T15:32:24.972Z"
   },
   {
    "duration": 55,
    "start_time": "2023-02-26T15:32:25.176Z"
   },
   {
    "duration": 11,
    "start_time": "2023-02-26T15:32:25.233Z"
   },
   {
    "duration": 1575,
    "start_time": "2023-02-26T15:32:25.245Z"
   },
   {
    "duration": 38,
    "start_time": "2023-02-26T15:32:26.821Z"
   },
   {
    "duration": 55,
    "start_time": "2023-02-26T15:32:26.861Z"
   },
   {
    "duration": 194,
    "start_time": "2023-02-26T15:32:26.918Z"
   },
   {
    "duration": 45,
    "start_time": "2023-02-26T15:32:27.114Z"
   },
   {
    "duration": 110,
    "start_time": "2023-02-26T15:32:27.160Z"
   },
   {
    "duration": 315,
    "start_time": "2023-02-26T15:32:27.271Z"
   },
   {
    "duration": 4,
    "start_time": "2023-02-26T15:32:27.588Z"
   },
   {
    "duration": 287,
    "start_time": "2023-02-26T15:32:27.594Z"
   },
   {
    "duration": 232,
    "start_time": "2023-02-26T15:32:27.883Z"
   },
   {
    "duration": 6,
    "start_time": "2023-02-26T15:32:44.057Z"
   },
   {
    "duration": 1455,
    "start_time": "2023-02-26T15:33:30.912Z"
   },
   {
    "duration": 62,
    "start_time": "2023-02-26T15:33:32.368Z"
   },
   {
    "duration": 18,
    "start_time": "2023-02-26T15:33:32.431Z"
   },
   {
    "duration": 6,
    "start_time": "2023-02-26T15:33:32.450Z"
   },
   {
    "duration": 14,
    "start_time": "2023-02-26T15:33:32.458Z"
   },
   {
    "duration": 14,
    "start_time": "2023-02-26T15:33:32.473Z"
   },
   {
    "duration": 119,
    "start_time": "2023-02-26T15:34:12.420Z"
   },
   {
    "duration": 10,
    "start_time": "2023-02-26T15:34:18.367Z"
   },
   {
    "duration": 9,
    "start_time": "2023-02-26T15:34:57.965Z"
   },
   {
    "duration": 60,
    "start_time": "2023-02-27T06:55:13.288Z"
   },
   {
    "duration": 1877,
    "start_time": "2023-02-27T06:55:21.153Z"
   },
   {
    "duration": 249,
    "start_time": "2023-02-27T06:55:23.032Z"
   },
   {
    "duration": 20,
    "start_time": "2023-02-27T06:55:23.283Z"
   },
   {
    "duration": 4,
    "start_time": "2023-02-27T06:55:23.987Z"
   },
   {
    "duration": 18,
    "start_time": "2023-02-27T06:55:27.757Z"
   },
   {
    "duration": 21,
    "start_time": "2023-02-27T06:55:32.413Z"
   },
   {
    "duration": 13,
    "start_time": "2023-02-27T06:55:44.170Z"
   },
   {
    "duration": 15,
    "start_time": "2023-02-27T06:55:45.302Z"
   },
   {
    "duration": 3,
    "start_time": "2023-02-27T06:55:51.488Z"
   },
   {
    "duration": 10,
    "start_time": "2023-02-27T06:56:18.130Z"
   },
   {
    "duration": 1587,
    "start_time": "2023-02-27T06:56:24.832Z"
   },
   {
    "duration": 67,
    "start_time": "2023-02-27T06:56:26.420Z"
   },
   {
    "duration": 21,
    "start_time": "2023-02-27T06:56:26.489Z"
   },
   {
    "duration": 5,
    "start_time": "2023-02-27T06:56:26.513Z"
   },
   {
    "duration": 27,
    "start_time": "2023-02-27T06:56:26.519Z"
   },
   {
    "duration": 15,
    "start_time": "2023-02-27T06:56:26.548Z"
   },
   {
    "duration": 16,
    "start_time": "2023-02-27T06:56:26.565Z"
   },
   {
    "duration": 15,
    "start_time": "2023-02-27T06:56:26.583Z"
   },
   {
    "duration": 38,
    "start_time": "2023-02-27T06:56:26.600Z"
   },
   {
    "duration": 16,
    "start_time": "2023-02-27T06:56:26.642Z"
   },
   {
    "duration": 831,
    "start_time": "2023-02-27T06:56:26.660Z"
   },
   {
    "duration": 0,
    "start_time": "2023-02-27T06:56:27.493Z"
   },
   {
    "duration": 0,
    "start_time": "2023-02-27T06:56:27.495Z"
   },
   {
    "duration": 0,
    "start_time": "2023-02-27T06:56:27.495Z"
   },
   {
    "duration": 0,
    "start_time": "2023-02-27T06:56:27.498Z"
   },
   {
    "duration": 0,
    "start_time": "2023-02-27T06:56:27.501Z"
   },
   {
    "duration": 0,
    "start_time": "2023-02-27T06:56:27.502Z"
   },
   {
    "duration": 0,
    "start_time": "2023-02-27T06:56:27.503Z"
   },
   {
    "duration": 0,
    "start_time": "2023-02-27T06:56:27.504Z"
   },
   {
    "duration": 0,
    "start_time": "2023-02-27T06:56:27.506Z"
   },
   {
    "duration": 0,
    "start_time": "2023-02-27T06:56:27.507Z"
   },
   {
    "duration": 0,
    "start_time": "2023-02-27T06:56:27.508Z"
   },
   {
    "duration": 0,
    "start_time": "2023-02-27T06:56:27.509Z"
   },
   {
    "duration": 0,
    "start_time": "2023-02-27T06:56:27.511Z"
   },
   {
    "duration": 0,
    "start_time": "2023-02-27T06:56:27.512Z"
   },
   {
    "duration": 0,
    "start_time": "2023-02-27T06:56:27.513Z"
   },
   {
    "duration": 0,
    "start_time": "2023-02-27T06:56:27.514Z"
   },
   {
    "duration": 0,
    "start_time": "2023-02-27T06:56:27.515Z"
   },
   {
    "duration": 0,
    "start_time": "2023-02-27T06:56:27.517Z"
   },
   {
    "duration": 0,
    "start_time": "2023-02-27T06:56:27.518Z"
   },
   {
    "duration": 0,
    "start_time": "2023-02-27T06:56:27.519Z"
   },
   {
    "duration": 0,
    "start_time": "2023-02-27T06:56:27.521Z"
   },
   {
    "duration": 0,
    "start_time": "2023-02-27T06:56:27.522Z"
   },
   {
    "duration": 0,
    "start_time": "2023-02-27T06:56:27.523Z"
   },
   {
    "duration": 0,
    "start_time": "2023-02-27T06:56:27.525Z"
   },
   {
    "duration": 0,
    "start_time": "2023-02-27T06:56:27.526Z"
   },
   {
    "duration": 0,
    "start_time": "2023-02-27T06:56:27.527Z"
   },
   {
    "duration": 0,
    "start_time": "2023-02-27T06:56:27.528Z"
   },
   {
    "duration": 0,
    "start_time": "2023-02-27T06:56:27.529Z"
   },
   {
    "duration": 0,
    "start_time": "2023-02-27T06:56:27.530Z"
   },
   {
    "duration": 0,
    "start_time": "2023-02-27T06:56:27.531Z"
   },
   {
    "duration": 0,
    "start_time": "2023-02-27T06:56:27.532Z"
   },
   {
    "duration": 0,
    "start_time": "2023-02-27T06:56:27.537Z"
   },
   {
    "duration": 0,
    "start_time": "2023-02-27T06:56:27.539Z"
   },
   {
    "duration": 0,
    "start_time": "2023-02-27T06:56:27.540Z"
   },
   {
    "duration": 1,
    "start_time": "2023-02-27T06:56:27.540Z"
   },
   {
    "duration": 0,
    "start_time": "2023-02-27T06:56:27.542Z"
   },
   {
    "duration": 0,
    "start_time": "2023-02-27T06:56:27.543Z"
   },
   {
    "duration": 0,
    "start_time": "2023-02-27T06:56:27.544Z"
   },
   {
    "duration": 0,
    "start_time": "2023-02-27T06:56:27.545Z"
   },
   {
    "duration": 0,
    "start_time": "2023-02-27T06:56:27.546Z"
   },
   {
    "duration": 1620,
    "start_time": "2023-02-27T06:57:47.122Z"
   },
   {
    "duration": 66,
    "start_time": "2023-02-27T06:57:48.744Z"
   },
   {
    "duration": 20,
    "start_time": "2023-02-27T06:57:48.812Z"
   },
   {
    "duration": 3,
    "start_time": "2023-02-27T06:57:48.834Z"
   },
   {
    "duration": 18,
    "start_time": "2023-02-27T06:57:48.839Z"
   },
   {
    "duration": 15,
    "start_time": "2023-02-27T06:57:48.858Z"
   },
   {
    "duration": 9,
    "start_time": "2023-02-27T06:57:48.874Z"
   },
   {
    "duration": 18,
    "start_time": "2023-02-27T06:57:48.885Z"
   },
   {
    "duration": 42,
    "start_time": "2023-02-27T06:57:48.905Z"
   },
   {
    "duration": 16,
    "start_time": "2023-02-27T06:57:48.951Z"
   },
   {
    "duration": 951,
    "start_time": "2023-02-27T06:57:48.969Z"
   },
   {
    "duration": 0,
    "start_time": "2023-02-27T06:57:49.923Z"
   },
   {
    "duration": 0,
    "start_time": "2023-02-27T06:57:49.925Z"
   },
   {
    "duration": 0,
    "start_time": "2023-02-27T06:57:49.926Z"
   },
   {
    "duration": 0,
    "start_time": "2023-02-27T06:57:49.927Z"
   },
   {
    "duration": 0,
    "start_time": "2023-02-27T06:57:49.929Z"
   },
   {
    "duration": 0,
    "start_time": "2023-02-27T06:57:49.930Z"
   },
   {
    "duration": 0,
    "start_time": "2023-02-27T06:57:49.931Z"
   },
   {
    "duration": 0,
    "start_time": "2023-02-27T06:57:49.933Z"
   },
   {
    "duration": 0,
    "start_time": "2023-02-27T06:57:49.934Z"
   },
   {
    "duration": 0,
    "start_time": "2023-02-27T06:57:49.935Z"
   },
   {
    "duration": 0,
    "start_time": "2023-02-27T06:57:49.937Z"
   },
   {
    "duration": 0,
    "start_time": "2023-02-27T06:57:49.938Z"
   },
   {
    "duration": 0,
    "start_time": "2023-02-27T06:57:49.940Z"
   },
   {
    "duration": 0,
    "start_time": "2023-02-27T06:57:49.941Z"
   },
   {
    "duration": 0,
    "start_time": "2023-02-27T06:57:49.943Z"
   },
   {
    "duration": 0,
    "start_time": "2023-02-27T06:57:49.944Z"
   },
   {
    "duration": 0,
    "start_time": "2023-02-27T06:57:49.945Z"
   },
   {
    "duration": 0,
    "start_time": "2023-02-27T06:57:49.946Z"
   },
   {
    "duration": 0,
    "start_time": "2023-02-27T06:57:49.947Z"
   },
   {
    "duration": 0,
    "start_time": "2023-02-27T06:57:49.948Z"
   },
   {
    "duration": 0,
    "start_time": "2023-02-27T06:57:49.949Z"
   },
   {
    "duration": 0,
    "start_time": "2023-02-27T06:57:49.950Z"
   },
   {
    "duration": 0,
    "start_time": "2023-02-27T06:57:49.951Z"
   },
   {
    "duration": 0,
    "start_time": "2023-02-27T06:57:49.952Z"
   },
   {
    "duration": 0,
    "start_time": "2023-02-27T06:57:49.953Z"
   },
   {
    "duration": 0,
    "start_time": "2023-02-27T06:57:49.954Z"
   },
   {
    "duration": 0,
    "start_time": "2023-02-27T06:57:49.956Z"
   },
   {
    "duration": 0,
    "start_time": "2023-02-27T06:57:49.957Z"
   },
   {
    "duration": 0,
    "start_time": "2023-02-27T06:57:49.958Z"
   },
   {
    "duration": 0,
    "start_time": "2023-02-27T06:57:49.959Z"
   },
   {
    "duration": 0,
    "start_time": "2023-02-27T06:57:49.961Z"
   },
   {
    "duration": 0,
    "start_time": "2023-02-27T06:57:49.962Z"
   },
   {
    "duration": 0,
    "start_time": "2023-02-27T06:57:49.964Z"
   },
   {
    "duration": 0,
    "start_time": "2023-02-27T06:57:49.965Z"
   },
   {
    "duration": 0,
    "start_time": "2023-02-27T06:57:49.967Z"
   },
   {
    "duration": 0,
    "start_time": "2023-02-27T06:57:49.968Z"
   },
   {
    "duration": 0,
    "start_time": "2023-02-27T06:57:49.969Z"
   },
   {
    "duration": 0,
    "start_time": "2023-02-27T06:57:49.970Z"
   },
   {
    "duration": 0,
    "start_time": "2023-02-27T06:57:49.971Z"
   },
   {
    "duration": 0,
    "start_time": "2023-02-27T06:57:49.973Z"
   },
   {
    "duration": 11,
    "start_time": "2023-02-27T06:58:12.149Z"
   },
   {
    "duration": 10,
    "start_time": "2023-02-27T06:58:54.332Z"
   },
   {
    "duration": 19,
    "start_time": "2023-02-27T06:59:56.200Z"
   },
   {
    "duration": 16,
    "start_time": "2023-02-27T07:00:10.528Z"
   },
   {
    "duration": 1677,
    "start_time": "2023-02-27T07:00:17.397Z"
   },
   {
    "duration": 81,
    "start_time": "2023-02-27T07:00:19.076Z"
   },
   {
    "duration": 30,
    "start_time": "2023-02-27T07:00:19.159Z"
   },
   {
    "duration": 7,
    "start_time": "2023-02-27T07:00:19.194Z"
   },
   {
    "duration": 47,
    "start_time": "2023-02-27T07:00:19.207Z"
   },
   {
    "duration": 39,
    "start_time": "2023-02-27T07:00:19.258Z"
   },
   {
    "duration": 67,
    "start_time": "2023-02-27T07:00:19.299Z"
   },
   {
    "duration": 25,
    "start_time": "2023-02-27T07:00:19.369Z"
   },
   {
    "duration": 28,
    "start_time": "2023-02-27T07:00:19.396Z"
   },
   {
    "duration": 23,
    "start_time": "2023-02-27T07:00:19.439Z"
   },
   {
    "duration": 43,
    "start_time": "2023-02-27T07:00:19.463Z"
   },
   {
    "duration": 43,
    "start_time": "2023-02-27T07:00:19.508Z"
   },
   {
    "duration": 112,
    "start_time": "2023-02-27T07:00:19.554Z"
   },
   {
    "duration": 197,
    "start_time": "2023-02-27T07:00:19.668Z"
   },
   {
    "duration": 467,
    "start_time": "2023-02-27T07:00:19.868Z"
   },
   {
    "duration": 59,
    "start_time": "2023-02-27T07:00:20.337Z"
   },
   {
    "duration": 57,
    "start_time": "2023-02-27T07:00:20.397Z"
   },
   {
    "duration": 184,
    "start_time": "2023-02-27T07:00:20.456Z"
   },
   {
    "duration": 42,
    "start_time": "2023-02-27T07:00:20.642Z"
   },
   {
    "duration": 264,
    "start_time": "2023-02-27T07:00:20.686Z"
   },
   {
    "duration": 11,
    "start_time": "2023-02-27T07:00:20.952Z"
   },
   {
    "duration": 270,
    "start_time": "2023-02-27T07:00:20.965Z"
   },
   {
    "duration": 146,
    "start_time": "2023-02-27T07:00:21.237Z"
   },
   {
    "duration": 11,
    "start_time": "2023-02-27T07:00:21.385Z"
   },
   {
    "duration": 66,
    "start_time": "2023-02-27T07:00:21.397Z"
   },
   {
    "duration": 86,
    "start_time": "2023-02-27T07:00:21.465Z"
   },
   {
    "duration": 38,
    "start_time": "2023-02-27T07:00:21.552Z"
   },
   {
    "duration": 106,
    "start_time": "2023-02-27T07:00:21.595Z"
   },
   {
    "duration": 15,
    "start_time": "2023-02-27T07:00:21.703Z"
   },
   {
    "duration": 10872,
    "start_time": "2023-02-27T07:00:21.721Z"
   },
   {
    "duration": 85,
    "start_time": "2023-02-27T07:00:32.596Z"
   },
   {
    "duration": 133,
    "start_time": "2023-02-27T07:00:32.737Z"
   },
   {
    "duration": 708,
    "start_time": "2023-02-27T07:00:32.871Z"
   },
   {
    "duration": 198,
    "start_time": "2023-02-27T07:00:33.581Z"
   },
   {
    "duration": 67,
    "start_time": "2023-02-27T07:00:33.781Z"
   },
   {
    "duration": 25,
    "start_time": "2023-02-27T07:00:33.850Z"
   },
   {
    "duration": 125,
    "start_time": "2023-02-27T07:00:33.877Z"
   },
   {
    "duration": 2,
    "start_time": "2023-02-27T07:00:34.004Z"
   },
   {
    "duration": 30,
    "start_time": "2023-02-27T07:00:34.008Z"
   },
   {
    "duration": 231,
    "start_time": "2023-02-27T07:00:34.041Z"
   },
   {
    "duration": 54,
    "start_time": "2023-02-27T07:00:34.274Z"
   },
   {
    "duration": 20,
    "start_time": "2023-02-27T07:00:34.329Z"
   },
   {
    "duration": 1810,
    "start_time": "2023-02-27T07:00:34.351Z"
   },
   {
    "duration": 89,
    "start_time": "2023-02-27T07:00:36.162Z"
   },
   {
    "duration": 16,
    "start_time": "2023-02-27T07:00:36.253Z"
   },
   {
    "duration": 256,
    "start_time": "2023-02-27T07:00:36.271Z"
   },
   {
    "duration": 54,
    "start_time": "2023-02-27T07:00:36.529Z"
   },
   {
    "duration": 123,
    "start_time": "2023-02-27T07:00:36.584Z"
   },
   {
    "duration": 385,
    "start_time": "2023-02-27T07:00:36.709Z"
   },
   {
    "duration": 6,
    "start_time": "2023-02-27T07:00:37.096Z"
   },
   {
    "duration": 359,
    "start_time": "2023-02-27T07:00:37.104Z"
   },
   {
    "duration": 283,
    "start_time": "2023-02-27T07:00:37.465Z"
   },
   {
    "duration": 4,
    "start_time": "2023-02-27T07:00:37.752Z"
   },
   {
    "duration": 21,
    "start_time": "2023-02-27T07:01:07.742Z"
   },
   {
    "duration": 5,
    "start_time": "2023-02-27T07:01:09.214Z"
   },
   {
    "duration": 7,
    "start_time": "2023-02-27T07:01:45.605Z"
   },
   {
    "duration": 258,
    "start_time": "2023-02-27T07:02:16.946Z"
   },
   {
    "duration": 9,
    "start_time": "2023-02-27T07:03:45.136Z"
   },
   {
    "duration": 16,
    "start_time": "2023-02-27T07:03:50.828Z"
   },
   {
    "duration": 4,
    "start_time": "2023-02-27T07:04:04.457Z"
   },
   {
    "duration": 24,
    "start_time": "2023-02-27T07:04:09.861Z"
   },
   {
    "duration": 1674,
    "start_time": "2023-02-27T07:04:21.633Z"
   },
   {
    "duration": 70,
    "start_time": "2023-02-27T07:04:23.308Z"
   },
   {
    "duration": 26,
    "start_time": "2023-02-27T07:04:23.379Z"
   },
   {
    "duration": 15,
    "start_time": "2023-02-27T07:04:23.407Z"
   },
   {
    "duration": 26,
    "start_time": "2023-02-27T07:04:23.425Z"
   },
   {
    "duration": 57,
    "start_time": "2023-02-27T07:04:23.453Z"
   },
   {
    "duration": 55,
    "start_time": "2023-02-27T07:04:23.512Z"
   },
   {
    "duration": 14,
    "start_time": "2023-02-27T07:04:23.569Z"
   },
   {
    "duration": 45,
    "start_time": "2023-02-27T07:04:23.584Z"
   },
   {
    "duration": 29,
    "start_time": "2023-02-27T07:04:23.631Z"
   },
   {
    "duration": 40,
    "start_time": "2023-02-27T07:04:23.662Z"
   },
   {
    "duration": 55,
    "start_time": "2023-02-27T07:04:23.704Z"
   },
   {
    "duration": 162,
    "start_time": "2023-02-27T07:04:23.761Z"
   },
   {
    "duration": 388,
    "start_time": "2023-02-27T07:04:23.926Z"
   },
   {
    "duration": 72,
    "start_time": "2023-02-27T07:04:24.316Z"
   },
   {
    "duration": 51,
    "start_time": "2023-02-27T07:04:24.390Z"
   },
   {
    "duration": 183,
    "start_time": "2023-02-27T07:04:24.443Z"
   },
   {
    "duration": 54,
    "start_time": "2023-02-27T07:04:24.628Z"
   },
   {
    "duration": 286,
    "start_time": "2023-02-27T07:04:24.685Z"
   },
   {
    "duration": 11,
    "start_time": "2023-02-27T07:04:24.973Z"
   },
   {
    "duration": 253,
    "start_time": "2023-02-27T07:04:24.986Z"
   },
   {
    "duration": 154,
    "start_time": "2023-02-27T07:04:25.242Z"
   },
   {
    "duration": 13,
    "start_time": "2023-02-27T07:04:25.398Z"
   },
   {
    "duration": 67,
    "start_time": "2023-02-27T07:04:25.414Z"
   },
   {
    "duration": 107,
    "start_time": "2023-02-27T07:04:25.484Z"
   },
   {
    "duration": 145,
    "start_time": "2023-02-27T07:04:25.593Z"
   },
   {
    "duration": 72,
    "start_time": "2023-02-27T07:04:25.740Z"
   },
   {
    "duration": 31,
    "start_time": "2023-02-27T07:04:25.813Z"
   },
   {
    "duration": 10608,
    "start_time": "2023-02-27T07:04:25.846Z"
   },
   {
    "duration": 96,
    "start_time": "2023-02-27T07:04:36.457Z"
   },
   {
    "duration": 184,
    "start_time": "2023-02-27T07:04:36.555Z"
   },
   {
    "duration": 636,
    "start_time": "2023-02-27T07:04:36.742Z"
   },
   {
    "duration": 205,
    "start_time": "2023-02-27T07:04:37.380Z"
   },
   {
    "duration": 61,
    "start_time": "2023-02-27T07:04:37.587Z"
   },
   {
    "duration": 27,
    "start_time": "2023-02-27T07:04:37.650Z"
   },
   {
    "duration": 127,
    "start_time": "2023-02-27T07:04:37.679Z"
   },
   {
    "duration": 3,
    "start_time": "2023-02-27T07:04:37.808Z"
   },
   {
    "duration": 31,
    "start_time": "2023-02-27T07:04:37.812Z"
   },
   {
    "duration": 226,
    "start_time": "2023-02-27T07:04:37.845Z"
   },
   {
    "duration": 85,
    "start_time": "2023-02-27T07:04:38.073Z"
   },
   {
    "duration": 19,
    "start_time": "2023-02-27T07:04:38.164Z"
   },
   {
    "duration": 1804,
    "start_time": "2023-02-27T07:04:38.185Z"
   },
   {
    "duration": 78,
    "start_time": "2023-02-27T07:04:39.991Z"
   },
   {
    "duration": 14,
    "start_time": "2023-02-27T07:04:40.071Z"
   },
   {
    "duration": 254,
    "start_time": "2023-02-27T07:04:40.087Z"
   },
   {
    "duration": 48,
    "start_time": "2023-02-27T07:04:40.343Z"
   },
   {
    "duration": 328,
    "start_time": "2023-02-27T07:04:40.393Z"
   },
   {
    "duration": 370,
    "start_time": "2023-02-27T07:04:40.722Z"
   },
   {
    "duration": 5,
    "start_time": "2023-02-27T07:04:41.094Z"
   },
   {
    "duration": 139,
    "start_time": "2023-02-27T07:04:41.101Z"
   },
   {
    "duration": 287,
    "start_time": "2023-02-27T07:04:41.242Z"
   },
   {
    "duration": 6,
    "start_time": "2023-02-27T07:09:30.020Z"
   },
   {
    "duration": 1632,
    "start_time": "2023-02-27T21:49:24.513Z"
   },
   {
    "duration": 281,
    "start_time": "2023-02-27T21:49:26.147Z"
   },
   {
    "duration": 25,
    "start_time": "2023-02-27T21:49:26.431Z"
   },
   {
    "duration": 4,
    "start_time": "2023-02-27T21:49:26.458Z"
   },
   {
    "duration": 26,
    "start_time": "2023-02-27T21:49:26.465Z"
   },
   {
    "duration": 18,
    "start_time": "2023-02-27T21:49:26.493Z"
   },
   {
    "duration": 16,
    "start_time": "2023-02-27T21:49:26.513Z"
   },
   {
    "duration": 19,
    "start_time": "2023-02-27T21:49:26.531Z"
   },
   {
    "duration": 52,
    "start_time": "2023-02-27T21:49:26.552Z"
   },
   {
    "duration": 18,
    "start_time": "2023-02-27T21:49:26.609Z"
   },
   {
    "duration": 14,
    "start_time": "2023-02-27T21:49:26.629Z"
   },
   {
    "duration": 50,
    "start_time": "2023-02-27T21:49:26.645Z"
   },
   {
    "duration": 211,
    "start_time": "2023-02-27T21:49:26.697Z"
   },
   {
    "duration": 352,
    "start_time": "2023-02-27T21:49:26.909Z"
   },
   {
    "duration": 59,
    "start_time": "2023-02-27T21:49:27.263Z"
   },
   {
    "duration": 34,
    "start_time": "2023-02-27T21:49:27.324Z"
   },
   {
    "duration": 167,
    "start_time": "2023-02-27T21:49:27.359Z"
   },
   {
    "duration": 36,
    "start_time": "2023-02-27T21:49:27.528Z"
   },
   {
    "duration": 228,
    "start_time": "2023-02-27T21:49:27.566Z"
   },
   {
    "duration": 8,
    "start_time": "2023-02-27T21:49:27.796Z"
   },
   {
    "duration": 229,
    "start_time": "2023-02-27T21:49:27.805Z"
   },
   {
    "duration": 136,
    "start_time": "2023-02-27T21:49:28.036Z"
   },
   {
    "duration": 18,
    "start_time": "2023-02-27T21:49:28.174Z"
   },
   {
    "duration": 33,
    "start_time": "2023-02-27T21:49:28.193Z"
   },
   {
    "duration": 72,
    "start_time": "2023-02-27T21:49:28.228Z"
   },
   {
    "duration": 36,
    "start_time": "2023-02-27T21:49:28.301Z"
   },
   {
    "duration": 81,
    "start_time": "2023-02-27T21:49:28.339Z"
   },
   {
    "duration": 10,
    "start_time": "2023-02-27T21:49:28.423Z"
   },
   {
    "duration": 9902,
    "start_time": "2023-02-27T21:49:28.434Z"
   },
   {
    "duration": 71,
    "start_time": "2023-02-27T21:49:38.339Z"
   },
   {
    "duration": 451,
    "start_time": "2023-02-27T21:49:38.412Z"
   },
   {
    "duration": 571,
    "start_time": "2023-02-27T21:49:38.865Z"
   },
   {
    "duration": 207,
    "start_time": "2023-02-27T21:49:39.438Z"
   },
   {
    "duration": 70,
    "start_time": "2023-02-27T21:49:39.647Z"
   },
   {
    "duration": 27,
    "start_time": "2023-02-27T21:49:39.719Z"
   },
   {
    "duration": 149,
    "start_time": "2023-02-27T21:49:39.748Z"
   },
   {
    "duration": 3,
    "start_time": "2023-02-27T21:49:39.899Z"
   },
   {
    "duration": 36,
    "start_time": "2023-02-27T21:49:39.904Z"
   },
   {
    "duration": 205,
    "start_time": "2023-02-27T21:49:39.942Z"
   },
   {
    "duration": 67,
    "start_time": "2023-02-27T21:49:40.149Z"
   },
   {
    "duration": 11,
    "start_time": "2023-02-27T21:49:40.217Z"
   },
   {
    "duration": 1710,
    "start_time": "2023-02-27T21:49:40.229Z"
   },
   {
    "duration": 78,
    "start_time": "2023-02-27T21:49:41.940Z"
   },
   {
    "duration": 13,
    "start_time": "2023-02-27T21:49:42.019Z"
   },
   {
    "duration": 234,
    "start_time": "2023-02-27T21:49:42.033Z"
   },
   {
    "duration": 61,
    "start_time": "2023-02-27T21:49:42.269Z"
   },
   {
    "duration": 122,
    "start_time": "2023-02-27T21:49:42.333Z"
   },
   {
    "duration": 358,
    "start_time": "2023-02-27T21:49:42.456Z"
   },
   {
    "duration": 5,
    "start_time": "2023-02-27T21:49:42.815Z"
   },
   {
    "duration": 345,
    "start_time": "2023-02-27T21:49:42.821Z"
   },
   {
    "duration": 253,
    "start_time": "2023-02-27T21:49:43.168Z"
   },
   {
    "duration": 23,
    "start_time": "2023-02-27T21:51:35.674Z"
   },
   {
    "duration": 14,
    "start_time": "2023-02-27T21:52:04.725Z"
   },
   {
    "duration": 16,
    "start_time": "2023-02-27T21:52:38.946Z"
   },
   {
    "duration": 9,
    "start_time": "2023-02-27T21:53:47.274Z"
   },
   {
    "duration": 16,
    "start_time": "2023-02-27T21:54:02.948Z"
   },
   {
    "duration": 170,
    "start_time": "2023-02-27T21:54:06.470Z"
   },
   {
    "duration": 8,
    "start_time": "2023-02-27T21:54:31.521Z"
   },
   {
    "duration": 20,
    "start_time": "2023-02-27T21:54:35.690Z"
   },
   {
    "duration": 8,
    "start_time": "2023-02-27T21:54:38.425Z"
   },
   {
    "duration": 11,
    "start_time": "2023-02-27T21:55:50.078Z"
   },
   {
    "duration": 11,
    "start_time": "2023-02-27T21:55:55.670Z"
   },
   {
    "duration": 19,
    "start_time": "2023-02-27T21:56:47.579Z"
   },
   {
    "duration": 8,
    "start_time": "2023-02-27T21:56:51.762Z"
   },
   {
    "duration": 12,
    "start_time": "2023-02-27T22:00:46.041Z"
   },
   {
    "duration": 9,
    "start_time": "2023-02-27T22:03:33.760Z"
   },
   {
    "duration": 1759,
    "start_time": "2023-02-28T05:48:06.192Z"
   },
   {
    "duration": 122,
    "start_time": "2023-02-28T05:48:07.953Z"
   },
   {
    "duration": 20,
    "start_time": "2023-02-28T05:48:08.077Z"
   },
   {
    "duration": 4,
    "start_time": "2023-02-28T05:48:08.098Z"
   },
   {
    "duration": 15,
    "start_time": "2023-02-28T05:48:08.104Z"
   },
   {
    "duration": 13,
    "start_time": "2023-02-28T05:48:08.122Z"
   },
   {
    "duration": 15,
    "start_time": "2023-02-28T05:48:08.137Z"
   },
   {
    "duration": 13,
    "start_time": "2023-02-28T05:48:08.154Z"
   },
   {
    "duration": 50,
    "start_time": "2023-02-28T05:48:08.168Z"
   },
   {
    "duration": 20,
    "start_time": "2023-02-28T05:48:08.220Z"
   },
   {
    "duration": 17,
    "start_time": "2023-02-28T05:48:08.242Z"
   },
   {
    "duration": 49,
    "start_time": "2023-02-28T05:48:08.261Z"
   },
   {
    "duration": 168,
    "start_time": "2023-02-28T05:48:08.312Z"
   },
   {
    "duration": 407,
    "start_time": "2023-02-28T05:48:08.483Z"
   },
   {
    "duration": 91,
    "start_time": "2023-02-28T05:48:08.892Z"
   },
   {
    "duration": 50,
    "start_time": "2023-02-28T05:48:08.985Z"
   },
   {
    "duration": 194,
    "start_time": "2023-02-28T05:48:09.037Z"
   },
   {
    "duration": 47,
    "start_time": "2023-02-28T05:48:09.233Z"
   },
   {
    "duration": 279,
    "start_time": "2023-02-28T05:48:09.282Z"
   },
   {
    "duration": 15,
    "start_time": "2023-02-28T05:48:09.562Z"
   },
   {
    "duration": 264,
    "start_time": "2023-02-28T05:48:09.579Z"
   },
   {
    "duration": 163,
    "start_time": "2023-02-28T05:48:09.845Z"
   },
   {
    "duration": 10,
    "start_time": "2023-02-28T05:48:10.010Z"
   },
   {
    "duration": 45,
    "start_time": "2023-02-28T05:48:10.022Z"
   },
   {
    "duration": 83,
    "start_time": "2023-02-28T05:48:10.068Z"
   },
   {
    "duration": 131,
    "start_time": "2023-02-28T05:48:10.153Z"
   },
   {
    "duration": 74,
    "start_time": "2023-02-28T05:48:10.286Z"
   },
   {
    "duration": 10,
    "start_time": "2023-02-28T05:48:10.361Z"
   },
   {
    "duration": 9824,
    "start_time": "2023-02-28T05:48:10.373Z"
   },
   {
    "duration": 29,
    "start_time": "2023-02-28T05:48:20.204Z"
   },
   {
    "duration": 115,
    "start_time": "2023-02-28T05:48:20.235Z"
   },
   {
    "duration": 583,
    "start_time": "2023-02-28T05:48:20.403Z"
   },
   {
    "duration": 177,
    "start_time": "2023-02-28T05:48:20.987Z"
   },
   {
    "duration": 58,
    "start_time": "2023-02-28T05:48:21.166Z"
   },
   {
    "duration": 29,
    "start_time": "2023-02-28T05:48:21.225Z"
   },
   {
    "duration": 108,
    "start_time": "2023-02-28T05:48:21.256Z"
   },
   {
    "duration": 2,
    "start_time": "2023-02-28T05:48:21.366Z"
   },
   {
    "duration": 14,
    "start_time": "2023-02-28T05:48:21.369Z"
   },
   {
    "duration": 204,
    "start_time": "2023-02-28T05:48:21.385Z"
   },
   {
    "duration": 54,
    "start_time": "2023-02-28T05:48:21.590Z"
   },
   {
    "duration": 12,
    "start_time": "2023-02-28T05:48:21.648Z"
   },
   {
    "duration": 1587,
    "start_time": "2023-02-28T05:48:21.662Z"
   },
   {
    "duration": 90,
    "start_time": "2023-02-28T05:48:23.251Z"
   },
   {
    "duration": 15,
    "start_time": "2023-02-28T05:48:23.343Z"
   },
   {
    "duration": 243,
    "start_time": "2023-02-28T05:48:23.360Z"
   },
   {
    "duration": 52,
    "start_time": "2023-02-28T05:48:23.605Z"
   },
   {
    "duration": 335,
    "start_time": "2023-02-28T05:48:23.658Z"
   },
   {
    "duration": 409,
    "start_time": "2023-02-28T05:48:23.994Z"
   },
   {
    "duration": 5,
    "start_time": "2023-02-28T05:48:24.404Z"
   },
   {
    "duration": 108,
    "start_time": "2023-02-28T05:48:24.410Z"
   },
   {
    "duration": 250,
    "start_time": "2023-02-28T05:48:24.520Z"
   },
   {
    "duration": 18,
    "start_time": "2023-02-28T05:49:06.224Z"
   },
   {
    "duration": 17,
    "start_time": "2023-02-28T05:49:14.331Z"
   },
   {
    "duration": 21,
    "start_time": "2023-02-28T05:49:19.577Z"
   },
   {
    "duration": 16,
    "start_time": "2023-02-28T05:49:22.874Z"
   },
   {
    "duration": 17,
    "start_time": "2023-02-28T05:49:26.173Z"
   },
   {
    "duration": 17,
    "start_time": "2023-02-28T05:49:29.744Z"
   },
   {
    "duration": 16,
    "start_time": "2023-02-28T05:49:32.928Z"
   },
   {
    "duration": 1391,
    "start_time": "2023-02-28T05:49:40.165Z"
   },
   {
    "duration": 57,
    "start_time": "2023-02-28T05:49:41.558Z"
   },
   {
    "duration": 19,
    "start_time": "2023-02-28T05:49:41.617Z"
   },
   {
    "duration": 4,
    "start_time": "2023-02-28T05:49:41.637Z"
   },
   {
    "duration": 21,
    "start_time": "2023-02-28T05:49:41.643Z"
   },
   {
    "duration": 15,
    "start_time": "2023-02-28T05:49:41.666Z"
   },
   {
    "duration": 31,
    "start_time": "2023-02-28T05:49:41.682Z"
   },
   {
    "duration": 12,
    "start_time": "2023-02-28T05:49:41.715Z"
   },
   {
    "duration": 19,
    "start_time": "2023-02-28T05:49:41.729Z"
   },
   {
    "duration": 17,
    "start_time": "2023-02-28T05:49:41.750Z"
   },
   {
    "duration": 9,
    "start_time": "2023-02-28T05:49:41.769Z"
   },
   {
    "duration": 34,
    "start_time": "2023-02-28T05:49:41.803Z"
   },
   {
    "duration": 165,
    "start_time": "2023-02-28T05:49:41.839Z"
   },
   {
    "duration": 346,
    "start_time": "2023-02-28T05:49:42.006Z"
   },
   {
    "duration": 63,
    "start_time": "2023-02-28T05:49:42.354Z"
   },
   {
    "duration": 36,
    "start_time": "2023-02-28T05:49:42.418Z"
   },
   {
    "duration": 165,
    "start_time": "2023-02-28T05:49:42.456Z"
   },
   {
    "duration": 37,
    "start_time": "2023-02-28T05:49:42.622Z"
   },
   {
    "duration": 248,
    "start_time": "2023-02-28T05:49:42.661Z"
   },
   {
    "duration": 9,
    "start_time": "2023-02-28T05:49:42.911Z"
   },
   {
    "duration": 239,
    "start_time": "2023-02-28T05:49:42.922Z"
   },
   {
    "duration": 149,
    "start_time": "2023-02-28T05:49:43.164Z"
   },
   {
    "duration": 9,
    "start_time": "2023-02-28T05:49:43.315Z"
   },
   {
    "duration": 37,
    "start_time": "2023-02-28T05:49:43.325Z"
   },
   {
    "duration": 94,
    "start_time": "2023-02-28T05:49:43.363Z"
   },
   {
    "duration": 132,
    "start_time": "2023-02-28T05:49:43.458Z"
   },
   {
    "duration": 78,
    "start_time": "2023-02-28T05:49:43.592Z"
   },
   {
    "duration": 11,
    "start_time": "2023-02-28T05:49:43.671Z"
   },
   {
    "duration": 9669,
    "start_time": "2023-02-28T05:49:43.684Z"
   },
   {
    "duration": 64,
    "start_time": "2023-02-28T05:49:53.354Z"
   },
   {
    "duration": 118,
    "start_time": "2023-02-28T05:49:53.419Z"
   },
   {
    "duration": 620,
    "start_time": "2023-02-28T05:49:53.538Z"
   },
   {
    "duration": 210,
    "start_time": "2023-02-28T05:49:54.160Z"
   },
   {
    "duration": 60,
    "start_time": "2023-02-28T05:49:54.372Z"
   },
   {
    "duration": 24,
    "start_time": "2023-02-28T05:49:54.434Z"
   },
   {
    "duration": 109,
    "start_time": "2023-02-28T05:49:54.460Z"
   },
   {
    "duration": 2,
    "start_time": "2023-02-28T05:49:54.571Z"
   },
   {
    "duration": 14,
    "start_time": "2023-02-28T05:49:54.574Z"
   },
   {
    "duration": 194,
    "start_time": "2023-02-28T05:49:54.604Z"
   },
   {
    "duration": 49,
    "start_time": "2023-02-28T05:49:54.800Z"
   },
   {
    "duration": 12,
    "start_time": "2023-02-28T05:49:54.852Z"
   },
   {
    "duration": 1559,
    "start_time": "2023-02-28T05:49:54.866Z"
   },
   {
    "duration": 38,
    "start_time": "2023-02-28T05:49:56.426Z"
   },
   {
    "duration": 51,
    "start_time": "2023-02-28T05:49:56.465Z"
   },
   {
    "duration": 202,
    "start_time": "2023-02-28T05:49:56.518Z"
   },
   {
    "duration": 45,
    "start_time": "2023-02-28T05:49:56.721Z"
   },
   {
    "duration": 308,
    "start_time": "2023-02-28T05:49:56.768Z"
   },
   {
    "duration": 352,
    "start_time": "2023-02-28T05:49:57.078Z"
   },
   {
    "duration": 5,
    "start_time": "2023-02-28T05:49:57.431Z"
   },
   {
    "duration": 115,
    "start_time": "2023-02-28T05:49:57.437Z"
   },
   {
    "duration": 246,
    "start_time": "2023-02-28T05:49:57.553Z"
   },
   {
    "duration": 19,
    "start_time": "2023-02-28T05:55:10.631Z"
   },
   {
    "duration": 15,
    "start_time": "2023-02-28T05:58:06.209Z"
   },
   {
    "duration": 311,
    "start_time": "2023-02-28T05:59:20.965Z"
   },
   {
    "duration": 178,
    "start_time": "2023-02-28T05:59:39.464Z"
   },
   {
    "duration": 182,
    "start_time": "2023-02-28T06:00:02.065Z"
   },
   {
    "duration": 298,
    "start_time": "2023-02-28T06:00:13.429Z"
   },
   {
    "duration": 10,
    "start_time": "2023-02-28T06:00:23.815Z"
   },
   {
    "duration": 298,
    "start_time": "2023-02-28T06:00:51.321Z"
   },
   {
    "duration": 18,
    "start_time": "2023-02-28T06:01:03.139Z"
   },
   {
    "duration": 17,
    "start_time": "2023-02-28T06:01:22.955Z"
   },
   {
    "duration": 200,
    "start_time": "2023-02-28T06:01:28.009Z"
   },
   {
    "duration": 23,
    "start_time": "2023-02-28T06:01:42.989Z"
   },
   {
    "duration": 206,
    "start_time": "2023-02-28T06:01:49.684Z"
   },
   {
    "duration": 154,
    "start_time": "2023-02-28T06:02:05.852Z"
   },
   {
    "duration": 168,
    "start_time": "2023-02-28T06:02:09.697Z"
   },
   {
    "duration": 205,
    "start_time": "2023-02-28T06:02:17.050Z"
   },
   {
    "duration": 189,
    "start_time": "2023-02-28T06:02:26.033Z"
   },
   {
    "duration": 199,
    "start_time": "2023-02-28T06:03:10.519Z"
   },
   {
    "duration": 9,
    "start_time": "2023-02-28T06:09:35.383Z"
   },
   {
    "duration": 23,
    "start_time": "2023-02-28T06:09:42.238Z"
   },
   {
    "duration": 17,
    "start_time": "2023-02-28T06:12:00.450Z"
   },
   {
    "duration": 16,
    "start_time": "2023-02-28T06:12:37.340Z"
   },
   {
    "duration": 19,
    "start_time": "2023-02-28T06:15:17.013Z"
   },
   {
    "duration": 30,
    "start_time": "2023-02-28T06:15:22.292Z"
   },
   {
    "duration": 23,
    "start_time": "2023-02-28T06:17:01.170Z"
   },
   {
    "duration": 22,
    "start_time": "2023-02-28T06:17:11.194Z"
   },
   {
    "duration": 24,
    "start_time": "2023-02-28T06:17:22.090Z"
   },
   {
    "duration": 22,
    "start_time": "2023-02-28T06:17:28.881Z"
   },
   {
    "duration": 68,
    "start_time": "2023-02-28T06:17:45.572Z"
   },
   {
    "duration": 79,
    "start_time": "2023-02-28T06:29:31.893Z"
   },
   {
    "duration": 66,
    "start_time": "2023-02-28T06:29:38.174Z"
   },
   {
    "duration": 73,
    "start_time": "2023-02-28T06:29:44.837Z"
   },
   {
    "duration": 3100,
    "start_time": "2023-02-28T18:35:32.536Z"
   },
   {
    "duration": 68,
    "start_time": "2023-02-28T18:35:35.639Z"
   },
   {
    "duration": 46,
    "start_time": "2023-02-28T18:35:35.708Z"
   },
   {
    "duration": 4,
    "start_time": "2023-02-28T18:35:35.757Z"
   },
   {
    "duration": 27,
    "start_time": "2023-02-28T18:35:35.763Z"
   },
   {
    "duration": 16,
    "start_time": "2023-02-28T18:35:35.838Z"
   },
   {
    "duration": 22,
    "start_time": "2023-02-28T18:35:35.856Z"
   },
   {
    "duration": 71,
    "start_time": "2023-02-28T18:35:35.880Z"
   },
   {
    "duration": 93,
    "start_time": "2023-02-28T18:35:35.953Z"
   },
   {
    "duration": 91,
    "start_time": "2023-02-28T18:35:36.051Z"
   },
   {
    "duration": 7,
    "start_time": "2023-02-28T18:35:36.144Z"
   },
   {
    "duration": 106,
    "start_time": "2023-02-28T18:35:36.153Z"
   },
   {
    "duration": 378,
    "start_time": "2023-02-28T18:35:36.261Z"
   },
   {
    "duration": 812,
    "start_time": "2023-02-28T18:35:36.641Z"
   },
   {
    "duration": 115,
    "start_time": "2023-02-28T18:35:37.455Z"
   },
   {
    "duration": 103,
    "start_time": "2023-02-28T18:35:37.572Z"
   },
   {
    "duration": 393,
    "start_time": "2023-02-28T18:35:37.677Z"
   },
   {
    "duration": 98,
    "start_time": "2023-02-28T18:35:38.072Z"
   },
   {
    "duration": 670,
    "start_time": "2023-02-28T18:35:38.172Z"
   },
   {
    "duration": 10,
    "start_time": "2023-02-28T18:35:38.844Z"
   },
   {
    "duration": 404,
    "start_time": "2023-02-28T18:35:38.855Z"
   },
   {
    "duration": 494,
    "start_time": "2023-02-28T18:35:39.262Z"
   },
   {
    "duration": 298,
    "start_time": "2023-02-28T18:35:39.758Z"
   },
   {
    "duration": 12,
    "start_time": "2023-02-28T18:35:40.058Z"
   },
   {
    "duration": 98,
    "start_time": "2023-02-28T18:35:40.072Z"
   },
   {
    "duration": 81,
    "start_time": "2023-02-28T18:35:40.171Z"
   },
   {
    "duration": 123,
    "start_time": "2023-02-28T18:35:40.254Z"
   },
   {
    "duration": 306,
    "start_time": "2023-02-28T18:35:40.436Z"
   },
   {
    "duration": 496,
    "start_time": "2023-02-28T18:35:40.743Z"
   },
   {
    "duration": 0,
    "start_time": "2023-02-28T18:35:41.240Z"
   },
   {
    "duration": 0,
    "start_time": "2023-02-28T18:35:41.242Z"
   },
   {
    "duration": 0,
    "start_time": "2023-02-28T18:35:41.243Z"
   },
   {
    "duration": 0,
    "start_time": "2023-02-28T18:35:41.244Z"
   },
   {
    "duration": 0,
    "start_time": "2023-02-28T18:35:41.245Z"
   },
   {
    "duration": 0,
    "start_time": "2023-02-28T18:35:41.246Z"
   },
   {
    "duration": 0,
    "start_time": "2023-02-28T18:35:41.247Z"
   },
   {
    "duration": 0,
    "start_time": "2023-02-28T18:35:41.248Z"
   },
   {
    "duration": 0,
    "start_time": "2023-02-28T18:35:41.250Z"
   },
   {
    "duration": 0,
    "start_time": "2023-02-28T18:35:41.251Z"
   },
   {
    "duration": 0,
    "start_time": "2023-02-28T18:35:41.252Z"
   },
   {
    "duration": 0,
    "start_time": "2023-02-28T18:35:41.253Z"
   },
   {
    "duration": 0,
    "start_time": "2023-02-28T18:35:41.254Z"
   },
   {
    "duration": 0,
    "start_time": "2023-02-28T18:35:41.255Z"
   },
   {
    "duration": 0,
    "start_time": "2023-02-28T18:35:41.256Z"
   },
   {
    "duration": 0,
    "start_time": "2023-02-28T18:35:41.257Z"
   },
   {
    "duration": 0,
    "start_time": "2023-02-28T18:35:41.258Z"
   },
   {
    "duration": 0,
    "start_time": "2023-02-28T18:35:41.259Z"
   },
   {
    "duration": 0,
    "start_time": "2023-02-28T18:35:41.260Z"
   },
   {
    "duration": 0,
    "start_time": "2023-02-28T18:35:41.260Z"
   },
   {
    "duration": 0,
    "start_time": "2023-02-28T18:35:41.261Z"
   },
   {
    "duration": 0,
    "start_time": "2023-02-28T18:35:41.262Z"
   },
   {
    "duration": 0,
    "start_time": "2023-02-28T18:35:41.263Z"
   },
   {
    "duration": 0,
    "start_time": "2023-02-28T18:35:41.264Z"
   },
   {
    "duration": 85,
    "start_time": "2023-02-28T18:36:50.572Z"
   },
   {
    "duration": 74,
    "start_time": "2023-02-28T18:38:08.320Z"
   },
   {
    "duration": 71,
    "start_time": "2023-02-28T18:38:23.476Z"
   },
   {
    "duration": 68,
    "start_time": "2023-02-28T18:38:58.290Z"
   }
  ],
  "kernelspec": {
   "display_name": "Python 3 (ipykernel)",
   "language": "python",
   "name": "python3"
  },
  "language_info": {
   "codemirror_mode": {
    "name": "ipython",
    "version": 3
   },
   "file_extension": ".py",
   "mimetype": "text/x-python",
   "name": "python",
   "nbconvert_exporter": "python",
   "pygments_lexer": "ipython3",
   "version": "3.9.13"
  },
  "toc": {
   "base_numbering": 1,
   "nav_menu": {},
   "number_sections": true,
   "sideBar": true,
   "skip_h1_title": true,
   "title_cell": "Table of Contents",
   "title_sidebar": "Contents",
   "toc_cell": false,
   "toc_position": {},
   "toc_section_display": true,
   "toc_window_display": false
  }
 },
 "nbformat": 4,
 "nbformat_minor": 5
}
