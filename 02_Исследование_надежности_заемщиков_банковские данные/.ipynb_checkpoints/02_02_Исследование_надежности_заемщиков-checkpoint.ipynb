{
 "cells": [
  {
   "cell_type": "markdown",
   "id": "f37211e2",
   "metadata": {
    "deletable": false,
    "editable": false,
    "id": "c81daeeb"
   },
   "source": [
    "# Исследование надежности заемщиков\n"
   ]
  },
  {
   "cell_type": "markdown",
   "id": "1845d0bd",
   "metadata": {
    "deletable": false,
    "editable": false,
    "id": "827c20bf"
   },
   "source": [
    "Во второй части проекта вы выполните шаги 3 и 4. Их вручную проверит ревьюер.\n",
    "Чтобы вам не пришлось писать код заново для шагов 1 и 2, мы добавили авторские решения в ячейки с кодом. \n",
    "\n"
   ]
  },
  {
   "cell_type": "markdown",
   "id": "b88227dc",
   "metadata": {
    "deletable": false,
    "editable": false,
    "id": "744d7639"
   },
   "source": [
    "## Откройте таблицу и изучите общую информацию о данных"
   ]
  },
  {
   "cell_type": "markdown",
   "id": "cbcd609b",
   "metadata": {
    "deletable": false,
    "editable": false,
    "id": "e7a14c31"
   },
   "source": [
    "**Задание 1. Импортируйте библиотеку pandas. Считайте данные из csv-файла в датафрейм и сохраните в переменную `data`. Путь к файлу:**\n",
    "\n",
    "`/datasets/data.csv`"
   ]
  },
  {
   "cell_type": "code",
   "execution_count": 1,
   "id": "1dfd6a4a",
   "metadata": {
    "deletable": false,
    "id": "7bcf75c9"
   },
   "outputs": [],
   "source": [
    "import pandas as pd\n",
    "\n",
    "try:\n",
    "    data = pd.read_csv(\n",
    "        '/Users/macbookair/Yandex.Disk.localized/01_Data_analyst/GitHub/DA_yandex_project_datasets/02_data.csv'\n",
    "    )\n",
    "    data_1 = data.copy()\n",
    "except:\n",
    "    data = pd.read_csv('https://code.s3.yandex.net/datasets/data.csv')"
   ]
  },
  {
   "cell_type": "markdown",
   "id": "8316c1ff",
   "metadata": {
    "deletable": false,
    "editable": false,
    "id": "b8038fe3"
   },
   "source": [
    "**Задание 2. Выведите первые 20 строчек датафрейма `data` на экран.**"
   ]
  },
  {
   "cell_type": "code",
   "execution_count": 2,
   "id": "c0ad75b0",
   "metadata": {
    "deletable": false,
    "id": "2a7cab99",
    "outputId": "1a8f3ef2-d323-4ec2-ddf7-89670b5944c4"
   },
   "outputs": [
    {
     "data": {
      "text/html": [
       "<div>\n",
       "<style scoped>\n",
       "    .dataframe tbody tr th:only-of-type {\n",
       "        vertical-align: middle;\n",
       "    }\n",
       "\n",
       "    .dataframe tbody tr th {\n",
       "        vertical-align: top;\n",
       "    }\n",
       "\n",
       "    .dataframe thead th {\n",
       "        text-align: right;\n",
       "    }\n",
       "</style>\n",
       "<table border=\"1\" class=\"dataframe\">\n",
       "  <thead>\n",
       "    <tr style=\"text-align: right;\">\n",
       "      <th></th>\n",
       "      <th>children</th>\n",
       "      <th>days_employed</th>\n",
       "      <th>dob_years</th>\n",
       "      <th>education</th>\n",
       "      <th>education_id</th>\n",
       "      <th>family_status</th>\n",
       "      <th>family_status_id</th>\n",
       "      <th>gender</th>\n",
       "      <th>income_type</th>\n",
       "      <th>debt</th>\n",
       "      <th>total_income</th>\n",
       "      <th>purpose</th>\n",
       "    </tr>\n",
       "  </thead>\n",
       "  <tbody>\n",
       "    <tr>\n",
       "      <th>0</th>\n",
       "      <td>1</td>\n",
       "      <td>-8437.673028</td>\n",
       "      <td>42</td>\n",
       "      <td>высшее</td>\n",
       "      <td>0</td>\n",
       "      <td>женат / замужем</td>\n",
       "      <td>0</td>\n",
       "      <td>F</td>\n",
       "      <td>сотрудник</td>\n",
       "      <td>0</td>\n",
       "      <td>253875.639453</td>\n",
       "      <td>покупка жилья</td>\n",
       "    </tr>\n",
       "    <tr>\n",
       "      <th>1</th>\n",
       "      <td>1</td>\n",
       "      <td>-4024.803754</td>\n",
       "      <td>36</td>\n",
       "      <td>среднее</td>\n",
       "      <td>1</td>\n",
       "      <td>женат / замужем</td>\n",
       "      <td>0</td>\n",
       "      <td>F</td>\n",
       "      <td>сотрудник</td>\n",
       "      <td>0</td>\n",
       "      <td>112080.014102</td>\n",
       "      <td>приобретение автомобиля</td>\n",
       "    </tr>\n",
       "    <tr>\n",
       "      <th>2</th>\n",
       "      <td>0</td>\n",
       "      <td>-5623.422610</td>\n",
       "      <td>33</td>\n",
       "      <td>Среднее</td>\n",
       "      <td>1</td>\n",
       "      <td>женат / замужем</td>\n",
       "      <td>0</td>\n",
       "      <td>M</td>\n",
       "      <td>сотрудник</td>\n",
       "      <td>0</td>\n",
       "      <td>145885.952297</td>\n",
       "      <td>покупка жилья</td>\n",
       "    </tr>\n",
       "    <tr>\n",
       "      <th>3</th>\n",
       "      <td>3</td>\n",
       "      <td>-4124.747207</td>\n",
       "      <td>32</td>\n",
       "      <td>среднее</td>\n",
       "      <td>1</td>\n",
       "      <td>женат / замужем</td>\n",
       "      <td>0</td>\n",
       "      <td>M</td>\n",
       "      <td>сотрудник</td>\n",
       "      <td>0</td>\n",
       "      <td>267628.550329</td>\n",
       "      <td>дополнительное образование</td>\n",
       "    </tr>\n",
       "    <tr>\n",
       "      <th>4</th>\n",
       "      <td>0</td>\n",
       "      <td>340266.072047</td>\n",
       "      <td>53</td>\n",
       "      <td>среднее</td>\n",
       "      <td>1</td>\n",
       "      <td>гражданский брак</td>\n",
       "      <td>1</td>\n",
       "      <td>F</td>\n",
       "      <td>пенсионер</td>\n",
       "      <td>0</td>\n",
       "      <td>158616.077870</td>\n",
       "      <td>сыграть свадьбу</td>\n",
       "    </tr>\n",
       "    <tr>\n",
       "      <th>5</th>\n",
       "      <td>0</td>\n",
       "      <td>-926.185831</td>\n",
       "      <td>27</td>\n",
       "      <td>высшее</td>\n",
       "      <td>0</td>\n",
       "      <td>гражданский брак</td>\n",
       "      <td>1</td>\n",
       "      <td>M</td>\n",
       "      <td>компаньон</td>\n",
       "      <td>0</td>\n",
       "      <td>255763.565419</td>\n",
       "      <td>покупка жилья</td>\n",
       "    </tr>\n",
       "    <tr>\n",
       "      <th>6</th>\n",
       "      <td>0</td>\n",
       "      <td>-2879.202052</td>\n",
       "      <td>43</td>\n",
       "      <td>высшее</td>\n",
       "      <td>0</td>\n",
       "      <td>женат / замужем</td>\n",
       "      <td>0</td>\n",
       "      <td>F</td>\n",
       "      <td>компаньон</td>\n",
       "      <td>0</td>\n",
       "      <td>240525.971920</td>\n",
       "      <td>операции с жильем</td>\n",
       "    </tr>\n",
       "    <tr>\n",
       "      <th>7</th>\n",
       "      <td>0</td>\n",
       "      <td>-152.779569</td>\n",
       "      <td>50</td>\n",
       "      <td>СРЕДНЕЕ</td>\n",
       "      <td>1</td>\n",
       "      <td>женат / замужем</td>\n",
       "      <td>0</td>\n",
       "      <td>M</td>\n",
       "      <td>сотрудник</td>\n",
       "      <td>0</td>\n",
       "      <td>135823.934197</td>\n",
       "      <td>образование</td>\n",
       "    </tr>\n",
       "    <tr>\n",
       "      <th>8</th>\n",
       "      <td>2</td>\n",
       "      <td>-6929.865299</td>\n",
       "      <td>35</td>\n",
       "      <td>ВЫСШЕЕ</td>\n",
       "      <td>0</td>\n",
       "      <td>гражданский брак</td>\n",
       "      <td>1</td>\n",
       "      <td>F</td>\n",
       "      <td>сотрудник</td>\n",
       "      <td>0</td>\n",
       "      <td>95856.832424</td>\n",
       "      <td>на проведение свадьбы</td>\n",
       "    </tr>\n",
       "    <tr>\n",
       "      <th>9</th>\n",
       "      <td>0</td>\n",
       "      <td>-2188.756445</td>\n",
       "      <td>41</td>\n",
       "      <td>среднее</td>\n",
       "      <td>1</td>\n",
       "      <td>женат / замужем</td>\n",
       "      <td>0</td>\n",
       "      <td>M</td>\n",
       "      <td>сотрудник</td>\n",
       "      <td>0</td>\n",
       "      <td>144425.938277</td>\n",
       "      <td>покупка жилья для семьи</td>\n",
       "    </tr>\n",
       "    <tr>\n",
       "      <th>10</th>\n",
       "      <td>2</td>\n",
       "      <td>-4171.483647</td>\n",
       "      <td>36</td>\n",
       "      <td>высшее</td>\n",
       "      <td>0</td>\n",
       "      <td>женат / замужем</td>\n",
       "      <td>0</td>\n",
       "      <td>M</td>\n",
       "      <td>компаньон</td>\n",
       "      <td>0</td>\n",
       "      <td>113943.491460</td>\n",
       "      <td>покупка недвижимости</td>\n",
       "    </tr>\n",
       "    <tr>\n",
       "      <th>11</th>\n",
       "      <td>0</td>\n",
       "      <td>-792.701887</td>\n",
       "      <td>40</td>\n",
       "      <td>среднее</td>\n",
       "      <td>1</td>\n",
       "      <td>женат / замужем</td>\n",
       "      <td>0</td>\n",
       "      <td>F</td>\n",
       "      <td>сотрудник</td>\n",
       "      <td>0</td>\n",
       "      <td>77069.234271</td>\n",
       "      <td>покупка коммерческой недвижимости</td>\n",
       "    </tr>\n",
       "    <tr>\n",
       "      <th>12</th>\n",
       "      <td>0</td>\n",
       "      <td>NaN</td>\n",
       "      <td>65</td>\n",
       "      <td>среднее</td>\n",
       "      <td>1</td>\n",
       "      <td>гражданский брак</td>\n",
       "      <td>1</td>\n",
       "      <td>M</td>\n",
       "      <td>пенсионер</td>\n",
       "      <td>0</td>\n",
       "      <td>NaN</td>\n",
       "      <td>сыграть свадьбу</td>\n",
       "    </tr>\n",
       "    <tr>\n",
       "      <th>13</th>\n",
       "      <td>0</td>\n",
       "      <td>-1846.641941</td>\n",
       "      <td>54</td>\n",
       "      <td>неоконченное высшее</td>\n",
       "      <td>2</td>\n",
       "      <td>женат / замужем</td>\n",
       "      <td>0</td>\n",
       "      <td>F</td>\n",
       "      <td>сотрудник</td>\n",
       "      <td>0</td>\n",
       "      <td>130458.228857</td>\n",
       "      <td>приобретение автомобиля</td>\n",
       "    </tr>\n",
       "    <tr>\n",
       "      <th>14</th>\n",
       "      <td>0</td>\n",
       "      <td>-1844.956182</td>\n",
       "      <td>56</td>\n",
       "      <td>высшее</td>\n",
       "      <td>0</td>\n",
       "      <td>гражданский брак</td>\n",
       "      <td>1</td>\n",
       "      <td>F</td>\n",
       "      <td>компаньон</td>\n",
       "      <td>1</td>\n",
       "      <td>165127.911772</td>\n",
       "      <td>покупка жилой недвижимости</td>\n",
       "    </tr>\n",
       "    <tr>\n",
       "      <th>15</th>\n",
       "      <td>1</td>\n",
       "      <td>-972.364419</td>\n",
       "      <td>26</td>\n",
       "      <td>среднее</td>\n",
       "      <td>1</td>\n",
       "      <td>женат / замужем</td>\n",
       "      <td>0</td>\n",
       "      <td>F</td>\n",
       "      <td>сотрудник</td>\n",
       "      <td>0</td>\n",
       "      <td>116820.904450</td>\n",
       "      <td>строительство собственной недвижимости</td>\n",
       "    </tr>\n",
       "    <tr>\n",
       "      <th>16</th>\n",
       "      <td>0</td>\n",
       "      <td>-1719.934226</td>\n",
       "      <td>35</td>\n",
       "      <td>среднее</td>\n",
       "      <td>1</td>\n",
       "      <td>женат / замужем</td>\n",
       "      <td>0</td>\n",
       "      <td>F</td>\n",
       "      <td>сотрудник</td>\n",
       "      <td>0</td>\n",
       "      <td>289202.704229</td>\n",
       "      <td>недвижимость</td>\n",
       "    </tr>\n",
       "    <tr>\n",
       "      <th>17</th>\n",
       "      <td>0</td>\n",
       "      <td>-2369.999720</td>\n",
       "      <td>33</td>\n",
       "      <td>высшее</td>\n",
       "      <td>0</td>\n",
       "      <td>гражданский брак</td>\n",
       "      <td>1</td>\n",
       "      <td>M</td>\n",
       "      <td>сотрудник</td>\n",
       "      <td>0</td>\n",
       "      <td>90410.586745</td>\n",
       "      <td>строительство недвижимости</td>\n",
       "    </tr>\n",
       "    <tr>\n",
       "      <th>18</th>\n",
       "      <td>0</td>\n",
       "      <td>400281.136913</td>\n",
       "      <td>53</td>\n",
       "      <td>среднее</td>\n",
       "      <td>1</td>\n",
       "      <td>вдовец / вдова</td>\n",
       "      <td>2</td>\n",
       "      <td>F</td>\n",
       "      <td>пенсионер</td>\n",
       "      <td>0</td>\n",
       "      <td>56823.777243</td>\n",
       "      <td>на покупку подержанного автомобиля</td>\n",
       "    </tr>\n",
       "    <tr>\n",
       "      <th>19</th>\n",
       "      <td>0</td>\n",
       "      <td>-10038.818549</td>\n",
       "      <td>48</td>\n",
       "      <td>СРЕДНЕЕ</td>\n",
       "      <td>1</td>\n",
       "      <td>в разводе</td>\n",
       "      <td>3</td>\n",
       "      <td>F</td>\n",
       "      <td>сотрудник</td>\n",
       "      <td>0</td>\n",
       "      <td>242831.107982</td>\n",
       "      <td>на покупку своего автомобиля</td>\n",
       "    </tr>\n",
       "  </tbody>\n",
       "</table>\n",
       "</div>"
      ],
      "text/plain": [
       "    children  days_employed  dob_years            education  education_id  \\\n",
       "0          1   -8437.673028         42               высшее             0   \n",
       "1          1   -4024.803754         36              среднее             1   \n",
       "2          0   -5623.422610         33              Среднее             1   \n",
       "3          3   -4124.747207         32              среднее             1   \n",
       "4          0  340266.072047         53              среднее             1   \n",
       "5          0    -926.185831         27               высшее             0   \n",
       "6          0   -2879.202052         43               высшее             0   \n",
       "7          0    -152.779569         50              СРЕДНЕЕ             1   \n",
       "8          2   -6929.865299         35               ВЫСШЕЕ             0   \n",
       "9          0   -2188.756445         41              среднее             1   \n",
       "10         2   -4171.483647         36               высшее             0   \n",
       "11         0    -792.701887         40              среднее             1   \n",
       "12         0            NaN         65              среднее             1   \n",
       "13         0   -1846.641941         54  неоконченное высшее             2   \n",
       "14         0   -1844.956182         56               высшее             0   \n",
       "15         1    -972.364419         26              среднее             1   \n",
       "16         0   -1719.934226         35              среднее             1   \n",
       "17         0   -2369.999720         33               высшее             0   \n",
       "18         0  400281.136913         53              среднее             1   \n",
       "19         0  -10038.818549         48              СРЕДНЕЕ             1   \n",
       "\n",
       "       family_status  family_status_id gender income_type  debt  \\\n",
       "0    женат / замужем                 0      F   сотрудник     0   \n",
       "1    женат / замужем                 0      F   сотрудник     0   \n",
       "2    женат / замужем                 0      M   сотрудник     0   \n",
       "3    женат / замужем                 0      M   сотрудник     0   \n",
       "4   гражданский брак                 1      F   пенсионер     0   \n",
       "5   гражданский брак                 1      M   компаньон     0   \n",
       "6    женат / замужем                 0      F   компаньон     0   \n",
       "7    женат / замужем                 0      M   сотрудник     0   \n",
       "8   гражданский брак                 1      F   сотрудник     0   \n",
       "9    женат / замужем                 0      M   сотрудник     0   \n",
       "10   женат / замужем                 0      M   компаньон     0   \n",
       "11   женат / замужем                 0      F   сотрудник     0   \n",
       "12  гражданский брак                 1      M   пенсионер     0   \n",
       "13   женат / замужем                 0      F   сотрудник     0   \n",
       "14  гражданский брак                 1      F   компаньон     1   \n",
       "15   женат / замужем                 0      F   сотрудник     0   \n",
       "16   женат / замужем                 0      F   сотрудник     0   \n",
       "17  гражданский брак                 1      M   сотрудник     0   \n",
       "18    вдовец / вдова                 2      F   пенсионер     0   \n",
       "19         в разводе                 3      F   сотрудник     0   \n",
       "\n",
       "     total_income                                 purpose  \n",
       "0   253875.639453                           покупка жилья  \n",
       "1   112080.014102                 приобретение автомобиля  \n",
       "2   145885.952297                           покупка жилья  \n",
       "3   267628.550329              дополнительное образование  \n",
       "4   158616.077870                         сыграть свадьбу  \n",
       "5   255763.565419                           покупка жилья  \n",
       "6   240525.971920                       операции с жильем  \n",
       "7   135823.934197                             образование  \n",
       "8    95856.832424                   на проведение свадьбы  \n",
       "9   144425.938277                 покупка жилья для семьи  \n",
       "10  113943.491460                    покупка недвижимости  \n",
       "11   77069.234271       покупка коммерческой недвижимости  \n",
       "12            NaN                         сыграть свадьбу  \n",
       "13  130458.228857                 приобретение автомобиля  \n",
       "14  165127.911772              покупка жилой недвижимости  \n",
       "15  116820.904450  строительство собственной недвижимости  \n",
       "16  289202.704229                            недвижимость  \n",
       "17   90410.586745              строительство недвижимости  \n",
       "18   56823.777243      на покупку подержанного автомобиля  \n",
       "19  242831.107982            на покупку своего автомобиля  "
      ]
     },
     "execution_count": 2,
     "metadata": {},
     "output_type": "execute_result"
    }
   ],
   "source": [
    "data.head(20)"
   ]
  },
  {
   "cell_type": "markdown",
   "id": "173db8e9",
   "metadata": {
    "deletable": false,
    "editable": false,
    "id": "1c12e233"
   },
   "source": [
    "**Задание 3. Выведите основную информацию о датафрейме с помощью метода `info()`.**"
   ]
  },
  {
   "cell_type": "code",
   "execution_count": 3,
   "id": "bf921ea7",
   "metadata": {
    "deletable": false,
    "id": "2b757bca",
    "outputId": "15376089-8dad-46c9-b520-c05248d43158"
   },
   "outputs": [
    {
     "name": "stdout",
     "output_type": "stream",
     "text": [
      "<class 'pandas.core.frame.DataFrame'>\n",
      "RangeIndex: 21525 entries, 0 to 21524\n",
      "Data columns (total 12 columns):\n",
      " #   Column            Non-Null Count  Dtype  \n",
      "---  ------            --------------  -----  \n",
      " 0   children          21525 non-null  int64  \n",
      " 1   days_employed     19351 non-null  float64\n",
      " 2   dob_years         21525 non-null  int64  \n",
      " 3   education         21525 non-null  object \n",
      " 4   education_id      21525 non-null  int64  \n",
      " 5   family_status     21525 non-null  object \n",
      " 6   family_status_id  21525 non-null  int64  \n",
      " 7   gender            21525 non-null  object \n",
      " 8   income_type       21525 non-null  object \n",
      " 9   debt              21525 non-null  int64  \n",
      " 10  total_income      19351 non-null  float64\n",
      " 11  purpose           21525 non-null  object \n",
      "dtypes: float64(2), int64(5), object(5)\n",
      "memory usage: 2.0+ MB\n"
     ]
    }
   ],
   "source": [
    "data.info()"
   ]
  },
  {
   "cell_type": "markdown",
   "id": "2d0bcdab",
   "metadata": {
    "deletable": false,
    "editable": false,
    "id": "333ec665"
   },
   "source": [
    "## Предобработка данных"
   ]
  },
  {
   "cell_type": "markdown",
   "id": "501a1588",
   "metadata": {
    "deletable": false,
    "editable": false,
    "id": "02d92d53"
   },
   "source": [
    "### Удаление пропусков"
   ]
  },
  {
   "cell_type": "markdown",
   "id": "9caa84ab",
   "metadata": {
    "deletable": false,
    "editable": false,
    "id": "cd84967c"
   },
   "source": [
    "**Задание 4. Выведите количество пропущенных значений для каждого столбца. Используйте комбинацию двух методов.**"
   ]
  },
  {
   "cell_type": "code",
   "execution_count": 4,
   "id": "4ca331fc",
   "metadata": {
    "deletable": false,
    "id": "7f9b2309",
    "outputId": "81f4d817-781c-465c-ed15-91ce4446810d"
   },
   "outputs": [
    {
     "data": {
      "text/plain": [
       "children               0\n",
       "days_employed       2174\n",
       "dob_years              0\n",
       "education              0\n",
       "education_id           0\n",
       "family_status          0\n",
       "family_status_id       0\n",
       "gender                 0\n",
       "income_type            0\n",
       "debt                   0\n",
       "total_income        2174\n",
       "purpose                0\n",
       "dtype: int64"
      ]
     },
     "execution_count": 4,
     "metadata": {},
     "output_type": "execute_result"
    }
   ],
   "source": [
    "data.isna().sum()"
   ]
  },
  {
   "cell_type": "markdown",
   "id": "52b1a3d1",
   "metadata": {
    "deletable": false,
    "editable": false,
    "id": "db86e27b"
   },
   "source": [
    "**Задание 5. В двух столбцах есть пропущенные значения. Один из них — `days_employed`. Пропуски в этом столбце вы обработаете на следующем этапе. Другой столбец с пропущенными значениями — `total_income` — хранит данные о доходах. На сумму дохода сильнее всего влияет тип занятости, поэтому заполнить пропуски в этом столбце нужно медианным значением по каждому типу из столбца `income_type`. Например, у человека с типом занятости `сотрудник` пропуск в столбце `total_income` должен быть заполнен медианным доходом среди всех записей с тем же типом.**"
   ]
  },
  {
   "cell_type": "code",
   "execution_count": 5,
   "id": "b70a2025",
   "metadata": {
    "deletable": false,
    "id": "42006a93"
   },
   "outputs": [],
   "source": [
    "for t in data['income_type'].unique():\n",
    "    data.loc[(data['income_type'] == t) & (data['total_income'].isna()), 'total_income'] = \\\n",
    "    data.loc[(data['income_type'] == t), 'total_income'].median()"
   ]
  },
  {
   "cell_type": "markdown",
   "id": "fc367a37",
   "metadata": {
    "deletable": false,
    "editable": false,
    "id": "89da5ece"
   },
   "source": [
    "### Обработка аномальных значений"
   ]
  },
  {
   "cell_type": "markdown",
   "id": "9c164349",
   "metadata": {
    "deletable": false,
    "editable": false,
    "id": "57964554"
   },
   "source": [
    "**Задание 6. В данных могут встречаться артефакты (аномалии) — значения, которые не отражают действительность и появились по какой-то ошибке. таким артефактом будет отрицательное количество дней трудового стажа в столбце `days_employed`. Для реальных данных это нормально. Обработайте значения в этом столбце: замените все отрицательные значения положительными с помощью метода `abs()`.**"
   ]
  },
  {
   "cell_type": "code",
   "execution_count": 6,
   "id": "b08a050e",
   "metadata": {
    "deletable": false,
    "id": "f6f055bf"
   },
   "outputs": [],
   "source": [
    "data['days_employed'] = data['days_employed'].abs()"
   ]
  },
  {
   "cell_type": "markdown",
   "id": "bda2af21",
   "metadata": {
    "deletable": false,
    "editable": false,
    "id": "6107dd2f"
   },
   "source": [
    "**Задание 7. Для каждого типа занятости выведите медианное значение трудового стажа `days_employed` в днях.**"
   ]
  },
  {
   "cell_type": "code",
   "execution_count": 7,
   "id": "c82bce18",
   "metadata": {
    "deletable": false,
    "id": "85a5faf6",
    "outputId": "801ef80e-522b-4668-f34e-565af7432bcf"
   },
   "outputs": [
    {
     "data": {
      "text/plain": [
       "income_type\n",
       "безработный        366413.652744\n",
       "в декрете            3296.759962\n",
       "госслужащий          2689.368353\n",
       "компаньон            1547.382223\n",
       "пенсионер          365213.306266\n",
       "предприниматель       520.848083\n",
       "сотрудник            1574.202821\n",
       "студент               578.751554\n",
       "Name: days_employed, dtype: float64"
      ]
     },
     "execution_count": 7,
     "metadata": {},
     "output_type": "execute_result"
    }
   ],
   "source": [
    "data.groupby('income_type')['days_employed'].agg('median')"
   ]
  },
  {
   "cell_type": "markdown",
   "id": "3a4e0642",
   "metadata": {
    "deletable": false,
    "editable": false,
    "id": "38d1a030"
   },
   "source": [
    "У двух типов (безработные и пенсионеры) получатся аномально большие значения. Исправить такие значения сложно, поэтому оставьте их как есть. Тем более этот столбец не понадобится вам для исследования."
   ]
  },
  {
   "cell_type": "markdown",
   "id": "7687ee90",
   "metadata": {
    "deletable": false,
    "editable": false,
    "id": "d8a9f147"
   },
   "source": [
    "**Задание 8. Выведите перечень уникальных значений столбца `children`.**"
   ]
  },
  {
   "cell_type": "code",
   "execution_count": 8,
   "id": "df8b85af",
   "metadata": {
    "deletable": false,
    "id": "ef5056eb",
    "outputId": "6975b15c-7f95-4697-d16d-a0c79b657b03"
   },
   "outputs": [
    {
     "data": {
      "text/plain": [
       "array([ 1,  0,  3,  2, -1,  4, 20,  5])"
      ]
     },
     "execution_count": 8,
     "metadata": {},
     "output_type": "execute_result"
    }
   ],
   "source": [
    "data['children'].unique()"
   ]
  },
  {
   "cell_type": "markdown",
   "id": "eb314b65",
   "metadata": {
    "deletable": false,
    "editable": false,
    "id": "40b9ebf2"
   },
   "source": [
    "**Задание 9. В столбце `children` есть два аномальных значения. Удалите строки, в которых встречаются такие аномальные значения из датафрейма `data`.**"
   ]
  },
  {
   "cell_type": "code",
   "execution_count": 9,
   "id": "18399ca0",
   "metadata": {
    "deletable": false,
    "id": "3ff9801d"
   },
   "outputs": [],
   "source": [
    "data = data[(data['children'] != -1) & (data['children'] != 20)]"
   ]
  },
  {
   "cell_type": "markdown",
   "id": "b2f2c091",
   "metadata": {
    "deletable": false,
    "editable": false,
    "id": "bbc4d0ce"
   },
   "source": [
    "**Задание 10. Ещё раз выведите перечень уникальных значений столбца `children`, чтобы убедиться, что артефакты удалены.**"
   ]
  },
  {
   "cell_type": "code",
   "execution_count": 10,
   "id": "86a7515b",
   "metadata": {
    "deletable": false,
    "id": "ad4fa8b7",
    "outputId": "b2097101-d49d-44d9-901b-32a65c9463d1"
   },
   "outputs": [
    {
     "data": {
      "text/plain": [
       "array([1, 0, 3, 2, 4, 5])"
      ]
     },
     "execution_count": 10,
     "metadata": {},
     "output_type": "execute_result"
    }
   ],
   "source": [
    "data['children'].unique()"
   ]
  },
  {
   "cell_type": "markdown",
   "id": "8f16aeba",
   "metadata": {
    "deletable": false,
    "editable": false,
    "id": "75440b63"
   },
   "source": [
    "### Удаление пропусков (продолжение)"
   ]
  },
  {
   "cell_type": "markdown",
   "id": "a452c653",
   "metadata": {
    "deletable": false,
    "editable": false,
    "id": "f4ea573f"
   },
   "source": [
    "**Задание 11. Заполните пропуски в столбце `days_employed` медианными значениями по каждого типа занятости `income_type`.**"
   ]
  },
  {
   "cell_type": "code",
   "execution_count": 11,
   "id": "aa4f8a2b",
   "metadata": {
    "deletable": false,
    "id": "af6b1a7e"
   },
   "outputs": [],
   "source": [
    "for t in data['income_type'].unique():\n",
    "    data.loc[(data['income_type'] == t) & (data['days_employed'].isna()), 'days_employed'] = \\\n",
    "    data.loc[(data['income_type'] == t), 'days_employed'].median()"
   ]
  },
  {
   "cell_type": "markdown",
   "id": "ebd6116d",
   "metadata": {
    "deletable": false,
    "editable": false,
    "id": "2753f40d"
   },
   "source": [
    "**Задание 12. Убедитесь, что все пропуски заполнены. Проверьте себя и ещё раз выведите количество пропущенных значений для каждого столбца с помощью двух методов.**"
   ]
  },
  {
   "cell_type": "code",
   "execution_count": 12,
   "id": "e7d6cf08",
   "metadata": {
    "deletable": false,
    "id": "55f78bc2",
    "outputId": "8da1e4e1-358e-4e87-98c9-f261bce0a7b2"
   },
   "outputs": [
    {
     "data": {
      "text/plain": [
       "children            0\n",
       "days_employed       0\n",
       "dob_years           0\n",
       "education           0\n",
       "education_id        0\n",
       "family_status       0\n",
       "family_status_id    0\n",
       "gender              0\n",
       "income_type         0\n",
       "debt                0\n",
       "total_income        0\n",
       "purpose             0\n",
       "dtype: int64"
      ]
     },
     "execution_count": 12,
     "metadata": {},
     "output_type": "execute_result"
    }
   ],
   "source": [
    "data.isna().sum()"
   ]
  },
  {
   "cell_type": "markdown",
   "id": "b0fac5cd",
   "metadata": {
    "deletable": false,
    "editable": false,
    "id": "ddc81e43"
   },
   "source": [
    "### Изменение типов данных"
   ]
  },
  {
   "cell_type": "markdown",
   "id": "63902119",
   "metadata": {
    "deletable": false,
    "editable": false,
    "id": "42d19d24"
   },
   "source": [
    "**Задание 13. Замените вещественный тип данных в столбце `total_income` на целочисленный с помощью метода `astype()`.**"
   ]
  },
  {
   "cell_type": "code",
   "execution_count": 13,
   "id": "c8883f03",
   "metadata": {
    "deletable": false,
    "id": "920b65ad"
   },
   "outputs": [],
   "source": [
    "data['total_income'] = data['total_income'].astype(int)"
   ]
  },
  {
   "cell_type": "markdown",
   "id": "8a831998",
   "metadata": {
    "deletable": false,
    "editable": false,
    "id": "80c420ba"
   },
   "source": [
    "### Обработка дубликатов"
   ]
  },
  {
   "cell_type": "markdown",
   "id": "0f6d3197",
   "metadata": {
    "deletable": false,
    "editable": false
   },
   "source": [
    "**Задание 14. Обработайте неявные дубликаты в столбце `education`. В этом столбце есть одни и те же значения, но записанные по-разному: с использованием заглавных и строчных букв. Приведите их к нижнему регистру. Проверьте остальные столбцы.**"
   ]
  },
  {
   "cell_type": "code",
   "execution_count": 14,
   "id": "376cd9dc",
   "metadata": {
    "deletable": false
   },
   "outputs": [],
   "source": [
    "data['education'] = data['education'].str.lower()"
   ]
  },
  {
   "cell_type": "markdown",
   "id": "c8792694",
   "metadata": {
    "deletable": false,
    "editable": false,
    "id": "dc587695"
   },
   "source": [
    "**Задание 15. Выведите на экран количество строк-дубликатов в данных. Если такие строки присутствуют, удалите их.**"
   ]
  },
  {
   "cell_type": "code",
   "execution_count": 15,
   "id": "5102622b",
   "metadata": {
    "deletable": false,
    "id": "3ee445e4",
    "outputId": "9684deba-1934-42d1-99e1-cda61740f822"
   },
   "outputs": [
    {
     "data": {
      "text/plain": [
       "71"
      ]
     },
     "execution_count": 15,
     "metadata": {},
     "output_type": "execute_result"
    }
   ],
   "source": [
    "data.duplicated().sum()"
   ]
  },
  {
   "cell_type": "code",
   "execution_count": 16,
   "id": "f7991183",
   "metadata": {
    "deletable": false,
    "id": "8575fe05"
   },
   "outputs": [],
   "source": [
    "data = data.drop_duplicates()"
   ]
  },
  {
   "cell_type": "markdown",
   "id": "e8527bd0",
   "metadata": {
    "deletable": false,
    "editable": false,
    "id": "9904cf55"
   },
   "source": [
    "### Категоризация данных"
   ]
  },
  {
   "cell_type": "markdown",
   "id": "159ded98",
   "metadata": {
    "deletable": false,
    "editable": false,
    "id": "72fcc8a2"
   },
   "source": [
    "**Задание 16. На основании диапазонов, указанных ниже, создайте в датафрейме `data` столбец `total_income_category` с категориями:**\n",
    "\n",
    "- 0–30000 — `'E'`;\n",
    "- 30001–50000 — `'D'`;\n",
    "- 50001–200000 — `'C'`;\n",
    "- 200001–1000000 — `'B'`;\n",
    "- 1000001 и выше — `'A'`.\n",
    "\n",
    "\n",
    "**Например, кредитополучателю с доходом 25000 нужно назначить категорию `'E'`, а клиенту, получающему 235000, — `'B'`. Используйте собственную функцию с именем `categorize_income()` и метод `apply()`.**"
   ]
  },
  {
   "cell_type": "code",
   "execution_count": 17,
   "id": "9c7fd21b",
   "metadata": {
    "deletable": false,
    "id": "e1771346"
   },
   "outputs": [],
   "source": [
    "def categorize_income(income):\n",
    "    try:\n",
    "        if 0 <= income <= 30000:\n",
    "            return 'E'\n",
    "        elif 30001 <= income <= 50000:\n",
    "            return 'D'\n",
    "        elif 50001 <= income <= 200000:\n",
    "            return 'C'\n",
    "        elif 200001 <= income <= 1000000:\n",
    "            return 'B'\n",
    "        elif income >= 1000001:\n",
    "            return 'A'\n",
    "    except:\n",
    "        pass"
   ]
  },
  {
   "cell_type": "code",
   "execution_count": 18,
   "id": "f9e184a7",
   "metadata": {
    "deletable": false,
    "id": "d5f3586d"
   },
   "outputs": [],
   "source": [
    "data['total_income_category'] = data['total_income'].apply(categorize_income)"
   ]
  },
  {
   "cell_type": "markdown",
   "id": "665e59dc",
   "metadata": {
    "deletable": false,
    "editable": false,
    "id": "dde49b5c"
   },
   "source": [
    "**Задание 17. Выведите на экран перечень уникальных целей взятия кредита из столбца `purpose`.**"
   ]
  },
  {
   "cell_type": "code",
   "execution_count": 19,
   "id": "7dc51917",
   "metadata": {
    "deletable": false,
    "id": "f67ce9b3",
    "outputId": "673c12d9-7d7e-4ae0-9812-c622c89dd244"
   },
   "outputs": [
    {
     "data": {
      "text/plain": [
       "array(['покупка жилья', 'приобретение автомобиля',\n",
       "       'дополнительное образование', 'сыграть свадьбу',\n",
       "       'операции с жильем', 'образование', 'на проведение свадьбы',\n",
       "       'покупка жилья для семьи', 'покупка недвижимости',\n",
       "       'покупка коммерческой недвижимости', 'покупка жилой недвижимости',\n",
       "       'строительство собственной недвижимости', 'недвижимость',\n",
       "       'строительство недвижимости', 'на покупку подержанного автомобиля',\n",
       "       'на покупку своего автомобиля',\n",
       "       'операции с коммерческой недвижимостью',\n",
       "       'строительство жилой недвижимости', 'жилье',\n",
       "       'операции со своей недвижимостью', 'автомобили',\n",
       "       'заняться образованием', 'сделка с подержанным автомобилем',\n",
       "       'получение образования', 'автомобиль', 'свадьба',\n",
       "       'получение дополнительного образования', 'покупка своего жилья',\n",
       "       'операции с недвижимостью', 'получение высшего образования',\n",
       "       'свой автомобиль', 'сделка с автомобилем',\n",
       "       'профильное образование', 'высшее образование',\n",
       "       'покупка жилья для сдачи', 'на покупку автомобиля', 'ремонт жилью',\n",
       "       'заняться высшим образованием'], dtype=object)"
      ]
     },
     "execution_count": 19,
     "metadata": {},
     "output_type": "execute_result"
    }
   ],
   "source": [
    "data['purpose'].unique()"
   ]
  },
  {
   "cell_type": "markdown",
   "id": "e1e24107",
   "metadata": {
    "deletable": false,
    "editable": false,
    "id": "85d0aef0"
   },
   "source": [
    "**Задание 18. Создайте функцию, которая на основании данных из столбца `purpose` сформирует новый столбец `purpose_category`, в который войдут следующие категории:**\n",
    "\n",
    "- `'операции с автомобилем'`,\n",
    "- `'операции с недвижимостью'`,\n",
    "- `'проведение свадьбы'`,\n",
    "- `'получение образования'`.\n",
    "\n",
    "**Например, если в столбце `purpose` находится подстрока `'на покупку автомобиля'`, то в столбце `purpose_category` должна появиться строка `'операции с автомобилем'`.**\n",
    "\n",
    "**Используйте собственную функцию с именем `categorize_purpose()` и метод `apply()`. Изучите данные в столбце `purpose` и определите, какие подстроки помогут вам правильно определить категорию.**"
   ]
  },
  {
   "cell_type": "code",
   "execution_count": 20,
   "id": "ae727772",
   "metadata": {
    "deletable": false,
    "id": "e149fab4"
   },
   "outputs": [],
   "source": [
    "def categorize_purpose(row):\n",
    "    try:\n",
    "        if 'автом' in row:\n",
    "            return 'операции с автомобилем'\n",
    "        elif 'жил' in row or 'недвиж' in row:\n",
    "            return 'операции с недвижимостью'\n",
    "        elif 'свад' in row:\n",
    "            return 'проведение свадьбы'\n",
    "        elif 'образов' in row:\n",
    "            return 'получение образования'\n",
    "    except:\n",
    "        return 'нет категории'"
   ]
  },
  {
   "cell_type": "code",
   "execution_count": 21,
   "id": "61021395",
   "metadata": {
    "deletable": false,
    "id": "bf36e69b"
   },
   "outputs": [],
   "source": [
    "data['purpose_category'] = data['purpose'].apply(categorize_purpose)"
   ]
  },
  {
   "cell_type": "markdown",
   "id": "821c8e2b",
   "metadata": {
    "deletable": false,
    "editable": false,
    "id": "09b242bf"
   },
   "source": [
    "### Шаг 3. Исследуйте данные и ответьте на вопросы"
   ]
  },
  {
   "cell_type": "markdown",
   "id": "a8275c22",
   "metadata": {
    "deletable": false,
    "editable": false,
    "id": "c5d66278"
   },
   "source": [
    "#### 3.1 Есть ли зависимость между количеством детей и возвратом кредита в срок?"
   ]
  },
  {
   "cell_type": "markdown",
   "id": "5927198d",
   "metadata": {},
   "source": [
    "Для ответа на этот вопрос сформируем сводную таблицу методом `data_pivot` \n",
    "\n",
    "`data_pivot=data.pivot_table(index=['column1','column2'],columns='source', values = 'column_pivot', aggfunc = 'function')`, где `index` - столбец или столбцы, по которым происходит группировка данных # columns - столбец по значениям которого будет происходить группировка\n",
    "`values` - значения, по которым мы хотим увидеть сводную таблицу\n",
    "`aggfunc` - функция, которая будет применяться к значениям\n",
    "\n",
    "В параметр `aggfunc` добавим список `{'count','sum','mean'}`. Отношение заемщиков с проскрочкой к общему колличеству заемщиков в данной категории (категории кол-ва детей) отразит функция `'mean'`. В данной ситации `'count','sum'` можно не использовать, но всеравно отражу для наглядности."
   ]
  },
  {
   "cell_type": "code",
   "execution_count": 22,
   "id": "6405426d",
   "metadata": {
    "deletable": false,
    "id": "2cacfc4a"
   },
   "outputs": [
    {
     "data": {
      "text/html": [
       "<div>\n",
       "<style scoped>\n",
       "    .dataframe tbody tr th:only-of-type {\n",
       "        vertical-align: middle;\n",
       "    }\n",
       "\n",
       "    .dataframe tbody tr th {\n",
       "        vertical-align: top;\n",
       "    }\n",
       "\n",
       "    .dataframe thead th {\n",
       "        text-align: right;\n",
       "    }\n",
       "</style>\n",
       "<table border=\"1\" class=\"dataframe\">\n",
       "  <thead>\n",
       "    <tr style=\"text-align: right;\">\n",
       "      <th></th>\n",
       "      <th>Всего кредитополучателей</th>\n",
       "      <th>Доля должников</th>\n",
       "      <th>Всего должников</th>\n",
       "    </tr>\n",
       "    <tr>\n",
       "      <th>children</th>\n",
       "      <th></th>\n",
       "      <th></th>\n",
       "      <th></th>\n",
       "    </tr>\n",
       "  </thead>\n",
       "  <tbody>\n",
       "    <tr>\n",
       "      <th>0</th>\n",
       "      <td>14091.0</td>\n",
       "      <td>7.5</td>\n",
       "      <td>1063.0</td>\n",
       "    </tr>\n",
       "    <tr>\n",
       "      <th>1</th>\n",
       "      <td>4808.0</td>\n",
       "      <td>9.2</td>\n",
       "      <td>444.0</td>\n",
       "    </tr>\n",
       "    <tr>\n",
       "      <th>2</th>\n",
       "      <td>2052.0</td>\n",
       "      <td>9.5</td>\n",
       "      <td>194.0</td>\n",
       "    </tr>\n",
       "    <tr>\n",
       "      <th>3</th>\n",
       "      <td>330.0</td>\n",
       "      <td>8.2</td>\n",
       "      <td>27.0</td>\n",
       "    </tr>\n",
       "    <tr>\n",
       "      <th>4</th>\n",
       "      <td>41.0</td>\n",
       "      <td>9.8</td>\n",
       "      <td>4.0</td>\n",
       "    </tr>\n",
       "    <tr>\n",
       "      <th>5</th>\n",
       "      <td>9.0</td>\n",
       "      <td>0.0</td>\n",
       "      <td>0.0</td>\n",
       "    </tr>\n",
       "  </tbody>\n",
       "</table>\n",
       "</div>"
      ],
      "text/plain": [
       "          Всего кредитополучателей  Доля должников  Всего должников\n",
       "children                                                           \n",
       "0                          14091.0             7.5           1063.0\n",
       "1                           4808.0             9.2            444.0\n",
       "2                           2052.0             9.5            194.0\n",
       "3                            330.0             8.2             27.0\n",
       "4                             41.0             9.8              4.0\n",
       "5                              9.0             0.0              0.0"
      ]
     },
     "execution_count": 22,
     "metadata": {},
     "output_type": "execute_result"
    }
   ],
   "source": [
    "data_pivot_children = data.pivot_table(index='children', values='debt', aggfunc={'count','sum','mean'}) #Формируем сводную таблицу\n",
    "data_pivot_children['mean'] = round(data_pivot_children['mean'] * 100, 1) #столбец `mean` приводим к %, и округляем до 1 знака после запятой.\n",
    "data_pivot_children.columns = ['Всего кредитополучателей', 'Доля должников', 'Всего должников']\n",
    "data_pivot_children #Выводим на экран"
   ]
  },
  {
   "cell_type": "markdown",
   "id": "03fb8f55",
   "metadata": {
    "deletable": false,
    "id": "3a6b99ec"
   },
   "source": [
    "**Вывод:** Однозначно могу сказать что нет никакой закономерности в том, что чем больше детей, тем больше/меньше просроченных задолженностей. Данные находятся в коротком диапазоне в 2,3% (от min до max показателя). По заемщиков с 5-ю детьми, нельзя сказать что в этой категории абсолютно никогда не бывает просрочек. Слишком малая выборка из 9 заемщиков. Говорит о том, что у нас мало многодетных семей с 5ю детьми. Например если добавится 10й заемщик с просрочкой, показатели `mean` сразу станет 10%."
   ]
  },
  {
   "cell_type": "markdown",
   "id": "f879402f",
   "metadata": {},
   "source": [
    "Принял"
   ]
  },
  {
   "cell_type": "markdown",
   "id": "d32010a8",
   "metadata": {
    "deletable": false,
    "editable": false,
    "id": "97be82ca"
   },
   "source": [
    "#### 3.2 Есть ли зависимость между семейным положением и возвратом кредита в срок?"
   ]
  },
  {
   "cell_type": "code",
   "execution_count": 23,
   "id": "8b28ab23",
   "metadata": {
    "deletable": false,
    "id": "dc3f7ee8"
   },
   "outputs": [
    {
     "data": {
      "text/html": [
       "<div>\n",
       "<style scoped>\n",
       "    .dataframe tbody tr th:only-of-type {\n",
       "        vertical-align: middle;\n",
       "    }\n",
       "\n",
       "    .dataframe tbody tr th {\n",
       "        vertical-align: top;\n",
       "    }\n",
       "\n",
       "    .dataframe thead th {\n",
       "        text-align: right;\n",
       "    }\n",
       "</style>\n",
       "<table border=\"1\" class=\"dataframe\">\n",
       "  <thead>\n",
       "    <tr style=\"text-align: right;\">\n",
       "      <th></th>\n",
       "      <th>Всего кредитополучателей</th>\n",
       "      <th>Доля должников</th>\n",
       "    </tr>\n",
       "    <tr>\n",
       "      <th>family_status</th>\n",
       "      <th></th>\n",
       "      <th></th>\n",
       "    </tr>\n",
       "  </thead>\n",
       "  <tbody>\n",
       "    <tr>\n",
       "      <th>Не женат / не замужем</th>\n",
       "      <td>2796.0</td>\n",
       "      <td>9.8</td>\n",
       "    </tr>\n",
       "    <tr>\n",
       "      <th>гражданский брак</th>\n",
       "      <td>4134.0</td>\n",
       "      <td>9.3</td>\n",
       "    </tr>\n",
       "    <tr>\n",
       "      <th>женат / замужем</th>\n",
       "      <td>12261.0</td>\n",
       "      <td>7.6</td>\n",
       "    </tr>\n",
       "    <tr>\n",
       "      <th>в разводе</th>\n",
       "      <td>1189.0</td>\n",
       "      <td>7.1</td>\n",
       "    </tr>\n",
       "    <tr>\n",
       "      <th>вдовец / вдова</th>\n",
       "      <td>951.0</td>\n",
       "      <td>6.6</td>\n",
       "    </tr>\n",
       "  </tbody>\n",
       "</table>\n",
       "</div>"
      ],
      "text/plain": [
       "                       Всего кредитополучателей  Доля должников\n",
       "family_status                                                  \n",
       "Не женат / не замужем                    2796.0             9.8\n",
       "гражданский брак                         4134.0             9.3\n",
       "женат / замужем                         12261.0             7.6\n",
       "в разводе                                1189.0             7.1\n",
       "вдовец / вдова                            951.0             6.6"
      ]
     },
     "execution_count": 23,
     "metadata": {},
     "output_type": "execute_result"
    }
   ],
   "source": [
    "data_pivot_family_stat = data.pivot_table(index='family_status', values='debt', aggfunc={'mean','count'}) # Формируем сводную таблицу\n",
    "data_pivot_family_stat['mean'] = round(data_pivot_family_stat['mean'] * 100, 1) # Приводим к показателю % для сравнения\n",
    "data_pivot_family_stat.columns = ['Всего кредитополучателей', 'Доля должников']\n",
    "\n",
    "data_pivot_family_stat.sort_values(by='Доля должников', ascending=False) #Выводим на экран, с сортировкой % по убыванию"
   ]
  },
  {
   "cell_type": "markdown",
   "id": "6a45f062",
   "metadata": {
    "deletable": false,
    "id": "1cef7837"
   },
   "source": [
    "**Вывод:** \n",
    "- Лидируют по колличествам просрочек холостые заемщики и заемщики в гражданском браке. Эти люди вероятно менее ответсвенно относятся к своей жизне и к финансовому планированию. Конечно тут стоит еще посмотреть в разрезе детей (есть дети/нет детей)\n",
    "- в браке как и в разводе, люди более ответственны.\n",
    "- вдовец/вдова с виду кажется самым надежным заемщиком, но нужно более глубже понимать что из себя представляет эта категория. Могу предположить что в этой категории много возрастных клиентов, которые редко обращаются за кредитами и как правило имеют четкие правила по управлению своими финансами"
   ]
  },
  {
   "cell_type": "markdown",
   "id": "70dd70df",
   "metadata": {
    "deletable": false,
    "editable": false,
    "id": "1e8b2fca"
   },
   "source": [
    "#### 3.3 Есть ли зависимость между уровнем дохода и возвратом кредита в срок?"
   ]
  },
  {
   "cell_type": "markdown",
   "id": "1216c402",
   "metadata": {},
   "source": [
    "По уровню дохода мы выделяли 5 категорий:\n",
    "\n",
    "- 0–30000 — `'E'`;\n",
    "- 30001–50000 — `'D'`;\n",
    "- 50001–200000 — `'C'`;\n",
    "- 200001–1000000 — `'B'`;\n",
    "- 1000001 и выше — `'A'`."
   ]
  },
  {
   "cell_type": "code",
   "execution_count": 24,
   "id": "0b282fde",
   "metadata": {
    "deletable": false,
    "id": "cd7e3720"
   },
   "outputs": [
    {
     "data": {
      "text/html": [
       "<div>\n",
       "<style scoped>\n",
       "    .dataframe tbody tr th:only-of-type {\n",
       "        vertical-align: middle;\n",
       "    }\n",
       "\n",
       "    .dataframe tbody tr th {\n",
       "        vertical-align: top;\n",
       "    }\n",
       "\n",
       "    .dataframe thead th {\n",
       "        text-align: right;\n",
       "    }\n",
       "</style>\n",
       "<table border=\"1\" class=\"dataframe\">\n",
       "  <thead>\n",
       "    <tr style=\"text-align: right;\">\n",
       "      <th></th>\n",
       "      <th>Всего кредитополучателей</th>\n",
       "      <th>Доля должников</th>\n",
       "    </tr>\n",
       "    <tr>\n",
       "      <th>total_income_category</th>\n",
       "      <th></th>\n",
       "      <th></th>\n",
       "    </tr>\n",
       "  </thead>\n",
       "  <tbody>\n",
       "    <tr>\n",
       "      <th>E</th>\n",
       "      <td>22.0</td>\n",
       "      <td>9.1</td>\n",
       "    </tr>\n",
       "    <tr>\n",
       "      <th>C</th>\n",
       "      <td>15921.0</td>\n",
       "      <td>8.5</td>\n",
       "    </tr>\n",
       "    <tr>\n",
       "      <th>A</th>\n",
       "      <td>25.0</td>\n",
       "      <td>8.0</td>\n",
       "    </tr>\n",
       "    <tr>\n",
       "      <th>B</th>\n",
       "      <td>5014.0</td>\n",
       "      <td>7.1</td>\n",
       "    </tr>\n",
       "    <tr>\n",
       "      <th>D</th>\n",
       "      <td>349.0</td>\n",
       "      <td>6.0</td>\n",
       "    </tr>\n",
       "  </tbody>\n",
       "</table>\n",
       "</div>"
      ],
      "text/plain": [
       "                       Всего кредитополучателей  Доля должников\n",
       "total_income_category                                          \n",
       "E                                          22.0             9.1\n",
       "C                                       15921.0             8.5\n",
       "A                                          25.0             8.0\n",
       "B                                        5014.0             7.1\n",
       "D                                         349.0             6.0"
      ]
     },
     "execution_count": 24,
     "metadata": {},
     "output_type": "execute_result"
    }
   ],
   "source": [
    "data_pivot_total_incom = data.pivot_table(index='total_income_category', values='debt', aggfunc={'mean','count'})\n",
    "data_pivot_total_incom['mean'] = round(data_pivot_total_incom['mean'] * 100, 1)\n",
    "data_pivot_total_incom.columns = ['Всего кредитополучателей', 'Доля должников']\n",
    "data_pivot_total_incom.sort_values(by='Доля должников', ascending=False)"
   ]
  },
  {
   "cell_type": "markdown",
   "id": "4cb6d9f1",
   "metadata": {
    "deletable": false,
    "id": "e8593def"
   },
   "source": [
    "**Вывод:** \n",
    "- Самые рискованные заемщики это группа `Е` . Это категория с самым низким уровнем дохода, или вообще без него.\n",
    "- Меньше всего рисков у группы `D`. Это средний уровень дохода, средниц класс. Скорее всего Бюджетники.\n",
    "- Заемщики с доходом от 50тр и выше, почти не имеют заивисимости от доли должников."
   ]
  },
  {
   "cell_type": "markdown",
   "id": "7fa35abd",
   "metadata": {},
   "source": [
    "Выведем дополнительно в таблицу информацию какую долю по категориям занимае количество заемщиков от общей выборки. Назовем колонку: `'доля кредитополучатетей'`"
   ]
  },
  {
   "cell_type": "code",
   "execution_count": 25,
   "id": "1b4e213a",
   "metadata": {},
   "outputs": [
    {
     "data": {
      "text/html": [
       "<div>\n",
       "<style scoped>\n",
       "    .dataframe tbody tr th:only-of-type {\n",
       "        vertical-align: middle;\n",
       "    }\n",
       "\n",
       "    .dataframe tbody tr th {\n",
       "        vertical-align: top;\n",
       "    }\n",
       "\n",
       "    .dataframe thead th {\n",
       "        text-align: right;\n",
       "    }\n",
       "</style>\n",
       "<table border=\"1\" class=\"dataframe\">\n",
       "  <thead>\n",
       "    <tr style=\"text-align: right;\">\n",
       "      <th></th>\n",
       "      <th>Всего кредитополучателей</th>\n",
       "      <th>Доля должников</th>\n",
       "      <th>доля кредитополучатетей</th>\n",
       "    </tr>\n",
       "    <tr>\n",
       "      <th>total_income_category</th>\n",
       "      <th></th>\n",
       "      <th></th>\n",
       "      <th></th>\n",
       "    </tr>\n",
       "  </thead>\n",
       "  <tbody>\n",
       "    <tr>\n",
       "      <th>A</th>\n",
       "      <td>25.0</td>\n",
       "      <td>8.0</td>\n",
       "      <td>0.1</td>\n",
       "    </tr>\n",
       "    <tr>\n",
       "      <th>B</th>\n",
       "      <td>5014.0</td>\n",
       "      <td>7.1</td>\n",
       "      <td>23.5</td>\n",
       "    </tr>\n",
       "    <tr>\n",
       "      <th>C</th>\n",
       "      <td>15921.0</td>\n",
       "      <td>8.5</td>\n",
       "      <td>74.6</td>\n",
       "    </tr>\n",
       "    <tr>\n",
       "      <th>D</th>\n",
       "      <td>349.0</td>\n",
       "      <td>6.0</td>\n",
       "      <td>1.6</td>\n",
       "    </tr>\n",
       "    <tr>\n",
       "      <th>E</th>\n",
       "      <td>22.0</td>\n",
       "      <td>9.1</td>\n",
       "      <td>0.1</td>\n",
       "    </tr>\n",
       "  </tbody>\n",
       "</table>\n",
       "</div>"
      ],
      "text/plain": [
       "                       Всего кредитополучателей  Доля должников  \\\n",
       "total_income_category                                             \n",
       "A                                          25.0             8.0   \n",
       "B                                        5014.0             7.1   \n",
       "C                                       15921.0             8.5   \n",
       "D                                         349.0             6.0   \n",
       "E                                          22.0             9.1   \n",
       "\n",
       "                       доля кредитополучатетей  \n",
       "total_income_category                           \n",
       "A                                          0.1  \n",
       "B                                         23.5  \n",
       "C                                         74.6  \n",
       "D                                          1.6  \n",
       "E                                          0.1  "
      ]
     },
     "execution_count": 25,
     "metadata": {},
     "output_type": "execute_result"
    }
   ],
   "source": [
    "data_pivot_total_incom['доля кредитополучатетей'] = round(data_pivot_total_incom['Всего кредитополучателей'] / data_pivot_total_incom['Всего кредитополучателей'].sum() * 100, 1)\n",
    "data_pivot_total_incom"
   ]
  },
  {
   "cell_type": "markdown",
   "id": "ac5f0930",
   "metadata": {},
   "source": [
    "Основная масса 98%, и состоит из заемщиков с доходом от 50 000 до 1 000 000 руб. Принимая тот факт, что по категориям E, A, D, мало данных, вывод сделаем по крупным категориям B, C."
   ]
  },
  {
   "cell_type": "markdown",
   "id": "1ef16732",
   "metadata": {},
   "source": [
    "**Вывод доработка:** \n",
    "- В сравнении двух категрий, можно сказать что люди с доходом 200тр - 1 000тр., категория `B` Более благонадежны. Выдавать кредит им менее рискованно чем категории с доходом 50 000 - 200 000р. Это и понятно - людям с хорошим доходом банки готовы предоставлять кредиты по более нихким ставкам."
   ]
  },
  {
   "cell_type": "markdown",
   "id": "7aec8736",
   "metadata": {
    "deletable": false,
    "editable": false,
    "id": "99ecbd1f"
   },
   "source": [
    "#### 3.4 Как разные цели кредита влияют на его возврат в срок?"
   ]
  },
  {
   "cell_type": "code",
   "execution_count": 26,
   "id": "4ac13382",
   "metadata": {
    "deletable": false,
    "id": "2b687290"
   },
   "outputs": [
    {
     "data": {
      "text/html": [
       "<div>\n",
       "<style scoped>\n",
       "    .dataframe tbody tr th:only-of-type {\n",
       "        vertical-align: middle;\n",
       "    }\n",
       "\n",
       "    .dataframe tbody tr th {\n",
       "        vertical-align: top;\n",
       "    }\n",
       "\n",
       "    .dataframe thead th {\n",
       "        text-align: right;\n",
       "    }\n",
       "</style>\n",
       "<table border=\"1\" class=\"dataframe\">\n",
       "  <thead>\n",
       "    <tr style=\"text-align: right;\">\n",
       "      <th></th>\n",
       "      <th>Всего кредитополучателей</th>\n",
       "      <th>Доля должников</th>\n",
       "    </tr>\n",
       "    <tr>\n",
       "      <th>purpose_category</th>\n",
       "      <th></th>\n",
       "      <th></th>\n",
       "    </tr>\n",
       "  </thead>\n",
       "  <tbody>\n",
       "    <tr>\n",
       "      <th>операции с автомобилем</th>\n",
       "      <td>4279.0</td>\n",
       "      <td>9.3</td>\n",
       "    </tr>\n",
       "    <tr>\n",
       "      <th>получение образования</th>\n",
       "      <td>3988.0</td>\n",
       "      <td>9.3</td>\n",
       "    </tr>\n",
       "    <tr>\n",
       "      <th>проведение свадьбы</th>\n",
       "      <td>2313.0</td>\n",
       "      <td>7.9</td>\n",
       "    </tr>\n",
       "    <tr>\n",
       "      <th>операции с недвижимостью</th>\n",
       "      <td>10751.0</td>\n",
       "      <td>7.3</td>\n",
       "    </tr>\n",
       "  </tbody>\n",
       "</table>\n",
       "</div>"
      ],
      "text/plain": [
       "                          Всего кредитополучателей  Доля должников\n",
       "purpose_category                                                  \n",
       "операции с автомобилем                      4279.0             9.3\n",
       "получение образования                       3988.0             9.3\n",
       "проведение свадьбы                          2313.0             7.9\n",
       "операции с недвижимостью                   10751.0             7.3"
      ]
     },
     "execution_count": 26,
     "metadata": {},
     "output_type": "execute_result"
    }
   ],
   "source": [
    "data_pivot_purpose_category = data.pivot_table(index='purpose_category', values='debt', aggfunc={'mean','count'})\n",
    "data_pivot_purpose_category['mean'] = round(data_pivot_purpose_category['mean'] * 100, 1)\n",
    "data_pivot_purpose_category.columns = ['Всего кредитополучателей', 'Доля должников']\n",
    "data_pivot_purpose_category.sort_values(by='Доля должников', ascending=False)"
   ]
  },
  {
   "cell_type": "markdown",
   "id": "9b5b192e",
   "metadata": {
    "deletable": false,
    "id": "b4bb2ce6"
   },
   "source": [
    "**Вывод:** \n",
    "- Операции с недвижимостью менее рискованные, ввиду этого банки дают процент ниже на ипотеку, отчасти от того что ставят обременение на недвижимость. А вот выдача кредита на покупку авто и на образование - самый рискованные по доле должников."
   ]
  },
  {
   "cell_type": "markdown",
   "id": "cb77f167",
   "metadata": {
    "deletable": false,
    "editable": false,
    "id": "09c3ac4c"
   },
   "source": [
    "#### 3.5 Приведите возможные причины появления пропусков в исходных данных."
   ]
  },
  {
   "cell_type": "markdown",
   "id": "e6b04a31",
   "metadata": {
    "deletable": false,
    "id": "9da2ceda"
   },
   "source": [
    "*Ответ:* Пропуски в данных возникли у части заемщиков. При этом у них одновременно отсутствует информация о трудовом стаже и ежемесячном доходе. Вероятно по этим заемщикам, данные о работе хранятся в отдельном дата сете."
   ]
  },
  {
   "cell_type": "markdown",
   "id": "75e5f9c5",
   "metadata": {},
   "source": [
    "*Ответ исправление:* Пропуски в данных возникли у части заемщиков. При этом у них одновременно отсутствует информация о трудовом стаже и ежемесячном доходе. Возможные причины:\n",
    "- Вероятно по этим заемщикам, данные о работе хранятся в отдельном дата сете, который просто небыл открыт или передан.\n",
    "- Клиенты могли не предоставить данные (хотя маловероятно, на каждую заявку по кредиту или ипотеке составляется анкета, без этой анкеты аявка не пойдет на адрерайтинг - исключения (кредитные карты)\n",
    "- Техническая ошибка при выгрузке\n",
    "- Ошибка человека при выгрузке (неправильный запрос, фильтр, объединенные таблицы)"
   ]
  },
  {
   "cell_type": "markdown",
   "id": "ad1bce13",
   "metadata": {},
   "source": [
    "Чтобы утверждать, что пропуски в 'total_income' и 'days_employed' находятся на одних строках, можно это проверить:"
   ]
  },
  {
   "cell_type": "code",
   "execution_count": 27,
   "id": "f3ca898a",
   "metadata": {},
   "outputs": [
    {
     "data": {
      "text/plain": [
       "2174"
      ]
     },
     "execution_count": 27,
     "metadata": {},
     "output_type": "execute_result"
    }
   ],
   "source": [
    "len(data_1.loc[(data_1['days_employed'].isna()) & (data_1['total_income'].isna())])"
   ]
  },
  {
   "cell_type": "markdown",
   "id": "e99e5047",
   "metadata": {},
   "source": [
    "Значений 2174, что совпадает со значениями пропусков в обоих столбцах по отдельности.\n"
   ]
  },
  {
   "cell_type": "markdown",
   "id": "cf3a27d9",
   "metadata": {
    "deletable": false,
    "editable": false,
    "id": "7b0487d6"
   },
   "source": [
    "#### 3.6 Объясните, почему заполнить пропуски медианным значением — лучшее решение для количественных переменных."
   ]
  },
  {
   "cell_type": "markdown",
   "id": "d24cee7c",
   "metadata": {
    "deletable": false,
    "id": "7ecf2b8e"
   },
   "source": [
    "*Ответ:* Среднее значение некорректно характеризует данные, когда некоторые значения сильно выделяются среди большинства. Если взять пример с уровнем дохода: В выборке может появиться один очень богатый олигарх, и средняя окажется очень заышенной. Медианные значения не исказят картину при заполнении пропусков, и при этом оставят важные для нас значения."
   ]
  },
  {
   "cell_type": "markdown",
   "id": "291f3131",
   "metadata": {
    "deletable": false,
    "editable": false,
    "id": "6db5255a"
   },
   "source": [
    "### Шаг 4: общий вывод."
   ]
  },
  {
   "cell_type": "markdown",
   "id": "60a85ac6",
   "metadata": {
    "deletable": false,
    "id": "bad65432"
   },
   "source": [
    "<div style=\"border:solid purple 2px; padding: 20px\"> \n",
    "<b> <font color='blue' >  \n",
    "    \n",
    "#### Гипотезы:\n",
    "1. Количество детей по разному отражается на возврат кредита в срок\n",
    "2. Семейное положение по разному отражается на возврат кредита в срок\n",
    "3. Уровень дохода по разному отражается на возврат кредита в срок\n",
    "4. Цель кредита по разному отражается на возврат его в срок\n",
    "\n",
    "####  Проверка гипотез и вывод\n",
    "1. Однозначно могу сказать что нет явной закономерности в том, что чем больше детей, тем больше/меньше просроченных задолженностей. Но стоит отметить, что заемщики без детей - более надежные. \n",
    "2. Самые рискованные - холостые заемщики и заемщики в гражданском браке. Эти люди вероятно менее ответсвенно относятся к своей жизне и к финансовому планированию. Самые надежные в браке как и в разводе.\n",
    "3. Рассмотрели выборку людей с доходом 50 000р до 1млн. Этот уровень дохода составляет 98% от общей выборки. Анализ показал что заемщики которые имеют уровень дохода от 200тр до 1млн. Наиболее надежны. Но сильного различия нет. Благонадежность в меньшей степени зависит от уровня дохода.\n",
    "4. Ипотечные кредиты менее рискованны. Обратная ситуация с покупкой автомобиля или образованием.\n",
    "\n",
    "\n",
    "#### Доработать более досканально\n",
    "1. Посмотреть категоризацию `заемщики без детей` - `тип дохода (income_type)` \n",
    "2. Посмотреть категоризацию `семейное положение` `дети` \n",
    "3. Сделать больше категорий по доходу. И Посмотреть глубже по категориям дохода + кол-во детей.\n",
    "\n",
    "#### Идеальный портрет клиента имеют следующие критерии\n",
    "- В браке или разведен\n",
    "- Не имеет детей\n",
    "- Доход от 200 000р.\n",
    "- Кредит на покупку недвижимости.\n",
    "- Не имеет просрочек по прошлы кредитам.\n",
    "\n",
    "#### Предлагаю посмотреть:\n",
    "1. Вывести совокупный доход на одного члена семьи (сумму дохода разделить:\n",
    "    - на 2 + кол.во детей (если в браке)\n",
    "    - на кол.во детей если иное\n",
    "   Разделить совокупный доход на категории и посмотреть в разрезе этих категорий % просроченных выплат.\n",
    "    \n",
    "</font></b>\n",
    "</div>"
   ]
  },
  {
   "cell_type": "code",
   "execution_count": null,
   "id": "f85fdf49",
   "metadata": {},
   "outputs": [],
   "source": []
  }
 ],
 "metadata": {
  "ExecuteTimeLog": [
   {
    "duration": 45,
    "start_time": "2022-10-19T16:48:15.725Z"
   },
   {
    "duration": 660,
    "start_time": "2022-10-19T16:49:13.032Z"
   },
   {
    "duration": 23,
    "start_time": "2022-10-19T16:49:13.694Z"
   },
   {
    "duration": 15,
    "start_time": "2022-10-19T16:49:13.718Z"
   },
   {
    "duration": 11,
    "start_time": "2022-10-19T16:49:13.734Z"
   },
   {
    "duration": 54,
    "start_time": "2022-10-19T16:49:13.746Z"
   },
   {
    "duration": 3,
    "start_time": "2022-10-19T16:49:13.802Z"
   },
   {
    "duration": 10,
    "start_time": "2022-10-19T16:49:13.806Z"
   },
   {
    "duration": 4,
    "start_time": "2022-10-19T16:49:13.818Z"
   },
   {
    "duration": 11,
    "start_time": "2022-10-19T16:49:13.824Z"
   },
   {
    "duration": 5,
    "start_time": "2022-10-19T16:49:13.839Z"
   },
   {
    "duration": 78,
    "start_time": "2022-10-19T16:49:13.846Z"
   },
   {
    "duration": 10,
    "start_time": "2022-10-19T16:49:13.926Z"
   },
   {
    "duration": 5,
    "start_time": "2022-10-19T16:49:13.938Z"
   },
   {
    "duration": 15,
    "start_time": "2022-10-19T16:49:13.944Z"
   },
   {
    "duration": 37,
    "start_time": "2022-10-19T16:49:13.960Z"
   },
   {
    "duration": 17,
    "start_time": "2022-10-19T16:49:13.999Z"
   },
   {
    "duration": 3,
    "start_time": "2022-10-19T16:49:14.018Z"
   },
   {
    "duration": 12,
    "start_time": "2022-10-19T16:49:14.022Z"
   },
   {
    "duration": 7,
    "start_time": "2022-10-19T16:49:14.036Z"
   },
   {
    "duration": 3,
    "start_time": "2022-10-19T16:49:14.044Z"
   },
   {
    "duration": 15,
    "start_time": "2022-10-19T16:49:14.049Z"
   },
   {
    "duration": 46,
    "start_time": "2022-10-19T16:49:14.065Z"
   },
   {
    "duration": 6,
    "start_time": "2022-10-19T16:49:14.113Z"
   },
   {
    "duration": 11,
    "start_time": "2022-10-19T16:49:14.121Z"
   },
   {
    "duration": 13,
    "start_time": "2022-10-19T16:49:14.133Z"
   },
   {
    "duration": 13,
    "start_time": "2022-10-19T16:56:52.739Z"
   },
   {
    "duration": 17,
    "start_time": "2022-10-19T16:57:13.988Z"
   },
   {
    "duration": 10,
    "start_time": "2022-10-19T16:57:31.682Z"
   },
   {
    "duration": 15,
    "start_time": "2022-10-19T17:01:08.961Z"
   },
   {
    "duration": 754,
    "start_time": "2022-10-19T17:02:06.337Z"
   },
   {
    "duration": 18,
    "start_time": "2022-10-19T17:02:33.284Z"
   },
   {
    "duration": 24,
    "start_time": "2022-10-19T17:08:07.240Z"
   },
   {
    "duration": 75,
    "start_time": "2022-10-19T17:08:38.228Z"
   },
   {
    "duration": 70,
    "start_time": "2022-10-19T17:08:53.221Z"
   },
   {
    "duration": 68,
    "start_time": "2022-10-19T17:09:10.281Z"
   },
   {
    "duration": 23,
    "start_time": "2022-10-19T17:09:18.251Z"
   },
   {
    "duration": 20,
    "start_time": "2022-10-19T17:10:10.796Z"
   },
   {
    "duration": 108,
    "start_time": "2022-10-19T17:10:34.202Z"
   },
   {
    "duration": 18,
    "start_time": "2022-10-19T17:10:40.052Z"
   },
   {
    "duration": 21,
    "start_time": "2022-10-19T17:10:44.150Z"
   },
   {
    "duration": 28,
    "start_time": "2022-10-19T17:11:28.243Z"
   },
   {
    "duration": 23,
    "start_time": "2022-10-19T17:11:42.443Z"
   },
   {
    "duration": 78,
    "start_time": "2022-10-19T17:12:36.412Z"
   },
   {
    "duration": 24,
    "start_time": "2022-10-19T17:13:09.119Z"
   },
   {
    "duration": 23,
    "start_time": "2022-10-19T17:13:29.068Z"
   },
   {
    "duration": 22,
    "start_time": "2022-10-19T17:17:40.881Z"
   },
   {
    "duration": 24,
    "start_time": "2022-10-19T17:17:54.791Z"
   },
   {
    "duration": 23,
    "start_time": "2022-10-19T17:17:59.272Z"
   },
   {
    "duration": 25,
    "start_time": "2022-10-19T17:18:49.321Z"
   },
   {
    "duration": 18,
    "start_time": "2022-10-19T17:24:50.394Z"
   },
   {
    "duration": 23,
    "start_time": "2022-10-19T17:25:05.250Z"
   },
   {
    "duration": 22,
    "start_time": "2022-10-19T17:25:49.304Z"
   },
   {
    "duration": 19,
    "start_time": "2022-10-19T17:26:04.770Z"
   },
   {
    "duration": 19,
    "start_time": "2022-10-19T17:26:08.303Z"
   },
   {
    "duration": 23,
    "start_time": "2022-10-19T17:27:30.864Z"
   },
   {
    "duration": 24,
    "start_time": "2022-10-19T17:27:53.173Z"
   },
   {
    "duration": 25,
    "start_time": "2022-10-19T17:28:01.052Z"
   },
   {
    "duration": 24,
    "start_time": "2022-10-19T17:28:09.565Z"
   },
   {
    "duration": 81,
    "start_time": "2022-10-19T17:29:05.274Z"
   },
   {
    "duration": 24,
    "start_time": "2022-10-19T17:29:20.394Z"
   },
   {
    "duration": 9,
    "start_time": "2022-10-19T17:30:16.878Z"
   },
   {
    "duration": 23,
    "start_time": "2022-10-19T17:30:30.034Z"
   },
   {
    "duration": 22,
    "start_time": "2022-10-19T17:30:33.565Z"
   },
   {
    "duration": 18,
    "start_time": "2022-10-19T17:31:07.565Z"
   },
   {
    "duration": 23,
    "start_time": "2022-10-19T17:31:12.903Z"
   },
   {
    "duration": 23,
    "start_time": "2022-10-19T17:31:29.895Z"
   },
   {
    "duration": 24,
    "start_time": "2022-10-19T17:47:00.801Z"
   },
   {
    "duration": 16,
    "start_time": "2022-10-19T17:47:08.561Z"
   },
   {
    "duration": 7,
    "start_time": "2022-10-19T17:47:23.842Z"
   },
   {
    "duration": 22,
    "start_time": "2022-10-19T17:47:27.872Z"
   },
   {
    "duration": 73,
    "start_time": "2022-10-19T17:47:42.489Z"
   },
   {
    "duration": 80,
    "start_time": "2022-10-19T17:47:47.340Z"
   },
   {
    "duration": 18,
    "start_time": "2022-10-19T17:47:55.969Z"
   },
   {
    "duration": 16,
    "start_time": "2022-10-19T17:49:28.719Z"
   },
   {
    "duration": 16,
    "start_time": "2022-10-19T17:49:35.577Z"
   },
   {
    "duration": 19,
    "start_time": "2022-10-19T17:49:40.090Z"
   },
   {
    "duration": 303,
    "start_time": "2022-10-19T17:51:04.927Z"
   },
   {
    "duration": 1503,
    "start_time": "2022-10-19T17:51:15.672Z"
   },
   {
    "duration": 15,
    "start_time": "2022-10-19T17:51:22.633Z"
   },
   {
    "duration": 23,
    "start_time": "2022-10-19T17:52:51.264Z"
   },
   {
    "duration": 26,
    "start_time": "2022-10-19T17:55:38.188Z"
   },
   {
    "duration": 17,
    "start_time": "2022-10-19T17:56:05.619Z"
   },
   {
    "duration": 21,
    "start_time": "2022-10-19T17:57:07.798Z"
   },
   {
    "duration": 23,
    "start_time": "2022-10-19T17:57:14.854Z"
   },
   {
    "duration": 21,
    "start_time": "2022-10-19T17:58:08.479Z"
   },
   {
    "duration": 22,
    "start_time": "2022-10-19T18:00:35.835Z"
   },
   {
    "duration": 25,
    "start_time": "2022-10-19T18:01:16.481Z"
   },
   {
    "duration": 1130,
    "start_time": "2022-10-19T18:02:18.723Z"
   },
   {
    "duration": 78,
    "start_time": "2022-10-19T18:02:28.402Z"
   },
   {
    "duration": 96,
    "start_time": "2022-10-19T18:02:56.883Z"
   },
   {
    "duration": 35,
    "start_time": "2022-10-19T18:03:18.664Z"
   },
   {
    "duration": 1156,
    "start_time": "2022-10-19T18:03:47.724Z"
   },
   {
    "duration": 5,
    "start_time": "2022-10-19T18:04:06.992Z"
   },
   {
    "duration": 30,
    "start_time": "2022-10-19T18:04:22.642Z"
   },
   {
    "duration": 5,
    "start_time": "2022-10-19T18:04:25.904Z"
   },
   {
    "duration": 5,
    "start_time": "2022-10-19T18:05:14.472Z"
   },
   {
    "duration": 110,
    "start_time": "2022-10-19T18:05:43.957Z"
   },
   {
    "duration": 24,
    "start_time": "2022-10-19T18:05:48.684Z"
   },
   {
    "duration": 550,
    "start_time": "2022-10-19T18:06:18.868Z"
   },
   {
    "duration": 9,
    "start_time": "2022-10-19T18:06:28.556Z"
   },
   {
    "duration": 665,
    "start_time": "2022-10-19T18:07:11.115Z"
   },
   {
    "duration": 585,
    "start_time": "2022-10-19T18:07:23.935Z"
   },
   {
    "duration": 9,
    "start_time": "2022-10-19T18:07:44.375Z"
   },
   {
    "duration": 15,
    "start_time": "2022-10-19T18:08:34.355Z"
   },
   {
    "duration": 14,
    "start_time": "2022-10-19T18:08:55.377Z"
   },
   {
    "duration": 13,
    "start_time": "2022-10-19T18:09:00.806Z"
   },
   {
    "duration": 5,
    "start_time": "2022-10-19T18:09:16.266Z"
   },
   {
    "duration": 5,
    "start_time": "2022-10-19T18:09:28.796Z"
   },
   {
    "duration": 6,
    "start_time": "2022-10-19T18:09:41.561Z"
   },
   {
    "duration": 5,
    "start_time": "2022-10-19T18:10:45.025Z"
   },
   {
    "duration": 22,
    "start_time": "2022-10-19T18:22:41.050Z"
   },
   {
    "duration": 22,
    "start_time": "2022-10-19T18:22:48.669Z"
   },
   {
    "duration": 24,
    "start_time": "2022-10-19T18:23:03.923Z"
   },
   {
    "duration": 3,
    "start_time": "2022-10-19T18:23:45.698Z"
   },
   {
    "duration": 68,
    "start_time": "2022-10-19T18:24:09.919Z"
   },
   {
    "duration": 25,
    "start_time": "2022-10-19T18:24:51.781Z"
   },
   {
    "duration": 23,
    "start_time": "2022-10-19T18:25:28.660Z"
   },
   {
    "duration": 22,
    "start_time": "2022-10-19T18:25:37.261Z"
   },
   {
    "duration": 24,
    "start_time": "2022-10-19T18:25:51.361Z"
   },
   {
    "duration": 18,
    "start_time": "2022-10-19T18:26:39.150Z"
   },
   {
    "duration": 22,
    "start_time": "2022-10-19T18:26:48.329Z"
   },
   {
    "duration": 23,
    "start_time": "2022-10-19T18:29:22.705Z"
   },
   {
    "duration": 12,
    "start_time": "2022-10-19T18:43:47.825Z"
   },
   {
    "duration": 12,
    "start_time": "2022-10-19T18:44:19.817Z"
   },
   {
    "duration": 16,
    "start_time": "2022-10-19T18:44:23.426Z"
   },
   {
    "duration": 1111,
    "start_time": "2022-10-19T18:45:57.613Z"
   },
   {
    "duration": 21,
    "start_time": "2022-10-19T18:46:03.495Z"
   },
   {
    "duration": 25,
    "start_time": "2022-10-19T18:47:56.790Z"
   },
   {
    "duration": 21,
    "start_time": "2022-10-19T18:48:33.856Z"
   },
   {
    "duration": 21,
    "start_time": "2022-10-19T18:51:07.935Z"
   },
   {
    "duration": 28,
    "start_time": "2022-10-19T18:52:26.725Z"
   },
   {
    "duration": 21,
    "start_time": "2022-10-19T18:53:14.862Z"
   },
   {
    "duration": 24,
    "start_time": "2022-10-19T18:57:20.616Z"
   },
   {
    "duration": 22,
    "start_time": "2022-10-19T18:57:39.886Z"
   },
   {
    "duration": 23,
    "start_time": "2022-10-19T18:57:45.884Z"
   },
   {
    "duration": 27,
    "start_time": "2022-10-19T18:58:38.866Z"
   },
   {
    "duration": 22,
    "start_time": "2022-10-19T18:58:50.576Z"
   },
   {
    "duration": 25,
    "start_time": "2022-10-19T18:59:10.709Z"
   },
   {
    "duration": 22,
    "start_time": "2022-10-19T19:00:00.333Z"
   },
   {
    "duration": 24,
    "start_time": "2022-10-19T19:00:25.439Z"
   },
   {
    "duration": 23,
    "start_time": "2022-10-19T19:00:44.789Z"
   },
   {
    "duration": 22,
    "start_time": "2022-10-19T19:00:57.974Z"
   },
   {
    "duration": 22,
    "start_time": "2022-10-19T19:01:41.965Z"
   },
   {
    "duration": 22,
    "start_time": "2022-10-19T19:20:15.555Z"
   },
   {
    "duration": 18,
    "start_time": "2022-10-19T19:26:51.739Z"
   },
   {
    "duration": 22,
    "start_time": "2022-10-19T19:27:20.843Z"
   },
   {
    "duration": 9,
    "start_time": "2022-10-19T19:27:39.121Z"
   },
   {
    "duration": 446,
    "start_time": "2022-10-19T19:28:05.606Z"
   },
   {
    "duration": 34,
    "start_time": "2022-10-19T19:28:06.715Z"
   },
   {
    "duration": 14,
    "start_time": "2022-10-19T19:28:07.130Z"
   },
   {
    "duration": 10,
    "start_time": "2022-10-19T19:28:47.130Z"
   },
   {
    "duration": 20,
    "start_time": "2022-10-19T19:29:20.825Z"
   },
   {
    "duration": 434,
    "start_time": "2022-10-19T19:30:30.430Z"
   },
   {
    "duration": 22,
    "start_time": "2022-10-19T19:30:30.866Z"
   },
   {
    "duration": 15,
    "start_time": "2022-10-19T19:30:30.890Z"
   },
   {
    "duration": 11,
    "start_time": "2022-10-19T19:30:30.907Z"
   },
   {
    "duration": 39,
    "start_time": "2022-10-19T19:30:30.919Z"
   },
   {
    "duration": 4,
    "start_time": "2022-10-19T19:30:30.959Z"
   },
   {
    "duration": 12,
    "start_time": "2022-10-19T19:30:30.964Z"
   },
   {
    "duration": 5,
    "start_time": "2022-10-19T19:30:30.994Z"
   },
   {
    "duration": 9,
    "start_time": "2022-10-19T19:30:31.001Z"
   },
   {
    "duration": 4,
    "start_time": "2022-10-19T19:30:31.013Z"
   },
   {
    "duration": 36,
    "start_time": "2022-10-19T19:30:31.018Z"
   },
   {
    "duration": 9,
    "start_time": "2022-10-19T19:30:31.056Z"
   },
   {
    "duration": 29,
    "start_time": "2022-10-19T19:30:31.066Z"
   },
   {
    "duration": 13,
    "start_time": "2022-10-19T19:30:31.096Z"
   },
   {
    "duration": 20,
    "start_time": "2022-10-19T19:30:31.110Z"
   },
   {
    "duration": 15,
    "start_time": "2022-10-19T19:30:31.131Z"
   },
   {
    "duration": 3,
    "start_time": "2022-10-19T19:30:31.148Z"
   },
   {
    "duration": 13,
    "start_time": "2022-10-19T19:30:31.153Z"
   },
   {
    "duration": 26,
    "start_time": "2022-10-19T19:30:31.168Z"
   },
   {
    "duration": 3,
    "start_time": "2022-10-19T19:30:31.196Z"
   },
   {
    "duration": 11,
    "start_time": "2022-10-19T19:30:31.200Z"
   },
   {
    "duration": 27,
    "start_time": "2022-10-19T19:30:31.212Z"
   },
   {
    "duration": 20,
    "start_time": "2022-10-19T19:30:31.240Z"
   },
   {
    "duration": 41,
    "start_time": "2022-10-19T19:30:31.262Z"
   },
   {
    "duration": 20,
    "start_time": "2022-10-19T19:30:31.305Z"
   },
   {
    "duration": 545,
    "start_time": "2022-10-20T12:07:16.416Z"
   },
   {
    "duration": 22,
    "start_time": "2022-10-20T12:07:16.963Z"
   },
   {
    "duration": 16,
    "start_time": "2022-10-20T12:07:16.986Z"
   },
   {
    "duration": 9,
    "start_time": "2022-10-20T12:07:17.004Z"
   },
   {
    "duration": 55,
    "start_time": "2022-10-20T12:07:17.015Z"
   },
   {
    "duration": 3,
    "start_time": "2022-10-20T12:07:17.072Z"
   },
   {
    "duration": 11,
    "start_time": "2022-10-20T12:07:17.076Z"
   },
   {
    "duration": 6,
    "start_time": "2022-10-20T12:07:17.088Z"
   },
   {
    "duration": 22,
    "start_time": "2022-10-20T12:07:17.095Z"
   },
   {
    "duration": 5,
    "start_time": "2022-10-20T12:07:17.120Z"
   },
   {
    "duration": 56,
    "start_time": "2022-10-20T12:07:17.126Z"
   },
   {
    "duration": 11,
    "start_time": "2022-10-20T12:07:17.184Z"
   },
   {
    "duration": 7,
    "start_time": "2022-10-20T12:07:17.197Z"
   },
   {
    "duration": 15,
    "start_time": "2022-10-20T12:07:17.206Z"
   },
   {
    "duration": 30,
    "start_time": "2022-10-20T12:07:17.223Z"
   },
   {
    "duration": 16,
    "start_time": "2022-10-20T12:07:17.255Z"
   },
   {
    "duration": 3,
    "start_time": "2022-10-20T12:07:17.273Z"
   },
   {
    "duration": 16,
    "start_time": "2022-10-20T12:07:17.278Z"
   },
   {
    "duration": 6,
    "start_time": "2022-10-20T12:07:17.296Z"
   },
   {
    "duration": 4,
    "start_time": "2022-10-20T12:07:17.303Z"
   },
   {
    "duration": 15,
    "start_time": "2022-10-20T12:07:17.333Z"
   },
   {
    "duration": 27,
    "start_time": "2022-10-20T12:07:17.350Z"
   },
   {
    "duration": 23,
    "start_time": "2022-10-20T12:07:17.379Z"
   },
   {
    "duration": 53,
    "start_time": "2022-10-20T12:07:17.404Z"
   },
   {
    "duration": 23,
    "start_time": "2022-10-20T12:07:17.459Z"
   },
   {
    "duration": 470,
    "start_time": "2022-10-20T12:07:59.208Z"
   },
   {
    "duration": 23,
    "start_time": "2022-10-20T12:07:59.681Z"
   },
   {
    "duration": 28,
    "start_time": "2022-10-20T12:07:59.706Z"
   },
   {
    "duration": 16,
    "start_time": "2022-10-20T12:07:59.737Z"
   },
   {
    "duration": 44,
    "start_time": "2022-10-20T12:07:59.754Z"
   },
   {
    "duration": 3,
    "start_time": "2022-10-20T12:07:59.800Z"
   },
   {
    "duration": 32,
    "start_time": "2022-10-20T12:07:59.805Z"
   },
   {
    "duration": 19,
    "start_time": "2022-10-20T12:07:59.839Z"
   },
   {
    "duration": 8,
    "start_time": "2022-10-20T12:07:59.859Z"
   },
   {
    "duration": 4,
    "start_time": "2022-10-20T12:07:59.871Z"
   },
   {
    "duration": 36,
    "start_time": "2022-10-20T12:07:59.876Z"
   },
   {
    "duration": 9,
    "start_time": "2022-10-20T12:07:59.913Z"
   },
   {
    "duration": 4,
    "start_time": "2022-10-20T12:07:59.934Z"
   },
   {
    "duration": 22,
    "start_time": "2022-10-20T12:07:59.940Z"
   },
   {
    "duration": 20,
    "start_time": "2022-10-20T12:07:59.964Z"
   },
   {
    "duration": 17,
    "start_time": "2022-10-20T12:07:59.985Z"
   },
   {
    "duration": 4,
    "start_time": "2022-10-20T12:08:00.003Z"
   },
   {
    "duration": 24,
    "start_time": "2022-10-20T12:08:00.009Z"
   },
   {
    "duration": 8,
    "start_time": "2022-10-20T12:08:00.035Z"
   },
   {
    "duration": 27,
    "start_time": "2022-10-20T12:08:00.045Z"
   },
   {
    "duration": 21,
    "start_time": "2022-10-20T12:08:00.074Z"
   },
   {
    "duration": 52,
    "start_time": "2022-10-20T12:08:00.097Z"
   },
   {
    "duration": 35,
    "start_time": "2022-10-20T12:08:00.150Z"
   },
   {
    "duration": 35,
    "start_time": "2022-10-20T12:08:00.187Z"
   },
   {
    "duration": 52,
    "start_time": "2022-10-20T12:08:00.224Z"
   },
   {
    "duration": 63,
    "start_time": "2022-10-22T15:07:27.534Z"
   },
   {
    "duration": 947,
    "start_time": "2022-10-22T15:07:52.884Z"
   },
   {
    "duration": 36,
    "start_time": "2022-10-22T15:07:53.834Z"
   },
   {
    "duration": 19,
    "start_time": "2022-10-22T15:07:53.872Z"
   },
   {
    "duration": 11,
    "start_time": "2022-10-22T15:07:53.895Z"
   },
   {
    "duration": 42,
    "start_time": "2022-10-22T15:07:53.908Z"
   },
   {
    "duration": 5,
    "start_time": "2022-10-22T15:07:53.952Z"
   },
   {
    "duration": 14,
    "start_time": "2022-10-22T15:07:53.959Z"
   },
   {
    "duration": 6,
    "start_time": "2022-10-22T15:07:53.996Z"
   },
   {
    "duration": 14,
    "start_time": "2022-10-22T15:07:54.005Z"
   },
   {
    "duration": 8,
    "start_time": "2022-10-22T15:07:54.023Z"
   },
   {
    "duration": 63,
    "start_time": "2022-10-22T15:07:54.033Z"
   },
   {
    "duration": 10,
    "start_time": "2022-10-22T15:07:54.099Z"
   },
   {
    "duration": 14,
    "start_time": "2022-10-22T15:07:54.111Z"
   },
   {
    "duration": 27,
    "start_time": "2022-10-22T15:07:54.127Z"
   },
   {
    "duration": 32,
    "start_time": "2022-10-22T15:07:54.156Z"
   },
   {
    "duration": 27,
    "start_time": "2022-10-22T15:07:54.189Z"
   },
   {
    "duration": 5,
    "start_time": "2022-10-22T15:07:54.218Z"
   },
   {
    "duration": 13,
    "start_time": "2022-10-22T15:07:54.225Z"
   },
   {
    "duration": 10,
    "start_time": "2022-10-22T15:07:54.240Z"
   },
   {
    "duration": 9,
    "start_time": "2022-10-22T15:07:54.252Z"
   },
   {
    "duration": 38,
    "start_time": "2022-10-22T15:07:54.263Z"
   },
   {
    "duration": 35,
    "start_time": "2022-10-22T15:07:54.303Z"
   },
   {
    "duration": 26,
    "start_time": "2022-10-22T15:07:54.340Z"
   },
   {
    "duration": 44,
    "start_time": "2022-10-22T15:07:54.369Z"
   },
   {
    "duration": 1303,
    "start_time": "2022-10-22T15:07:54.414Z"
   },
   {
    "duration": 0,
    "start_time": "2022-10-22T15:07:55.719Z"
   },
   {
    "duration": 9,
    "start_time": "2022-10-22T15:08:16.917Z"
   },
   {
    "duration": 5,
    "start_time": "2022-10-22T15:08:24.228Z"
   },
   {
    "duration": 17,
    "start_time": "2022-10-22T15:08:32.607Z"
   },
   {
    "duration": 6,
    "start_time": "2022-10-22T15:08:42.516Z"
   },
   {
    "duration": 10,
    "start_time": "2022-10-22T15:11:17.254Z"
   },
   {
    "duration": 11,
    "start_time": "2022-10-22T15:11:38.133Z"
   },
   {
    "duration": 12,
    "start_time": "2022-10-22T15:11:58.573Z"
   },
   {
    "duration": 7,
    "start_time": "2022-10-22T15:32:32.836Z"
   },
   {
    "duration": 119,
    "start_time": "2022-10-22T15:33:31.733Z"
   },
   {
    "duration": 9,
    "start_time": "2022-10-22T15:33:56.697Z"
   },
   {
    "duration": 20,
    "start_time": "2022-10-22T16:00:44.183Z"
   },
   {
    "duration": 20,
    "start_time": "2022-10-22T16:01:31.354Z"
   },
   {
    "duration": 492,
    "start_time": "2022-10-22T16:47:39.899Z"
   },
   {
    "duration": 28,
    "start_time": "2022-10-22T16:47:40.393Z"
   },
   {
    "duration": 19,
    "start_time": "2022-10-22T16:47:40.423Z"
   },
   {
    "duration": 26,
    "start_time": "2022-10-22T16:47:40.444Z"
   },
   {
    "duration": 35,
    "start_time": "2022-10-22T16:47:40.471Z"
   },
   {
    "duration": 4,
    "start_time": "2022-10-22T16:47:40.507Z"
   },
   {
    "duration": 21,
    "start_time": "2022-10-22T16:47:40.513Z"
   },
   {
    "duration": 4,
    "start_time": "2022-10-22T16:47:40.536Z"
   },
   {
    "duration": 19,
    "start_time": "2022-10-22T16:47:40.542Z"
   },
   {
    "duration": 13,
    "start_time": "2022-10-22T16:47:40.565Z"
   },
   {
    "duration": 37,
    "start_time": "2022-10-22T16:47:40.579Z"
   },
   {
    "duration": 9,
    "start_time": "2022-10-22T16:47:40.618Z"
   },
   {
    "duration": 9,
    "start_time": "2022-10-22T16:47:40.628Z"
   },
   {
    "duration": 14,
    "start_time": "2022-10-22T16:47:40.639Z"
   },
   {
    "duration": 20,
    "start_time": "2022-10-22T16:47:40.655Z"
   },
   {
    "duration": 30,
    "start_time": "2022-10-22T16:47:40.677Z"
   },
   {
    "duration": 4,
    "start_time": "2022-10-22T16:47:40.708Z"
   },
   {
    "duration": 12,
    "start_time": "2022-10-22T16:47:40.714Z"
   },
   {
    "duration": 5,
    "start_time": "2022-10-22T16:47:40.727Z"
   },
   {
    "duration": 4,
    "start_time": "2022-10-22T16:47:40.733Z"
   },
   {
    "duration": 8,
    "start_time": "2022-10-22T16:47:40.739Z"
   },
   {
    "duration": 22,
    "start_time": "2022-10-22T16:47:40.808Z"
   },
   {
    "duration": 22,
    "start_time": "2022-10-22T16:47:40.832Z"
   },
   {
    "duration": 10,
    "start_time": "2022-10-22T16:47:40.855Z"
   },
   {
    "duration": 42,
    "start_time": "2022-10-22T16:47:40.866Z"
   },
   {
    "duration": 5,
    "start_time": "2022-10-22T16:47:40.910Z"
   },
   {
    "duration": 509,
    "start_time": "2022-10-22T16:48:54.671Z"
   },
   {
    "duration": 22,
    "start_time": "2022-10-22T16:48:55.181Z"
   },
   {
    "duration": 14,
    "start_time": "2022-10-22T16:48:55.204Z"
   },
   {
    "duration": 8,
    "start_time": "2022-10-22T16:48:55.220Z"
   },
   {
    "duration": 34,
    "start_time": "2022-10-22T16:48:55.230Z"
   },
   {
    "duration": 25,
    "start_time": "2022-10-22T16:48:55.266Z"
   },
   {
    "duration": 9,
    "start_time": "2022-10-22T16:48:55.293Z"
   },
   {
    "duration": 4,
    "start_time": "2022-10-22T16:48:55.304Z"
   },
   {
    "duration": 6,
    "start_time": "2022-10-22T16:48:55.310Z"
   },
   {
    "duration": 5,
    "start_time": "2022-10-22T16:48:55.319Z"
   },
   {
    "duration": 66,
    "start_time": "2022-10-22T16:48:55.325Z"
   },
   {
    "duration": 11,
    "start_time": "2022-10-22T16:48:55.392Z"
   },
   {
    "duration": 4,
    "start_time": "2022-10-22T16:48:55.405Z"
   },
   {
    "duration": 11,
    "start_time": "2022-10-22T16:48:55.411Z"
   },
   {
    "duration": 20,
    "start_time": "2022-10-22T16:48:55.424Z"
   },
   {
    "duration": 18,
    "start_time": "2022-10-22T16:48:55.446Z"
   },
   {
    "duration": 4,
    "start_time": "2022-10-22T16:48:55.490Z"
   },
   {
    "duration": 11,
    "start_time": "2022-10-22T16:48:55.496Z"
   },
   {
    "duration": 5,
    "start_time": "2022-10-22T16:48:55.509Z"
   },
   {
    "duration": 3,
    "start_time": "2022-10-22T16:48:55.515Z"
   },
   {
    "duration": 9,
    "start_time": "2022-10-22T16:48:55.520Z"
   },
   {
    "duration": 33,
    "start_time": "2022-10-22T16:48:55.531Z"
   },
   {
    "duration": 25,
    "start_time": "2022-10-22T16:48:55.591Z"
   },
   {
    "duration": 20,
    "start_time": "2022-10-22T16:48:55.619Z"
   },
   {
    "duration": 8,
    "start_time": "2022-10-22T16:48:55.641Z"
   },
   {
    "duration": 51,
    "start_time": "2022-10-22T16:48:55.651Z"
   },
   {
    "duration": 7,
    "start_time": "2022-10-22T16:48:55.703Z"
   }
  ],
  "colab": {
   "name": "dpp_template_part2.ipynb",
   "provenance": []
  },
  "kernelspec": {
   "display_name": "Python 3 (ipykernel)",
   "language": "python",
   "name": "python3"
  },
  "language_info": {
   "codemirror_mode": {
    "name": "ipython",
    "version": 3
   },
   "file_extension": ".py",
   "mimetype": "text/x-python",
   "name": "python",
   "nbconvert_exporter": "python",
   "pygments_lexer": "ipython3",
   "version": "3.9.13"
  },
  "toc": {
   "base_numbering": 1,
   "nav_menu": {},
   "number_sections": true,
   "sideBar": true,
   "skip_h1_title": true,
   "title_cell": "Table of Contents",
   "title_sidebar": "Contents",
   "toc_cell": false,
   "toc_position": {},
   "toc_section_display": true,
   "toc_window_display": false
  }
 },
 "nbformat": 4,
 "nbformat_minor": 5
}
