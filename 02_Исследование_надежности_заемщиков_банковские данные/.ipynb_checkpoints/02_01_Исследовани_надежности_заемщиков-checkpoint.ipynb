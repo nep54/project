{
 "cells": [
  {
   "cell_type": "markdown",
   "id": "38d7e03b",
   "metadata": {
    "deletable": false,
    "editable": false,
    "id": "c81daeeb"
   },
   "source": [
    "# Исследование надежности заемщиков"
   ]
  },
  {
   "cell_type": "markdown",
   "id": "7d1c7e3a",
   "metadata": {
    "deletable": false,
    "editable": false,
    "id": "-G3EJWzf62s6"
   },
   "source": [
    "Это первая часть проекта, она будет проверена автоматически. Вторую часть проверит ревьюер. "
   ]
  },
  {
   "cell_type": "markdown",
   "id": "ae30e1de",
   "metadata": {
    "deletable": false,
    "editable": false,
    "id": "744d7639"
   },
   "source": [
    "## Откройте таблицу и изучите общую информацию о данных"
   ]
  },
  {
   "cell_type": "markdown",
   "id": "e84fc0ed",
   "metadata": {
    "deletable": false,
    "editable": false,
    "id": "e7a14c31",
    "tags": [
     "start_task"
    ]
   },
   "source": [
    "**Задание 1. Импортируйте библиотеку pandas. Считайте данные из csv-файла в датафрейм и сохраните в переменную `data`. Путь к файлу:**\n",
    "\n",
    "`/datasets/data.csv`"
   ]
  },
  {
   "cell_type": "code",
   "execution_count": 1,
   "id": "dcaf7160",
   "metadata": {
    "id": "7bcf75c9"
   },
   "outputs": [],
   "source": [
    "import pandas as pd # импортируйте библиотеку pandas"
   ]
  },
  {
   "cell_type": "code",
   "execution_count": 2,
   "id": "cc49d44d",
   "metadata": {
    "id": "4d240ee2"
   },
   "outputs": [],
   "source": [
    "data = pd.read_csv(\n",
    "    '/Users/macbookair/Yandex.Disk.localized/01_Data_analyst/GitHub/DA_yandex_project_datasets/02_data.csv'\n",
    ") # прочитайте csv-файл"
   ]
  },
  {
   "cell_type": "markdown",
   "id": "695dad80",
   "metadata": {
    "deletable": false,
    "editable": false,
    "id": "b8038fe3",
    "tags": [
     "start_task"
    ]
   },
   "source": [
    "**Задание 2. Выведите первые 20 строчек датафрейма `data` на экран.**"
   ]
  },
  {
   "cell_type": "code",
   "execution_count": 3,
   "id": "d517d6ce",
   "metadata": {
    "id": "2a7cab99"
   },
   "outputs": [
    {
     "data": {
      "text/html": [
       "<div>\n",
       "<style scoped>\n",
       "    .dataframe tbody tr th:only-of-type {\n",
       "        vertical-align: middle;\n",
       "    }\n",
       "\n",
       "    .dataframe tbody tr th {\n",
       "        vertical-align: top;\n",
       "    }\n",
       "\n",
       "    .dataframe thead th {\n",
       "        text-align: right;\n",
       "    }\n",
       "</style>\n",
       "<table border=\"1\" class=\"dataframe\">\n",
       "  <thead>\n",
       "    <tr style=\"text-align: right;\">\n",
       "      <th></th>\n",
       "      <th>children</th>\n",
       "      <th>days_employed</th>\n",
       "      <th>dob_years</th>\n",
       "      <th>education</th>\n",
       "      <th>education_id</th>\n",
       "      <th>family_status</th>\n",
       "      <th>family_status_id</th>\n",
       "      <th>gender</th>\n",
       "      <th>income_type</th>\n",
       "      <th>debt</th>\n",
       "      <th>total_income</th>\n",
       "      <th>purpose</th>\n",
       "    </tr>\n",
       "  </thead>\n",
       "  <tbody>\n",
       "    <tr>\n",
       "      <th>0</th>\n",
       "      <td>1</td>\n",
       "      <td>-8437.673028</td>\n",
       "      <td>42</td>\n",
       "      <td>высшее</td>\n",
       "      <td>0</td>\n",
       "      <td>женат / замужем</td>\n",
       "      <td>0</td>\n",
       "      <td>F</td>\n",
       "      <td>сотрудник</td>\n",
       "      <td>0</td>\n",
       "      <td>253875.639453</td>\n",
       "      <td>покупка жилья</td>\n",
       "    </tr>\n",
       "    <tr>\n",
       "      <th>1</th>\n",
       "      <td>1</td>\n",
       "      <td>-4024.803754</td>\n",
       "      <td>36</td>\n",
       "      <td>среднее</td>\n",
       "      <td>1</td>\n",
       "      <td>женат / замужем</td>\n",
       "      <td>0</td>\n",
       "      <td>F</td>\n",
       "      <td>сотрудник</td>\n",
       "      <td>0</td>\n",
       "      <td>112080.014102</td>\n",
       "      <td>приобретение автомобиля</td>\n",
       "    </tr>\n",
       "    <tr>\n",
       "      <th>2</th>\n",
       "      <td>0</td>\n",
       "      <td>-5623.422610</td>\n",
       "      <td>33</td>\n",
       "      <td>Среднее</td>\n",
       "      <td>1</td>\n",
       "      <td>женат / замужем</td>\n",
       "      <td>0</td>\n",
       "      <td>M</td>\n",
       "      <td>сотрудник</td>\n",
       "      <td>0</td>\n",
       "      <td>145885.952297</td>\n",
       "      <td>покупка жилья</td>\n",
       "    </tr>\n",
       "    <tr>\n",
       "      <th>3</th>\n",
       "      <td>3</td>\n",
       "      <td>-4124.747207</td>\n",
       "      <td>32</td>\n",
       "      <td>среднее</td>\n",
       "      <td>1</td>\n",
       "      <td>женат / замужем</td>\n",
       "      <td>0</td>\n",
       "      <td>M</td>\n",
       "      <td>сотрудник</td>\n",
       "      <td>0</td>\n",
       "      <td>267628.550329</td>\n",
       "      <td>дополнительное образование</td>\n",
       "    </tr>\n",
       "    <tr>\n",
       "      <th>4</th>\n",
       "      <td>0</td>\n",
       "      <td>340266.072047</td>\n",
       "      <td>53</td>\n",
       "      <td>среднее</td>\n",
       "      <td>1</td>\n",
       "      <td>гражданский брак</td>\n",
       "      <td>1</td>\n",
       "      <td>F</td>\n",
       "      <td>пенсионер</td>\n",
       "      <td>0</td>\n",
       "      <td>158616.077870</td>\n",
       "      <td>сыграть свадьбу</td>\n",
       "    </tr>\n",
       "    <tr>\n",
       "      <th>5</th>\n",
       "      <td>0</td>\n",
       "      <td>-926.185831</td>\n",
       "      <td>27</td>\n",
       "      <td>высшее</td>\n",
       "      <td>0</td>\n",
       "      <td>гражданский брак</td>\n",
       "      <td>1</td>\n",
       "      <td>M</td>\n",
       "      <td>компаньон</td>\n",
       "      <td>0</td>\n",
       "      <td>255763.565419</td>\n",
       "      <td>покупка жилья</td>\n",
       "    </tr>\n",
       "    <tr>\n",
       "      <th>6</th>\n",
       "      <td>0</td>\n",
       "      <td>-2879.202052</td>\n",
       "      <td>43</td>\n",
       "      <td>высшее</td>\n",
       "      <td>0</td>\n",
       "      <td>женат / замужем</td>\n",
       "      <td>0</td>\n",
       "      <td>F</td>\n",
       "      <td>компаньон</td>\n",
       "      <td>0</td>\n",
       "      <td>240525.971920</td>\n",
       "      <td>операции с жильем</td>\n",
       "    </tr>\n",
       "    <tr>\n",
       "      <th>7</th>\n",
       "      <td>0</td>\n",
       "      <td>-152.779569</td>\n",
       "      <td>50</td>\n",
       "      <td>СРЕДНЕЕ</td>\n",
       "      <td>1</td>\n",
       "      <td>женат / замужем</td>\n",
       "      <td>0</td>\n",
       "      <td>M</td>\n",
       "      <td>сотрудник</td>\n",
       "      <td>0</td>\n",
       "      <td>135823.934197</td>\n",
       "      <td>образование</td>\n",
       "    </tr>\n",
       "    <tr>\n",
       "      <th>8</th>\n",
       "      <td>2</td>\n",
       "      <td>-6929.865299</td>\n",
       "      <td>35</td>\n",
       "      <td>ВЫСШЕЕ</td>\n",
       "      <td>0</td>\n",
       "      <td>гражданский брак</td>\n",
       "      <td>1</td>\n",
       "      <td>F</td>\n",
       "      <td>сотрудник</td>\n",
       "      <td>0</td>\n",
       "      <td>95856.832424</td>\n",
       "      <td>на проведение свадьбы</td>\n",
       "    </tr>\n",
       "    <tr>\n",
       "      <th>9</th>\n",
       "      <td>0</td>\n",
       "      <td>-2188.756445</td>\n",
       "      <td>41</td>\n",
       "      <td>среднее</td>\n",
       "      <td>1</td>\n",
       "      <td>женат / замужем</td>\n",
       "      <td>0</td>\n",
       "      <td>M</td>\n",
       "      <td>сотрудник</td>\n",
       "      <td>0</td>\n",
       "      <td>144425.938277</td>\n",
       "      <td>покупка жилья для семьи</td>\n",
       "    </tr>\n",
       "    <tr>\n",
       "      <th>10</th>\n",
       "      <td>2</td>\n",
       "      <td>-4171.483647</td>\n",
       "      <td>36</td>\n",
       "      <td>высшее</td>\n",
       "      <td>0</td>\n",
       "      <td>женат / замужем</td>\n",
       "      <td>0</td>\n",
       "      <td>M</td>\n",
       "      <td>компаньон</td>\n",
       "      <td>0</td>\n",
       "      <td>113943.491460</td>\n",
       "      <td>покупка недвижимости</td>\n",
       "    </tr>\n",
       "    <tr>\n",
       "      <th>11</th>\n",
       "      <td>0</td>\n",
       "      <td>-792.701887</td>\n",
       "      <td>40</td>\n",
       "      <td>среднее</td>\n",
       "      <td>1</td>\n",
       "      <td>женат / замужем</td>\n",
       "      <td>0</td>\n",
       "      <td>F</td>\n",
       "      <td>сотрудник</td>\n",
       "      <td>0</td>\n",
       "      <td>77069.234271</td>\n",
       "      <td>покупка коммерческой недвижимости</td>\n",
       "    </tr>\n",
       "    <tr>\n",
       "      <th>12</th>\n",
       "      <td>0</td>\n",
       "      <td>NaN</td>\n",
       "      <td>65</td>\n",
       "      <td>среднее</td>\n",
       "      <td>1</td>\n",
       "      <td>гражданский брак</td>\n",
       "      <td>1</td>\n",
       "      <td>M</td>\n",
       "      <td>пенсионер</td>\n",
       "      <td>0</td>\n",
       "      <td>NaN</td>\n",
       "      <td>сыграть свадьбу</td>\n",
       "    </tr>\n",
       "    <tr>\n",
       "      <th>13</th>\n",
       "      <td>0</td>\n",
       "      <td>-1846.641941</td>\n",
       "      <td>54</td>\n",
       "      <td>неоконченное высшее</td>\n",
       "      <td>2</td>\n",
       "      <td>женат / замужем</td>\n",
       "      <td>0</td>\n",
       "      <td>F</td>\n",
       "      <td>сотрудник</td>\n",
       "      <td>0</td>\n",
       "      <td>130458.228857</td>\n",
       "      <td>приобретение автомобиля</td>\n",
       "    </tr>\n",
       "    <tr>\n",
       "      <th>14</th>\n",
       "      <td>0</td>\n",
       "      <td>-1844.956182</td>\n",
       "      <td>56</td>\n",
       "      <td>высшее</td>\n",
       "      <td>0</td>\n",
       "      <td>гражданский брак</td>\n",
       "      <td>1</td>\n",
       "      <td>F</td>\n",
       "      <td>компаньон</td>\n",
       "      <td>1</td>\n",
       "      <td>165127.911772</td>\n",
       "      <td>покупка жилой недвижимости</td>\n",
       "    </tr>\n",
       "    <tr>\n",
       "      <th>15</th>\n",
       "      <td>1</td>\n",
       "      <td>-972.364419</td>\n",
       "      <td>26</td>\n",
       "      <td>среднее</td>\n",
       "      <td>1</td>\n",
       "      <td>женат / замужем</td>\n",
       "      <td>0</td>\n",
       "      <td>F</td>\n",
       "      <td>сотрудник</td>\n",
       "      <td>0</td>\n",
       "      <td>116820.904450</td>\n",
       "      <td>строительство собственной недвижимости</td>\n",
       "    </tr>\n",
       "    <tr>\n",
       "      <th>16</th>\n",
       "      <td>0</td>\n",
       "      <td>-1719.934226</td>\n",
       "      <td>35</td>\n",
       "      <td>среднее</td>\n",
       "      <td>1</td>\n",
       "      <td>женат / замужем</td>\n",
       "      <td>0</td>\n",
       "      <td>F</td>\n",
       "      <td>сотрудник</td>\n",
       "      <td>0</td>\n",
       "      <td>289202.704229</td>\n",
       "      <td>недвижимость</td>\n",
       "    </tr>\n",
       "    <tr>\n",
       "      <th>17</th>\n",
       "      <td>0</td>\n",
       "      <td>-2369.999720</td>\n",
       "      <td>33</td>\n",
       "      <td>высшее</td>\n",
       "      <td>0</td>\n",
       "      <td>гражданский брак</td>\n",
       "      <td>1</td>\n",
       "      <td>M</td>\n",
       "      <td>сотрудник</td>\n",
       "      <td>0</td>\n",
       "      <td>90410.586745</td>\n",
       "      <td>строительство недвижимости</td>\n",
       "    </tr>\n",
       "    <tr>\n",
       "      <th>18</th>\n",
       "      <td>0</td>\n",
       "      <td>400281.136913</td>\n",
       "      <td>53</td>\n",
       "      <td>среднее</td>\n",
       "      <td>1</td>\n",
       "      <td>вдовец / вдова</td>\n",
       "      <td>2</td>\n",
       "      <td>F</td>\n",
       "      <td>пенсионер</td>\n",
       "      <td>0</td>\n",
       "      <td>56823.777243</td>\n",
       "      <td>на покупку подержанного автомобиля</td>\n",
       "    </tr>\n",
       "    <tr>\n",
       "      <th>19</th>\n",
       "      <td>0</td>\n",
       "      <td>-10038.818549</td>\n",
       "      <td>48</td>\n",
       "      <td>СРЕДНЕЕ</td>\n",
       "      <td>1</td>\n",
       "      <td>в разводе</td>\n",
       "      <td>3</td>\n",
       "      <td>F</td>\n",
       "      <td>сотрудник</td>\n",
       "      <td>0</td>\n",
       "      <td>242831.107982</td>\n",
       "      <td>на покупку своего автомобиля</td>\n",
       "    </tr>\n",
       "  </tbody>\n",
       "</table>\n",
       "</div>"
      ],
      "text/plain": [
       "    children  days_employed  dob_years            education  education_id  \\\n",
       "0          1   -8437.673028         42               высшее             0   \n",
       "1          1   -4024.803754         36              среднее             1   \n",
       "2          0   -5623.422610         33              Среднее             1   \n",
       "3          3   -4124.747207         32              среднее             1   \n",
       "4          0  340266.072047         53              среднее             1   \n",
       "5          0    -926.185831         27               высшее             0   \n",
       "6          0   -2879.202052         43               высшее             0   \n",
       "7          0    -152.779569         50              СРЕДНЕЕ             1   \n",
       "8          2   -6929.865299         35               ВЫСШЕЕ             0   \n",
       "9          0   -2188.756445         41              среднее             1   \n",
       "10         2   -4171.483647         36               высшее             0   \n",
       "11         0    -792.701887         40              среднее             1   \n",
       "12         0            NaN         65              среднее             1   \n",
       "13         0   -1846.641941         54  неоконченное высшее             2   \n",
       "14         0   -1844.956182         56               высшее             0   \n",
       "15         1    -972.364419         26              среднее             1   \n",
       "16         0   -1719.934226         35              среднее             1   \n",
       "17         0   -2369.999720         33               высшее             0   \n",
       "18         0  400281.136913         53              среднее             1   \n",
       "19         0  -10038.818549         48              СРЕДНЕЕ             1   \n",
       "\n",
       "       family_status  family_status_id gender income_type  debt  \\\n",
       "0    женат / замужем                 0      F   сотрудник     0   \n",
       "1    женат / замужем                 0      F   сотрудник     0   \n",
       "2    женат / замужем                 0      M   сотрудник     0   \n",
       "3    женат / замужем                 0      M   сотрудник     0   \n",
       "4   гражданский брак                 1      F   пенсионер     0   \n",
       "5   гражданский брак                 1      M   компаньон     0   \n",
       "6    женат / замужем                 0      F   компаньон     0   \n",
       "7    женат / замужем                 0      M   сотрудник     0   \n",
       "8   гражданский брак                 1      F   сотрудник     0   \n",
       "9    женат / замужем                 0      M   сотрудник     0   \n",
       "10   женат / замужем                 0      M   компаньон     0   \n",
       "11   женат / замужем                 0      F   сотрудник     0   \n",
       "12  гражданский брак                 1      M   пенсионер     0   \n",
       "13   женат / замужем                 0      F   сотрудник     0   \n",
       "14  гражданский брак                 1      F   компаньон     1   \n",
       "15   женат / замужем                 0      F   сотрудник     0   \n",
       "16   женат / замужем                 0      F   сотрудник     0   \n",
       "17  гражданский брак                 1      M   сотрудник     0   \n",
       "18    вдовец / вдова                 2      F   пенсионер     0   \n",
       "19         в разводе                 3      F   сотрудник     0   \n",
       "\n",
       "     total_income                                 purpose  \n",
       "0   253875.639453                           покупка жилья  \n",
       "1   112080.014102                 приобретение автомобиля  \n",
       "2   145885.952297                           покупка жилья  \n",
       "3   267628.550329              дополнительное образование  \n",
       "4   158616.077870                         сыграть свадьбу  \n",
       "5   255763.565419                           покупка жилья  \n",
       "6   240525.971920                       операции с жильем  \n",
       "7   135823.934197                             образование  \n",
       "8    95856.832424                   на проведение свадьбы  \n",
       "9   144425.938277                 покупка жилья для семьи  \n",
       "10  113943.491460                    покупка недвижимости  \n",
       "11   77069.234271       покупка коммерческой недвижимости  \n",
       "12            NaN                         сыграть свадьбу  \n",
       "13  130458.228857                 приобретение автомобиля  \n",
       "14  165127.911772              покупка жилой недвижимости  \n",
       "15  116820.904450  строительство собственной недвижимости  \n",
       "16  289202.704229                            недвижимость  \n",
       "17   90410.586745              строительство недвижимости  \n",
       "18   56823.777243      на покупку подержанного автомобиля  \n",
       "19  242831.107982            на покупку своего автомобиля  "
      ]
     },
     "execution_count": 3,
     "metadata": {},
     "output_type": "execute_result"
    }
   ],
   "source": [
    "data.head(20) # ваш код здесь"
   ]
  },
  {
   "cell_type": "markdown",
   "id": "58374b87",
   "metadata": {
    "deletable": false,
    "editable": false,
    "id": "1c12e233",
    "tags": [
     "start_task"
    ]
   },
   "source": [
    "**Задание 3. Выведите основную информацию о датафрейме с помощью метода `info()`.**"
   ]
  },
  {
   "cell_type": "code",
   "execution_count": 4,
   "id": "c58a634d",
   "metadata": {
    "id": "2b757bca"
   },
   "outputs": [
    {
     "name": "stdout",
     "output_type": "stream",
     "text": [
      "<class 'pandas.core.frame.DataFrame'>\n",
      "RangeIndex: 21525 entries, 0 to 21524\n",
      "Data columns (total 12 columns):\n",
      " #   Column            Non-Null Count  Dtype  \n",
      "---  ------            --------------  -----  \n",
      " 0   children          21525 non-null  int64  \n",
      " 1   days_employed     19351 non-null  float64\n",
      " 2   dob_years         21525 non-null  int64  \n",
      " 3   education         21525 non-null  object \n",
      " 4   education_id      21525 non-null  int64  \n",
      " 5   family_status     21525 non-null  object \n",
      " 6   family_status_id  21525 non-null  int64  \n",
      " 7   gender            21525 non-null  object \n",
      " 8   income_type       21525 non-null  object \n",
      " 9   debt              21525 non-null  int64  \n",
      " 10  total_income      19351 non-null  float64\n",
      " 11  purpose           21525 non-null  object \n",
      "dtypes: float64(2), int64(5), object(5)\n",
      "memory usage: 2.0+ MB\n"
     ]
    }
   ],
   "source": [
    "data.info() # ваш код здесь"
   ]
  },
  {
   "cell_type": "markdown",
   "id": "98670898",
   "metadata": {
    "deletable": false,
    "editable": false,
    "id": "333ec665"
   },
   "source": [
    "## Предобработка данных"
   ]
  },
  {
   "cell_type": "markdown",
   "id": "5bc7c794",
   "metadata": {
    "deletable": false,
    "editable": false,
    "id": "02d92d53"
   },
   "source": [
    "### Удаление пропусков"
   ]
  },
  {
   "cell_type": "markdown",
   "id": "facfab01",
   "metadata": {
    "deletable": false,
    "editable": false,
    "id": "cd84967c",
    "tags": [
     "start_task"
    ]
   },
   "source": [
    "**Задание 4. Выведите количество пропущенных значений для каждого столбца. Используйте комбинацию двух методов.**"
   ]
  },
  {
   "cell_type": "code",
   "execution_count": 5,
   "id": "8a905fbe",
   "metadata": {
    "id": "7f9b2309"
   },
   "outputs": [
    {
     "name": "stdout",
     "output_type": "stream",
     "text": [
      "children               0\n",
      "days_employed       2174\n",
      "dob_years              0\n",
      "education              0\n",
      "education_id           0\n",
      "family_status          0\n",
      "family_status_id       0\n",
      "gender                 0\n",
      "income_type            0\n",
      "debt                   0\n",
      "total_income        2174\n",
      "purpose                0\n",
      "dtype: int64\n"
     ]
    }
   ],
   "source": [
    "print(data.isnull().sum()) # ваш код здесь"
   ]
  },
  {
   "cell_type": "markdown",
   "id": "2a1dc171",
   "metadata": {
    "deletable": false,
    "editable": false,
    "id": "db86e27b",
    "tags": [
     "start_task"
    ]
   },
   "source": [
    "**Задание 5. В двух столбцах есть пропущенные значения. Один из них — `days_employed`. Пропуски в этом столбце вы обработаете на следующем этапе. Другой столбец с пропущенными значениями — `total_income` — хранит данные о доходах. На сумму дохода сильнее всего влияет тип занятости, поэтому заполнить пропуски в этом столбце нужно медианным значением по каждому типу из столбца `income_type`. Например, у человека с типом занятости `сотрудник` пропуск в столбце `total_income` должен быть заполнен медианным доходом среди всех записей с тем же типом.**"
   ]
  },
  {
   "cell_type": "code",
   "execution_count": 6,
   "id": "9401b5d6",
   "metadata": {
    "id": "42006a93"
   },
   "outputs": [
    {
     "name": "stdout",
     "output_type": "stream",
     "text": [
      "children               0\n",
      "days_employed       2174\n",
      "dob_years              0\n",
      "education              0\n",
      "education_id           0\n",
      "family_status          0\n",
      "family_status_id       0\n",
      "gender                 0\n",
      "income_type            0\n",
      "debt                   0\n",
      "total_income           0\n",
      "purpose                0\n",
      "dtype: int64\n"
     ]
    }
   ],
   "source": [
    "for i in data['income_type'].unique():\n",
    "        data.loc[(data['income_type'] == i) \n",
    "                 & (data['total_income'].isna()),\n",
    "                 'total_income'] =\\\n",
    "        data.loc[data['income_type'] == i,'total_income'].median()\n",
    "\n",
    "print(data.isnull().sum())"
   ]
  },
  {
   "cell_type": "markdown",
   "id": "9915e26d",
   "metadata": {
    "deletable": false,
    "editable": false,
    "id": "89da5ece"
   },
   "source": [
    "### Обработка аномальных значений"
   ]
  },
  {
   "cell_type": "code",
   "execution_count": null,
   "id": "987d5f00",
   "metadata": {},
   "outputs": [],
   "source": []
  },
  {
   "cell_type": "markdown",
   "id": "3277527e",
   "metadata": {
    "deletable": false,
    "editable": false,
    "id": "57964554",
    "tags": [
     "start_task"
    ]
   },
   "source": [
    "**Задание 6. В данных могут встречаться артефакты (аномалии) — значения, которые не отражают действительность и появились по какой-то ошибке. Таким артефактом будет отрицательное количество дней трудового стажа в столбце `days_employed`. Для реальных данных это нормально. Обработайте значения в этом столбце: замените все отрицательные значения положительными с помощью метода `abs()`.**"
   ]
  },
  {
   "cell_type": "code",
   "execution_count": 7,
   "id": "47421ee8",
   "metadata": {
    "id": "f6f055bf"
   },
   "outputs": [],
   "source": [
    "data['days_employed'] = data['days_employed'].abs() # ваш код здесь"
   ]
  },
  {
   "cell_type": "markdown",
   "id": "b72ffbae",
   "metadata": {
    "deletable": false,
    "editable": false,
    "id": "6107dd2f",
    "tags": [
     "start_task"
    ]
   },
   "source": [
    "**Задание 7. Для каждого типа занятости выведите медианное значение трудового стажа `days_employed` в днях.**"
   ]
  },
  {
   "cell_type": "code",
   "execution_count": 8,
   "id": "5f784984",
   "metadata": {
    "id": "85a5faf6"
   },
   "outputs": [
    {
     "data": {
      "text/plain": [
       "income_type\n",
       "безработный        366413.652744\n",
       "в декрете            3296.759962\n",
       "госслужащий          2689.368353\n",
       "компаньон            1547.382223\n",
       "пенсионер          365213.306266\n",
       "предприниматель       520.848083\n",
       "сотрудник            1574.202821\n",
       "студент               578.751554\n",
       "Name: days_employed, dtype: float64"
      ]
     },
     "execution_count": 8,
     "metadata": {},
     "output_type": "execute_result"
    }
   ],
   "source": [
    "data.groupby('income_type')['days_employed'].median() # ваш код здесь"
   ]
  },
  {
   "cell_type": "markdown",
   "id": "84d5d933",
   "metadata": {
    "deletable": false,
    "editable": false,
    "id": "38d1a030"
   },
   "source": [
    "У двух типов (безработные и пенсионеры) получатся аномально большие значения. Исправить такие значения сложно, поэтому оставьте их как есть. Тем более этот столбец не понадобится вам для исследования."
   ]
  },
  {
   "cell_type": "markdown",
   "id": "f0ef0a21",
   "metadata": {
    "deletable": false,
    "editable": false,
    "id": "d8a9f147",
    "tags": [
     "start_task"
    ]
   },
   "source": [
    "**Задание 8. Выведите перечень уникальных значений столбца `children`.**"
   ]
  },
  {
   "cell_type": "code",
   "execution_count": 9,
   "id": "4a91ad2c",
   "metadata": {
    "id": "ef5056eb"
   },
   "outputs": [
    {
     "data": {
      "text/plain": [
       "array([ 1,  0,  3,  2, -1,  4, 20,  5])"
      ]
     },
     "execution_count": 9,
     "metadata": {},
     "output_type": "execute_result"
    }
   ],
   "source": [
    "data['children'].unique() # ваш код здесь"
   ]
  },
  {
   "cell_type": "markdown",
   "id": "432fe874",
   "metadata": {
    "deletable": false,
    "editable": false,
    "id": "40b9ebf2",
    "tags": [
     "start_task"
    ]
   },
   "source": [
    "**Задание 9. В столбце `children` есть два аномальных значения. Удалите строки, в которых встречаются такие аномальные значения из датафрейма `data`.**"
   ]
  },
  {
   "cell_type": "code",
   "execution_count": 10,
   "id": "7b882a4c",
   "metadata": {
    "id": "3ff9801d"
   },
   "outputs": [],
   "source": [
    "data = data.loc[(data['children'] != -1) & (data['children'] != 20)] # ваш код здесь"
   ]
  },
  {
   "cell_type": "markdown",
   "id": "94cfac2b",
   "metadata": {
    "deletable": false,
    "editable": false,
    "id": "bbc4d0ce",
    "tags": [
     "start_task"
    ]
   },
   "source": [
    "**Задание 10. Ещё раз выведите перечень уникальных значений столбца `children`, чтобы убедиться, что артефакты удалены.**"
   ]
  },
  {
   "cell_type": "code",
   "execution_count": 11,
   "id": "64853f63",
   "metadata": {
    "id": "ad4fa8b7"
   },
   "outputs": [
    {
     "data": {
      "text/plain": [
       "array([1, 0, 3, 2, 4, 5])"
      ]
     },
     "execution_count": 11,
     "metadata": {},
     "output_type": "execute_result"
    }
   ],
   "source": [
    "data['children'].unique()"
   ]
  },
  {
   "cell_type": "markdown",
   "id": "86c98e2b",
   "metadata": {
    "deletable": false,
    "editable": false,
    "id": "75440b63"
   },
   "source": [
    "### Удаление пропусков (продолжение)"
   ]
  },
  {
   "cell_type": "markdown",
   "id": "6f37e866",
   "metadata": {
    "deletable": false,
    "editable": false,
    "id": "f4ea573f",
    "tags": [
     "start_task"
    ]
   },
   "source": [
    "**Задание 11. Заполните пропуски в столбце `days_employed` медианными значениями по каждому типу занятости `income_type`.**"
   ]
  },
  {
   "cell_type": "code",
   "execution_count": 12,
   "id": "7a22dd32",
   "metadata": {
    "id": "af6b1a7e"
   },
   "outputs": [],
   "source": [
    "for i in data['income_type'].unique():\n",
    "    data.loc[(data['income_type'] == i) \n",
    "             & (data['days_employed'].isna()), \n",
    "             'days_employed'] =\\\n",
    "    data.loc[data['income_type'] == i,'days_employed'].median()\n",
    "     "
   ]
  },
  {
   "cell_type": "markdown",
   "id": "46de27a6",
   "metadata": {
    "deletable": false,
    "editable": false,
    "id": "2753f40d",
    "tags": [
     "start_task"
    ]
   },
   "source": [
    "**Задание 12. Убедитесь, что все пропуски заполнены. Проверьте себя и ещё раз выведите количество пропущенных значений для каждого столбца с помощью двух методов.**"
   ]
  },
  {
   "cell_type": "code",
   "execution_count": 13,
   "id": "a67e7cc2",
   "metadata": {
    "id": "55f78bc2"
   },
   "outputs": [
    {
     "data": {
      "text/plain": [
       "children            0\n",
       "days_employed       0\n",
       "dob_years           0\n",
       "education           0\n",
       "education_id        0\n",
       "family_status       0\n",
       "family_status_id    0\n",
       "gender              0\n",
       "income_type         0\n",
       "debt                0\n",
       "total_income        0\n",
       "purpose             0\n",
       "dtype: int64"
      ]
     },
     "execution_count": 13,
     "metadata": {},
     "output_type": "execute_result"
    }
   ],
   "source": [
    "data.isna().sum() # ваш код здесь"
   ]
  },
  {
   "cell_type": "markdown",
   "id": "10bb6e5b",
   "metadata": {
    "deletable": false,
    "editable": false,
    "id": "ddc81e43"
   },
   "source": [
    "### Изменение типов данных"
   ]
  },
  {
   "cell_type": "markdown",
   "id": "74e92624",
   "metadata": {
    "deletable": false,
    "editable": false,
    "id": "42d19d24",
    "tags": [
     "start_task"
    ]
   },
   "source": [
    "**Задание 13. Замените вещественный тип данных в столбце `total_income` на целочисленный с помощью метода `astype()`.**"
   ]
  },
  {
   "cell_type": "code",
   "execution_count": 14,
   "id": "93575d1b",
   "metadata": {
    "id": "920b65ad"
   },
   "outputs": [],
   "source": [
    "data['total_income'] = data['total_income'].astype('int')"
   ]
  },
  {
   "cell_type": "markdown",
   "id": "ff82f289",
   "metadata": {
    "deletable": false,
    "editable": false,
    "id": "80c420ba"
   },
   "source": [
    "### Обработка дубликатов"
   ]
  },
  {
   "cell_type": "markdown",
   "id": "a5ce10fc",
   "metadata": {
    "deletable": false,
    "editable": false,
    "tags": [
     "start_task"
    ]
   },
   "source": [
    "**Задание 14. Обработайте неявные дубликаты в столбце `education`. В этом столбце есть одни и те же значения, но записанные по-разному: с использованием заглавных и строчных букв. Приведите их к нижнему регистру. Проверьте остальные столбцы.**"
   ]
  },
  {
   "cell_type": "code",
   "execution_count": 15,
   "id": "f09c8620",
   "metadata": {},
   "outputs": [],
   "source": [
    "data['education'] = data['education'].str.lower()"
   ]
  },
  {
   "cell_type": "markdown",
   "id": "1dd7b868",
   "metadata": {
    "deletable": false,
    "editable": false,
    "id": "dc587695",
    "tags": [
     "start_task"
    ]
   },
   "source": [
    "**Задание 15. Выведите на экран количество строк-дубликатов в данных. Если такие строки присутствуют, удалите их.**"
   ]
  },
  {
   "cell_type": "code",
   "execution_count": 16,
   "id": "5009c20e",
   "metadata": {
    "id": "3ee445e4"
   },
   "outputs": [
    {
     "data": {
      "text/plain": [
       "71"
      ]
     },
     "execution_count": 16,
     "metadata": {},
     "output_type": "execute_result"
    }
   ],
   "source": [
    "data.duplicated().sum() # посчитайте дубликаты"
   ]
  },
  {
   "cell_type": "code",
   "execution_count": 17,
   "id": "ca9bcff0",
   "metadata": {
    "id": "8575fe05"
   },
   "outputs": [],
   "source": [
    "data = data.drop_duplicates()"
   ]
  },
  {
   "cell_type": "markdown",
   "id": "feacfbbc",
   "metadata": {
    "deletable": false,
    "editable": false,
    "id": "9904cf55"
   },
   "source": [
    "### Категоризация данных"
   ]
  },
  {
   "cell_type": "markdown",
   "id": "f140e7c6",
   "metadata": {
    "deletable": false,
    "editable": false,
    "id": "72fcc8a2",
    "tags": [
     "start_task"
    ]
   },
   "source": [
    "**Задание 16. На основании диапазонов, указанных ниже, создайте в датафрейме `data` столбец `total_income_category` с категориями:**\n",
    "\n",
    "- 0–30000 — `'E'`;\n",
    "- 30001–50000 — `'D'`;\n",
    "- 50001–200000 — `'C'`;\n",
    "- 200001–1000000 — `'B'`;\n",
    "- 1000001 и выше — `'A'`.\n",
    "\n",
    "\n",
    "**Например, кредитополучателю с доходом 25000 нужно назначить категорию `'E'`, а клиенту, получающему 235000, — `'B'`. Используйте собственную функцию с именем `categorize_income()` и метод `apply()`.**"
   ]
  },
  {
   "cell_type": "code",
   "execution_count": 18,
   "id": "2e43d677",
   "metadata": {
    "id": "e1771346"
   },
   "outputs": [],
   "source": [
    "def categorize_income(row):\n",
    "    \n",
    "    income = row['total_income']\n",
    "    \n",
    "    if 0<= income <= 30000:\n",
    "        return 'E'\n",
    "    elif 30001 <= income <= 50000:\n",
    "        return 'D'\n",
    "    elif 50001 <= income <= 200000:\n",
    "        return 'C'\n",
    "    elif 200001 <= income <= 1000000:\n",
    "        return 'B'\n",
    "    else:\n",
    "        return 'A'"
   ]
  },
  {
   "cell_type": "code",
   "execution_count": 19,
   "id": "8c79f666",
   "metadata": {
    "id": "d5f3586d"
   },
   "outputs": [],
   "source": [
    "data['total_income_category'] = data.apply(categorize_income, axis=1) # примените функцию методом apply()"
   ]
  },
  {
   "cell_type": "markdown",
   "id": "a6a25e3f",
   "metadata": {
    "deletable": false,
    "editable": false,
    "id": "dde49b5c",
    "tags": [
     "start_task"
    ]
   },
   "source": [
    "**Задание 17. Выведите на экран перечень уникальных целей взятия кредита из столбца `purpose`.**"
   ]
  },
  {
   "cell_type": "code",
   "execution_count": 20,
   "id": "0b6389f6",
   "metadata": {
    "id": "f67ce9b3"
   },
   "outputs": [
    {
     "data": {
      "text/plain": [
       "array(['покупка жилья', 'приобретение автомобиля',\n",
       "       'дополнительное образование', 'сыграть свадьбу',\n",
       "       'операции с жильем', 'образование', 'на проведение свадьбы',\n",
       "       'покупка жилья для семьи', 'покупка недвижимости',\n",
       "       'покупка коммерческой недвижимости', 'покупка жилой недвижимости',\n",
       "       'строительство собственной недвижимости', 'недвижимость',\n",
       "       'строительство недвижимости', 'на покупку подержанного автомобиля',\n",
       "       'на покупку своего автомобиля',\n",
       "       'операции с коммерческой недвижимостью',\n",
       "       'строительство жилой недвижимости', 'жилье',\n",
       "       'операции со своей недвижимостью', 'автомобили',\n",
       "       'заняться образованием', 'сделка с подержанным автомобилем',\n",
       "       'получение образования', 'автомобиль', 'свадьба',\n",
       "       'получение дополнительного образования', 'покупка своего жилья',\n",
       "       'операции с недвижимостью', 'получение высшего образования',\n",
       "       'свой автомобиль', 'сделка с автомобилем',\n",
       "       'профильное образование', 'высшее образование',\n",
       "       'покупка жилья для сдачи', 'на покупку автомобиля', 'ремонт жилью',\n",
       "       'заняться высшим образованием'], dtype=object)"
      ]
     },
     "execution_count": 20,
     "metadata": {},
     "output_type": "execute_result"
    }
   ],
   "source": [
    "data['purpose'].unique() # ваш код здесь"
   ]
  },
  {
   "cell_type": "markdown",
   "id": "19f7243a",
   "metadata": {
    "deletable": false,
    "editable": false,
    "id": "85d0aef0",
    "tags": [
     "start_task"
    ]
   },
   "source": [
    "**Задание 18. Создайте функцию, которая на основании данных из столбца `purpose` сформирует новый столбец `purpose_category`, в который войдут следующие категории:**\n",
    "\n",
    "- `'операции с автомобилем'`,\n",
    "- `'операции с недвижимостью'`,\n",
    "- `'проведение свадьбы'`,\n",
    "- `'получение образования'`.\n",
    "\n",
    "**Например, если в столбце `purpose` находится подстрока `'на покупку автомобиля'`, то в столбце `purpose_category` должна появиться строка `'операции с автомобилем'`.**\n",
    "\n",
    "**Используйте собственную функцию с именем `categorize_purpose()` и метод `apply()`. Изучите данные в столбце `purpose` и определите, какие подстроки помогут вам правильно определить категорию.**"
   ]
  },
  {
   "cell_type": "code",
   "execution_count": 21,
   "id": "a250f2bf",
   "metadata": {
    "id": "e149fab4"
   },
   "outputs": [],
   "source": [
    "def categorize_purpose(row):\n",
    "    \n",
    "    i = row['purpose']\n",
    "    \n",
    "    if 'автомобил' in i:\n",
    "        return 'операции с автомобилем'\n",
    "    elif 'недвижим' in i:\n",
    "        return 'операции с недвижимостью'\n",
    "    elif 'жиль' in i:\n",
    "        return 'операции с недвижимостью' \n",
    "    elif 'свадьб' in i:\n",
    "        return 'проведение свадьбы'\n",
    "    elif 'образов' in i:\n",
    "        return 'получение образования'"
   ]
  },
  {
   "cell_type": "code",
   "execution_count": 22,
   "id": "5225a2aa",
   "metadata": {
    "id": "bf36e69b"
   },
   "outputs": [],
   "source": [
    "data['purpose_category'] = data.apply(categorize_purpose, axis=1) # примените функцию методом apply()"
   ]
  }
 ],
 "metadata": {
  "ExecuteTimeLog": [
   {
    "duration": 402,
    "start_time": "2022-10-13T16:40:42.822Z"
   },
   {
    "duration": 116,
    "start_time": "2022-10-13T16:40:44.276Z"
   },
   {
    "duration": 68,
    "start_time": "2022-10-13T16:41:30.444Z"
   },
   {
    "duration": 6,
    "start_time": "2022-10-13T16:41:47.286Z"
   },
   {
    "duration": 2,
    "start_time": "2022-10-13T16:41:54.685Z"
   },
   {
    "duration": 55,
    "start_time": "2022-10-13T16:41:56.018Z"
   },
   {
    "duration": 15,
    "start_time": "2022-10-13T16:41:57.726Z"
   },
   {
    "duration": 14,
    "start_time": "2022-10-13T16:42:15.326Z"
   },
   {
    "duration": 15,
    "start_time": "2022-10-13T16:42:36.504Z"
   },
   {
    "duration": 19,
    "start_time": "2022-10-13T16:44:41.484Z"
   },
   {
    "duration": 10,
    "start_time": "2022-10-13T16:44:50.245Z"
   },
   {
    "duration": 14,
    "start_time": "2022-10-13T16:45:34.833Z"
   },
   {
    "duration": 13,
    "start_time": "2022-10-13T16:46:07.958Z"
   },
   {
    "duration": 8,
    "start_time": "2022-10-13T16:46:50.586Z"
   },
   {
    "duration": 3,
    "start_time": "2022-10-13T16:48:03.916Z"
   },
   {
    "duration": 56,
    "start_time": "2022-10-13T16:48:04.285Z"
   },
   {
    "duration": 15,
    "start_time": "2022-10-13T16:48:05.046Z"
   },
   {
    "duration": 13,
    "start_time": "2022-10-13T16:48:06.485Z"
   },
   {
    "duration": 9,
    "start_time": "2022-10-13T16:48:10.226Z"
   },
   {
    "duration": 9,
    "start_time": "2022-10-13T16:48:35.411Z"
   },
   {
    "duration": 13,
    "start_time": "2022-10-13T16:49:53.466Z"
   },
   {
    "duration": 8,
    "start_time": "2022-10-13T16:50:13.747Z"
   },
   {
    "duration": 8,
    "start_time": "2022-10-13T16:50:21.785Z"
   },
   {
    "duration": 9,
    "start_time": "2022-10-13T16:50:37.013Z"
   },
   {
    "duration": 7,
    "start_time": "2022-10-13T16:57:18.846Z"
   },
   {
    "duration": 4,
    "start_time": "2022-10-13T16:57:28.427Z"
   },
   {
    "duration": 5,
    "start_time": "2022-10-13T16:57:48.766Z"
   },
   {
    "duration": 4,
    "start_time": "2022-10-13T17:04:41.891Z"
   },
   {
    "duration": 7,
    "start_time": "2022-10-13T17:04:52.545Z"
   },
   {
    "duration": 4,
    "start_time": "2022-10-13T17:15:41.467Z"
   },
   {
    "duration": 53,
    "start_time": "2022-10-13T17:15:59.658Z"
   },
   {
    "duration": 54,
    "start_time": "2022-10-13T17:16:13.819Z"
   },
   {
    "duration": 52,
    "start_time": "2022-10-13T17:16:21.420Z"
   },
   {
    "duration": 69,
    "start_time": "2022-10-14T08:45:14.945Z"
   },
   {
    "duration": 464,
    "start_time": "2022-10-14T08:45:39.692Z"
   },
   {
    "duration": 125,
    "start_time": "2022-10-14T08:45:40.158Z"
   },
   {
    "duration": 29,
    "start_time": "2022-10-14T08:45:40.285Z"
   },
   {
    "duration": 17,
    "start_time": "2022-10-14T08:45:40.316Z"
   },
   {
    "duration": 8,
    "start_time": "2022-10-14T08:45:40.335Z"
   },
   {
    "duration": 35,
    "start_time": "2022-10-14T08:45:40.344Z"
   },
   {
    "duration": 2,
    "start_time": "2022-10-14T08:45:40.381Z"
   },
   {
    "duration": 32,
    "start_time": "2022-10-14T08:45:40.385Z"
   },
   {
    "duration": 4,
    "start_time": "2022-10-14T08:45:40.420Z"
   },
   {
    "duration": 8,
    "start_time": "2022-10-14T08:45:40.427Z"
   },
   {
    "duration": 4,
    "start_time": "2022-10-14T08:45:40.437Z"
   },
   {
    "duration": 10,
    "start_time": "2022-10-14T08:45:40.443Z"
   },
   {
    "duration": 4,
    "start_time": "2022-10-14T08:45:40.456Z"
   },
   {
    "duration": 4,
    "start_time": "2022-10-14T08:45:40.462Z"
   },
   {
    "duration": 5,
    "start_time": "2022-10-14T08:45:40.468Z"
   },
   {
    "duration": 4,
    "start_time": "2022-10-14T08:45:40.475Z"
   },
   {
    "duration": 5,
    "start_time": "2022-10-14T08:45:40.481Z"
   },
   {
    "duration": 12,
    "start_time": "2022-10-14T08:45:40.488Z"
   },
   {
    "duration": 11,
    "start_time": "2022-10-14T08:45:40.503Z"
   },
   {
    "duration": 8,
    "start_time": "2022-10-14T08:45:40.516Z"
   },
   {
    "duration": 6,
    "start_time": "2022-10-14T08:45:40.525Z"
   },
   {
    "duration": 12,
    "start_time": "2022-10-14T08:45:40.533Z"
   },
   {
    "duration": 33,
    "start_time": "2022-10-14T09:57:37.855Z"
   },
   {
    "duration": 109,
    "start_time": "2022-10-14T09:58:27.453Z"
   },
   {
    "duration": 49,
    "start_time": "2022-10-14T09:58:37.090Z"
   },
   {
    "duration": 33,
    "start_time": "2022-10-14T09:58:42.940Z"
   },
   {
    "duration": 33,
    "start_time": "2022-10-14T09:58:48.642Z"
   },
   {
    "duration": 35,
    "start_time": "2022-10-14T09:58:53.863Z"
   },
   {
    "duration": 78,
    "start_time": "2022-10-14T09:59:03.866Z"
   },
   {
    "duration": 82,
    "start_time": "2022-10-14T09:59:13.409Z"
   },
   {
    "duration": 95,
    "start_time": "2022-10-14T09:59:20.986Z"
   },
   {
    "duration": 48,
    "start_time": "2022-10-14T09:59:31.182Z"
   },
   {
    "duration": 35,
    "start_time": "2022-10-14T09:59:35.126Z"
   },
   {
    "duration": 38,
    "start_time": "2022-10-14T09:59:49.160Z"
   },
   {
    "duration": 39,
    "start_time": "2022-10-14T09:59:59.226Z"
   },
   {
    "duration": 120,
    "start_time": "2022-10-14T10:00:18.347Z"
   },
   {
    "duration": 161,
    "start_time": "2022-10-14T10:00:24.420Z"
   },
   {
    "duration": 36,
    "start_time": "2022-10-14T10:01:51.067Z"
   },
   {
    "duration": 40,
    "start_time": "2022-10-14T10:15:27.120Z"
   },
   {
    "duration": 91,
    "start_time": "2022-10-14T10:15:32.030Z"
   },
   {
    "duration": 42,
    "start_time": "2022-10-14T10:15:58.130Z"
   },
   {
    "duration": 40,
    "start_time": "2022-10-14T10:52:38.129Z"
   },
   {
    "duration": 9,
    "start_time": "2022-10-14T10:55:35.917Z"
   },
   {
    "duration": 6,
    "start_time": "2022-10-14T10:56:12.129Z"
   },
   {
    "duration": 7,
    "start_time": "2022-10-14T10:56:22.329Z"
   },
   {
    "duration": 4,
    "start_time": "2022-10-14T10:56:29.468Z"
   },
   {
    "duration": 8,
    "start_time": "2022-10-14T11:01:47.139Z"
   },
   {
    "duration": 4,
    "start_time": "2022-10-14T11:02:39.563Z"
   },
   {
    "duration": 7,
    "start_time": "2022-10-14T11:02:51.872Z"
   },
   {
    "duration": 3,
    "start_time": "2022-10-14T11:05:07.041Z"
   },
   {
    "duration": 7,
    "start_time": "2022-10-14T11:05:08.238Z"
   },
   {
    "duration": 9,
    "start_time": "2022-10-14T11:10:04.675Z"
   },
   {
    "duration": 7,
    "start_time": "2022-10-14T11:10:22.274Z"
   },
   {
    "duration": 7,
    "start_time": "2022-10-14T11:10:31.345Z"
   },
   {
    "duration": 23,
    "start_time": "2022-10-14T11:12:30.986Z"
   },
   {
    "duration": 3,
    "start_time": "2022-10-14T11:13:01.537Z"
   },
   {
    "duration": 92,
    "start_time": "2022-10-14T11:13:01.542Z"
   },
   {
    "duration": 14,
    "start_time": "2022-10-14T11:13:01.637Z"
   },
   {
    "duration": 19,
    "start_time": "2022-10-14T11:13:01.652Z"
   },
   {
    "duration": 32,
    "start_time": "2022-10-14T11:13:01.673Z"
   },
   {
    "duration": 89,
    "start_time": "2022-10-14T11:13:01.706Z"
   },
   {
    "duration": 19,
    "start_time": "2022-10-14T11:13:01.796Z"
   },
   {
    "duration": 40,
    "start_time": "2022-10-14T11:13:01.816Z"
   },
   {
    "duration": 25,
    "start_time": "2022-10-14T11:13:01.858Z"
   },
   {
    "duration": 25,
    "start_time": "2022-10-14T11:13:01.884Z"
   },
   {
    "duration": 32,
    "start_time": "2022-10-14T11:13:01.914Z"
   },
   {
    "duration": 24,
    "start_time": "2022-10-14T11:13:01.948Z"
   },
   {
    "duration": 79,
    "start_time": "2022-10-14T11:13:01.973Z"
   },
   {
    "duration": 45,
    "start_time": "2022-10-14T11:13:02.054Z"
   },
   {
    "duration": 62,
    "start_time": "2022-10-14T11:13:02.102Z"
   },
   {
    "duration": 78,
    "start_time": "2022-10-14T11:13:02.166Z"
   },
   {
    "duration": 39,
    "start_time": "2022-10-14T11:13:02.245Z"
   },
   {
    "duration": 108,
    "start_time": "2022-10-14T11:13:02.285Z"
   },
   {
    "duration": 53,
    "start_time": "2022-10-14T11:13:02.394Z"
   },
   {
    "duration": 9,
    "start_time": "2022-10-14T11:13:02.449Z"
   },
   {
    "duration": 5,
    "start_time": "2022-10-14T11:13:02.500Z"
   },
   {
    "duration": 33,
    "start_time": "2022-10-14T11:13:02.506Z"
   },
   {
    "duration": 23,
    "start_time": "2022-10-14T11:13:49.423Z"
   },
   {
    "duration": 19,
    "start_time": "2022-10-14T11:13:53.287Z"
   },
   {
    "duration": 3,
    "start_time": "2022-10-14T11:14:08.196Z"
   },
   {
    "duration": 153,
    "start_time": "2022-10-14T11:14:08.202Z"
   },
   {
    "duration": 14,
    "start_time": "2022-10-14T11:14:08.359Z"
   },
   {
    "duration": 30,
    "start_time": "2022-10-14T11:14:08.375Z"
   },
   {
    "duration": 37,
    "start_time": "2022-10-14T11:14:08.410Z"
   },
   {
    "duration": 39,
    "start_time": "2022-10-14T11:14:08.449Z"
   },
   {
    "duration": 16,
    "start_time": "2022-10-14T11:14:08.490Z"
   },
   {
    "duration": 38,
    "start_time": "2022-10-14T11:14:08.507Z"
   },
   {
    "duration": 7,
    "start_time": "2022-10-14T11:14:08.546Z"
   },
   {
    "duration": 13,
    "start_time": "2022-10-14T11:14:08.555Z"
   },
   {
    "duration": 15,
    "start_time": "2022-10-14T11:14:08.570Z"
   },
   {
    "duration": 49,
    "start_time": "2022-10-14T11:14:08.587Z"
   },
   {
    "duration": 8,
    "start_time": "2022-10-14T11:14:08.639Z"
   },
   {
    "duration": 18,
    "start_time": "2022-10-14T11:14:08.648Z"
   },
   {
    "duration": 13,
    "start_time": "2022-10-14T11:14:08.668Z"
   },
   {
    "duration": 9,
    "start_time": "2022-10-14T11:14:08.682Z"
   },
   {
    "duration": 39,
    "start_time": "2022-10-14T11:14:08.693Z"
   },
   {
    "duration": 14,
    "start_time": "2022-10-14T11:14:08.733Z"
   },
   {
    "duration": 25,
    "start_time": "2022-10-14T11:14:08.748Z"
   },
   {
    "duration": 13,
    "start_time": "2022-10-14T11:14:08.775Z"
   },
   {
    "duration": 41,
    "start_time": "2022-10-14T11:14:08.790Z"
   },
   {
    "duration": 9,
    "start_time": "2022-10-14T11:14:08.835Z"
   },
   {
    "duration": 3,
    "start_time": "2022-10-14T11:15:32.566Z"
   },
   {
    "duration": 103,
    "start_time": "2022-10-14T11:15:32.571Z"
   },
   {
    "duration": 15,
    "start_time": "2022-10-14T11:15:32.675Z"
   },
   {
    "duration": 28,
    "start_time": "2022-10-14T11:15:32.703Z"
   },
   {
    "duration": 15,
    "start_time": "2022-10-14T11:15:32.734Z"
   },
   {
    "duration": 38,
    "start_time": "2022-10-14T11:15:32.751Z"
   },
   {
    "duration": 42,
    "start_time": "2022-10-14T11:15:32.790Z"
   },
   {
    "duration": 3,
    "start_time": "2022-10-14T11:16:34.760Z"
   },
   {
    "duration": 2,
    "start_time": "2022-10-14T11:17:28.485Z"
   },
   {
    "duration": 2,
    "start_time": "2022-10-14T11:18:19.487Z"
   },
   {
    "duration": 3,
    "start_time": "2022-10-14T11:18:23.735Z"
   },
   {
    "duration": 70,
    "start_time": "2022-10-14T11:18:23.740Z"
   },
   {
    "duration": 22,
    "start_time": "2022-10-14T11:18:23.818Z"
   },
   {
    "duration": 13,
    "start_time": "2022-10-14T11:18:23.842Z"
   },
   {
    "duration": 7,
    "start_time": "2022-10-14T11:18:23.856Z"
   },
   {
    "duration": 43,
    "start_time": "2022-10-14T11:18:23.865Z"
   },
   {
    "duration": 24,
    "start_time": "2022-10-14T11:18:23.910Z"
   },
   {
    "duration": 10,
    "start_time": "2022-10-14T11:18:23.936Z"
   },
   {
    "duration": 6,
    "start_time": "2022-10-14T11:18:23.948Z"
   },
   {
    "duration": 8,
    "start_time": "2022-10-14T11:18:23.956Z"
   },
   {
    "duration": 6,
    "start_time": "2022-10-14T11:18:23.966Z"
   },
   {
    "duration": 7,
    "start_time": "2022-10-14T11:18:23.974Z"
   },
   {
    "duration": 6,
    "start_time": "2022-10-14T11:18:23.983Z"
   },
   {
    "duration": 5,
    "start_time": "2022-10-14T11:18:23.990Z"
   },
   {
    "duration": 42,
    "start_time": "2022-10-14T11:18:23.996Z"
   },
   {
    "duration": 6,
    "start_time": "2022-10-14T11:18:24.039Z"
   },
   {
    "duration": 5,
    "start_time": "2022-10-14T11:18:24.047Z"
   },
   {
    "duration": 7,
    "start_time": "2022-10-14T11:18:24.054Z"
   },
   {
    "duration": 5,
    "start_time": "2022-10-14T11:18:24.063Z"
   },
   {
    "duration": 7,
    "start_time": "2022-10-14T11:18:24.069Z"
   },
   {
    "duration": 55,
    "start_time": "2022-10-14T11:18:24.090Z"
   },
   {
    "duration": 16,
    "start_time": "2022-10-14T11:18:24.148Z"
   },
   {
    "duration": 3,
    "start_time": "2022-10-14T11:18:38.972Z"
   },
   {
    "duration": 4,
    "start_time": "2022-10-14T11:19:40.669Z"
   },
   {
    "duration": 51,
    "start_time": "2022-10-14T11:30:57.173Z"
   },
   {
    "duration": 12,
    "start_time": "2022-10-14T11:31:35.202Z"
   },
   {
    "duration": 6,
    "start_time": "2022-10-14T11:31:47.628Z"
   },
   {
    "duration": 6,
    "start_time": "2022-10-14T11:32:01.187Z"
   },
   {
    "duration": 16,
    "start_time": "2022-10-14T11:32:17.098Z"
   },
   {
    "duration": 9,
    "start_time": "2022-10-14T11:32:30.357Z"
   },
   {
    "duration": 8,
    "start_time": "2022-10-14T17:13:57.951Z"
   },
   {
    "duration": 9,
    "start_time": "2022-10-14T17:14:30.143Z"
   },
   {
    "duration": 8,
    "start_time": "2022-10-14T17:14:45.539Z"
   },
   {
    "duration": 7,
    "start_time": "2022-10-14T17:14:56.923Z"
   },
   {
    "duration": 8,
    "start_time": "2022-10-14T17:15:08.211Z"
   },
   {
    "duration": 8,
    "start_time": "2022-10-14T17:15:13.698Z"
   },
   {
    "duration": 5,
    "start_time": "2022-10-14T17:16:27.373Z"
   },
   {
    "duration": 5,
    "start_time": "2022-10-14T17:16:31.761Z"
   },
   {
    "duration": 3,
    "start_time": "2022-10-14T17:17:20.534Z"
   },
   {
    "duration": 74,
    "start_time": "2022-10-14T17:17:20.539Z"
   },
   {
    "duration": 14,
    "start_time": "2022-10-14T17:17:20.614Z"
   },
   {
    "duration": 30,
    "start_time": "2022-10-14T17:17:20.630Z"
   },
   {
    "duration": 11,
    "start_time": "2022-10-14T17:17:20.662Z"
   },
   {
    "duration": 58,
    "start_time": "2022-10-14T17:17:20.675Z"
   },
   {
    "duration": 4,
    "start_time": "2022-10-14T17:17:20.734Z"
   },
   {
    "duration": 18,
    "start_time": "2022-10-14T17:17:20.739Z"
   },
   {
    "duration": 15,
    "start_time": "2022-10-14T17:17:20.758Z"
   },
   {
    "duration": 15,
    "start_time": "2022-10-14T17:17:20.774Z"
   },
   {
    "duration": 13,
    "start_time": "2022-10-14T17:17:20.791Z"
   },
   {
    "duration": 15,
    "start_time": "2022-10-14T17:17:20.806Z"
   },
   {
    "duration": 10,
    "start_time": "2022-10-14T17:17:20.823Z"
   },
   {
    "duration": 13,
    "start_time": "2022-10-14T17:17:20.834Z"
   },
   {
    "duration": 17,
    "start_time": "2022-10-14T17:17:20.848Z"
   },
   {
    "duration": 9,
    "start_time": "2022-10-14T17:17:20.867Z"
   },
   {
    "duration": 12,
    "start_time": "2022-10-14T17:17:20.879Z"
   },
   {
    "duration": 19,
    "start_time": "2022-10-14T17:17:20.893Z"
   },
   {
    "duration": 11,
    "start_time": "2022-10-14T17:17:20.913Z"
   },
   {
    "duration": 13,
    "start_time": "2022-10-14T17:17:20.925Z"
   },
   {
    "duration": 10,
    "start_time": "2022-10-14T17:17:20.939Z"
   },
   {
    "duration": 14,
    "start_time": "2022-10-14T17:17:20.950Z"
   },
   {
    "duration": 4,
    "start_time": "2022-10-14T17:17:52.973Z"
   },
   {
    "duration": 7,
    "start_time": "2022-10-14T17:17:55.255Z"
   },
   {
    "duration": 4,
    "start_time": "2022-10-14T17:17:56.062Z"
   },
   {
    "duration": 8,
    "start_time": "2022-10-14T17:19:06.511Z"
   },
   {
    "duration": 6,
    "start_time": "2022-10-14T17:21:27.393Z"
   },
   {
    "duration": 5,
    "start_time": "2022-10-14T17:21:29.883Z"
   },
   {
    "duration": 370,
    "start_time": "2022-10-15T08:45:36.971Z"
   },
   {
    "duration": 325,
    "start_time": "2022-10-15T08:45:37.343Z"
   },
   {
    "duration": 21,
    "start_time": "2022-10-15T08:45:37.670Z"
   },
   {
    "duration": 15,
    "start_time": "2022-10-15T08:45:37.693Z"
   },
   {
    "duration": 7,
    "start_time": "2022-10-15T08:45:37.710Z"
   },
   {
    "duration": 59,
    "start_time": "2022-10-15T08:45:37.719Z"
   },
   {
    "duration": 4,
    "start_time": "2022-10-15T08:45:37.780Z"
   },
   {
    "duration": 23,
    "start_time": "2022-10-15T08:45:37.786Z"
   },
   {
    "duration": 11,
    "start_time": "2022-10-15T08:45:37.811Z"
   },
   {
    "duration": 8,
    "start_time": "2022-10-15T08:45:37.825Z"
   },
   {
    "duration": 5,
    "start_time": "2022-10-15T08:45:37.835Z"
   },
   {
    "duration": 10,
    "start_time": "2022-10-15T08:45:37.841Z"
   },
   {
    "duration": 15,
    "start_time": "2022-10-15T08:45:37.853Z"
   },
   {
    "duration": 11,
    "start_time": "2022-10-15T08:45:37.869Z"
   },
   {
    "duration": 8,
    "start_time": "2022-10-15T08:45:37.882Z"
   },
   {
    "duration": 6,
    "start_time": "2022-10-15T08:45:37.892Z"
   },
   {
    "duration": 6,
    "start_time": "2022-10-15T08:45:37.900Z"
   },
   {
    "duration": 5,
    "start_time": "2022-10-15T08:45:37.908Z"
   },
   {
    "duration": 7,
    "start_time": "2022-10-15T08:45:37.915Z"
   },
   {
    "duration": 7,
    "start_time": "2022-10-15T08:45:37.924Z"
   },
   {
    "duration": 8,
    "start_time": "2022-10-15T08:45:37.932Z"
   },
   {
    "duration": 8,
    "start_time": "2022-10-15T08:45:37.942Z"
   },
   {
    "duration": 374,
    "start_time": "2022-10-15T09:11:59.436Z"
   },
   {
    "duration": 69,
    "start_time": "2022-10-15T09:11:59.811Z"
   },
   {
    "duration": 21,
    "start_time": "2022-10-15T09:11:59.882Z"
   },
   {
    "duration": 14,
    "start_time": "2022-10-15T09:11:59.905Z"
   },
   {
    "duration": 7,
    "start_time": "2022-10-15T09:11:59.920Z"
   },
   {
    "duration": 47,
    "start_time": "2022-10-15T09:11:59.928Z"
   },
   {
    "duration": 3,
    "start_time": "2022-10-15T09:11:59.976Z"
   },
   {
    "duration": 31,
    "start_time": "2022-10-15T09:11:59.981Z"
   },
   {
    "duration": 29,
    "start_time": "2022-10-15T09:12:00.013Z"
   },
   {
    "duration": 10,
    "start_time": "2022-10-15T09:12:00.045Z"
   },
   {
    "duration": 27,
    "start_time": "2022-10-15T09:12:00.057Z"
   },
   {
    "duration": 63,
    "start_time": "2022-10-15T09:20:17.825Z"
   },
   {
    "duration": 7,
    "start_time": "2022-10-15T09:20:37.325Z"
   },
   {
    "duration": 374,
    "start_time": "2022-10-15T09:22:50.122Z"
   },
   {
    "duration": 71,
    "start_time": "2022-10-15T09:22:50.497Z"
   },
   {
    "duration": 21,
    "start_time": "2022-10-15T09:22:50.570Z"
   },
   {
    "duration": 13,
    "start_time": "2022-10-15T09:22:50.593Z"
   },
   {
    "duration": 9,
    "start_time": "2022-10-15T09:22:50.622Z"
   },
   {
    "duration": 50,
    "start_time": "2022-10-15T09:22:50.633Z"
   },
   {
    "duration": 4,
    "start_time": "2022-10-15T09:22:50.685Z"
   },
   {
    "duration": 32,
    "start_time": "2022-10-15T09:22:50.691Z"
   },
   {
    "duration": 6,
    "start_time": "2022-10-15T09:22:50.725Z"
   },
   {
    "duration": 16,
    "start_time": "2022-10-15T09:22:50.735Z"
   },
   {
    "duration": 11,
    "start_time": "2022-10-15T09:22:50.752Z"
   },
   {
    "duration": 95,
    "start_time": "2022-10-15T09:22:50.765Z"
   },
   {
    "duration": 0,
    "start_time": "2022-10-15T09:22:50.862Z"
   },
   {
    "duration": 0,
    "start_time": "2022-10-15T09:22:50.863Z"
   },
   {
    "duration": 0,
    "start_time": "2022-10-15T09:22:50.864Z"
   },
   {
    "duration": 0,
    "start_time": "2022-10-15T09:22:50.865Z"
   },
   {
    "duration": 0,
    "start_time": "2022-10-15T09:22:50.866Z"
   },
   {
    "duration": 0,
    "start_time": "2022-10-15T09:22:50.866Z"
   },
   {
    "duration": 0,
    "start_time": "2022-10-15T09:22:50.867Z"
   },
   {
    "duration": 0,
    "start_time": "2022-10-15T09:22:50.868Z"
   },
   {
    "duration": 0,
    "start_time": "2022-10-15T09:22:50.869Z"
   },
   {
    "duration": 0,
    "start_time": "2022-10-15T09:22:50.870Z"
   },
   {
    "duration": 8,
    "start_time": "2022-10-15T09:23:01.958Z"
   },
   {
    "duration": 41,
    "start_time": "2022-10-15T09:26:05.299Z"
   },
   {
    "duration": 11,
    "start_time": "2022-10-15T09:26:40.689Z"
   },
   {
    "duration": 8,
    "start_time": "2022-10-15T09:26:58.366Z"
   },
   {
    "duration": 14,
    "start_time": "2022-10-15T09:28:32.012Z"
   },
   {
    "duration": 14,
    "start_time": "2022-10-15T09:29:21.267Z"
   },
   {
    "duration": 5,
    "start_time": "2022-10-15T09:29:32.478Z"
   },
   {
    "duration": 7,
    "start_time": "2022-10-15T09:30:41.125Z"
   },
   {
    "duration": 11,
    "start_time": "2022-10-15T09:36:55.640Z"
   },
   {
    "duration": 15,
    "start_time": "2022-10-15T09:37:01.359Z"
   },
   {
    "duration": 14,
    "start_time": "2022-10-15T09:37:14.716Z"
   },
   {
    "duration": 19,
    "start_time": "2022-10-15T09:37:54.129Z"
   },
   {
    "duration": 15,
    "start_time": "2022-10-15T09:38:27.591Z"
   },
   {
    "duration": 19,
    "start_time": "2022-10-15T09:38:51.409Z"
   },
   {
    "duration": 17,
    "start_time": "2022-10-15T09:39:43.627Z"
   },
   {
    "duration": 20,
    "start_time": "2022-10-15T09:40:18.320Z"
   },
   {
    "duration": 1269,
    "start_time": "2022-10-15T09:42:21.036Z"
   },
   {
    "duration": 1119,
    "start_time": "2022-10-15T09:42:33.455Z"
   },
   {
    "duration": 22,
    "start_time": "2022-10-15T09:42:49.341Z"
   },
   {
    "duration": 34,
    "start_time": "2022-10-15T09:43:00.912Z"
   },
   {
    "duration": 18,
    "start_time": "2022-10-15T09:43:21.118Z"
   },
   {
    "duration": 32,
    "start_time": "2022-10-15T09:43:26.146Z"
   },
   {
    "duration": 34,
    "start_time": "2022-10-15T09:43:36.228Z"
   },
   {
    "duration": 26,
    "start_time": "2022-10-15T09:44:15.487Z"
   },
   {
    "duration": 20,
    "start_time": "2022-10-15T09:47:49.817Z"
   },
   {
    "duration": 16,
    "start_time": "2022-10-15T09:48:07.111Z"
   },
   {
    "duration": 12,
    "start_time": "2022-10-15T09:48:43.608Z"
   },
   {
    "duration": 8,
    "start_time": "2022-10-15T09:50:09.041Z"
   },
   {
    "duration": 24,
    "start_time": "2022-10-15T09:50:13.194Z"
   },
   {
    "duration": 17,
    "start_time": "2022-10-15T09:50:28.334Z"
   },
   {
    "duration": 12,
    "start_time": "2022-10-15T09:50:52.913Z"
   },
   {
    "duration": 41,
    "start_time": "2022-10-15T09:58:25.408Z"
   },
   {
    "duration": 56,
    "start_time": "2022-10-15T18:10:43.980Z"
   },
   {
    "duration": 7,
    "start_time": "2022-10-15T18:10:51.644Z"
   },
   {
    "duration": 7,
    "start_time": "2022-10-15T18:11:00.954Z"
   },
   {
    "duration": 382,
    "start_time": "2022-10-15T18:11:13.912Z"
   },
   {
    "duration": 103,
    "start_time": "2022-10-15T18:11:14.296Z"
   },
   {
    "duration": 23,
    "start_time": "2022-10-15T18:11:14.401Z"
   },
   {
    "duration": 15,
    "start_time": "2022-10-15T18:11:14.426Z"
   },
   {
    "duration": 22,
    "start_time": "2022-10-15T18:11:14.442Z"
   },
   {
    "duration": 43,
    "start_time": "2022-10-15T18:11:14.466Z"
   },
   {
    "duration": 4,
    "start_time": "2022-10-15T18:11:14.511Z"
   },
   {
    "duration": 19,
    "start_time": "2022-10-15T18:11:14.517Z"
   },
   {
    "duration": 15,
    "start_time": "2022-10-15T18:11:14.539Z"
   },
   {
    "duration": 13,
    "start_time": "2022-10-15T18:11:14.557Z"
   },
   {
    "duration": 5,
    "start_time": "2022-10-15T18:11:14.572Z"
   },
   {
    "duration": 43,
    "start_time": "2022-10-15T18:11:14.579Z"
   },
   {
    "duration": 11,
    "start_time": "2022-10-15T18:11:14.624Z"
   },
   {
    "duration": 5,
    "start_time": "2022-10-15T18:11:14.654Z"
   },
   {
    "duration": 16,
    "start_time": "2022-10-15T18:11:14.660Z"
   },
   {
    "duration": 38,
    "start_time": "2022-10-15T18:11:14.678Z"
   },
   {
    "duration": 2,
    "start_time": "2022-10-15T18:11:14.718Z"
   },
   {
    "duration": 11,
    "start_time": "2022-10-15T18:11:14.722Z"
   },
   {
    "duration": 12,
    "start_time": "2022-10-15T18:11:14.734Z"
   },
   {
    "duration": 7,
    "start_time": "2022-10-15T18:11:14.747Z"
   },
   {
    "duration": 7,
    "start_time": "2022-10-15T18:11:14.755Z"
   },
   {
    "duration": 16,
    "start_time": "2022-10-15T18:11:14.764Z"
   },
   {
    "duration": 1147,
    "start_time": "2022-10-15T18:12:15.664Z"
   },
   {
    "duration": 34,
    "start_time": "2022-10-15T18:12:25.989Z"
   },
   {
    "duration": 22,
    "start_time": "2022-10-15T18:12:46.558Z"
   },
   {
    "duration": 21,
    "start_time": "2022-10-15T18:12:59.243Z"
   },
   {
    "duration": 34,
    "start_time": "2022-10-15T18:13:26.906Z"
   },
   {
    "duration": 36,
    "start_time": "2022-10-15T18:15:27.540Z"
   },
   {
    "duration": 36,
    "start_time": "2022-10-15T18:16:55.190Z"
   },
   {
    "duration": 27,
    "start_time": "2022-10-15T18:17:20.690Z"
   },
   {
    "duration": 1190,
    "start_time": "2022-10-15T18:17:24.898Z"
   },
   {
    "duration": 82,
    "start_time": "2022-10-15T18:17:27.199Z"
   },
   {
    "duration": 5,
    "start_time": "2022-10-15T18:17:39.483Z"
   },
   {
    "duration": 4,
    "start_time": "2022-10-15T18:23:44.368Z"
   },
   {
    "duration": 5,
    "start_time": "2022-10-15T18:24:03.847Z"
   },
   {
    "duration": 11,
    "start_time": "2022-10-15T18:24:15.434Z"
   },
   {
    "duration": 7,
    "start_time": "2022-10-15T18:24:30.510Z"
   },
   {
    "duration": 3,
    "start_time": "2022-10-15T18:24:41.870Z"
   },
   {
    "duration": 784,
    "start_time": "2022-10-15T18:26:05.098Z"
   },
   {
    "duration": 710,
    "start_time": "2022-10-15T18:26:37.099Z"
   },
   {
    "duration": 5,
    "start_time": "2022-10-15T18:31:01.756Z"
   },
   {
    "duration": 195,
    "start_time": "2022-10-15T18:31:16.229Z"
   },
   {
    "duration": 175,
    "start_time": "2022-10-15T18:32:33.922Z"
   },
   {
    "duration": 4,
    "start_time": "2022-10-15T18:32:49.620Z"
   },
   {
    "duration": 187,
    "start_time": "2022-10-15T18:32:52.605Z"
   },
   {
    "duration": 4,
    "start_time": "2022-10-15T18:33:03.838Z"
   },
   {
    "duration": 184,
    "start_time": "2022-10-15T18:33:06.091Z"
   },
   {
    "duration": 169,
    "start_time": "2022-10-15T18:33:27.310Z"
   },
   {
    "duration": 193,
    "start_time": "2022-10-15T18:34:11.402Z"
   },
   {
    "duration": 364,
    "start_time": "2022-10-15T18:34:35.609Z"
   },
   {
    "duration": 64,
    "start_time": "2022-10-15T18:34:35.976Z"
   },
   {
    "duration": 25,
    "start_time": "2022-10-15T18:34:36.042Z"
   },
   {
    "duration": 14,
    "start_time": "2022-10-15T18:34:36.069Z"
   },
   {
    "duration": 8,
    "start_time": "2022-10-15T18:34:36.085Z"
   },
   {
    "duration": 62,
    "start_time": "2022-10-15T18:34:36.095Z"
   },
   {
    "duration": 4,
    "start_time": "2022-10-15T18:34:36.158Z"
   },
   {
    "duration": 11,
    "start_time": "2022-10-15T18:34:36.164Z"
   },
   {
    "duration": 4,
    "start_time": "2022-10-15T18:34:36.176Z"
   },
   {
    "duration": 8,
    "start_time": "2022-10-15T18:34:36.183Z"
   },
   {
    "duration": 7,
    "start_time": "2022-10-15T18:34:36.193Z"
   },
   {
    "duration": 61,
    "start_time": "2022-10-15T18:34:36.201Z"
   },
   {
    "duration": 9,
    "start_time": "2022-10-15T18:34:36.264Z"
   },
   {
    "duration": 4,
    "start_time": "2022-10-15T18:34:36.275Z"
   },
   {
    "duration": 16,
    "start_time": "2022-10-15T18:34:36.280Z"
   },
   {
    "duration": 23,
    "start_time": "2022-10-15T18:34:36.298Z"
   },
   {
    "duration": 38,
    "start_time": "2022-10-15T18:34:36.322Z"
   },
   {
    "duration": 4,
    "start_time": "2022-10-15T18:34:36.361Z"
   },
   {
    "duration": 548,
    "start_time": "2022-10-15T18:34:36.366Z"
   },
   {
    "duration": 0,
    "start_time": "2022-10-15T18:34:36.916Z"
   },
   {
    "duration": 0,
    "start_time": "2022-10-15T18:34:36.917Z"
   },
   {
    "duration": 0,
    "start_time": "2022-10-15T18:34:36.919Z"
   },
   {
    "duration": 46,
    "start_time": "2022-10-15T18:35:48.847Z"
   },
   {
    "duration": 4,
    "start_time": "2022-10-15T18:36:08.441Z"
   },
   {
    "duration": 145,
    "start_time": "2022-10-15T18:36:24.044Z"
   },
   {
    "duration": 138,
    "start_time": "2022-10-15T18:36:32.440Z"
   },
   {
    "duration": 137,
    "start_time": "2022-10-15T18:36:52.703Z"
   },
   {
    "duration": 142,
    "start_time": "2022-10-15T18:37:19.433Z"
   },
   {
    "duration": 140,
    "start_time": "2022-10-15T18:37:31.896Z"
   },
   {
    "duration": 4,
    "start_time": "2022-10-15T18:37:59.024Z"
   },
   {
    "duration": 19,
    "start_time": "2022-10-15T18:37:59.993Z"
   },
   {
    "duration": 4,
    "start_time": "2022-10-15T18:38:19.980Z"
   },
   {
    "duration": 259,
    "start_time": "2022-10-15T18:38:21.165Z"
   },
   {
    "duration": 4,
    "start_time": "2022-10-15T18:38:29.251Z"
   },
   {
    "duration": 138,
    "start_time": "2022-10-15T18:38:29.942Z"
   },
   {
    "duration": 6,
    "start_time": "2022-10-15T18:39:03.568Z"
   },
   {
    "duration": 5,
    "start_time": "2022-10-15T18:45:44.269Z"
   },
   {
    "duration": 3,
    "start_time": "2022-10-15T18:52:03.357Z"
   },
   {
    "duration": 141,
    "start_time": "2022-10-15T18:55:38.948Z"
   },
   {
    "duration": 141,
    "start_time": "2022-10-15T18:55:44.355Z"
   },
   {
    "duration": 144,
    "start_time": "2022-10-15T18:55:57.463Z"
   },
   {
    "duration": 227,
    "start_time": "2022-10-15T18:56:25.096Z"
   },
   {
    "duration": 160,
    "start_time": "2022-10-15T18:57:00.012Z"
   },
   {
    "duration": 173,
    "start_time": "2022-10-15T18:57:44.119Z"
   },
   {
    "duration": 138,
    "start_time": "2022-10-15T18:58:45.660Z"
   },
   {
    "duration": 135,
    "start_time": "2022-10-15T18:58:52.966Z"
   },
   {
    "duration": 146,
    "start_time": "2022-10-15T18:59:42.625Z"
   },
   {
    "duration": 144,
    "start_time": "2022-10-15T19:00:08.652Z"
   },
   {
    "duration": 137,
    "start_time": "2022-10-15T19:00:22.941Z"
   },
   {
    "duration": 189,
    "start_time": "2022-10-15T19:00:50.421Z"
   },
   {
    "duration": 431,
    "start_time": "2022-10-15T19:01:32.657Z"
   },
   {
    "duration": 65,
    "start_time": "2022-10-15T19:01:33.090Z"
   },
   {
    "duration": 26,
    "start_time": "2022-10-15T19:01:33.157Z"
   },
   {
    "duration": 18,
    "start_time": "2022-10-15T19:01:33.185Z"
   },
   {
    "duration": 13,
    "start_time": "2022-10-15T19:01:33.205Z"
   },
   {
    "duration": 75,
    "start_time": "2022-10-15T19:01:33.221Z"
   },
   {
    "duration": 3,
    "start_time": "2022-10-15T19:01:33.298Z"
   },
   {
    "duration": 20,
    "start_time": "2022-10-15T19:01:33.303Z"
   },
   {
    "duration": 6,
    "start_time": "2022-10-15T19:01:33.326Z"
   },
   {
    "duration": 13,
    "start_time": "2022-10-15T19:01:33.353Z"
   },
   {
    "duration": 6,
    "start_time": "2022-10-15T19:01:33.369Z"
   },
   {
    "duration": 39,
    "start_time": "2022-10-15T19:01:33.377Z"
   },
   {
    "duration": 10,
    "start_time": "2022-10-15T19:01:33.418Z"
   },
   {
    "duration": 27,
    "start_time": "2022-10-15T19:01:33.430Z"
   },
   {
    "duration": 16,
    "start_time": "2022-10-15T19:01:33.458Z"
   },
   {
    "duration": 25,
    "start_time": "2022-10-15T19:01:33.476Z"
   },
   {
    "duration": 18,
    "start_time": "2022-10-15T19:01:33.502Z"
   },
   {
    "duration": 5,
    "start_time": "2022-10-15T19:01:33.522Z"
   },
   {
    "duration": 164,
    "start_time": "2022-10-15T19:01:33.529Z"
   },
   {
    "duration": 7,
    "start_time": "2022-10-15T19:01:33.695Z"
   },
   {
    "duration": 4,
    "start_time": "2022-10-15T19:01:33.704Z"
   },
   {
    "duration": 181,
    "start_time": "2022-10-15T19:01:33.710Z"
   },
   {
    "duration": 5,
    "start_time": "2022-10-15T19:02:07.310Z"
   },
   {
    "duration": 155,
    "start_time": "2022-10-15T19:02:08.220Z"
   },
   {
    "duration": 4,
    "start_time": "2022-10-15T19:03:18.625Z"
   },
   {
    "duration": 79,
    "start_time": "2022-10-15T19:03:19.265Z"
   },
   {
    "duration": 3,
    "start_time": "2022-10-15T19:03:33.026Z"
   },
   {
    "duration": 165,
    "start_time": "2022-10-15T19:03:33.454Z"
   },
   {
    "duration": 4,
    "start_time": "2022-10-15T19:04:47.062Z"
   },
   {
    "duration": 164,
    "start_time": "2022-10-15T19:04:47.703Z"
   },
   {
    "duration": 4,
    "start_time": "2022-10-15T19:05:07.375Z"
   },
   {
    "duration": 18,
    "start_time": "2022-10-15T19:05:07.708Z"
   },
   {
    "duration": 4,
    "start_time": "2022-10-15T19:05:18.483Z"
   },
   {
    "duration": 157,
    "start_time": "2022-10-15T19:05:18.975Z"
   },
   {
    "duration": 3,
    "start_time": "2022-10-15T19:10:09.670Z"
   },
   {
    "duration": 149,
    "start_time": "2022-10-15T19:10:10.213Z"
   },
   {
    "duration": 4,
    "start_time": "2022-10-15T19:10:28.866Z"
   },
   {
    "duration": 145,
    "start_time": "2022-10-15T19:10:29.592Z"
   },
   {
    "duration": 4,
    "start_time": "2022-10-15T19:15:24.253Z"
   },
   {
    "duration": 164,
    "start_time": "2022-10-15T19:15:25.452Z"
   },
   {
    "duration": 153,
    "start_time": "2022-10-15T19:19:01.724Z"
   },
   {
    "duration": 139,
    "start_time": "2022-10-15T19:19:17.503Z"
   },
   {
    "duration": 133,
    "start_time": "2022-10-15T19:19:22.121Z"
   }
  ],
  "colab": {
   "name": "dpp_template_part1.ipynb",
   "provenance": []
  },
  "kernelspec": {
   "display_name": "Python 3 (ipykernel)",
   "language": "python",
   "name": "python3"
  },
  "language_info": {
   "codemirror_mode": {
    "name": "ipython",
    "version": 3
   },
   "file_extension": ".py",
   "mimetype": "text/x-python",
   "name": "python",
   "nbconvert_exporter": "python",
   "pygments_lexer": "ipython3",
   "version": "3.9.13"
  },
  "toc": {
   "base_numbering": 1,
   "nav_menu": {},
   "number_sections": true,
   "sideBar": true,
   "skip_h1_title": true,
   "title_cell": "Table of Contents",
   "title_sidebar": "Contents",
   "toc_cell": false,
   "toc_position": {},
   "toc_section_display": true,
   "toc_window_display": false
  }
 },
 "nbformat": 4,
 "nbformat_minor": 5
}
